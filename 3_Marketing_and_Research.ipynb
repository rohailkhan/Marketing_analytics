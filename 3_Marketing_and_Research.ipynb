{
  "nbformat": 4,
  "nbformat_minor": 0,
  "metadata": {
    "colab": {
      "name": "3 Marketing and Research",
      "provenance": [],
      "collapsed_sections": []
    },
    "kernelspec": {
      "name": "python3",
      "display_name": "Python 3"
    },
    "language_info": {
      "name": "python"
    }
  },
  "cells": [
    {
      "cell_type": "code",
      "metadata": {
        "id": "NRo2X6gamLu_"
      },
      "source": [
        "import pandas as pd\n",
        "import numpy as np\n",
        "import matplotlib.pyplot as plt\n",
        "import seaborn as sns"
      ],
      "execution_count": null,
      "outputs": []
    },
    {
      "cell_type": "code",
      "metadata": {
        "colab": {
          "base_uri": "https://localhost:8080/"
        },
        "id": "uKilgp5YmpJM",
        "outputId": "3df949db-2b74-40e0-dadf-c940adc78b78"
      },
      "source": [
        "store_sales = pd.read_csv('http://bit.ly/PMR-ch3')\n",
        "store_sales.columns  , store_sales.shape"
      ],
      "execution_count": null,
      "outputs": [
        {
          "output_type": "execute_result",
          "data": {
            "text/plain": [
              "(Index(['store_num', 'year', 'week', 'p1_sales', 'p2_sales', 'p1_price',\n",
              "        'p2_price', 'p1_promo', 'p2_promo', 'country'],\n",
              "       dtype='object'), (2080, 10))"
            ]
          },
          "metadata": {},
          "execution_count": 2
        }
      ]
    },
    {
      "cell_type": "code",
      "metadata": {
        "colab": {
          "base_uri": "https://localhost:8080/",
          "height": 204
        },
        "id": "bheQylwTo-vE",
        "outputId": "0a241993-0ec9-4623-e761-abf4b3456e04"
      },
      "source": [
        "store_sales.head()"
      ],
      "execution_count": null,
      "outputs": [
        {
          "output_type": "execute_result",
          "data": {
            "text/html": [
              "<div>\n",
              "<style scoped>\n",
              "    .dataframe tbody tr th:only-of-type {\n",
              "        vertical-align: middle;\n",
              "    }\n",
              "\n",
              "    .dataframe tbody tr th {\n",
              "        vertical-align: top;\n",
              "    }\n",
              "\n",
              "    .dataframe thead th {\n",
              "        text-align: right;\n",
              "    }\n",
              "</style>\n",
              "<table border=\"1\" class=\"dataframe\">\n",
              "  <thead>\n",
              "    <tr style=\"text-align: right;\">\n",
              "      <th></th>\n",
              "      <th>store_num</th>\n",
              "      <th>year</th>\n",
              "      <th>week</th>\n",
              "      <th>p1_sales</th>\n",
              "      <th>p2_sales</th>\n",
              "      <th>p1_price</th>\n",
              "      <th>p2_price</th>\n",
              "      <th>p1_promo</th>\n",
              "      <th>p2_promo</th>\n",
              "      <th>country</th>\n",
              "    </tr>\n",
              "  </thead>\n",
              "  <tbody>\n",
              "    <tr>\n",
              "      <th>0</th>\n",
              "      <td>101.0</td>\n",
              "      <td>1.0</td>\n",
              "      <td>1.0</td>\n",
              "      <td>122.0</td>\n",
              "      <td>110.0</td>\n",
              "      <td>2.99</td>\n",
              "      <td>2.99</td>\n",
              "      <td>0</td>\n",
              "      <td>1</td>\n",
              "      <td>USA</td>\n",
              "    </tr>\n",
              "    <tr>\n",
              "      <th>1</th>\n",
              "      <td>101.0</td>\n",
              "      <td>1.0</td>\n",
              "      <td>2.0</td>\n",
              "      <td>160.0</td>\n",
              "      <td>79.0</td>\n",
              "      <td>2.49</td>\n",
              "      <td>3.19</td>\n",
              "      <td>0</td>\n",
              "      <td>0</td>\n",
              "      <td>USA</td>\n",
              "    </tr>\n",
              "    <tr>\n",
              "      <th>2</th>\n",
              "      <td>101.0</td>\n",
              "      <td>1.0</td>\n",
              "      <td>3.0</td>\n",
              "      <td>169.0</td>\n",
              "      <td>80.0</td>\n",
              "      <td>2.19</td>\n",
              "      <td>2.99</td>\n",
              "      <td>0</td>\n",
              "      <td>0</td>\n",
              "      <td>USA</td>\n",
              "    </tr>\n",
              "    <tr>\n",
              "      <th>3</th>\n",
              "      <td>101.0</td>\n",
              "      <td>1.0</td>\n",
              "      <td>4.0</td>\n",
              "      <td>119.0</td>\n",
              "      <td>102.0</td>\n",
              "      <td>2.49</td>\n",
              "      <td>2.49</td>\n",
              "      <td>0</td>\n",
              "      <td>0</td>\n",
              "      <td>USA</td>\n",
              "    </tr>\n",
              "    <tr>\n",
              "      <th>4</th>\n",
              "      <td>101.0</td>\n",
              "      <td>1.0</td>\n",
              "      <td>5.0</td>\n",
              "      <td>114.0</td>\n",
              "      <td>143.0</td>\n",
              "      <td>2.49</td>\n",
              "      <td>2.59</td>\n",
              "      <td>0</td>\n",
              "      <td>1</td>\n",
              "      <td>USA</td>\n",
              "    </tr>\n",
              "  </tbody>\n",
              "</table>\n",
              "</div>"
            ],
            "text/plain": [
              "   store_num  year  week  p1_sales  ...  p2_price  p1_promo  p2_promo  country\n",
              "0      101.0   1.0   1.0     122.0  ...      2.99         0         1      USA\n",
              "1      101.0   1.0   2.0     160.0  ...      3.19         0         0      USA\n",
              "2      101.0   1.0   3.0     169.0  ...      2.99         0         0      USA\n",
              "3      101.0   1.0   4.0     119.0  ...      2.49         0         0      USA\n",
              "4      101.0   1.0   5.0     114.0  ...      2.59         0         1      USA\n",
              "\n",
              "[5 rows x 10 columns]"
            ]
          },
          "metadata": {},
          "execution_count": 3
        }
      ]
    },
    {
      "cell_type": "code",
      "metadata": {
        "colab": {
          "base_uri": "https://localhost:8080/",
          "height": 297
        },
        "id": "3ODbAQAFmwXO",
        "outputId": "e932439b-156e-4d24-9043-9c0882d0c283"
      },
      "source": [
        "store_sales.describe()"
      ],
      "execution_count": null,
      "outputs": [
        {
          "output_type": "execute_result",
          "data": {
            "text/html": [
              "<div>\n",
              "<style scoped>\n",
              "    .dataframe tbody tr th:only-of-type {\n",
              "        vertical-align: middle;\n",
              "    }\n",
              "\n",
              "    .dataframe tbody tr th {\n",
              "        vertical-align: top;\n",
              "    }\n",
              "\n",
              "    .dataframe thead th {\n",
              "        text-align: right;\n",
              "    }\n",
              "</style>\n",
              "<table border=\"1\" class=\"dataframe\">\n",
              "  <thead>\n",
              "    <tr style=\"text-align: right;\">\n",
              "      <th></th>\n",
              "      <th>store_num</th>\n",
              "      <th>year</th>\n",
              "      <th>week</th>\n",
              "      <th>p1_sales</th>\n",
              "      <th>p2_sales</th>\n",
              "      <th>p1_price</th>\n",
              "      <th>p2_price</th>\n",
              "      <th>p1_promo</th>\n",
              "      <th>p2_promo</th>\n",
              "    </tr>\n",
              "  </thead>\n",
              "  <tbody>\n",
              "    <tr>\n",
              "      <th>count</th>\n",
              "      <td>2080.000000</td>\n",
              "      <td>2080.00000</td>\n",
              "      <td>2080.00000</td>\n",
              "      <td>2080.000000</td>\n",
              "      <td>2080.000000</td>\n",
              "      <td>2080.000000</td>\n",
              "      <td>2080.000000</td>\n",
              "      <td>2080.000000</td>\n",
              "      <td>2080.000000</td>\n",
              "    </tr>\n",
              "    <tr>\n",
              "      <th>mean</th>\n",
              "      <td>110.500000</td>\n",
              "      <td>1.50000</td>\n",
              "      <td>26.50000</td>\n",
              "      <td>133.967788</td>\n",
              "      <td>99.911058</td>\n",
              "      <td>2.548654</td>\n",
              "      <td>2.716106</td>\n",
              "      <td>0.100481</td>\n",
              "      <td>0.145673</td>\n",
              "    </tr>\n",
              "    <tr>\n",
              "      <th>std</th>\n",
              "      <td>5.767668</td>\n",
              "      <td>0.50012</td>\n",
              "      <td>15.01194</td>\n",
              "      <td>29.355076</td>\n",
              "      <td>24.453788</td>\n",
              "      <td>0.300716</td>\n",
              "      <td>0.333559</td>\n",
              "      <td>0.300712</td>\n",
              "      <td>0.352863</td>\n",
              "    </tr>\n",
              "    <tr>\n",
              "      <th>min</th>\n",
              "      <td>101.000000</td>\n",
              "      <td>1.00000</td>\n",
              "      <td>1.00000</td>\n",
              "      <td>68.000000</td>\n",
              "      <td>51.000000</td>\n",
              "      <td>2.190000</td>\n",
              "      <td>2.290000</td>\n",
              "      <td>0.000000</td>\n",
              "      <td>0.000000</td>\n",
              "    </tr>\n",
              "    <tr>\n",
              "      <th>25%</th>\n",
              "      <td>105.750000</td>\n",
              "      <td>1.00000</td>\n",
              "      <td>13.75000</td>\n",
              "      <td>113.000000</td>\n",
              "      <td>82.000000</td>\n",
              "      <td>2.290000</td>\n",
              "      <td>2.490000</td>\n",
              "      <td>0.000000</td>\n",
              "      <td>0.000000</td>\n",
              "    </tr>\n",
              "    <tr>\n",
              "      <th>50%</th>\n",
              "      <td>110.500000</td>\n",
              "      <td>1.50000</td>\n",
              "      <td>26.50000</td>\n",
              "      <td>130.000000</td>\n",
              "      <td>96.000000</td>\n",
              "      <td>2.490000</td>\n",
              "      <td>2.590000</td>\n",
              "      <td>0.000000</td>\n",
              "      <td>0.000000</td>\n",
              "    </tr>\n",
              "    <tr>\n",
              "      <th>75%</th>\n",
              "      <td>115.250000</td>\n",
              "      <td>2.00000</td>\n",
              "      <td>39.25000</td>\n",
              "      <td>151.000000</td>\n",
              "      <td>115.000000</td>\n",
              "      <td>2.790000</td>\n",
              "      <td>2.990000</td>\n",
              "      <td>0.000000</td>\n",
              "      <td>0.000000</td>\n",
              "    </tr>\n",
              "    <tr>\n",
              "      <th>max</th>\n",
              "      <td>120.000000</td>\n",
              "      <td>2.00000</td>\n",
              "      <td>52.00000</td>\n",
              "      <td>265.000000</td>\n",
              "      <td>210.000000</td>\n",
              "      <td>2.990000</td>\n",
              "      <td>3.190000</td>\n",
              "      <td>1.000000</td>\n",
              "      <td>1.000000</td>\n",
              "    </tr>\n",
              "  </tbody>\n",
              "</table>\n",
              "</div>"
            ],
            "text/plain": [
              "         store_num        year  ...     p1_promo     p2_promo\n",
              "count  2080.000000  2080.00000  ...  2080.000000  2080.000000\n",
              "mean    110.500000     1.50000  ...     0.100481     0.145673\n",
              "std       5.767668     0.50012  ...     0.300712     0.352863\n",
              "min     101.000000     1.00000  ...     0.000000     0.000000\n",
              "25%     105.750000     1.00000  ...     0.000000     0.000000\n",
              "50%     110.500000     1.50000  ...     0.000000     0.000000\n",
              "75%     115.250000     2.00000  ...     0.000000     0.000000\n",
              "max     120.000000     2.00000  ...     1.000000     1.000000\n",
              "\n",
              "[8 rows x 9 columns]"
            ]
          },
          "metadata": {},
          "execution_count": 4
        }
      ]
    },
    {
      "cell_type": "markdown",
      "metadata": {
        "id": "4swBHqkipwDe"
      },
      "source": [
        "#### Making columns with the following specs \n",
        "1- Age  ...just random normal data with mean=35 ,std=5 amd size= dataframe\n",
        "\n",
        "2- Credict_score .... random normal data (but relate mean of the distribution to customer's age .Older customers having higher credit score on average. It can be done by mean*age + offset value\n",
        "\n",
        "3- Email .... Categorical with numpy random.choice of 'yes' and 'no' \n",
        "              with 0.8,0.2 probabilities\n",
        "\n",
        "4- Distance to store...take the expnonential of the of the np.random.normal distribution\n",
        "\n"
      ]
    },
    {
      "cell_type": "code",
      "metadata": {
        "id": "vBnty6_bmt9c"
      },
      "source": [
        "# simulating above data\n",
        "\n",
        "d=np.random.randint(low=1,high=2000 ,size=(2080,10))\n",
        "sales=pd.DataFrame(data=d,columns=store_sales.columns)\n"
      ],
      "execution_count": null,
      "outputs": []
    },
    {
      "cell_type": "code",
      "metadata": {
        "colab": {
          "base_uri": "https://localhost:8080/",
          "height": 142
        },
        "id": "ijE9aC1IAiLD",
        "outputId": "17f75419-c1f4-4070-828c-57b6474565f2"
      },
      "source": [
        "N_STORES = 20\n",
        "N_WEEKS = 104\n",
        "# create a dataframe of initially missing values to hold the data\n",
        "columns = ('store_num', 'year', 'week', 'p1_sales', 'p2_sales',\n",
        "'p1_price', 'p2_price', 'p1_promo', 'p2_promo', 'country')\n",
        "n_rows = N_STORES * N_WEEKS\n",
        "store_sales = pd.DataFrame(np.empty(shape=(n_rows, 10)),\n",
        "columns=columns)\n",
        "store_sales.head(3)"
      ],
      "execution_count": null,
      "outputs": [
        {
          "output_type": "execute_result",
          "data": {
            "text/html": [
              "<div>\n",
              "<style scoped>\n",
              "    .dataframe tbody tr th:only-of-type {\n",
              "        vertical-align: middle;\n",
              "    }\n",
              "\n",
              "    .dataframe tbody tr th {\n",
              "        vertical-align: top;\n",
              "    }\n",
              "\n",
              "    .dataframe thead th {\n",
              "        text-align: right;\n",
              "    }\n",
              "</style>\n",
              "<table border=\"1\" class=\"dataframe\">\n",
              "  <thead>\n",
              "    <tr style=\"text-align: right;\">\n",
              "      <th></th>\n",
              "      <th>store_num</th>\n",
              "      <th>year</th>\n",
              "      <th>week</th>\n",
              "      <th>p1_sales</th>\n",
              "      <th>p2_sales</th>\n",
              "      <th>p1_price</th>\n",
              "      <th>p2_price</th>\n",
              "      <th>p1_promo</th>\n",
              "      <th>p2_promo</th>\n",
              "      <th>country</th>\n",
              "    </tr>\n",
              "  </thead>\n",
              "  <tbody>\n",
              "    <tr>\n",
              "      <th>0</th>\n",
              "      <td>0.000000e+00</td>\n",
              "      <td>4.451531e-321</td>\n",
              "      <td>3.735136e-321</td>\n",
              "      <td>7.020673e-321</td>\n",
              "      <td>2.964394e-321</td>\n",
              "      <td>7.272646e-321</td>\n",
              "      <td>1.032597e-321</td>\n",
              "      <td>1.650179e-321</td>\n",
              "      <td>1.156114e-321</td>\n",
              "      <td>5.973254e-321</td>\n",
              "    </tr>\n",
              "    <tr>\n",
              "      <th>1</th>\n",
              "      <td>3.774662e-321</td>\n",
              "      <td>9.382307e-321</td>\n",
              "      <td>4.367540e-321</td>\n",
              "      <td>8.117499e-321</td>\n",
              "      <td>5.948550e-321</td>\n",
              "      <td>5.237096e-322</td>\n",
              "      <td>8.547336e-322</td>\n",
              "      <td>1.235164e-321</td>\n",
              "      <td>8.250896e-322</td>\n",
              "      <td>8.972232e-321</td>\n",
              "    </tr>\n",
              "    <tr>\n",
              "      <th>2</th>\n",
              "      <td>4.268727e-321</td>\n",
              "      <td>9.733093e-321</td>\n",
              "      <td>5.291443e-321</td>\n",
              "      <td>1.240105e-321</td>\n",
              "      <td>5.874441e-321</td>\n",
              "      <td>9.411951e-321</td>\n",
              "      <td>2.376456e-321</td>\n",
              "      <td>4.995004e-321</td>\n",
              "      <td>6.818106e-322</td>\n",
              "      <td>3.270715e-321</td>\n",
              "    </tr>\n",
              "  </tbody>\n",
              "</table>\n",
              "</div>"
            ],
            "text/plain": [
              "       store_num           year  ...       p2_promo        country\n",
              "0   0.000000e+00  4.451531e-321  ...  1.156114e-321  5.973254e-321\n",
              "1  3.774662e-321  9.382307e-321  ...  8.250896e-322  8.972232e-321\n",
              "2  4.268727e-321  9.733093e-321  ...  6.818106e-322  3.270715e-321\n",
              "\n",
              "[3 rows x 10 columns]"
            ]
          },
          "metadata": {},
          "execution_count": 7
        }
      ]
    },
    {
      "cell_type": "markdown",
      "metadata": {
        "id": "MBggpRXpERph"
      },
      "source": [
        "# **1- df.loc[9, 'shield']**"
      ]
    },
    {
      "cell_type": "code",
      "metadata": {
        "colab": {
          "base_uri": "https://localhost:8080/",
          "height": 173
        },
        "id": "Py6lcRrZsJxE",
        "outputId": "00a4ac61-5a00-4b57-f5a2-239086898af5"
      },
      "source": [
        ">>> df = pd.DataFrame([[1, 2], [4, 5], [7, 8], [17, 18]],\n",
        "...      index=[7, 8, 9,10], columns=['max_speed', 'shield'])\n",
        ">>> df"
      ],
      "execution_count": null,
      "outputs": [
        {
          "output_type": "execute_result",
          "data": {
            "text/html": [
              "<div>\n",
              "<style scoped>\n",
              "    .dataframe tbody tr th:only-of-type {\n",
              "        vertical-align: middle;\n",
              "    }\n",
              "\n",
              "    .dataframe tbody tr th {\n",
              "        vertical-align: top;\n",
              "    }\n",
              "\n",
              "    .dataframe thead th {\n",
              "        text-align: right;\n",
              "    }\n",
              "</style>\n",
              "<table border=\"1\" class=\"dataframe\">\n",
              "  <thead>\n",
              "    <tr style=\"text-align: right;\">\n",
              "      <th></th>\n",
              "      <th>max_speed</th>\n",
              "      <th>shield</th>\n",
              "    </tr>\n",
              "  </thead>\n",
              "  <tbody>\n",
              "    <tr>\n",
              "      <th>7</th>\n",
              "      <td>1</td>\n",
              "      <td>2</td>\n",
              "    </tr>\n",
              "    <tr>\n",
              "      <th>8</th>\n",
              "      <td>4</td>\n",
              "      <td>5</td>\n",
              "    </tr>\n",
              "    <tr>\n",
              "      <th>9</th>\n",
              "      <td>7</td>\n",
              "      <td>8</td>\n",
              "    </tr>\n",
              "    <tr>\n",
              "      <th>10</th>\n",
              "      <td>17</td>\n",
              "      <td>18</td>\n",
              "    </tr>\n",
              "  </tbody>\n",
              "</table>\n",
              "</div>"
            ],
            "text/plain": [
              "    max_speed  shield\n",
              "7           1       2\n",
              "8           4       5\n",
              "9           7       8\n",
              "10         17      18"
            ]
          },
          "metadata": {},
          "execution_count": 8
        }
      ]
    },
    {
      "cell_type": "code",
      "metadata": {
        "colab": {
          "base_uri": "https://localhost:8080/"
        },
        "id": "4FO6rqSas3iC",
        "outputId": "6973ffe7-a690-4539-a521-bf0352273cfa"
      },
      "source": [
        "df.loc[9, 'shield']"
      ],
      "execution_count": null,
      "outputs": [
        {
          "output_type": "execute_result",
          "data": {
            "text/plain": [
              "8"
            ]
          },
          "metadata": {},
          "execution_count": 9
        }
      ]
    },
    {
      "cell_type": "code",
      "metadata": {
        "id": "-yDs48etvNJH"
      },
      "source": [
        "store_numbers = range(101, 101 + N_STORES)"
      ],
      "execution_count": null,
      "outputs": []
    },
    {
      "cell_type": "code",
      "metadata": {
        "colab": {
          "base_uri": "https://localhost:8080/"
        },
        "id": "RmuBoqfWBFMh",
        "outputId": "4b3271aa-e616-4c16-db08-6b3b6c56840e"
      },
      "source": [
        "len(store_numbers)"
      ],
      "execution_count": null,
      "outputs": [
        {
          "output_type": "execute_result",
          "data": {
            "text/plain": [
              "20"
            ]
          },
          "metadata": {},
          "execution_count": 11
        }
      ]
    },
    {
      "cell_type": "markdown",
      "metadata": {
        "id": "XnIkK-1MEgLU"
      },
      "source": [
        "# **2- Filling columns using dictionary and for loop**"
      ]
    },
    {
      "cell_type": "markdown",
      "metadata": {
        "id": "aW6TyeS6Bf7Z"
      },
      "source": [
        "filling store_num\tyear\tweek\tcountry columns  in store_sales\n",
        "### Fill 'store_num'\t column with 20 store ids. \n",
        "### Fill \"country\" column with 20 country names . \n",
        "### Fill 'year' columns with  1 and 2\n",
        "### Also we need to fill weeks against them from 1 to 52"
      ]
    },
    {
      "cell_type": "code",
      "metadata": {
        "id": "chm053j5Bhu8"
      },
      "source": [
        "store_numbers = range(101, 101 + N_STORES)\n",
        "store_country = dict(zip(store_numbers,\n",
        "['USA', 'USA', 'USA', 'DEU', 'DEU', 'DEU',\n",
        "'DEU', 'DEU', 'GBR', 'GBR', 'GBR', 'BRA',\n",
        "'BRA', 'JPN', 'JPN', 'JPN', 'JPN', 'AUS',\n",
        "'CHN', 'CHN']))"
      ],
      "execution_count": null,
      "outputs": []
    },
    {
      "cell_type": "code",
      "metadata": {
        "id": "7EAFC5PpC4W2"
      },
      "source": [
        "i=0\n",
        "for store_num in store_numbers :\n",
        "  for week in range(1,53):\n",
        "    for year in [1,2]:\n",
        "    \n",
        "      store_sales.loc[i, 'store_num']=store_num\n",
        "      store_sales.loc[i,'week']=week\n",
        "      store_sales.loc[i,'year']=year\n",
        "      store_sales.loc[i,'country']=store_country[store_num]\n",
        "      i=i+1\n",
        "\n"
      ],
      "execution_count": null,
      "outputs": []
    },
    {
      "cell_type": "code",
      "metadata": {
        "id": "_c9f_F42MfBt"
      },
      "source": [
        "# 10% promoted\n",
        "store_sales.p1_promo = np.random.binomial(n=1, p=0.1, size=n_rows)\n",
        "# 15% promoted\n",
        "store_sales.p2_promo = np.random.binomial(n=1, p=0.15, size=n_rows)"
      ],
      "execution_count": null,
      "outputs": []
    },
    {
      "cell_type": "code",
      "metadata": {
        "id": "zEgDIfODM0Qf"
      },
      "source": [
        "# price ranges from 2.19 to 3.19 ...make it random choice of 5 options\n",
        "store_sales.p1_price = np.random.choice([2.19, 2.29, 2.49, 2.79,\n",
        "2.99],\n",
        "size=n_rows)\n",
        "store_sales.p2_price = np.random.choice([2.29, 2.49, 2.59, 2.99,\n",
        "3.19],\n",
        "size=n_rows)"
      ],
      "execution_count": null,
      "outputs": []
    },
    {
      "cell_type": "markdown",
      "metadata": {
        "id": "zKhZvinlPb8T"
      },
      "source": [
        "Our last step is to simulate the sales figures for each week. We calculate sales as a function of the relative prices of the\n",
        "two products along with the promotional status of each.\n",
        "Item sales are in unit counts, so we use the Poisson distribution to generate count data: np.random.poisson(lam,\n",
        "size), where size is the number of draws and lam represents lambda, the defining parameter of the Poisson distribution.\n",
        "Lambda represents the expected, or mean, value of units per week.\n",
        "We draw a random Poisson count for each row (size=n_rows), and set the mean sales (lam) of Product 1 to be higher\n",
        "than that of Product 2:"
      ]
    },
    {
      "cell_type": "code",
      "metadata": {
        "id": "KP2I5Q1MPbAc"
      },
      "source": [
        "# sales data, using poisson (counts) distribution, np.random.poisson()\n",
        "# first, the default sales in the absence of promotion\n",
        "sales_p1 = np.random.poisson(lam=120, size=n_rows)\n",
        "sales_p2 = np.random.poisson(lam=100, size=n_rows)"
      ],
      "execution_count": null,
      "outputs": []
    },
    {
      "cell_type": "markdown",
      "metadata": {
        "id": "GewrIBVcP45i"
      },
      "source": [
        "Now we scale those counts up or down according to the relative prices. Price effects often follow a logarithmic function\n",
        "rather than a linear function (Rao 2009), so we use np.log(price) here:"
      ]
    },
    {
      "cell_type": "code",
      "metadata": {
        "id": "A6wBAyANP4gL"
      },
      "source": [
        "# scale sales according to the ratio of log(price)\n",
        "log_p1_price = np.log(store_sales.p1_price)\n",
        "log_p2_price = np.log(store_sales.p2_price)\n",
        "sales_p1 = sales_p1 * log_p2_price/log_p1_price\n",
        "sales_p2 = sales_p2 * log_p1_price/log_p2_price"
      ],
      "execution_count": null,
      "outputs": []
    },
    {
      "cell_type": "code",
      "metadata": {
        "id": "eGlDrYjRQHfa"
      },
      "source": [
        "# final sales get a 30% or 40% lift when promoted\n",
        "store_sales.p1_sales = np.floor(sales_p1 *(1 + store_sales.p1_promo * 0.3))\n",
        "store_sales.p2_sales = np.floor(sales_p2 *\n",
        "(1 + store_sales.p2_promo * 0.4))"
      ],
      "execution_count": null,
      "outputs": []
    },
    {
      "cell_type": "code",
      "metadata": {
        "colab": {
          "base_uri": "https://localhost:8080/"
        },
        "id": "TnlGnckgC4aK",
        "outputId": "d814276c-db9b-444a-8e9c-d1057e41e99b"
      },
      "source": [
        "store_sales.dtypes"
      ],
      "execution_count": null,
      "outputs": [
        {
          "output_type": "execute_result",
          "data": {
            "text/plain": [
              "store_num    float64\n",
              "year         float64\n",
              "week         float64\n",
              "p1_sales     float64\n",
              "p2_sales     float64\n",
              "p1_price     float64\n",
              "p2_price     float64\n",
              "p1_promo       int64\n",
              "p2_promo       int64\n",
              "country       object\n",
              "dtype: object"
            ]
          },
          "metadata": {},
          "execution_count": 19
        }
      ]
    },
    {
      "cell_type": "code",
      "metadata": {
        "id": "F9HHgk1jC4hh"
      },
      "source": [
        ""
      ],
      "execution_count": null,
      "outputs": []
    },
    {
      "cell_type": "code",
      "metadata": {
        "id": "9GGsMb-KBhyQ"
      },
      "source": [
        "store_sales.country = store_sales.country.astype(pd.CategoricalDtype())\n",
        "store_sales.store_num = store_sales.store_num.astype(pd.CategoricalDtype())"
      ],
      "execution_count": null,
      "outputs": []
    },
    {
      "cell_type": "code",
      "metadata": {
        "colab": {
          "base_uri": "https://localhost:8080/",
          "height": 173
        },
        "id": "d1b52AYuu3qu",
        "outputId": "bf234755-fa16-467f-a249-32419e1de211"
      },
      "source": [
        "store_sales.sample(4)"
      ],
      "execution_count": null,
      "outputs": [
        {
          "output_type": "execute_result",
          "data": {
            "text/html": [
              "<div>\n",
              "<style scoped>\n",
              "    .dataframe tbody tr th:only-of-type {\n",
              "        vertical-align: middle;\n",
              "    }\n",
              "\n",
              "    .dataframe tbody tr th {\n",
              "        vertical-align: top;\n",
              "    }\n",
              "\n",
              "    .dataframe thead th {\n",
              "        text-align: right;\n",
              "    }\n",
              "</style>\n",
              "<table border=\"1\" class=\"dataframe\">\n",
              "  <thead>\n",
              "    <tr style=\"text-align: right;\">\n",
              "      <th></th>\n",
              "      <th>store_num</th>\n",
              "      <th>year</th>\n",
              "      <th>week</th>\n",
              "      <th>p1_sales</th>\n",
              "      <th>p2_sales</th>\n",
              "      <th>p1_price</th>\n",
              "      <th>p2_price</th>\n",
              "      <th>p1_promo</th>\n",
              "      <th>p2_promo</th>\n",
              "      <th>country</th>\n",
              "    </tr>\n",
              "  </thead>\n",
              "  <tbody>\n",
              "    <tr>\n",
              "      <th>1593</th>\n",
              "      <td>116.0</td>\n",
              "      <td>2.0</td>\n",
              "      <td>17.0</td>\n",
              "      <td>141.0</td>\n",
              "      <td>91.0</td>\n",
              "      <td>2.19</td>\n",
              "      <td>2.29</td>\n",
              "      <td>0</td>\n",
              "      <td>0</td>\n",
              "      <td>JPN</td>\n",
              "    </tr>\n",
              "    <tr>\n",
              "      <th>548</th>\n",
              "      <td>106.0</td>\n",
              "      <td>1.0</td>\n",
              "      <td>15.0</td>\n",
              "      <td>127.0</td>\n",
              "      <td>88.0</td>\n",
              "      <td>2.19</td>\n",
              "      <td>2.29</td>\n",
              "      <td>0</td>\n",
              "      <td>0</td>\n",
              "      <td>DEU</td>\n",
              "    </tr>\n",
              "    <tr>\n",
              "      <th>596</th>\n",
              "      <td>106.0</td>\n",
              "      <td>1.0</td>\n",
              "      <td>39.0</td>\n",
              "      <td>164.0</td>\n",
              "      <td>101.0</td>\n",
              "      <td>2.29</td>\n",
              "      <td>2.49</td>\n",
              "      <td>1</td>\n",
              "      <td>0</td>\n",
              "      <td>DEU</td>\n",
              "    </tr>\n",
              "    <tr>\n",
              "      <th>1376</th>\n",
              "      <td>114.0</td>\n",
              "      <td>1.0</td>\n",
              "      <td>13.0</td>\n",
              "      <td>201.0</td>\n",
              "      <td>76.0</td>\n",
              "      <td>2.19</td>\n",
              "      <td>2.99</td>\n",
              "      <td>0</td>\n",
              "      <td>0</td>\n",
              "      <td>JPN</td>\n",
              "    </tr>\n",
              "  </tbody>\n",
              "</table>\n",
              "</div>"
            ],
            "text/plain": [
              "     store_num  year  week  p1_sales  ...  p2_price  p1_promo  p2_promo  country\n",
              "1593     116.0   2.0  17.0     141.0  ...      2.29         0         0      JPN\n",
              "548      106.0   1.0  15.0     127.0  ...      2.29         0         0      DEU\n",
              "596      106.0   1.0  39.0     164.0  ...      2.49         1         0      DEU\n",
              "1376     114.0   1.0  13.0     201.0  ...      2.99         0         0      JPN\n",
              "\n",
              "[4 rows x 10 columns]"
            ]
          },
          "metadata": {},
          "execution_count": 21
        }
      ]
    },
    {
      "cell_type": "code",
      "metadata": {
        "colab": {
          "base_uri": "https://localhost:8080/",
          "height": 266
        },
        "id": "v1v0foGnAHFU",
        "outputId": "b38a4ddc-a8d5-41d3-b267-ae43db66097b"
      },
      "source": [
        "store_sales.groupby(['store_num','year'])[['p1_sales', 'p2_sales']].mean().unstack().head()"
      ],
      "execution_count": null,
      "outputs": [
        {
          "output_type": "execute_result",
          "data": {
            "text/html": [
              "<div>\n",
              "<style scoped>\n",
              "    .dataframe tbody tr th:only-of-type {\n",
              "        vertical-align: middle;\n",
              "    }\n",
              "\n",
              "    .dataframe tbody tr th {\n",
              "        vertical-align: top;\n",
              "    }\n",
              "\n",
              "    .dataframe thead tr th {\n",
              "        text-align: left;\n",
              "    }\n",
              "\n",
              "    .dataframe thead tr:last-of-type th {\n",
              "        text-align: right;\n",
              "    }\n",
              "</style>\n",
              "<table border=\"1\" class=\"dataframe\">\n",
              "  <thead>\n",
              "    <tr>\n",
              "      <th></th>\n",
              "      <th colspan=\"2\" halign=\"left\">p1_sales</th>\n",
              "      <th colspan=\"2\" halign=\"left\">p2_sales</th>\n",
              "    </tr>\n",
              "    <tr>\n",
              "      <th>year</th>\n",
              "      <th>1.0</th>\n",
              "      <th>2.0</th>\n",
              "      <th>1.0</th>\n",
              "      <th>2.0</th>\n",
              "    </tr>\n",
              "    <tr>\n",
              "      <th>store_num</th>\n",
              "      <th></th>\n",
              "      <th></th>\n",
              "      <th></th>\n",
              "      <th></th>\n",
              "    </tr>\n",
              "  </thead>\n",
              "  <tbody>\n",
              "    <tr>\n",
              "      <th>101.0</th>\n",
              "      <td>127.365385</td>\n",
              "      <td>127.846154</td>\n",
              "      <td>98.211538</td>\n",
              "      <td>105.750000</td>\n",
              "    </tr>\n",
              "    <tr>\n",
              "      <th>102.0</th>\n",
              "      <td>133.961538</td>\n",
              "      <td>138.326923</td>\n",
              "      <td>101.846154</td>\n",
              "      <td>101.326923</td>\n",
              "    </tr>\n",
              "    <tr>\n",
              "      <th>103.0</th>\n",
              "      <td>126.269231</td>\n",
              "      <td>128.865385</td>\n",
              "      <td>102.384615</td>\n",
              "      <td>106.673077</td>\n",
              "    </tr>\n",
              "    <tr>\n",
              "      <th>104.0</th>\n",
              "      <td>136.057692</td>\n",
              "      <td>136.019231</td>\n",
              "      <td>100.788462</td>\n",
              "      <td>96.846154</td>\n",
              "    </tr>\n",
              "    <tr>\n",
              "      <th>105.0</th>\n",
              "      <td>124.903846</td>\n",
              "      <td>138.384615</td>\n",
              "      <td>103.173077</td>\n",
              "      <td>102.365385</td>\n",
              "    </tr>\n",
              "  </tbody>\n",
              "</table>\n",
              "</div>"
            ],
            "text/plain": [
              "             p1_sales                p2_sales            \n",
              "year              1.0         2.0         1.0         2.0\n",
              "store_num                                                \n",
              "101.0      127.365385  127.846154   98.211538  105.750000\n",
              "102.0      133.961538  138.326923  101.846154  101.326923\n",
              "103.0      126.269231  128.865385  102.384615  106.673077\n",
              "104.0      136.057692  136.019231  100.788462   96.846154\n",
              "105.0      124.903846  138.384615  103.173077  102.365385"
            ]
          },
          "metadata": {},
          "execution_count": 108
        }
      ]
    },
    {
      "cell_type": "code",
      "metadata": {
        "colab": {
          "base_uri": "https://localhost:8080/",
          "height": 142
        },
        "id": "aFiBeFtyAHI-",
        "outputId": "de2289b8-f18a-4b0a-e224-b8a35ea62a7e"
      },
      "source": [
        "# use count for discrete variables and dont use mean\n",
        "store_sales.groupby('p1_promo')['p1_price'].value_counts().unstack()"
      ],
      "execution_count": null,
      "outputs": [
        {
          "output_type": "execute_result",
          "data": {
            "text/html": [
              "<div>\n",
              "<style scoped>\n",
              "    .dataframe tbody tr th:only-of-type {\n",
              "        vertical-align: middle;\n",
              "    }\n",
              "\n",
              "    .dataframe tbody tr th {\n",
              "        vertical-align: top;\n",
              "    }\n",
              "\n",
              "    .dataframe thead th {\n",
              "        text-align: right;\n",
              "    }\n",
              "</style>\n",
              "<table border=\"1\" class=\"dataframe\">\n",
              "  <thead>\n",
              "    <tr style=\"text-align: right;\">\n",
              "      <th>p1_price</th>\n",
              "      <th>2.19</th>\n",
              "      <th>2.29</th>\n",
              "      <th>2.49</th>\n",
              "      <th>2.79</th>\n",
              "      <th>2.99</th>\n",
              "    </tr>\n",
              "    <tr>\n",
              "      <th>p1_promo</th>\n",
              "      <th></th>\n",
              "      <th></th>\n",
              "      <th></th>\n",
              "      <th></th>\n",
              "      <th></th>\n",
              "    </tr>\n",
              "  </thead>\n",
              "  <tbody>\n",
              "    <tr>\n",
              "      <th>0</th>\n",
              "      <td>366</td>\n",
              "      <td>369</td>\n",
              "      <td>386</td>\n",
              "      <td>368</td>\n",
              "      <td>385</td>\n",
              "    </tr>\n",
              "    <tr>\n",
              "      <th>1</th>\n",
              "      <td>51</td>\n",
              "      <td>39</td>\n",
              "      <td>43</td>\n",
              "      <td>33</td>\n",
              "      <td>40</td>\n",
              "    </tr>\n",
              "  </tbody>\n",
              "</table>\n",
              "</div>"
            ],
            "text/plain": [
              "p1_price  2.19  2.29  2.49  2.79  2.99\n",
              "p1_promo                              \n",
              "0          366   369   386   368   385\n",
              "1           51    39    43    33    40"
            ]
          },
          "metadata": {},
          "execution_count": 24
        }
      ]
    },
    {
      "cell_type": "code",
      "metadata": {
        "colab": {
          "base_uri": "https://localhost:8080/",
          "height": 142
        },
        "id": "A4XjVvbeAHPp",
        "outputId": "251b9018-c33e-4b52-8137-12b3c7df415f"
      },
      "source": [
        "# use count for discrete variables and dont use mean\n",
        "store_sales.groupby('p1_promo').p1_price.value_counts().unstack()"
      ],
      "execution_count": null,
      "outputs": [
        {
          "output_type": "execute_result",
          "data": {
            "text/html": [
              "<div>\n",
              "<style scoped>\n",
              "    .dataframe tbody tr th:only-of-type {\n",
              "        vertical-align: middle;\n",
              "    }\n",
              "\n",
              "    .dataframe tbody tr th {\n",
              "        vertical-align: top;\n",
              "    }\n",
              "\n",
              "    .dataframe thead th {\n",
              "        text-align: right;\n",
              "    }\n",
              "</style>\n",
              "<table border=\"1\" class=\"dataframe\">\n",
              "  <thead>\n",
              "    <tr style=\"text-align: right;\">\n",
              "      <th>p1_price</th>\n",
              "      <th>2.19</th>\n",
              "      <th>2.29</th>\n",
              "      <th>2.49</th>\n",
              "      <th>2.79</th>\n",
              "      <th>2.99</th>\n",
              "    </tr>\n",
              "    <tr>\n",
              "      <th>p1_promo</th>\n",
              "      <th></th>\n",
              "      <th></th>\n",
              "      <th></th>\n",
              "      <th></th>\n",
              "      <th></th>\n",
              "    </tr>\n",
              "  </thead>\n",
              "  <tbody>\n",
              "    <tr>\n",
              "      <th>0</th>\n",
              "      <td>366</td>\n",
              "      <td>369</td>\n",
              "      <td>386</td>\n",
              "      <td>368</td>\n",
              "      <td>385</td>\n",
              "    </tr>\n",
              "    <tr>\n",
              "      <th>1</th>\n",
              "      <td>51</td>\n",
              "      <td>39</td>\n",
              "      <td>43</td>\n",
              "      <td>33</td>\n",
              "      <td>40</td>\n",
              "    </tr>\n",
              "  </tbody>\n",
              "</table>\n",
              "</div>"
            ],
            "text/plain": [
              "p1_price  2.19  2.29  2.49  2.79  2.99\n",
              "p1_promo                              \n",
              "0          366   369   386   368   385\n",
              "1           51    39    43    33    40"
            ]
          },
          "metadata": {},
          "execution_count": 25
        }
      ]
    },
    {
      "cell_type": "code",
      "metadata": {
        "colab": {
          "base_uri": "https://localhost:8080/"
        },
        "id": "wju1AaRnAHWN",
        "outputId": "63fac351-6e54-48a7-88c8-b3a05af11b91"
      },
      "source": [
        "store_sales.p1_sales.quantile(q=[0.25, 0.5, 0.75])"
      ],
      "execution_count": null,
      "outputs": [
        {
          "output_type": "execute_result",
          "data": {
            "text/plain": [
              "0.25    112.0\n",
              "0.50    129.0\n",
              "0.75    149.0\n",
              "Name: p1_sales, dtype: float64"
            ]
          },
          "metadata": {},
          "execution_count": 26
        }
      ]
    },
    {
      "cell_type": "code",
      "metadata": {
        "colab": {
          "base_uri": "https://localhost:8080/"
        },
        "id": "WRBd7DyjT-DM",
        "outputId": "11c0bc98-435e-4ee6-b7ee-f487ff105287"
      },
      "source": [
        "# above we found 25% ,50 and 75% quantils..we can find other values also\n",
        "store_sales.p1_sales.quantile(q=[0.05, 0.95])\n"
      ],
      "execution_count": null,
      "outputs": [
        {
          "output_type": "execute_result",
          "data": {
            "text/plain": [
              "0.05     92.0\n",
              "0.95    187.0\n",
              "Name: p1_sales, dtype: float64"
            ]
          },
          "metadata": {},
          "execution_count": 27
        }
      ]
    },
    {
      "cell_type": "markdown",
      "metadata": {
        "id": "WmboGKTKE2WZ"
      },
      "source": [
        ""
      ]
    },
    {
      "cell_type": "code",
      "metadata": {
        "colab": {
          "base_uri": "https://localhost:8080/"
        },
        "id": "VQXHKdhbAHa3",
        "outputId": "9a87545d-42b5-4b13-9347-6cd8bc30720f"
      },
      "source": [
        "store_sales.p1_sales.quantile(q=np.arange(0, 1.1, 0.1))"
      ],
      "execution_count": null,
      "outputs": [
        {
          "output_type": "execute_result",
          "data": {
            "text/plain": [
              "0.0     73.0\n",
              "0.1     99.0\n",
              "0.2    108.0\n",
              "0.3    115.0\n",
              "0.4    122.0\n",
              "0.5    129.0\n",
              "0.6    136.0\n",
              "0.7    144.0\n",
              "0.8    156.0\n",
              "0.9    173.0\n",
              "1.0    271.0\n",
              "Name: p1_sales, dtype: float64"
            ]
          },
          "metadata": {},
          "execution_count": 28
        }
      ]
    },
    {
      "cell_type": "markdown",
      "metadata": {
        "id": "Po9pBj6_DxUL"
      },
      "source": [
        "# **3- IQR Calculation using quantiles (75-25)**"
      ]
    },
    {
      "cell_type": "code",
      "metadata": {
        "colab": {
          "base_uri": "https://localhost:8080/"
        },
        "id": "XXLrVmDwrM94",
        "outputId": "9f9a6caf-32ec-4d14-e3a5-4d5028c38fcb"
      },
      "source": [
        "# finding inter-quantile range\n",
        "def iqr(x):\n",
        "  return x.quantile(0.75) - x.quantile(0.25)\n",
        "iqr(store_sales.p1_sales)"
      ],
      "execution_count": null,
      "outputs": [
        {
          "output_type": "execute_result",
          "data": {
            "text/plain": [
              "37.0"
            ]
          },
          "metadata": {},
          "execution_count": 29
        }
      ]
    },
    {
      "cell_type": "code",
      "metadata": {
        "colab": {
          "base_uri": "https://localhost:8080/",
          "height": 111
        },
        "id": "ys0RbkABUzLK",
        "outputId": "b42af166-0afe-446c-e7bb-9eead147c24b"
      },
      "source": [
        "# combining summary statistics in a seperate column\n",
        "pd.DataFrame([[store_sales.p1_sales.median(),\n",
        "store_sales.p2_sales.median()],\n",
        "[iqr(store_sales.p1_sales),\n",
        "iqr(store_sales.p2_sales)]],\n",
        "index=['Median sales', 'IQR'],\n",
        "columns=['p1_sales', 'p2_sales'])"
      ],
      "execution_count": null,
      "outputs": [
        {
          "output_type": "execute_result",
          "data": {
            "text/html": [
              "<div>\n",
              "<style scoped>\n",
              "    .dataframe tbody tr th:only-of-type {\n",
              "        vertical-align: middle;\n",
              "    }\n",
              "\n",
              "    .dataframe tbody tr th {\n",
              "        vertical-align: top;\n",
              "    }\n",
              "\n",
              "    .dataframe thead th {\n",
              "        text-align: right;\n",
              "    }\n",
              "</style>\n",
              "<table border=\"1\" class=\"dataframe\">\n",
              "  <thead>\n",
              "    <tr style=\"text-align: right;\">\n",
              "      <th></th>\n",
              "      <th>p1_sales</th>\n",
              "      <th>p2_sales</th>\n",
              "    </tr>\n",
              "  </thead>\n",
              "  <tbody>\n",
              "    <tr>\n",
              "      <th>Median sales</th>\n",
              "      <td>129.0</td>\n",
              "      <td>97.0</td>\n",
              "    </tr>\n",
              "    <tr>\n",
              "      <th>IQR</th>\n",
              "      <td>37.0</td>\n",
              "      <td>33.0</td>\n",
              "    </tr>\n",
              "  </tbody>\n",
              "</table>\n",
              "</div>"
            ],
            "text/plain": [
              "              p1_sales  p2_sales\n",
              "Median sales     129.0      97.0\n",
              "IQR               37.0      33.0"
            ]
          },
          "metadata": {},
          "execution_count": 30
        }
      ]
    },
    {
      "cell_type": "code",
      "metadata": {
        "colab": {
          "base_uri": "https://localhost:8080/",
          "height": 111
        },
        "id": "zGeW6q86swfB",
        "outputId": "e02ef348-12db-42c5-bf9a-33c6c80f1f3a"
      },
      "source": [
        "pd.DataFrame([store_sales[['p1_sales', 'p2_sales']].median(),\n",
        "store_sales[['p1_sales', 'p2_sales']].apply(iqr)],\n",
        "index=['Median sales', 'IQR'])"
      ],
      "execution_count": null,
      "outputs": [
        {
          "output_type": "execute_result",
          "data": {
            "text/html": [
              "<div>\n",
              "<style scoped>\n",
              "    .dataframe tbody tr th:only-of-type {\n",
              "        vertical-align: middle;\n",
              "    }\n",
              "\n",
              "    .dataframe tbody tr th {\n",
              "        vertical-align: top;\n",
              "    }\n",
              "\n",
              "    .dataframe thead th {\n",
              "        text-align: right;\n",
              "    }\n",
              "</style>\n",
              "<table border=\"1\" class=\"dataframe\">\n",
              "  <thead>\n",
              "    <tr style=\"text-align: right;\">\n",
              "      <th></th>\n",
              "      <th>p1_sales</th>\n",
              "      <th>p2_sales</th>\n",
              "    </tr>\n",
              "  </thead>\n",
              "  <tbody>\n",
              "    <tr>\n",
              "      <th>Median sales</th>\n",
              "      <td>129.0</td>\n",
              "      <td>97.0</td>\n",
              "    </tr>\n",
              "    <tr>\n",
              "      <th>IQR</th>\n",
              "      <td>37.0</td>\n",
              "      <td>33.0</td>\n",
              "    </tr>\n",
              "  </tbody>\n",
              "</table>\n",
              "</div>"
            ],
            "text/plain": [
              "              p1_sales  p2_sales\n",
              "Median sales     129.0      97.0\n",
              "IQR               37.0      33.0"
            ]
          },
          "metadata": {},
          "execution_count": 37
        }
      ]
    },
    {
      "cell_type": "code",
      "metadata": {
        "colab": {
          "base_uri": "https://localhost:8080/",
          "height": 295
        },
        "id": "zTmMawYP2a1f",
        "outputId": "21cfce60-054c-4565-c3cc-72dae74d2846"
      },
      "source": [
        "store_sales.p1_sales.hist(bins=30,\n",
        "edgecolor='k',\n",
        "facecolor='lightblue',\n",
        "density=True)\n",
        "plt.title('Product 1 weekly sales frequencies, All stores')\n",
        "plt.xlabel('Product 1 sales (units)')\n",
        "plt.ylabel('Relative frequency')\n",
        "plt.xticks(range(60, 300, 20))\n",
        "plt.grid(False)\n",
        "plt.box(False)"
      ],
      "execution_count": null,
      "outputs": [
        {
          "output_type": "display_data",
          "data": {
            "image/png": "[encoded data removed]",
            "text/plain": [
              "<Figure size 432x288 with 1 Axes>"
            ]
          },
          "metadata": {
            "needs_background": "light"
          }
        }
      ]
    },
    {
      "cell_type": "code",
      "metadata": {
        "colab": {
          "base_uri": "https://localhost:8080/",
          "height": 295
        },
        "id": "Uq4Lk_IB1KnT",
        "outputId": "5b09ec72-592e-4b10-edc0-d6da2d9e0842"
      },
      "source": [
        "store_sales.p1_sales.plot.density(color='red')\n",
        "\n",
        "plt.title('Product 1 weekly sales frequencies, All stores')\n",
        "plt.xlabel('Product 1 sales (units)')\n",
        "plt.ylabel('Relative frequency')\n",
        "plt.xticks(range(60, 300, 20))\n",
        "plt.xlim((60, 290))\n",
        "plt.box(False)"
      ],
      "execution_count": null,
      "outputs": [
        {
          "output_type": "display_data",
          "data": {
            "image/png": "[encoded data removed]",
            "text/plain": [
              "<Figure size 432x288 with 1 Axes>"
            ]
          },
          "metadata": {
            "needs_background": "light"
          }
        }
      ]
    },
    {
      "cell_type": "markdown",
      "metadata": {
        "id": "UyBQG3B9FWH_"
      },
      "source": [
        "# **4- Box plot with Column and By parameters for multiple box plots for comparision**"
      ]
    },
    {
      "cell_type": "code",
      "metadata": {
        "colab": {
          "base_uri": "https://localhost:8080/",
          "height": 295
        },
        "id": "couo-b_Kw40C",
        "outputId": "ee4ccc97-3a91-4d50-d99b-d04e595c66e5"
      },
      "source": [
        "p = store_sales.p2_sales.plot.box(vert=False, sym='k.')\n",
        "plt.title('Weekly sales of P2, All stores')\n",
        "plt.xlabel('Weekly sales')\n",
        "p.set_facecolor('w')"
      ],
      "execution_count": null,
      "outputs": [
        {
          "output_type": "display_data",
          "data": {
            "image/png": "[encoded data removed]",
            "text/plain": [
              "<Figure size 432x288 with 1 Axes>"
            ]
          },
          "metadata": {
            "needs_background": "light"
          }
        }
      ]
    },
    {
      "cell_type": "markdown",
      "metadata": {
        "id": "Soek8uUx3ve3"
      },
      "source": [
        "How do different stores compare\n",
        "on sales of product 2? The boxplot() method makes it easy to compare these with the by argument, which specifies the\n",
        "column by which to group. The column argument indicates the column represented by the boxplot distribution, p2_sales\n",
        "in this case. These correspond to the response variable p2_sales which we plot with regards to the explanatory variable\n",
        "store_num:"
      ]
    },
    {
      "cell_type": "code",
      "metadata": {
        "colab": {
          "base_uri": "https://localhost:8080/",
          "height": 294
        },
        "id": "2fAah90ZuHoi",
        "outputId": "2dc67042-612f-412b-ea45-9304d8d13520"
      },
      "source": [
        "store_sales.boxplot(column='p2_sales', by='store_num', vert=False,\n",
        "sym='k.')\n",
        "plt.suptitle('')\n",
        "plt.title('Weekly sales of p2 by store')\n",
        "plt.xlabel('Weekly unit sales')\n",
        "plt.ylabel('Store')\n",
        "plt.box(False)"
      ],
      "execution_count": null,
      "outputs": [
        {
          "output_type": "display_data",
          "data": {
            "image/png": "[encoded data removed]",
            "text/plain": [
              "<Figure size 432x288 with 1 Axes>"
            ]
          },
          "metadata": {
            "needs_background": "light"
          }
        }
      ]
    },
    {
      "cell_type": "markdown",
      "metadata": {
        "id": "dKtPaoEH8G2x"
      },
      "source": [
        "# Cummulative Distribution"
      ]
    },
    {
      "cell_type": "code",
      "metadata": {
        "id": "bVUI7Tzd8Jx6"
      },
      "source": [
        ""
      ],
      "execution_count": null,
      "outputs": []
    },
    {
      "cell_type": "markdown",
      "metadata": {
        "id": "1RfifJZo9BiM"
      },
      "source": [
        "## Example : the 90th percentile for weekly sales of P1 or  the value for which 90% of weekly sales of P1will be lower"
      ]
    },
    {
      "cell_type": "code",
      "metadata": {
        "colab": {
          "base_uri": "https://localhost:8080/",
          "height": 147
        },
        "id": "aRjkn3kx8S6U",
        "outputId": "3062618b-26bb-439f-e27d-ab2fe7ac2659"
      },
      "source": [
        ""
      ],
      "execution_count": null,
      "outputs": [
        {
          "output_type": "display_data",
          "data": {
            "image/png": "[encoded data removed]",
            "text/plain": [
              "<Figure size 432x288 with 1 Axes>"
            ]
          },
          "metadata": {
            "needs_background": "light"
          }
        }
      ]
    },
    {
      "cell_type": "code",
      "metadata": {
        "colab": {
          "base_uri": "https://localhost:8080/",
          "height": 180
        },
        "id": "iQKHtedA8bTT",
        "outputId": "c8c0926c-1451-4c49-f88f-76e8a09b7610"
      },
      "source": [
        "plt.subplot(2,1,1)\n",
        "plt.plot(e.x, e.y)\n",
        "plt.title('Cumulative distribution of p1 weekly sales')\n",
        "plt.ylabel('Cumulative proportion')\n",
        "plt.plot([60, 270], [0.9, 0.9], 'k--', alpha=0.5)"
      ],
      "execution_count": null,
      "outputs": [
        {
          "output_type": "execute_result",
          "data": {
            "text/plain": [
              "[<matplotlib.lines.Line2D at 0x7f576ade3f50>]"
            ]
          },
          "metadata": {},
          "execution_count": 94
        },
        {
          "output_type": "display_data",
          "data": {
            "image/png": "[encoded data removed]",
            "text/plain": [
              "<Figure size 432x288 with 1 Axes>"
            ]
          },
          "metadata": {
            "needs_background": "light"
          }
        }
      ]
    },
    {
      "cell_type": "code",
      "metadata": {
        "colab": {
          "base_uri": "https://localhost:8080/",
          "height": 180
        },
        "id": "ZlSMHY6S8old",
        "outputId": "42aec606-3be7-45f2-da8c-957804adbac4"
      },
      "source": [
        "plt.subplot(2,1,1)\n",
        "plt.plot(e.x, e.y)\n",
        "plt.title('Cumulative distribution of p1 weekly sales')\n",
        "plt.ylabel('Cumulative proportion')\n",
        "plt.plot([60, 270], [0.9, 0.9], 'k--', alpha=0.5)\n",
        "plt.plot([store_sales.p1_sales.quantile(.9),store_sales.p1_sales.quantile(.9)],[0, 1],, 'k--', alpha=0.5)"
      ],
      "execution_count": null,
      "outputs": [
        {
          "output_type": "execute_result",
          "data": {
            "text/plain": [
              "[<matplotlib.lines.Line2D at 0x7f5773c77b10>]"
            ]
          },
          "metadata": {},
          "execution_count": 97
        },
        {
          "output_type": "display_data",
          "data": {
            "image/png": "[encoded data removed]",
            "text/plain": [
              "<Figure size 432x288 with 1 Axes>"
            ]
          },
          "metadata": {
            "needs_background": "light"
          }
        }
      ]
    },
    {
      "cell_type": "code",
      "metadata": {
        "colab": {
          "base_uri": "https://localhost:8080/",
          "height": 295
        },
        "id": "Hf5PXlqW-c1K",
        "outputId": "b3241a88-b006-4ff2-c746-1a08f7e7d469"
      },
      "source": [
        "\n",
        "np.random.seed(19680801)\n",
        "\n",
        "mu = 200\n",
        "sigma = 25\n",
        "n_bins = 50\n",
        "x = np.random.normal(mu, sigma, size=100)\n",
        "\n",
        "fig, ax = plt.subplots(figsize=(8, 4))\n",
        "\n",
        "# plot the cumulative histogram\n",
        "ax.hist(x, n_bins, density=True, histtype='step', cumulative=True, label='Empirical')\n",
        "\n",
        "# # Add a line showing the expected distribution.\n",
        "# y = ((1 / (np.sqrt(2 * np.pi) * sigma)) *\n",
        "#      np.exp(-0.5 * (1 / sigma * (bins - mu))**2))\n",
        "# y = y.cumsum()\n",
        "# y /= y[-1]\n",
        "\n",
        "# ax.plot(bins, y, 'k--', linewidth=1.5, label='Theoretical')\n",
        "\n",
        "# Overlay a reversed cumulative histogram.\n",
        "ax.hist(x, bins=bins, density=True, histtype='step', cumulative=-1,\n",
        "        label='Reversed emp.')\n",
        "\n",
        "# tidy up the figure\n",
        "ax.grid(True)\n",
        "ax.legend(loc='right')\n",
        "ax.set_title('Cumulative step histograms')\n",
        "ax.set_xlabel('Annual rainfall (mm)')\n",
        "ax.set_ylabel('Likelihood of occurrence')\n",
        "\n",
        "plt.show()"
      ],
      "execution_count": null,
      "outputs": [
        {
          "output_type": "display_data",
          "data": {
            "image/png": "[encoded data removed]",
            "text/plain": [
              "<Figure size 576x288 with 1 Axes>"
            ]
          },
          "metadata": {
            "needs_background": "light"
          }
        }
      ]
    },
    {
      "cell_type": "code",
      "metadata": {
        "id": "ZhtB2xkR-qln"
      },
      "source": [
        "plt.plot([store_sales.p1_sales.quantile(.9),store_sales.p1_sales.quantile(.9)],[0, 1], 'k--', alpha=0.5)"
      ],
      "execution_count": null,
      "outputs": []
    },
    {
      "cell_type": "markdown",
      "metadata": {
        "id": "Fx-WRE7rB2XL"
      },
      "source": [
        "# **5- Commulative Distribution Functions**\n",
        "\n",
        "\\begin{array}{l}\n",
        "F_{X}(x)=P(X \\leq x)\\\\\n",
        "F_{X}(x)=\\text { function of } x\\\\\n",
        "X \\quad X=\\text { real value variable } \\\\\n",
        "P \\quad P=\\text { probability that X will have a value less than or equal to x }\n",
        "\\end{array}\n",
        "\n",
        "\n",
        "### Example : the 90th percentile for weekly sales of P1 or  the value for which 90% of weekly sales of P1will be lower"
      ]
    },
    {
      "cell_type": "markdown",
      "metadata": {
        "id": "FXvMYKyNFxO3"
      },
      "source": [
        "# **5a Method -1 : Using Histogram with cummulative=True parameter**"
      ]
    },
    {
      "cell_type": "code",
      "metadata": {
        "colab": {
          "base_uri": "https://localhost:8080/",
          "height": 281
        },
        "id": "iaCJGn9g_AkC",
        "outputId": "c784201b-0799-4252-fe7f-3c83da943dcc"
      },
      "source": [
        "x=store_sales.p1_sales\n",
        "fig, ax = plt.subplots(figsize=(8, 4))\n",
        "n_bins = 50\n",
        "plt.title('Cumulative Steps Histogram of p1 weekly sales')\n",
        "plt.ylabel('Cumulative proportion')\n",
        "# plot the cumulative histogram\n",
        "ax.hist(x, n_bins, density=True, histtype='step', cumulative=True, label='Empirical')\n",
        "\n",
        "ax.plot([60, 270], [0.9, 0.9], 'k--', alpha=0.5)\n",
        "plt.show()"
      ],
      "execution_count": null,
      "outputs": [
        {
          "output_type": "display_data",
          "data": {
            "image/png": "[encoded data removed]",
            "text/plain": [
              "<Figure size 576x288 with 1 Axes>"
            ]
          },
          "metadata": {
            "needs_background": "light"
          }
        }
      ]
    },
    {
      "cell_type": "markdown",
      "metadata": {
        "id": "o4KUOgnPAnfl"
      },
      "source": [
        "# **5-b Method -2 Calculating actual CDF and then plotting**"
      ]
    },
    {
      "cell_type": "code",
      "metadata": {
        "id": "MyGHzjmLAtbO"
      },
      "source": [
        "import pandas.util.testing as tm\n",
        "from statsmodels.distributions.empirical_distribution import ECDF\n",
        "e = ECDF(store_sales.p1_sales)\n",
        "\n",
        "plt.subplot(2,1,1)\n",
        "plt.plot(e.x, e.y)\n",
        "plt.show()"
      ],
      "execution_count": null,
      "outputs": []
    },
    {
      "cell_type": "markdown",
      "metadata": {
        "id": "EYRjA6Ti5x8c"
      },
      "source": [
        "# Take away\n",
        "1- df.loc[9, 'shield']\n",
        "\n",
        "2- Filling columns\n",
        "\n",
        "store_numbers = range(101, 101 + N_STORES)\n",
        "\n",
        "store_country = dict(zip(store_numbers,\n",
        "['USA', 'USA', 'USA', 'DEU', 'DEU', 'DEU',\n",
        "'DEU', 'DEU', 'GBR', 'GBR', 'GBR', 'BRA',\n",
        "'BRA', 'JPN', 'JPN', 'JPN', 'JPN', 'AUS',\n",
        "'CHN', 'CHN']))\n",
        "\n",
        "\n",
        "i=0\n",
        "\n",
        "for store_num in store_numbers :\n",
        "  for week in range(1,53):\n",
        "    for year in [1,2]:\n",
        "    \n",
        "      store_sales.loc[i, 'store_num']=store_num\n",
        "      store_sales.loc[i,'week']=week\n",
        "      store_sales.loc[i,'year']=year\n",
        "      store_sales.loc[i,'country']=store_country[store_num]\n",
        "      i=i+1\n",
        "\n",
        "\n",
        "3- IQR Calculation using quantiles (75-25)\n",
        "\n",
        "4- Box plot with Column and By parameters for multiple box plots for comparision\n",
        " \n",
        "\n",
        "5- Commulative Dittribution\n",
        "\n",
        "5a Method -1 : Using Histogram with cummulative=True parameter\n",
        "\n",
        "5-b Method -2 Calculating actual CDF and then plotting\n",
        "\n",
        "\n",
        "\n",
        "\n",
        "\n"
      ]
    }
  ]
}