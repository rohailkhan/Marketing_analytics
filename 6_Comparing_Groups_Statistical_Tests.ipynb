{
  "nbformat": 4,
  "nbformat_minor": 0,
  "metadata": {
    "colab": {
      "name": "6 - Comparing Groups: Statistical Tests",
      "provenance": [],
      "collapsed_sections": [],
      "include_colab_link": true
    },
    "kernelspec": {
      "name": "python3",
      "display_name": "Python 3"
    }
  },
  "cells": [
    {
      "cell_type": "markdown",
      "metadata": {
        "id": "view-in-github",
        "colab_type": "text"
      },
      "source": [
        "<a href=\"https://colab.research.google.com/github/rohailkhan/Marketing_analytics/blob/main/6_Comparing_Groups_Statistical_Tests.ipynb\" target=\"_parent\"><img src=\"https://colab.research.google.com/assets/colab-badge.svg\" alt=\"Open In Colab\"/></a>"
      ]
    },
    {
      "cell_type": "markdown",
      "metadata": {
        "id": "ySpWcarjB6dL"
      },
      "source": [
        "# 7 Covariance\n",
        "It provides insight into how two variables are related to one another. More precisely, covariance refers to the measure of how two random variables in a data set will change together. A positive covariance means that the two variables at hand are positively related, and they move in the same direction\n",
        "\\begin{equation}\n",
        "\\operatorname{cov}_{x, y}=\\frac{\\sum\\left(x_{i}-\\bar{x}\\right)\\left(y_{i}-\\bar{y}\\right)}{N-1}\n",
        "\\end{equation}\n",
        "\n",
        "# Another explanation\n",
        "We can find the mean value for each variable and then, \n",
        "\n",
        "for each\n",
        "observation, measure whether each variable is higher or lower than its mean value. \n",
        "\n",
        "Covariance measures the degree to which\n",
        "both variables are higher or lower than the mean at the same time. \n",
        "\n",
        "\\begin{equation}\n",
        "\\operatorname{cov}_{x, y}=\\frac{\\sum\\left(x_{i}-\\bar{x}\\right)\\left(y_{i}-\\bar{y}\\right)}{N-1}\n",
        "\\end{equation}\n",
        "\n",
        "\n",
        "\n",
        "A positive covariance indicates that their patterns match,\n",
        "and a negative covariance indicate that their patterns are offset, i.e. when one is higher than its mean the other is lower its\n",
        "mean.\n",
        "\n",
        "# 8 Pearson Correllation (improved form of covariance)\n",
        "It just scales the covariance\n",
        "\n",
        "\\begin{equation}\n",
        "r=\\frac{\\sum\\left(x_{i}-\\bar{x}\\right)\\left(y_{i}-\\bar{y}\\right)}{\\sqrt{\\sum\\left(x_{i}-\\bar{x}\\right)^{2} \\sum\\left(y_{i}-\\bar{y}\\right)^{2}}}\n",
        "\\end{equation}\n",
        "\n",
        "The correlation coefficient ranges from −1 to 1. An absolute value of exactly 1 implies that a linear equation describes the relationship between X and Y perfectly, with all data points lying on a line. The correlation sign is determined by the regression slope: a value of +1 implies that all data points lie on a line for which Y increases as X increases, and vice versa for -1.\n"
      ]
    },
    {
      "cell_type": "markdown",
      "metadata": {
        "id": "HGL2z66TD5Lo"
      },
      "source": [
        "# 6 Chi Squared Test\n",
        "## Why Chi Squared test?\n",
        "\n",
        "Example :\n",
        "Is there a statistically significant relationship between a student’s Year \n",
        "11 truancy and his or her enrolment in full time education after secondary school?\n",
        "A chi-square test is a statistical test used to compare observed results with expected results. The purpose of this test is to determine if a difference between observed data and expected data is due to chance, or if it is due to a relationship between the variables you are studying"
      ]
    },
    {
      "cell_type": "markdown",
      "metadata": {
        "id": "Rg5e6phkBnty"
      },
      "source": [
        "## 6.1 Data for Comparing Groups"
      ]
    },
    {
      "cell_type": "code",
      "metadata": {
        "id": "Ci2wusAchfyR"
      },
      "source": [
        "%config InlineBackend.figure_format = 'svg'\n",
        "import pandas as pd\n",
        "pd.set_option('display.max_rows', 500)\n",
        "pd.set_option('display.max_columns', 500)\n",
        "pd.set_option('display.width', 70)"
      ],
      "execution_count": 4,
      "outputs": []
    },
    {
      "cell_type": "code",
      "metadata": {
        "id": "GIUnwdWcyqdx",
        "colab": {
          "base_uri": "https://localhost:8080/",
          "height": 204
        },
        "outputId": "d9312802-6744-432b-e5ed-84c4b88c0327"
      },
      "source": [
        "import pandas as pd\n",
        "seg_df = pd.read_csv('https://raw.githubusercontent.com/rohailkhan/python-marketing-research-1ed/master/Data/chapter5_data.csv')\n",
        "seg_df.head()"
      ],
      "execution_count": 5,
      "outputs": [
        {
          "output_type": "execute_result",
          "data": {
            "text/html": [
              "<div>\n",
              "<style scoped>\n",
              "    .dataframe tbody tr th:only-of-type {\n",
              "        vertical-align: middle;\n",
              "    }\n",
              "\n",
              "    .dataframe tbody tr th {\n",
              "        vertical-align: top;\n",
              "    }\n",
              "\n",
              "    .dataframe thead th {\n",
              "        text-align: right;\n",
              "    }\n",
              "</style>\n",
              "<table border=\"1\" class=\"dataframe\">\n",
              "  <thead>\n",
              "    <tr style=\"text-align: right;\">\n",
              "      <th></th>\n",
              "      <th>Segment</th>\n",
              "      <th>age</th>\n",
              "      <th>gender</th>\n",
              "      <th>income</th>\n",
              "      <th>kids</th>\n",
              "      <th>own_home</th>\n",
              "      <th>subscribe</th>\n",
              "    </tr>\n",
              "  </thead>\n",
              "  <tbody>\n",
              "    <tr>\n",
              "      <th>0</th>\n",
              "      <td>travelers</td>\n",
              "      <td>60.794945</td>\n",
              "      <td>male</td>\n",
              "      <td>57014.537526</td>\n",
              "      <td>0</td>\n",
              "      <td>True</td>\n",
              "      <td>False</td>\n",
              "    </tr>\n",
              "    <tr>\n",
              "      <th>1</th>\n",
              "      <td>travelers</td>\n",
              "      <td>61.764535</td>\n",
              "      <td>female</td>\n",
              "      <td>43796.941252</td>\n",
              "      <td>0</td>\n",
              "      <td>False</td>\n",
              "      <td>False</td>\n",
              "    </tr>\n",
              "    <tr>\n",
              "      <th>2</th>\n",
              "      <td>travelers</td>\n",
              "      <td>47.493356</td>\n",
              "      <td>male</td>\n",
              "      <td>51095.344683</td>\n",
              "      <td>0</td>\n",
              "      <td>True</td>\n",
              "      <td>False</td>\n",
              "    </tr>\n",
              "    <tr>\n",
              "      <th>3</th>\n",
              "      <td>travelers</td>\n",
              "      <td>60.963694</td>\n",
              "      <td>male</td>\n",
              "      <td>56457.722237</td>\n",
              "      <td>0</td>\n",
              "      <td>True</td>\n",
              "      <td>True</td>\n",
              "    </tr>\n",
              "    <tr>\n",
              "      <th>4</th>\n",
              "      <td>travelers</td>\n",
              "      <td>60.594199</td>\n",
              "      <td>female</td>\n",
              "      <td>103020.070798</td>\n",
              "      <td>0</td>\n",
              "      <td>True</td>\n",
              "      <td>False</td>\n",
              "    </tr>\n",
              "  </tbody>\n",
              "</table>\n",
              "</div>"
            ],
            "text/plain": [
              "     Segment        age  gender         income  kids  own_home  \\\n",
              "0  travelers  60.794945    male   57014.537526     0      True   \n",
              "1  travelers  61.764535  female   43796.941252     0     False   \n",
              "2  travelers  47.493356    male   51095.344683     0      True   \n",
              "3  travelers  60.963694    male   56457.722237     0      True   \n",
              "4  travelers  60.594199  female  103020.070798     0      True   \n",
              "\n",
              "   subscribe  \n",
              "0      False  \n",
              "1      False  \n",
              "2      False  \n",
              "3       True  \n",
              "4      False  "
            ]
          },
          "metadata": {},
          "execution_count": 5
        }
      ]
    },
    {
      "cell_type": "markdown",
      "metadata": {
        "id": "gZESoDahBq7o"
      },
      "source": [
        "# 6 Testing Group Frequencies:**\n",
        "# Chi Square: Non parametric (no mean variance etc).\n",
        "The Chi-Square test is a statistical procedure used by researchers to examine the differences between categorical variables in the same population. **Based on frequencies.** \n",
        "\n",
        "\n",
        "##   **X^2 = SUM (FreqObser - FreqExp)^2/ FreqExp**\n",
        "\n",
        "We want to see whether the frequencies in cells are significantly different from what we would expect on the basis of total counts\n",
        "\n",
        "## When is the Chi-Square Test Used in Market Research? \n",
        "\n",
        "1-When we need to estimate how closely an observed distribution matches an expected distribution. This is referred to as a **“goodness-of-fit” test**. .\n",
        "\n",
        "2-They need to estimate whether two random variables are independent.\n",
        "\n",
        "# **Degree of Freedom :**\n",
        "Max number of ligically independent values, that have freedom to vary. \n",
        "Four of the numbers in the sample are {3, 8, 5, and 4} and the average of the entire data sample is revealed to be 6.\n",
        "This must mean that the fifth number has to be 10. It can be nothing else. It does not have the freedom to vary.\n",
        "So the Degrees of Freedom for this data sample is 4.\n",
        "The formula for Degrees of Freedom equals the size of the data sample minus one\n"
      ]
    },
    {
      "cell_type": "code",
      "metadata": {
        "id": "ZcP2l9vxppQB",
        "colab": {
          "base_uri": "https://localhost:8080/"
        },
        "outputId": "5724c884-b242-4534-9242-c76c3e00afb0"
      },
      "source": [
        "import numpy as np\n",
        "tmp = np.repeat(range(4), [25, 25, 25, 20])\n",
        "tmp"
      ],
      "execution_count": 6,
      "outputs": [
        {
          "output_type": "execute_result",
          "data": {
            "text/plain": [
              "array([0, 0, 0, 0, 0, 0, 0, 0, 0, 0, 0, 0, 0, 0, 0, 0, 0, 0, 0, 0, 0, 0,\n",
              "       0, 0, 0, 1, 1, 1, 1, 1, 1, 1, 1, 1, 1, 1, 1, 1, 1, 1, 1, 1, 1, 1,\n",
              "       1, 1, 1, 1, 1, 1, 2, 2, 2, 2, 2, 2, 2, 2, 2, 2, 2, 2, 2, 2, 2, 2,\n",
              "       2, 2, 2, 2, 2, 2, 2, 2, 2, 3, 3, 3, 3, 3, 3, 3, 3, 3, 3, 3, 3, 3,\n",
              "       3, 3, 3, 3, 3, 3, 3])"
            ]
          },
          "metadata": {},
          "execution_count": 6
        }
      ]
    },
    {
      "cell_type": "code",
      "metadata": {
        "id": "TWN8_tyBwECK",
        "colab": {
          "base_uri": "https://localhost:8080/"
        },
        "outputId": "4afaf48b-c6d8-4e5f-caac-8beb7ffedd4c"
      },
      "source": [
        "tmp_values, tmp_counts = np.unique(tmp, return_counts=True)\n",
        "tmp_counts"
      ],
      "execution_count": 7,
      "outputs": [
        {
          "output_type": "execute_result",
          "data": {
            "text/plain": [
              "array([25, 25, 25, 20])"
            ]
          },
          "metadata": {},
          "execution_count": 7
        }
      ]
    },
    {
      "cell_type": "code",
      "metadata": {
        "id": "kKyCxvAjtMyU",
        "colab": {
          "base_uri": "https://localhost:8080/"
        },
        "outputId": "bb53401c-c41d-4c61-ee8b-f7796abcefd4"
      },
      "source": [
        "from scipy import stats\n",
        "stats.chisquare(tmp_counts)"
      ],
      "execution_count": 8,
      "outputs": [
        {
          "output_type": "execute_result",
          "data": {
            "text/plain": [
              "Power_divergenceResult(statistic=0.7894736842105263, pvalue=0.8519830972959184)"
            ]
          },
          "metadata": {},
          "execution_count": 8
        }
      ]
    },
    {
      "cell_type": "markdown",
      "metadata": {
        "id": "GRiFx_4dgVLl"
      },
      "source": [
        "# **P-value**\n",
        "P=<0.05 vvv small p-value we SUCCEED \n",
        "1.\t**Small-p == Success** to reject NULL\n",
        "\n",
        "2.\tP=0.05 means 5% chance that Null is true . Small p,therefore we Succeed to reject Null \n",
        " \n",
        "**P-value**\n",
        "\n",
        "Probability value, is a number describing how likely it is that your data would have occurred by random chance (i.e. that the null hypothesis is true).\n",
        "So our data likelihood to happen just by random(with no relation) is P=0.05 which is very small, therefore we FAIL to reject NULL"
      ]
    },
    {
      "cell_type": "markdown",
      "metadata": {
        "id": "hu3HVuEeUYn7"
      },
      "source": [
        "## Result :\n",
        "### Null Hypothesis : the data were **randomly** sampled from a large population where the values 0, 1, 2, and 3 are equally distributed or No significant difference between the cells\n",
        "\n",
        "**Null = No difference between the cells with 95% confidence interval**\n",
        "\n",
        "The chi-square value i.e X^2 = SUM (FreqObser - FreqExp)^2/ FreqExp\n",
        " has the p-value =0.85% which shows  85% chance to see the NULL..So a large value,therefore we FAIL...Fail to reject the NULL reject the NULL and accept the null and  conclude that there is **No significant difference between the cells**  "
      ]
    },
    {
      "cell_type": "code",
      "metadata": {
        "id": "8sE706kjtRYF",
        "colab": {
          "base_uri": "https://localhost:8080/"
        },
        "outputId": "f214021a-eea7-4860-9803-a38fab4be26d"
      },
      "source": [
        "import numpy as np\n",
        "tmp_values, tmp_counts = np.unique(np.repeat(range(4),\n",
        "                                             [25, 25, 25, 10]),\n",
        "                                   return_counts=True)\n",
        "print(tmp_counts)\n",
        "print(stats.chisquare(tmp_counts))\n",
        "print('Expected values: {}'.format(np.ones(4)*tmp_counts.sum()/4))"
      ],
      "execution_count": 9,
      "outputs": [
        {
          "output_type": "stream",
          "name": "stdout",
          "text": [
            "[25 25 25 10]\n",
            "Power_divergenceResult(statistic=7.9411764705882355, pvalue=0.04724318343092867)\n",
            "Expected values: [21.25 21.25 21.25 21.25]\n"
          ]
        }
      ]
    },
    {
      "cell_type": "markdown",
      "metadata": {
        "id": "TJ0pRwaxSXJr"
      },
      "source": [
        "**Null = No difference between the cells with 95% confidence interval**\n",
        "\n",
        "n this case, we could conclude from the p-value of 0.047 that we can reject the null hypothesis\n",
        "\n",
        " In other words, the data in this sample suggest that the distribution of the values 0 to 3 is likely to be unequal in the larger population, assuming the data are a random sample of N=85 observations. In general, a p-value\n",
        "less than 0.10 or 0.05 suggests that there is a difference between groups."
      ]
    },
    {
      "cell_type": "markdown",
      "metadata": {
        "id": "3c0Lusp4M2aW"
      },
      "source": [
        "The p-value of 0.04 tells us that there is an estimated 4% chance of seeing a dataset with differences similar to or greater than those in our table if the null hypothesis is true.\n",
        "\n",
        "Above data show significant evidence that the groups in the population are of unequal size, under the assumption of random sampling"
      ]
    },
    {
      "cell_type": "code",
      "metadata": {
        "id": "V4umZwt4WdQ-"
      },
      "source": [
        ""
      ],
      "execution_count": 9,
      "outputs": []
    },
    {
      "cell_type": "code",
      "metadata": {
        "id": "jeZwap_1thCc",
        "colab": {
          "base_uri": "https://localhost:8080/"
        },
        "outputId": "86d71c2e-8786-42d6-f4b6-f6b98970a9bc"
      },
      "source": [
        "tmp_counts_small = tmp_counts/5\n",
        "print(tmp_counts_small)\n",
        "print(stats.chisquare(tmp_counts_small))\n",
        "print('Expected values: {}'.format(np.ones(4)*tmp_counts_small.sum()/4))"
      ],
      "execution_count": 10,
      "outputs": [
        {
          "output_type": "stream",
          "name": "stdout",
          "text": [
            "[5. 5. 5. 2.]\n",
            "Power_divergenceResult(statistic=1.5882352941176472, pvalue=0.6620603202525777)\n",
            "Expected values: [4.25 4.25 4.25 4.25]\n"
          ]
        }
      ]
    },
    {
      "cell_type": "markdown",
      "metadata": {
        "id": "yW8NwY2FNcZx"
      },
      "source": [
        "Above result shows that statistical tests are dependent on sample size as well as on the real effect"
      ]
    },
    {
      "cell_type": "code",
      "metadata": {
        "id": "qaGs97RKaCp-",
        "colab": {
          "base_uri": "https://localhost:8080/"
        },
        "outputId": "2c60898d-8ed4-40fe-d761-571daa8ff3d4"
      },
      "source": [
        "tmp_counts_large = tmp_counts*10 + 1900\n",
        "print(tmp_counts_large)\n",
        "print(stats.chisquare(tmp_counts_large))\n",
        "print('Expected values: {}'.format(np.ones(4)*tmp_counts_large.sum()/4))"
      ],
      "execution_count": 11,
      "outputs": [
        {
          "output_type": "stream",
          "name": "stdout",
          "text": [
            "[2150 2150 2150 2000]\n",
            "Power_divergenceResult(statistic=7.988165680473372, pvalue=0.04625691960442831)\n",
            "Expected values: [2112.5 2112.5 2112.5 2112.5]\n"
          ]
        }
      ]
    },
    {
      "cell_type": "code",
      "metadata": {
        "id": "3PczdPUOz42H",
        "colab": {
          "base_uri": "https://localhost:8080/"
        },
        "outputId": "6ffc4527-9607-460c-c132-b20fcd7953c6"
      },
      "source": [
        "segment_values, segment_counts = np.unique(seg_df.Segment,\n",
        "                                           return_counts=True)\n",
        "print(segment_counts)\n",
        "stats.chisquare(segment_counts)"
      ],
      "execution_count": 12,
      "outputs": [
        {
          "output_type": "stream",
          "name": "stdout",
          "text": [
            "[ 70 100  80  50]\n"
          ]
        },
        {
          "output_type": "execute_result",
          "data": {
            "text/plain": [
              "Power_divergenceResult(statistic=17.333333333333336, pvalue=0.0006034948344733141)"
            ]
          },
          "metadata": {},
          "execution_count": 12
        }
      ]
    },
    {
      "cell_type": "code",
      "metadata": {
        "id": "3cd-r8pI8sPq",
        "colab": {
          "base_uri": "https://localhost:8080/"
        },
        "outputId": "c1a21a43-c108-4d2c-dc47-a79a44c8c0cd"
      },
      "source": [
        "seg_df.Segment.value_counts()"
      ],
      "execution_count": 13,
      "outputs": [
        {
          "output_type": "execute_result",
          "data": {
            "text/plain": [
              "suburb_mix    100\n",
              "travelers      80\n",
              "moving_up      70\n",
              "urban_hip      50\n",
              "Name: Segment, dtype: int64"
            ]
          },
          "metadata": {},
          "execution_count": 13
        }
      ]
    },
    {
      "cell_type": "code",
      "metadata": {
        "id": "0Y5FGW5B7KC9",
        "colab": {
          "base_uri": "https://localhost:8080/"
        },
        "outputId": "dd5f1981-3a1f-4e37-fe7d-5e77bd662cdd"
      },
      "source": [
        "stats.chisquare(seg_df.Segment.value_counts())"
      ],
      "execution_count": 14,
      "outputs": [
        {
          "output_type": "execute_result",
          "data": {
            "text/plain": [
              "Power_divergenceResult(statistic=17.333333333333336, pvalue=0.0006034948344733141)"
            ]
          },
          "metadata": {},
          "execution_count": 14
        }
      ]
    },
    {
      "cell_type": "code",
      "metadata": {
        "id": "m4gMVcCE8mHU",
        "colab": {
          "base_uri": "https://localhost:8080/",
          "height": 142
        },
        "outputId": "37c29514-b105-492b-a094-add17d0e9782"
      },
      "source": [
        "pd.crosstab(seg_df.subscribe, columns=seg_df.own_home)"
      ],
      "execution_count": 15,
      "outputs": [
        {
          "output_type": "execute_result",
          "data": {
            "text/html": [
              "<div>\n",
              "<style scoped>\n",
              "    .dataframe tbody tr th:only-of-type {\n",
              "        vertical-align: middle;\n",
              "    }\n",
              "\n",
              "    .dataframe tbody tr th {\n",
              "        vertical-align: top;\n",
              "    }\n",
              "\n",
              "    .dataframe thead th {\n",
              "        text-align: right;\n",
              "    }\n",
              "</style>\n",
              "<table border=\"1\" class=\"dataframe\">\n",
              "  <thead>\n",
              "    <tr style=\"text-align: right;\">\n",
              "      <th>own_home</th>\n",
              "      <th>False</th>\n",
              "      <th>True</th>\n",
              "    </tr>\n",
              "    <tr>\n",
              "      <th>subscribe</th>\n",
              "      <th></th>\n",
              "      <th></th>\n",
              "    </tr>\n",
              "  </thead>\n",
              "  <tbody>\n",
              "    <tr>\n",
              "      <th>False</th>\n",
              "      <td>143</td>\n",
              "      <td>122</td>\n",
              "    </tr>\n",
              "    <tr>\n",
              "      <th>True</th>\n",
              "      <td>24</td>\n",
              "      <td>11</td>\n",
              "    </tr>\n",
              "  </tbody>\n",
              "</table>\n",
              "</div>"
            ],
            "text/plain": [
              "own_home   False  True \n",
              "subscribe              \n",
              "False        143    122\n",
              "True          24     11"
            ]
          },
          "metadata": {},
          "execution_count": 15
        }
      ]
    },
    {
      "cell_type": "code",
      "metadata": {
        "id": "HL730q5X_-Jp",
        "colab": {
          "base_uri": "https://localhost:8080/"
        },
        "outputId": "96682975-24ef-439a-9a75-e5fc47bd92ba"
      },
      "source": [
        "stats.chi2_contingency(pd.crosstab(seg_df.subscribe,\n",
        "                                   columns=seg_df.own_home))"
      ],
      "execution_count": 16,
      "outputs": [
        {
          "output_type": "execute_result",
          "data": {
            "text/plain": [
              "(2.114527405072716,\n",
              " 0.14590708913184341,\n",
              " 1,\n",
              " array([[147.51666667, 117.48333333],\n",
              "        [ 19.48333333,  15.51666667]]))"
            ]
          },
          "metadata": {},
          "execution_count": 16
        }
      ]
    },
    {
      "cell_type": "code",
      "metadata": {
        "id": "SpEb3FlO9EIL",
        "colab": {
          "base_uri": "https://localhost:8080/"
        },
        "outputId": "5b7509b1-8433-4595-a61c-fd869c3f0f1a"
      },
      "source": [
        "sub_by_home = pd.crosstab(seg_df.subscribe,\n",
        "                          columns=seg_df.own_home)\n",
        "print('chisq_stat: {0}\\np_value: {1}\\ndof: {2}\\nexpected_values: {3}'\n",
        "      .format(*stats.chi2_contingency(sub_by_home)))"
      ],
      "execution_count": 17,
      "outputs": [
        {
          "output_type": "stream",
          "name": "stdout",
          "text": [
            "chisq_stat: 2.114527405072716\n",
            "p_value: 0.14590708913184341\n",
            "dof: 1\n",
            "expected_values: [[147.51666667 117.48333333]\n",
            " [ 19.48333333  15.51666667]]\n"
          ]
        }
      ]
    },
    {
      "cell_type": "code",
      "metadata": {
        "id": "Jcb5JfJT2GaV",
        "colab": {
          "base_uri": "https://localhost:8080/"
        },
        "outputId": "58eb0149-eca5-4a8b-e1b9-67d28f02d76a"
      },
      "source": [
        "print('chisq_stat: {0}\\np_value: {1}\\ndof: {2}\\nexpected_values: {3}'\n",
        "      .format(*stats.chi2_contingency(sub_by_home,\n",
        "                                      correction=False)))"
      ],
      "execution_count": 18,
      "outputs": [
        {
          "output_type": "stream",
          "name": "stdout",
          "text": [
            "chisq_stat: 2.6737316360934784\n",
            "p_value: 0.10201657409843726\n",
            "dof: 1\n",
            "expected_values: [[147.51666667 117.48333333]\n",
            " [ 19.48333333  15.51666667]]\n"
          ]
        }
      ]
    },
    {
      "cell_type": "markdown",
      "metadata": {
        "id": "vBNIhMuACCHP"
      },
      "source": [
        "## 6.3 Testing Observed Proportions: binom.test()"
      ]
    },
    {
      "cell_type": "markdown",
      "metadata": {
        "id": "YJuYw6_2tObk"
      },
      "source": [
        "A man sees 30 obama fans and 20 ted fans...\n",
        "\n",
        "Null hypothesis: There is equal representation of 50% 50%..\n"
      ]
    },
    {
      "cell_type": "code",
      "metadata": {
        "id": "0mgdQ4St-F0h"
      },
      "source": [
        "from scipy.stats import binom_test "
      ],
      "execution_count": 19,
      "outputs": []
    },
    {
      "cell_type": "code",
      "metadata": {
        "colab": {
          "base_uri": "https://localhost:8080/"
        },
        "id": "M6sbcw2J9e9P",
        "outputId": "527df797-7a76-42f3-af09-f9320856b531"
      },
      "source": [
        "binom_test(x=12, n=20, p=0.5, alternative='two-sided')"
      ],
      "execution_count": 20,
      "outputs": [
        {
          "output_type": "execute_result",
          "data": {
            "text/plain": [
              "0.5034446716308595"
            ]
          },
          "metadata": {},
          "execution_count": 20
        }
      ]
    },
    {
      "cell_type": "code",
      "metadata": {
        "id": "dXqZvLiScw5f",
        "colab": {
          "base_uri": "https://localhost:8080/"
        },
        "outputId": "ae39f4c8-1f6e-4065-a53f-73eea6b6d233"
      },
      "source": [
        "from statsmodels.stats import proportion as sms_proportion\n",
        "sms_proportion.proportion_confint(count=12, nobs=20, alpha=0.05)"
      ],
      "execution_count": 21,
      "outputs": [
        {
          "output_type": "stream",
          "name": "stderr",
          "text": [
            "/usr/local/lib/python3.7/dist-packages/statsmodels/tools/_testing.py:19: FutureWarning: pandas.util.testing is deprecated. Use the functions in the public API at pandas.testing instead.\n",
            "  import pandas.util.testing as tm\n"
          ]
        },
        {
          "output_type": "execute_result",
          "data": {
            "text/plain": [
              "(0.38529670275394107, 0.8147032972460588)"
            ]
          },
          "metadata": {},
          "execution_count": 21
        }
      ]
    },
    {
      "cell_type": "markdown",
      "metadata": {
        "id": "OgL2Pdo5tj2N"
      },
      "source": [
        "### P=0.5 so our evidence  the NULL is vvv High ,so we l to reject the Null (null= 50% 50%) .\n",
        "### Also the confidence interval does not carry the NULL (50%)"
      ]
    },
    {
      "cell_type": "code",
      "metadata": {
        "id": "0dA6A1VBezK6",
        "colab": {
          "base_uri": "https://localhost:8080/"
        },
        "outputId": "1accf12d-c8f6-443c-af76-9db4a21e12f3"
      },
      "source": [
        "sms_proportion.binom_test(count=120, nobs=200, prop=0.5)"
      ],
      "execution_count": 22,
      "outputs": [
        {
          "output_type": "execute_result",
          "data": {
            "text/plain": [
              "0.0056851559967502265"
            ]
          },
          "metadata": {},
          "execution_count": 22
        }
      ]
    },
    {
      "cell_type": "code",
      "metadata": {
        "id": "4pDf7OYQe2Nx",
        "colab": {
          "base_uri": "https://localhost:8080/"
        },
        "outputId": "3f129748-19d0-4899-d573-d880d4465abd"
      },
      "source": [
        "sms_proportion.proportion_confint(count=120, nobs=200, alpha=0.05) # 50% null is not in the confidence interval now so we reject the null"
      ],
      "execution_count": 23,
      "outputs": [
        {
          "output_type": "execute_result",
          "data": {
            "text/plain": [
              "(0.5321048559554297, 0.6678951440445703)"
            ]
          },
          "metadata": {},
          "execution_count": 23
        }
      ]
    },
    {
      "cell_type": "markdown",
      "metadata": {
        "id": "cUAjrusdwDLo"
      },
      "source": [
        "### P=0.005 SSSMALL...SUCCESSS...to reject NULL .There is only 0.05 chance that null can be true..so we SUCCEED to reject null"
      ]
    },
    {
      "cell_type": "code",
      "metadata": {
        "id": "BYio85lRYQGP",
        "colab": {
          "base_uri": "https://localhost:8080/"
        },
        "outputId": "1e38225d-253b-4ceb-b621-970994c71c99"
      },
      "source": [
        "stats.binom.pmf([8, 9, 10, 11, 12], p=0.5, n=20).sum()"
      ],
      "execution_count": 24,
      "outputs": [
        {
          "output_type": "execute_result",
          "data": {
            "text/plain": [
              "0.7368240356445304"
            ]
          },
          "metadata": {},
          "execution_count": 24
        }
      ]
    },
    {
      "cell_type": "code",
      "metadata": {
        "id": "somgIItoXXFU",
        "colab": {
          "base_uri": "https://localhost:8080/"
        },
        "outputId": "4f0567de-ea9f-42af-ae08-b97712eb559d"
      },
      "source": [
        "stats.binom.pmf(range(8,13), p=0.5, n=20).sum()"
      ],
      "execution_count": 25,
      "outputs": [
        {
          "output_type": "execute_result",
          "data": {
            "text/plain": [
              "0.7368240356445304"
            ]
          },
          "metadata": {},
          "execution_count": 25
        }
      ]
    },
    {
      "cell_type": "code",
      "metadata": {
        "id": "5EP7c8edcp2_",
        "colab": {
          "base_uri": "https://localhost:8080/"
        },
        "outputId": "a1c6b16c-563e-4726-872d-c1fb183d1e0e"
      },
      "source": [
        "sms_proportion.proportion_confint(12, 20, method='agresti_coull')"
      ],
      "execution_count": 26,
      "outputs": [
        {
          "output_type": "execute_result",
          "data": {
            "text/plain": [
              "(0.3860303790620197, 0.7817445893274164)"
            ]
          },
          "metadata": {},
          "execution_count": 26
        }
      ]
    },
    {
      "cell_type": "code",
      "metadata": {
        "id": "Payo7YqeYyKO",
        "colab": {
          "base_uri": "https://localhost:8080/"
        },
        "outputId": "fc77bddc-eca4-48f8-d507-faf2e1865623"
      },
      "source": [
        "sms_proportion.proportion_confint(0, 20, method='agresti_coull')"
      ],
      "execution_count": 27,
      "outputs": [
        {
          "output_type": "execute_result",
          "data": {
            "text/plain": [
              "(0.0, 0.18980956054248888)"
            ]
          },
          "metadata": {},
          "execution_count": 27
        }
      ]
    },
    {
      "cell_type": "markdown",
      "metadata": {
        "id": "RT7mpJNZgYn-"
      },
      "source": [
        "## 6.4 Testing Group Means: t.test()"
      ]
    },
    {
      "cell_type": "code",
      "metadata": {
        "id": "x0fuli9J6c82",
        "colab": {
          "base_uri": "https://localhost:8080/",
          "height": 371
        },
        "outputId": "4e47c993-2d31-4bc6-cb56-86853a284624"
      },
      "source": [
        "from scipy import stats\n",
        "import matplotlib.pyplot as plt\n",
        "\n",
        "income_own_home = seg_df.income[seg_df.own_home]\n",
        "income_dont_own_home = seg_df.income[~seg_df.own_home]\n",
        "\n",
        "seg_df.income.hist() # Not shown\n",
        "income_own_home.hist(alpha=0.5) # Not shown\n",
        "income_dont_own_home.hist(alpha=0.5) # Not shown\n"
      ],
      "execution_count": 28,
      "outputs": [
        {
          "output_type": "execute_result",
          "data": {
            "text/plain": [
              "<matplotlib.axes._subplots.AxesSubplot at 0x7fabf8511450>"
            ]
          },
          "metadata": {},
          "execution_count": 28
        },
        {
          "output_type": "display_data",
          "data": {
            "text/plain": [
              "<Figure size 432x288 with 1 Axes>"
            ],
            "image/svg+xml": "<?xml version=\"1.0\" encoding=\"utf-8\" standalone=\"no\"?>\n<!DOCTYPE svg PUBLIC \"-//W3C//DTD SVG 1.1//EN\"\n  \"http://www.w3.org/Graphics/SVG/1.1/DTD/svg11.dtd\">\n<!-- Created with matplotlib (https://matplotlib.org/) -->\n<svg height=\"250.031333pt\" version=\"1.1\" viewBox=\"0 0 368.925 250.031333\" width=\"368.925pt\" xmlns=\"http://www.w3.org/2000/svg\" xmlns:xlink=\"http://www.w3.org/1999/xlink\">\n <defs>\n  <style type=\"text/css\">\n*{stroke-linecap:butt;stroke-linejoin:round;}\n  </style>\n </defs>\n <g id=\"figure_1\">\n  <g id=\"patch_1\">\n   <path d=\"M -0 250.031333 \nL 368.925 250.031333 \nL 368.925 0 \nL -0 0 \nz\n\" style=\"fill:none;\"/>\n  </g>\n  <g id=\"axes_1\">\n   <g id=\"patch_2\">\n    <path d=\"M 26.925 226.153208 \nL 361.725 226.153208 \nL 361.725 8.713208 \nL 26.925 8.713208 \nz\n\" style=\"fill:#ffffff;\"/>\n   </g>\n   <g id=\"patch_3\">\n    <path clip-path=\"url(#p1d419166fc)\" d=\"M 42.143182 226.153208 \nL 72.579545 226.153208 \nL 72.579545 145.470462 \nL 42.143182 145.470462 \nz\n\" style=\"fill:#1f77b4;\"/>\n   </g>\n   <g id=\"patch_4\">\n    <path clip-path=\"url(#p1d419166fc)\" d=\"M 72.579545 226.153208 \nL 103.015909 226.153208 \nL 103.015909 164.296436 \nL 72.579545 164.296436 \nz\n\" style=\"fill:#1f77b4;\"/>\n   </g>\n   <g id=\"patch_5\">\n    <path clip-path=\"url(#p1d419166fc)\" d=\"M 103.015909 226.153208 \nL 133.452273 226.153208 \nL 133.452273 177.74356 \nL 103.015909 177.74356 \nz\n\" style=\"fill:#1f77b4;\"/>\n   </g>\n   <g id=\"patch_6\">\n    <path clip-path=\"url(#p1d419166fc)\" d=\"M 133.452273 226.153208 \nL 163.888636 226.153208 \nL 163.888636 45.961742 \nL 133.452273 45.961742 \nz\n\" style=\"fill:#1f77b4;\"/>\n   </g>\n   <g id=\"patch_7\">\n    <path clip-path=\"url(#p1d419166fc)\" d=\"M 163.888636 226.153208 \nL 194.325 226.153208 \nL 194.325 19.067493 \nL 163.888636 19.067493 \nz\n\" style=\"fill:#1f77b4;\"/>\n   </g>\n   <g id=\"patch_8\">\n    <path clip-path=\"url(#p1d419166fc)\" d=\"M 194.325 226.153208 \nL 224.761364 226.153208 \nL 224.761364 118.576213 \nL 194.325 118.576213 \nz\n\" style=\"fill:#1f77b4;\"/>\n   </g>\n   <g id=\"patch_9\">\n    <path clip-path=\"url(#p1d419166fc)\" d=\"M 224.761364 226.153208 \nL 255.197727 226.153208 \nL 255.197727 150.849312 \nL 224.761364 150.849312 \nz\n\" style=\"fill:#1f77b4;\"/>\n   </g>\n   <g id=\"patch_10\">\n    <path clip-path=\"url(#p1d419166fc)\" d=\"M 255.197727 226.153208 \nL 285.634091 226.153208 \nL 285.634091 199.258959 \nL 255.197727 199.258959 \nz\n\" style=\"fill:#1f77b4;\"/>\n   </g>\n   <g id=\"patch_11\">\n    <path clip-path=\"url(#p1d419166fc)\" d=\"M 285.634091 226.153208 \nL 316.070455 226.153208 \nL 316.070455 218.084933 \nL 285.634091 218.084933 \nz\n\" style=\"fill:#1f77b4;\"/>\n   </g>\n   <g id=\"patch_12\">\n    <path clip-path=\"url(#p1d419166fc)\" d=\"M 316.070455 226.153208 \nL 346.506818 226.153208 \nL 346.506818 215.395508 \nL 316.070455 215.395508 \nz\n\" style=\"fill:#1f77b4;\"/>\n   </g>\n   <g id=\"patch_13\">\n    <path clip-path=\"url(#p1d419166fc)\" d=\"M 49.692878 226.153208 \nL 79.374272 226.153208 \nL 79.374272 215.395508 \nL 49.692878 215.395508 \nz\n\" style=\"fill:#ff7f0e;opacity:0.5;\"/>\n   </g>\n   <g id=\"patch_14\">\n    <path clip-path=\"url(#p1d419166fc)\" d=\"M 79.374272 226.153208 \nL 109.055666 226.153208 \nL 109.055666 212.706083 \nL 79.374272 212.706083 \nz\n\" style=\"fill:#ff7f0e;opacity:0.5;\"/>\n   </g>\n   <g id=\"patch_15\">\n    <path clip-path=\"url(#p1d419166fc)\" d=\"M 109.055666 226.153208 \nL 138.73706 226.153208 \nL 138.73706 199.258959 \nL 109.055666 199.258959 \nz\n\" style=\"fill:#ff7f0e;opacity:0.5;\"/>\n   </g>\n   <g id=\"patch_16\">\n    <path clip-path=\"url(#p1d419166fc)\" d=\"M 138.73706 226.153208 \nL 168.418454 226.153208 \nL 168.418454 110.507939 \nL 138.73706 110.507939 \nz\n\" style=\"fill:#ff7f0e;opacity:0.5;\"/>\n   </g>\n   <g id=\"patch_17\">\n    <path clip-path=\"url(#p1d419166fc)\" d=\"M 168.418454 226.153208 \nL 198.099848 226.153208 \nL 198.099848 140.091612 \nL 168.418454 140.091612 \nz\n\" style=\"fill:#ff7f0e;opacity:0.5;\"/>\n   </g>\n   <g id=\"patch_18\">\n    <path clip-path=\"url(#p1d419166fc)\" d=\"M 198.099848 226.153208 \nL 227.781242 226.153208 \nL 227.781242 185.811835 \nL 198.099848 185.811835 \nz\n\" style=\"fill:#ff7f0e;opacity:0.5;\"/>\n   </g>\n   <g id=\"patch_19\">\n    <path clip-path=\"url(#p1d419166fc)\" d=\"M 227.781242 226.153208 \nL 257.462636 226.153208 \nL 257.462636 188.50126 \nL 227.781242 188.50126 \nz\n\" style=\"fill:#ff7f0e;opacity:0.5;\"/>\n   </g>\n   <g id=\"patch_20\">\n    <path clip-path=\"url(#p1d419166fc)\" d=\"M 257.462636 226.153208 \nL 287.14403 226.153208 \nL 287.14403 210.016658 \nL 257.462636 210.016658 \nz\n\" style=\"fill:#ff7f0e;opacity:0.5;\"/>\n   </g>\n   <g id=\"patch_21\">\n    <path clip-path=\"url(#p1d419166fc)\" d=\"M 287.14403 226.153208 \nL 316.825424 226.153208 \nL 316.825424 223.463783 \nL 287.14403 223.463783 \nz\n\" style=\"fill:#ff7f0e;opacity:0.5;\"/>\n   </g>\n   <g id=\"patch_22\">\n    <path clip-path=\"url(#p1d419166fc)\" d=\"M 316.825424 226.153208 \nL 346.506818 226.153208 \nL 346.506818 218.084933 \nL 316.825424 218.084933 \nz\n\" style=\"fill:#ff7f0e;opacity:0.5;\"/>\n   </g>\n   <g id=\"patch_23\">\n    <path clip-path=\"url(#p1d419166fc)\" d=\"M 42.143182 226.153208 \nL 69.724241 226.153208 \nL 69.724241 161.607011 \nL 42.143182 161.607011 \nz\n\" style=\"fill:#2ca02c;opacity:0.5;\"/>\n   </g>\n   <g id=\"patch_24\">\n    <path clip-path=\"url(#p1d419166fc)\" d=\"M 69.724241 226.153208 \nL 97.305301 226.153208 \nL 97.305301 175.054135 \nL 69.724241 175.054135 \nz\n\" style=\"fill:#2ca02c;opacity:0.5;\"/>\n   </g>\n   <g id=\"patch_25\">\n    <path clip-path=\"url(#p1d419166fc)\" d=\"M 97.305301 226.153208 \nL 124.88636 226.153208 \nL 124.88636 193.880109 \nL 97.305301 193.880109 \nz\n\" style=\"fill:#2ca02c;opacity:0.5;\"/>\n   </g>\n   <g id=\"patch_26\">\n    <path clip-path=\"url(#p1d419166fc)\" d=\"M 124.88636 226.153208 \nL 152.46742 226.153208 \nL 152.46742 185.811835 \nL 124.88636 185.811835 \nz\n\" style=\"fill:#2ca02c;opacity:0.5;\"/>\n   </g>\n   <g id=\"patch_27\">\n    <path clip-path=\"url(#p1d419166fc)\" d=\"M 152.46742 226.153208 \nL 180.048479 226.153208 \nL 180.048479 129.333913 \nL 152.46742 129.333913 \nz\n\" style=\"fill:#2ca02c;opacity:0.5;\"/>\n   </g>\n   <g id=\"patch_28\">\n    <path clip-path=\"url(#p1d419166fc)\" d=\"M 180.048479 226.153208 \nL 207.629539 226.153208 \nL 207.629539 145.470462 \nL 180.048479 145.470462 \nz\n\" style=\"fill:#2ca02c;opacity:0.5;\"/>\n   </g>\n   <g id=\"patch_29\">\n    <path clip-path=\"url(#p1d419166fc)\" d=\"M 207.629539 226.153208 \nL 235.210598 226.153208 \nL 235.210598 180.432985 \nL 207.629539 180.432985 \nz\n\" style=\"fill:#2ca02c;opacity:0.5;\"/>\n   </g>\n   <g id=\"patch_30\">\n    <path clip-path=\"url(#p1d419166fc)\" d=\"M 235.210598 226.153208 \nL 262.791657 226.153208 \nL 262.791657 201.948384 \nL 235.210598 201.948384 \nz\n\" style=\"fill:#2ca02c;opacity:0.5;\"/>\n   </g>\n   <g id=\"patch_31\">\n    <path clip-path=\"url(#p1d419166fc)\" d=\"M 262.791657 226.153208 \nL 290.372717 226.153208 \nL 290.372717 220.774358 \nL 262.791657 220.774358 \nz\n\" style=\"fill:#2ca02c;opacity:0.5;\"/>\n   </g>\n   <g id=\"patch_32\">\n    <path clip-path=\"url(#p1d419166fc)\" d=\"M 290.372717 226.153208 \nL 317.953776 226.153208 \nL 317.953776 218.084933 \nL 290.372717 218.084933 \nz\n\" style=\"fill:#2ca02c;opacity:0.5;\"/>\n   </g>\n   <g id=\"matplotlib.axis_1\">\n    <g id=\"xtick_1\">\n     <g id=\"line2d_1\">\n      <path clip-path=\"url(#p1d419166fc)\" d=\"M 69.300969 226.153208 \nL 69.300969 8.713208 \n\" style=\"fill:none;stroke:#b0b0b0;stroke-linecap:square;stroke-width:0.8;\"/>\n     </g>\n     <g id=\"line2d_2\">\n      <defs>\n       <path d=\"M 0 0 \nL 0 3.5 \n\" id=\"mde0064f9dc\" style=\"stroke:#000000;stroke-width:0.8;\"/>\n      </defs>\n      <g>\n       <use style=\"stroke:#000000;stroke-width:0.8;\" x=\"69.300969\" xlink:href=\"#mde0064f9dc\" y=\"226.153208\"/>\n      </g>\n     </g>\n     <g id=\"text_1\">\n      <!-- 20000 -->\n      <defs>\n       <path d=\"M 19.1875 8.296875 \nL 53.609375 8.296875 \nL 53.609375 0 \nL 7.328125 0 \nL 7.328125 8.296875 \nQ 12.9375 14.109375 22.625 23.890625 \nQ 32.328125 33.6875 34.8125 36.53125 \nQ 39.546875 41.84375 41.421875 45.53125 \nQ 43.3125 49.21875 43.3125 52.78125 \nQ 43.3125 58.59375 39.234375 62.25 \nQ 35.15625 65.921875 28.609375 65.921875 \nQ 23.96875 65.921875 18.8125 64.3125 \nQ 13.671875 62.703125 7.8125 59.421875 \nL 7.8125 69.390625 \nQ 13.765625 71.78125 18.9375 73 \nQ 24.125 74.21875 28.421875 74.21875 \nQ 39.75 74.21875 46.484375 68.546875 \nQ 53.21875 62.890625 53.21875 53.421875 \nQ 53.21875 48.921875 51.53125 44.890625 \nQ 49.859375 40.875 45.40625 35.40625 \nQ 44.1875 33.984375 37.640625 27.21875 \nQ 31.109375 20.453125 19.1875 8.296875 \nz\n\" id=\"DejaVuSans-50\"/>\n       <path d=\"M 31.78125 66.40625 \nQ 24.171875 66.40625 20.328125 58.90625 \nQ 16.5 51.421875 16.5 36.375 \nQ 16.5 21.390625 20.328125 13.890625 \nQ 24.171875 6.390625 31.78125 6.390625 \nQ 39.453125 6.390625 43.28125 13.890625 \nQ 47.125 21.390625 47.125 36.375 \nQ 47.125 51.421875 43.28125 58.90625 \nQ 39.453125 66.40625 31.78125 66.40625 \nz\nM 31.78125 74.21875 \nQ 44.046875 74.21875 50.515625 64.515625 \nQ 56.984375 54.828125 56.984375 36.375 \nQ 56.984375 17.96875 50.515625 8.265625 \nQ 44.046875 -1.421875 31.78125 -1.421875 \nQ 19.53125 -1.421875 13.0625 8.265625 \nQ 6.59375 17.96875 6.59375 36.375 \nQ 6.59375 54.828125 13.0625 64.515625 \nQ 19.53125 74.21875 31.78125 74.21875 \nz\n\" id=\"DejaVuSans-48\"/>\n      </defs>\n      <g transform=\"translate(53.394719 240.751645)scale(0.1 -0.1)\">\n       <use xlink:href=\"#DejaVuSans-50\"/>\n       <use x=\"63.623047\" xlink:href=\"#DejaVuSans-48\"/>\n       <use x=\"127.246094\" xlink:href=\"#DejaVuSans-48\"/>\n       <use x=\"190.869141\" xlink:href=\"#DejaVuSans-48\"/>\n       <use x=\"254.492188\" xlink:href=\"#DejaVuSans-48\"/>\n      </g>\n     </g>\n    </g>\n    <g id=\"xtick_2\">\n     <g id=\"line2d_3\">\n      <path clip-path=\"url(#p1d419166fc)\" d=\"M 131.71336 226.153208 \nL 131.71336 8.713208 \n\" style=\"fill:none;stroke:#b0b0b0;stroke-linecap:square;stroke-width:0.8;\"/>\n     </g>\n     <g id=\"line2d_4\">\n      <g>\n       <use style=\"stroke:#000000;stroke-width:0.8;\" x=\"131.71336\" xlink:href=\"#mde0064f9dc\" y=\"226.153208\"/>\n      </g>\n     </g>\n     <g id=\"text_2\">\n      <!-- 40000 -->\n      <defs>\n       <path d=\"M 37.796875 64.3125 \nL 12.890625 25.390625 \nL 37.796875 25.390625 \nz\nM 35.203125 72.90625 \nL 47.609375 72.90625 \nL 47.609375 25.390625 \nL 58.015625 25.390625 \nL 58.015625 17.1875 \nL 47.609375 17.1875 \nL 47.609375 0 \nL 37.796875 0 \nL 37.796875 17.1875 \nL 4.890625 17.1875 \nL 4.890625 26.703125 \nz\n\" id=\"DejaVuSans-52\"/>\n      </defs>\n      <g transform=\"translate(115.80711 240.751645)scale(0.1 -0.1)\">\n       <use xlink:href=\"#DejaVuSans-52\"/>\n       <use x=\"63.623047\" xlink:href=\"#DejaVuSans-48\"/>\n       <use x=\"127.246094\" xlink:href=\"#DejaVuSans-48\"/>\n       <use x=\"190.869141\" xlink:href=\"#DejaVuSans-48\"/>\n       <use x=\"254.492188\" xlink:href=\"#DejaVuSans-48\"/>\n      </g>\n     </g>\n    </g>\n    <g id=\"xtick_3\">\n     <g id=\"line2d_5\">\n      <path clip-path=\"url(#p1d419166fc)\" d=\"M 194.125752 226.153208 \nL 194.125752 8.713208 \n\" style=\"fill:none;stroke:#b0b0b0;stroke-linecap:square;stroke-width:0.8;\"/>\n     </g>\n     <g id=\"line2d_6\">\n      <g>\n       <use style=\"stroke:#000000;stroke-width:0.8;\" x=\"194.125752\" xlink:href=\"#mde0064f9dc\" y=\"226.153208\"/>\n      </g>\n     </g>\n     <g id=\"text_3\">\n      <!-- 60000 -->\n      <defs>\n       <path d=\"M 33.015625 40.375 \nQ 26.375 40.375 22.484375 35.828125 \nQ 18.609375 31.296875 18.609375 23.390625 \nQ 18.609375 15.53125 22.484375 10.953125 \nQ 26.375 6.390625 33.015625 6.390625 \nQ 39.65625 6.390625 43.53125 10.953125 \nQ 47.40625 15.53125 47.40625 23.390625 \nQ 47.40625 31.296875 43.53125 35.828125 \nQ 39.65625 40.375 33.015625 40.375 \nz\nM 52.59375 71.296875 \nL 52.59375 62.3125 \nQ 48.875 64.0625 45.09375 64.984375 \nQ 41.3125 65.921875 37.59375 65.921875 \nQ 27.828125 65.921875 22.671875 59.328125 \nQ 17.53125 52.734375 16.796875 39.40625 \nQ 19.671875 43.65625 24.015625 45.921875 \nQ 28.375 48.1875 33.59375 48.1875 \nQ 44.578125 48.1875 50.953125 41.515625 \nQ 57.328125 34.859375 57.328125 23.390625 \nQ 57.328125 12.15625 50.6875 5.359375 \nQ 44.046875 -1.421875 33.015625 -1.421875 \nQ 20.359375 -1.421875 13.671875 8.265625 \nQ 6.984375 17.96875 6.984375 36.375 \nQ 6.984375 53.65625 15.1875 63.9375 \nQ 23.390625 74.21875 37.203125 74.21875 \nQ 40.921875 74.21875 44.703125 73.484375 \nQ 48.484375 72.75 52.59375 71.296875 \nz\n\" id=\"DejaVuSans-54\"/>\n      </defs>\n      <g transform=\"translate(178.219502 240.751645)scale(0.1 -0.1)\">\n       <use xlink:href=\"#DejaVuSans-54\"/>\n       <use x=\"63.623047\" xlink:href=\"#DejaVuSans-48\"/>\n       <use x=\"127.246094\" xlink:href=\"#DejaVuSans-48\"/>\n       <use x=\"190.869141\" xlink:href=\"#DejaVuSans-48\"/>\n       <use x=\"254.492188\" xlink:href=\"#DejaVuSans-48\"/>\n      </g>\n     </g>\n    </g>\n    <g id=\"xtick_4\">\n     <g id=\"line2d_7\">\n      <path clip-path=\"url(#p1d419166fc)\" d=\"M 256.538143 226.153208 \nL 256.538143 8.713208 \n\" style=\"fill:none;stroke:#b0b0b0;stroke-linecap:square;stroke-width:0.8;\"/>\n     </g>\n     <g id=\"line2d_8\">\n      <g>\n       <use style=\"stroke:#000000;stroke-width:0.8;\" x=\"256.538143\" xlink:href=\"#mde0064f9dc\" y=\"226.153208\"/>\n      </g>\n     </g>\n     <g id=\"text_4\">\n      <!-- 80000 -->\n      <defs>\n       <path d=\"M 31.78125 34.625 \nQ 24.75 34.625 20.71875 30.859375 \nQ 16.703125 27.09375 16.703125 20.515625 \nQ 16.703125 13.921875 20.71875 10.15625 \nQ 24.75 6.390625 31.78125 6.390625 \nQ 38.8125 6.390625 42.859375 10.171875 \nQ 46.921875 13.96875 46.921875 20.515625 \nQ 46.921875 27.09375 42.890625 30.859375 \nQ 38.875 34.625 31.78125 34.625 \nz\nM 21.921875 38.8125 \nQ 15.578125 40.375 12.03125 44.71875 \nQ 8.5 49.078125 8.5 55.328125 \nQ 8.5 64.0625 14.71875 69.140625 \nQ 20.953125 74.21875 31.78125 74.21875 \nQ 42.671875 74.21875 48.875 69.140625 \nQ 55.078125 64.0625 55.078125 55.328125 \nQ 55.078125 49.078125 51.53125 44.71875 \nQ 48 40.375 41.703125 38.8125 \nQ 48.828125 37.15625 52.796875 32.3125 \nQ 56.78125 27.484375 56.78125 20.515625 \nQ 56.78125 9.90625 50.3125 4.234375 \nQ 43.84375 -1.421875 31.78125 -1.421875 \nQ 19.734375 -1.421875 13.25 4.234375 \nQ 6.78125 9.90625 6.78125 20.515625 \nQ 6.78125 27.484375 10.78125 32.3125 \nQ 14.796875 37.15625 21.921875 38.8125 \nz\nM 18.3125 54.390625 \nQ 18.3125 48.734375 21.84375 45.5625 \nQ 25.390625 42.390625 31.78125 42.390625 \nQ 38.140625 42.390625 41.71875 45.5625 \nQ 45.3125 48.734375 45.3125 54.390625 \nQ 45.3125 60.0625 41.71875 63.234375 \nQ 38.140625 66.40625 31.78125 66.40625 \nQ 25.390625 66.40625 21.84375 63.234375 \nQ 18.3125 60.0625 18.3125 54.390625 \nz\n\" id=\"DejaVuSans-56\"/>\n      </defs>\n      <g transform=\"translate(240.631893 240.751645)scale(0.1 -0.1)\">\n       <use xlink:href=\"#DejaVuSans-56\"/>\n       <use x=\"63.623047\" xlink:href=\"#DejaVuSans-48\"/>\n       <use x=\"127.246094\" xlink:href=\"#DejaVuSans-48\"/>\n       <use x=\"190.869141\" xlink:href=\"#DejaVuSans-48\"/>\n       <use x=\"254.492188\" xlink:href=\"#DejaVuSans-48\"/>\n      </g>\n     </g>\n    </g>\n    <g id=\"xtick_5\">\n     <g id=\"line2d_9\">\n      <path clip-path=\"url(#p1d419166fc)\" d=\"M 318.950534 226.153208 \nL 318.950534 8.713208 \n\" style=\"fill:none;stroke:#b0b0b0;stroke-linecap:square;stroke-width:0.8;\"/>\n     </g>\n     <g id=\"line2d_10\">\n      <g>\n       <use style=\"stroke:#000000;stroke-width:0.8;\" x=\"318.950534\" xlink:href=\"#mde0064f9dc\" y=\"226.153208\"/>\n      </g>\n     </g>\n     <g id=\"text_5\">\n      <!-- 100000 -->\n      <defs>\n       <path d=\"M 12.40625 8.296875 \nL 28.515625 8.296875 \nL 28.515625 63.921875 \nL 10.984375 60.40625 \nL 10.984375 69.390625 \nL 28.421875 72.90625 \nL 38.28125 72.90625 \nL 38.28125 8.296875 \nL 54.390625 8.296875 \nL 54.390625 0 \nL 12.40625 0 \nz\n\" id=\"DejaVuSans-49\"/>\n      </defs>\n      <g transform=\"translate(299.863034 240.751645)scale(0.1 -0.1)\">\n       <use xlink:href=\"#DejaVuSans-49\"/>\n       <use x=\"63.623047\" xlink:href=\"#DejaVuSans-48\"/>\n       <use x=\"127.246094\" xlink:href=\"#DejaVuSans-48\"/>\n       <use x=\"190.869141\" xlink:href=\"#DejaVuSans-48\"/>\n       <use x=\"254.492188\" xlink:href=\"#DejaVuSans-48\"/>\n       <use x=\"318.115234\" xlink:href=\"#DejaVuSans-48\"/>\n      </g>\n     </g>\n    </g>\n   </g>\n   <g id=\"matplotlib.axis_2\">\n    <g id=\"ytick_1\">\n     <g id=\"line2d_11\">\n      <path clip-path=\"url(#p1d419166fc)\" d=\"M 26.925 226.153208 \nL 361.725 226.153208 \n\" style=\"fill:none;stroke:#b0b0b0;stroke-linecap:square;stroke-width:0.8;\"/>\n     </g>\n     <g id=\"line2d_12\">\n      <defs>\n       <path d=\"M 0 0 \nL -3.5 0 \n\" id=\"m393c350810\" style=\"stroke:#000000;stroke-width:0.8;\"/>\n      </defs>\n      <g>\n       <use style=\"stroke:#000000;stroke-width:0.8;\" x=\"26.925\" xlink:href=\"#m393c350810\" y=\"226.153208\"/>\n      </g>\n     </g>\n     <g id=\"text_6\">\n      <!-- 0 -->\n      <g transform=\"translate(13.5625 229.952426)scale(0.1 -0.1)\">\n       <use xlink:href=\"#DejaVuSans-48\"/>\n      </g>\n     </g>\n    </g>\n    <g id=\"ytick_2\">\n     <g id=\"line2d_13\">\n      <path clip-path=\"url(#p1d419166fc)\" d=\"M 26.925 199.258959 \nL 361.725 199.258959 \n\" style=\"fill:none;stroke:#b0b0b0;stroke-linecap:square;stroke-width:0.8;\"/>\n     </g>\n     <g id=\"line2d_14\">\n      <g>\n       <use style=\"stroke:#000000;stroke-width:0.8;\" x=\"26.925\" xlink:href=\"#m393c350810\" y=\"199.258959\"/>\n      </g>\n     </g>\n     <g id=\"text_7\">\n      <!-- 10 -->\n      <g transform=\"translate(7.2 203.058178)scale(0.1 -0.1)\">\n       <use xlink:href=\"#DejaVuSans-49\"/>\n       <use x=\"63.623047\" xlink:href=\"#DejaVuSans-48\"/>\n      </g>\n     </g>\n    </g>\n    <g id=\"ytick_3\">\n     <g id=\"line2d_15\">\n      <path clip-path=\"url(#p1d419166fc)\" d=\"M 26.925 172.36471 \nL 361.725 172.36471 \n\" style=\"fill:none;stroke:#b0b0b0;stroke-linecap:square;stroke-width:0.8;\"/>\n     </g>\n     <g id=\"line2d_16\">\n      <g>\n       <use style=\"stroke:#000000;stroke-width:0.8;\" x=\"26.925\" xlink:href=\"#m393c350810\" y=\"172.36471\"/>\n      </g>\n     </g>\n     <g id=\"text_8\">\n      <!-- 20 -->\n      <g transform=\"translate(7.2 176.163929)scale(0.1 -0.1)\">\n       <use xlink:href=\"#DejaVuSans-50\"/>\n       <use x=\"63.623047\" xlink:href=\"#DejaVuSans-48\"/>\n      </g>\n     </g>\n    </g>\n    <g id=\"ytick_4\">\n     <g id=\"line2d_17\">\n      <path clip-path=\"url(#p1d419166fc)\" d=\"M 26.925 145.470462 \nL 361.725 145.470462 \n\" style=\"fill:none;stroke:#b0b0b0;stroke-linecap:square;stroke-width:0.8;\"/>\n     </g>\n     <g id=\"line2d_18\">\n      <g>\n       <use style=\"stroke:#000000;stroke-width:0.8;\" x=\"26.925\" xlink:href=\"#m393c350810\" y=\"145.470462\"/>\n      </g>\n     </g>\n     <g id=\"text_9\">\n      <!-- 30 -->\n      <defs>\n       <path d=\"M 40.578125 39.3125 \nQ 47.65625 37.796875 51.625 33 \nQ 55.609375 28.21875 55.609375 21.1875 \nQ 55.609375 10.40625 48.1875 4.484375 \nQ 40.765625 -1.421875 27.09375 -1.421875 \nQ 22.515625 -1.421875 17.65625 -0.515625 \nQ 12.796875 0.390625 7.625 2.203125 \nL 7.625 11.71875 \nQ 11.71875 9.328125 16.59375 8.109375 \nQ 21.484375 6.890625 26.8125 6.890625 \nQ 36.078125 6.890625 40.9375 10.546875 \nQ 45.796875 14.203125 45.796875 21.1875 \nQ 45.796875 27.640625 41.28125 31.265625 \nQ 36.765625 34.90625 28.71875 34.90625 \nL 20.21875 34.90625 \nL 20.21875 43.015625 \nL 29.109375 43.015625 \nQ 36.375 43.015625 40.234375 45.921875 \nQ 44.09375 48.828125 44.09375 54.296875 \nQ 44.09375 59.90625 40.109375 62.90625 \nQ 36.140625 65.921875 28.71875 65.921875 \nQ 24.65625 65.921875 20.015625 65.03125 \nQ 15.375 64.15625 9.8125 62.3125 \nL 9.8125 71.09375 \nQ 15.4375 72.65625 20.34375 73.4375 \nQ 25.25 74.21875 29.59375 74.21875 \nQ 40.828125 74.21875 47.359375 69.109375 \nQ 53.90625 64.015625 53.90625 55.328125 \nQ 53.90625 49.265625 50.4375 45.09375 \nQ 46.96875 40.921875 40.578125 39.3125 \nz\n\" id=\"DejaVuSans-51\"/>\n      </defs>\n      <g transform=\"translate(7.2 149.269681)scale(0.1 -0.1)\">\n       <use xlink:href=\"#DejaVuSans-51\"/>\n       <use x=\"63.623047\" xlink:href=\"#DejaVuSans-48\"/>\n      </g>\n     </g>\n    </g>\n    <g id=\"ytick_5\">\n     <g id=\"line2d_19\">\n      <path clip-path=\"url(#p1d419166fc)\" d=\"M 26.925 118.576213 \nL 361.725 118.576213 \n\" style=\"fill:none;stroke:#b0b0b0;stroke-linecap:square;stroke-width:0.8;\"/>\n     </g>\n     <g id=\"line2d_20\">\n      <g>\n       <use style=\"stroke:#000000;stroke-width:0.8;\" x=\"26.925\" xlink:href=\"#m393c350810\" y=\"118.576213\"/>\n      </g>\n     </g>\n     <g id=\"text_10\">\n      <!-- 40 -->\n      <g transform=\"translate(7.2 122.375432)scale(0.1 -0.1)\">\n       <use xlink:href=\"#DejaVuSans-52\"/>\n       <use x=\"63.623047\" xlink:href=\"#DejaVuSans-48\"/>\n      </g>\n     </g>\n    </g>\n    <g id=\"ytick_6\">\n     <g id=\"line2d_21\">\n      <path clip-path=\"url(#p1d419166fc)\" d=\"M 26.925 91.681965 \nL 361.725 91.681965 \n\" style=\"fill:none;stroke:#b0b0b0;stroke-linecap:square;stroke-width:0.8;\"/>\n     </g>\n     <g id=\"line2d_22\">\n      <g>\n       <use style=\"stroke:#000000;stroke-width:0.8;\" x=\"26.925\" xlink:href=\"#m393c350810\" y=\"91.681965\"/>\n      </g>\n     </g>\n     <g id=\"text_11\">\n      <!-- 50 -->\n      <defs>\n       <path d=\"M 10.796875 72.90625 \nL 49.515625 72.90625 \nL 49.515625 64.59375 \nL 19.828125 64.59375 \nL 19.828125 46.734375 \nQ 21.96875 47.46875 24.109375 47.828125 \nQ 26.265625 48.1875 28.421875 48.1875 \nQ 40.625 48.1875 47.75 41.5 \nQ 54.890625 34.8125 54.890625 23.390625 \nQ 54.890625 11.625 47.5625 5.09375 \nQ 40.234375 -1.421875 26.90625 -1.421875 \nQ 22.3125 -1.421875 17.546875 -0.640625 \nQ 12.796875 0.140625 7.71875 1.703125 \nL 7.71875 11.625 \nQ 12.109375 9.234375 16.796875 8.0625 \nQ 21.484375 6.890625 26.703125 6.890625 \nQ 35.15625 6.890625 40.078125 11.328125 \nQ 45.015625 15.765625 45.015625 23.390625 \nQ 45.015625 31 40.078125 35.4375 \nQ 35.15625 39.890625 26.703125 39.890625 \nQ 22.75 39.890625 18.8125 39.015625 \nQ 14.890625 38.140625 10.796875 36.28125 \nz\n\" id=\"DejaVuSans-53\"/>\n      </defs>\n      <g transform=\"translate(7.2 95.481183)scale(0.1 -0.1)\">\n       <use xlink:href=\"#DejaVuSans-53\"/>\n       <use x=\"63.623047\" xlink:href=\"#DejaVuSans-48\"/>\n      </g>\n     </g>\n    </g>\n    <g id=\"ytick_7\">\n     <g id=\"line2d_23\">\n      <path clip-path=\"url(#p1d419166fc)\" d=\"M 26.925 64.787716 \nL 361.725 64.787716 \n\" style=\"fill:none;stroke:#b0b0b0;stroke-linecap:square;stroke-width:0.8;\"/>\n     </g>\n     <g id=\"line2d_24\">\n      <g>\n       <use style=\"stroke:#000000;stroke-width:0.8;\" x=\"26.925\" xlink:href=\"#m393c350810\" y=\"64.787716\"/>\n      </g>\n     </g>\n     <g id=\"text_12\">\n      <!-- 60 -->\n      <g transform=\"translate(7.2 68.586935)scale(0.1 -0.1)\">\n       <use xlink:href=\"#DejaVuSans-54\"/>\n       <use x=\"63.623047\" xlink:href=\"#DejaVuSans-48\"/>\n      </g>\n     </g>\n    </g>\n    <g id=\"ytick_8\">\n     <g id=\"line2d_25\">\n      <path clip-path=\"url(#p1d419166fc)\" d=\"M 26.925 37.893467 \nL 361.725 37.893467 \n\" style=\"fill:none;stroke:#b0b0b0;stroke-linecap:square;stroke-width:0.8;\"/>\n     </g>\n     <g id=\"line2d_26\">\n      <g>\n       <use style=\"stroke:#000000;stroke-width:0.8;\" x=\"26.925\" xlink:href=\"#m393c350810\" y=\"37.893467\"/>\n      </g>\n     </g>\n     <g id=\"text_13\">\n      <!-- 70 -->\n      <defs>\n       <path d=\"M 8.203125 72.90625 \nL 55.078125 72.90625 \nL 55.078125 68.703125 \nL 28.609375 0 \nL 18.3125 0 \nL 43.21875 64.59375 \nL 8.203125 64.59375 \nz\n\" id=\"DejaVuSans-55\"/>\n      </defs>\n      <g transform=\"translate(7.2 41.692686)scale(0.1 -0.1)\">\n       <use xlink:href=\"#DejaVuSans-55\"/>\n       <use x=\"63.623047\" xlink:href=\"#DejaVuSans-48\"/>\n      </g>\n     </g>\n    </g>\n    <g id=\"ytick_9\">\n     <g id=\"line2d_27\">\n      <path clip-path=\"url(#p1d419166fc)\" d=\"M 26.925 10.999219 \nL 361.725 10.999219 \n\" style=\"fill:none;stroke:#b0b0b0;stroke-linecap:square;stroke-width:0.8;\"/>\n     </g>\n     <g id=\"line2d_28\">\n      <g>\n       <use style=\"stroke:#000000;stroke-width:0.8;\" x=\"26.925\" xlink:href=\"#m393c350810\" y=\"10.999219\"/>\n      </g>\n     </g>\n     <g id=\"text_14\">\n      <!-- 80 -->\n      <g transform=\"translate(7.2 14.798437)scale(0.1 -0.1)\">\n       <use xlink:href=\"#DejaVuSans-56\"/>\n       <use x=\"63.623047\" xlink:href=\"#DejaVuSans-48\"/>\n      </g>\n     </g>\n    </g>\n   </g>\n   <g id=\"patch_33\">\n    <path d=\"M 26.925 226.153208 \nL 26.925 8.713208 \n\" style=\"fill:none;stroke:#000000;stroke-linecap:square;stroke-linejoin:miter;stroke-width:0.8;\"/>\n   </g>\n   <g id=\"patch_34\">\n    <path d=\"M 361.725 226.153208 \nL 361.725 8.713208 \n\" style=\"fill:none;stroke:#000000;stroke-linecap:square;stroke-linejoin:miter;stroke-width:0.8;\"/>\n   </g>\n   <g id=\"patch_35\">\n    <path d=\"M 26.925 226.153208 \nL 361.725 226.153208 \n\" style=\"fill:none;stroke:#000000;stroke-linecap:square;stroke-linejoin:miter;stroke-width:0.8;\"/>\n   </g>\n   <g id=\"patch_36\">\n    <path d=\"M 26.925 8.713208 \nL 361.725 8.713208 \n\" style=\"fill:none;stroke:#000000;stroke-linecap:square;stroke-linejoin:miter;stroke-width:0.8;\"/>\n   </g>\n  </g>\n </g>\n <defs>\n  <clipPath id=\"p1d419166fc\">\n   <rect height=\"217.44\" width=\"334.8\" x=\"26.925\" y=\"8.713208\"/>\n  </clipPath>\n </defs>\n</svg>\n"
          },
          "metadata": {
            "needs_background": "light"
          }
        }
      ]
    },
    {
      "cell_type": "code",
      "metadata": {
        "colab": {
          "base_uri": "https://localhost:8080/",
          "height": 931
        },
        "id": "CzxREb2jKLBv",
        "outputId": "3c6e7020-9ac9-4708-969a-89bfd6235376"
      },
      "source": [
        "fig , axx= plt.subplots(nrows=2,ncols=1,figsize=(10,10))\n",
        "seg_df.boxplot(column= 'income', by='own_home' , ax=axx[0])\n",
        "\n",
        "stats.probplot(seg_df.income, dist='norm', plot=axx[1]) # Not shown\n",
        "plt.show()"
      ],
      "execution_count": 29,
      "outputs": [
        {
          "output_type": "stream",
          "name": "stderr",
          "text": [
            "/usr/local/lib/python3.7/dist-packages/numpy/core/_asarray.py:83: VisibleDeprecationWarning: Creating an ndarray from ragged nested sequences (which is a list-or-tuple of lists-or-tuples-or ndarrays with different lengths or shapes) is deprecated. If you meant to do this, you must specify 'dtype=object' when creating the ndarray\n",
            "  return array(a, dtype, copy=False, order=order)\n"
          ]
        },
        {
          "output_type": "display_data",
          "data": {
            "text/plain": [
              "<Figure size 720x720 with 2 Axes>"
            ],
            "image/svg+xml": "<?xml version=\"1.0\" encoding=\"utf-8\" standalone=\"no\"?>\n<!DOCTYPE svg PUBLIC \"-//W3C//DTD SVG 1.1//EN\"\n  \"http://www.w3.org/Graphics/SVG/1.1/DTD/svg11.dtd\">\n<!-- Created with matplotlib (https://matplotlib.org/) -->\n<svg height=\"642.35625pt\" version=\"1.1\" viewBox=\"0 0 649.253125 642.35625\" width=\"649.253125pt\" xmlns=\"http://www.w3.org/2000/svg\" xmlns:xlink=\"http://www.w3.org/1999/xlink\">\n <defs>\n  <style type=\"text/css\">\n*{stroke-linecap:butt;stroke-linejoin:round;}\n  </style>\n </defs>\n <g id=\"figure_1\">\n  <g id=\"patch_1\">\n   <path d=\"M 0 642.35625 \nL 649.253125 642.35625 \nL 649.253125 0 \nL 0 0 \nz\n\" style=\"fill:none;\"/>\n  </g>\n  <g id=\"axes_1\">\n   <g id=\"patch_2\">\n    <path d=\"M 66.053125 310.254545 \nL 642.053125 310.254545 \nL 642.053125 64.8 \nL 66.053125 64.8 \nz\n\" style=\"fill:#ffffff;\"/>\n   </g>\n   <g id=\"matplotlib.axis_1\">\n    <g id=\"xtick_1\">\n     <g id=\"line2d_1\">\n      <path clip-path=\"url(#p6f574e0aed)\" d=\"M 210.053125 310.254545 \nL 210.053125 64.8 \n\" style=\"fill:none;stroke:#b0b0b0;stroke-linecap:square;stroke-width:0.8;\"/>\n     </g>\n     <g id=\"line2d_2\">\n      <defs>\n       <path d=\"M 0 0 \nL 0 3.5 \n\" id=\"m0febad08f1\" style=\"stroke:#000000;stroke-width:0.8;\"/>\n      </defs>\n      <g>\n       <use style=\"stroke:#000000;stroke-width:0.8;\" x=\"210.053125\" xlink:href=\"#m0febad08f1\" y=\"310.254545\"/>\n      </g>\n     </g>\n     <g id=\"text_1\">\n      <!-- False -->\n      <defs>\n       <path d=\"M 9.8125 72.90625 \nL 51.703125 72.90625 \nL 51.703125 64.59375 \nL 19.671875 64.59375 \nL 19.671875 43.109375 \nL 48.578125 43.109375 \nL 48.578125 34.8125 \nL 19.671875 34.8125 \nL 19.671875 0 \nL 9.8125 0 \nz\n\" id=\"DejaVuSans-70\"/>\n       <path d=\"M 34.28125 27.484375 \nQ 23.390625 27.484375 19.1875 25 \nQ 14.984375 22.515625 14.984375 16.5 \nQ 14.984375 11.71875 18.140625 8.90625 \nQ 21.296875 6.109375 26.703125 6.109375 \nQ 34.1875 6.109375 38.703125 11.40625 \nQ 43.21875 16.703125 43.21875 25.484375 \nL 43.21875 27.484375 \nz\nM 52.203125 31.203125 \nL 52.203125 0 \nL 43.21875 0 \nL 43.21875 8.296875 \nQ 40.140625 3.328125 35.546875 0.953125 \nQ 30.953125 -1.421875 24.3125 -1.421875 \nQ 15.921875 -1.421875 10.953125 3.296875 \nQ 6 8.015625 6 15.921875 \nQ 6 25.140625 12.171875 29.828125 \nQ 18.359375 34.515625 30.609375 34.515625 \nL 43.21875 34.515625 \nL 43.21875 35.40625 \nQ 43.21875 41.609375 39.140625 45 \nQ 35.0625 48.390625 27.6875 48.390625 \nQ 23 48.390625 18.546875 47.265625 \nQ 14.109375 46.140625 10.015625 43.890625 \nL 10.015625 52.203125 \nQ 14.9375 54.109375 19.578125 55.046875 \nQ 24.21875 56 28.609375 56 \nQ 40.484375 56 46.34375 49.84375 \nQ 52.203125 43.703125 52.203125 31.203125 \nz\n\" id=\"DejaVuSans-97\"/>\n       <path d=\"M 9.421875 75.984375 \nL 18.40625 75.984375 \nL 18.40625 0 \nL 9.421875 0 \nz\n\" id=\"DejaVuSans-108\"/>\n       <path d=\"M 44.28125 53.078125 \nL 44.28125 44.578125 \nQ 40.484375 46.53125 36.375 47.5 \nQ 32.28125 48.484375 27.875 48.484375 \nQ 21.1875 48.484375 17.84375 46.4375 \nQ 14.5 44.390625 14.5 40.28125 \nQ 14.5 37.15625 16.890625 35.375 \nQ 19.28125 33.59375 26.515625 31.984375 \nL 29.59375 31.296875 \nQ 39.15625 29.25 43.1875 25.515625 \nQ 47.21875 21.78125 47.21875 15.09375 \nQ 47.21875 7.46875 41.1875 3.015625 \nQ 35.15625 -1.421875 24.609375 -1.421875 \nQ 20.21875 -1.421875 15.453125 -0.5625 \nQ 10.6875 0.296875 5.421875 2 \nL 5.421875 11.28125 \nQ 10.40625 8.6875 15.234375 7.390625 \nQ 20.0625 6.109375 24.8125 6.109375 \nQ 31.15625 6.109375 34.5625 8.28125 \nQ 37.984375 10.453125 37.984375 14.40625 \nQ 37.984375 18.0625 35.515625 20.015625 \nQ 33.0625 21.96875 24.703125 23.78125 \nL 21.578125 24.515625 \nQ 13.234375 26.265625 9.515625 29.90625 \nQ 5.8125 33.546875 5.8125 39.890625 \nQ 5.8125 47.609375 11.28125 51.796875 \nQ 16.75 56 26.8125 56 \nQ 31.78125 56 36.171875 55.265625 \nQ 40.578125 54.546875 44.28125 53.078125 \nz\n\" id=\"DejaVuSans-115\"/>\n       <path d=\"M 56.203125 29.59375 \nL 56.203125 25.203125 \nL 14.890625 25.203125 \nQ 15.484375 15.921875 20.484375 11.0625 \nQ 25.484375 6.203125 34.421875 6.203125 \nQ 39.59375 6.203125 44.453125 7.46875 \nQ 49.3125 8.734375 54.109375 11.28125 \nL 54.109375 2.78125 \nQ 49.265625 0.734375 44.1875 -0.34375 \nQ 39.109375 -1.421875 33.890625 -1.421875 \nQ 20.796875 -1.421875 13.15625 6.1875 \nQ 5.515625 13.8125 5.515625 26.8125 \nQ 5.515625 40.234375 12.765625 48.109375 \nQ 20.015625 56 32.328125 56 \nQ 43.359375 56 49.78125 48.890625 \nQ 56.203125 41.796875 56.203125 29.59375 \nz\nM 47.21875 32.234375 \nQ 47.125 39.59375 43.09375 43.984375 \nQ 39.0625 48.390625 32.421875 48.390625 \nQ 24.90625 48.390625 20.390625 44.140625 \nQ 15.875 39.890625 15.1875 32.171875 \nz\n\" id=\"DejaVuSans-101\"/>\n      </defs>\n      <g transform=\"translate(197.499219 324.852983)scale(0.1 -0.1)\">\n       <use xlink:href=\"#DejaVuSans-70\"/>\n       <use x=\"48.394531\" xlink:href=\"#DejaVuSans-97\"/>\n       <use x=\"109.673828\" xlink:href=\"#DejaVuSans-108\"/>\n       <use x=\"137.457031\" xlink:href=\"#DejaVuSans-115\"/>\n       <use x=\"189.556641\" xlink:href=\"#DejaVuSans-101\"/>\n      </g>\n     </g>\n    </g>\n    <g id=\"xtick_2\">\n     <g id=\"line2d_3\">\n      <path clip-path=\"url(#p6f574e0aed)\" d=\"M 498.053125 310.254545 \nL 498.053125 64.8 \n\" style=\"fill:none;stroke:#b0b0b0;stroke-linecap:square;stroke-width:0.8;\"/>\n     </g>\n     <g id=\"line2d_4\">\n      <g>\n       <use style=\"stroke:#000000;stroke-width:0.8;\" x=\"498.053125\" xlink:href=\"#m0febad08f1\" y=\"310.254545\"/>\n      </g>\n     </g>\n     <g id=\"text_2\">\n      <!-- True -->\n      <defs>\n       <path d=\"M -0.296875 72.90625 \nL 61.375 72.90625 \nL 61.375 64.59375 \nL 35.5 64.59375 \nL 35.5 0 \nL 25.59375 0 \nL 25.59375 64.59375 \nL -0.296875 64.59375 \nz\n\" id=\"DejaVuSans-84\"/>\n       <path d=\"M 41.109375 46.296875 \nQ 39.59375 47.171875 37.8125 47.578125 \nQ 36.03125 48 33.890625 48 \nQ 26.265625 48 22.1875 43.046875 \nQ 18.109375 38.09375 18.109375 28.8125 \nL 18.109375 0 \nL 9.078125 0 \nL 9.078125 54.6875 \nL 18.109375 54.6875 \nL 18.109375 46.1875 \nQ 20.953125 51.171875 25.484375 53.578125 \nQ 30.03125 56 36.53125 56 \nQ 37.453125 56 38.578125 55.875 \nQ 39.703125 55.765625 41.0625 55.515625 \nz\n\" id=\"DejaVuSans-114\"/>\n       <path d=\"M 8.5 21.578125 \nL 8.5 54.6875 \nL 17.484375 54.6875 \nL 17.484375 21.921875 \nQ 17.484375 14.15625 20.5 10.265625 \nQ 23.53125 6.390625 29.59375 6.390625 \nQ 36.859375 6.390625 41.078125 11.03125 \nQ 45.3125 15.671875 45.3125 23.6875 \nL 45.3125 54.6875 \nL 54.296875 54.6875 \nL 54.296875 0 \nL 45.3125 0 \nL 45.3125 8.40625 \nQ 42.046875 3.421875 37.71875 1 \nQ 33.40625 -1.421875 27.6875 -1.421875 \nQ 18.265625 -1.421875 13.375 4.4375 \nQ 8.5 10.296875 8.5 21.578125 \nz\nM 31.109375 56 \nz\n\" id=\"DejaVuSans-117\"/>\n      </defs>\n      <g transform=\"translate(487.435938 324.852983)scale(0.1 -0.1)\">\n       <use xlink:href=\"#DejaVuSans-84\"/>\n       <use x=\"46.333984\" xlink:href=\"#DejaVuSans-114\"/>\n       <use x=\"87.447266\" xlink:href=\"#DejaVuSans-117\"/>\n       <use x=\"150.826172\" xlink:href=\"#DejaVuSans-101\"/>\n      </g>\n     </g>\n    </g>\n    <g id=\"text_3\">\n     <!-- own_home -->\n     <defs>\n      <path d=\"M 30.609375 48.390625 \nQ 23.390625 48.390625 19.1875 42.75 \nQ 14.984375 37.109375 14.984375 27.296875 \nQ 14.984375 17.484375 19.15625 11.84375 \nQ 23.34375 6.203125 30.609375 6.203125 \nQ 37.796875 6.203125 41.984375 11.859375 \nQ 46.1875 17.53125 46.1875 27.296875 \nQ 46.1875 37.015625 41.984375 42.703125 \nQ 37.796875 48.390625 30.609375 48.390625 \nz\nM 30.609375 56 \nQ 42.328125 56 49.015625 48.375 \nQ 55.71875 40.765625 55.71875 27.296875 \nQ 55.71875 13.875 49.015625 6.21875 \nQ 42.328125 -1.421875 30.609375 -1.421875 \nQ 18.84375 -1.421875 12.171875 6.21875 \nQ 5.515625 13.875 5.515625 27.296875 \nQ 5.515625 40.765625 12.171875 48.375 \nQ 18.84375 56 30.609375 56 \nz\n\" id=\"DejaVuSans-111\"/>\n      <path d=\"M 4.203125 54.6875 \nL 13.1875 54.6875 \nL 24.421875 12.015625 \nL 35.59375 54.6875 \nL 46.1875 54.6875 \nL 57.421875 12.015625 \nL 68.609375 54.6875 \nL 77.59375 54.6875 \nL 63.28125 0 \nL 52.6875 0 \nL 40.921875 44.828125 \nL 29.109375 0 \nL 18.5 0 \nz\n\" id=\"DejaVuSans-119\"/>\n      <path d=\"M 54.890625 33.015625 \nL 54.890625 0 \nL 45.90625 0 \nL 45.90625 32.71875 \nQ 45.90625 40.484375 42.875 44.328125 \nQ 39.84375 48.1875 33.796875 48.1875 \nQ 26.515625 48.1875 22.3125 43.546875 \nQ 18.109375 38.921875 18.109375 30.90625 \nL 18.109375 0 \nL 9.078125 0 \nL 9.078125 54.6875 \nL 18.109375 54.6875 \nL 18.109375 46.1875 \nQ 21.34375 51.125 25.703125 53.5625 \nQ 30.078125 56 35.796875 56 \nQ 45.21875 56 50.046875 50.171875 \nQ 54.890625 44.34375 54.890625 33.015625 \nz\n\" id=\"DejaVuSans-110\"/>\n      <path d=\"M 50.984375 -16.609375 \nL 50.984375 -23.578125 \nL -0.984375 -23.578125 \nL -0.984375 -16.609375 \nz\n\" id=\"DejaVuSans-95\"/>\n      <path d=\"M 54.890625 33.015625 \nL 54.890625 0 \nL 45.90625 0 \nL 45.90625 32.71875 \nQ 45.90625 40.484375 42.875 44.328125 \nQ 39.84375 48.1875 33.796875 48.1875 \nQ 26.515625 48.1875 22.3125 43.546875 \nQ 18.109375 38.921875 18.109375 30.90625 \nL 18.109375 0 \nL 9.078125 0 \nL 9.078125 75.984375 \nL 18.109375 75.984375 \nL 18.109375 46.1875 \nQ 21.34375 51.125 25.703125 53.5625 \nQ 30.078125 56 35.796875 56 \nQ 45.21875 56 50.046875 50.171875 \nQ 54.890625 44.34375 54.890625 33.015625 \nz\n\" id=\"DejaVuSans-104\"/>\n      <path d=\"M 52 44.1875 \nQ 55.375 50.25 60.0625 53.125 \nQ 64.75 56 71.09375 56 \nQ 79.640625 56 84.28125 50.015625 \nQ 88.921875 44.046875 88.921875 33.015625 \nL 88.921875 0 \nL 79.890625 0 \nL 79.890625 32.71875 \nQ 79.890625 40.578125 77.09375 44.375 \nQ 74.3125 48.1875 68.609375 48.1875 \nQ 61.625 48.1875 57.5625 43.546875 \nQ 53.515625 38.921875 53.515625 30.90625 \nL 53.515625 0 \nL 44.484375 0 \nL 44.484375 32.71875 \nQ 44.484375 40.625 41.703125 44.40625 \nQ 38.921875 48.1875 33.109375 48.1875 \nQ 26.21875 48.1875 22.15625 43.53125 \nQ 18.109375 38.875 18.109375 30.90625 \nL 18.109375 0 \nL 9.078125 0 \nL 9.078125 54.6875 \nL 18.109375 54.6875 \nL 18.109375 46.1875 \nQ 21.1875 51.21875 25.484375 53.609375 \nQ 29.78125 56 35.6875 56 \nQ 41.65625 56 45.828125 52.96875 \nQ 50 49.953125 52 44.1875 \nz\n\" id=\"DejaVuSans-109\"/>\n     </defs>\n     <g transform=\"translate(327.060938 338.531108)scale(0.1 -0.1)\">\n      <use xlink:href=\"#DejaVuSans-111\"/>\n      <use x=\"61.181641\" xlink:href=\"#DejaVuSans-119\"/>\n      <use x=\"142.96875\" xlink:href=\"#DejaVuSans-110\"/>\n      <use x=\"206.347656\" xlink:href=\"#DejaVuSans-95\"/>\n      <use x=\"256.347656\" xlink:href=\"#DejaVuSans-104\"/>\n      <use x=\"319.726562\" xlink:href=\"#DejaVuSans-111\"/>\n      <use x=\"380.908203\" xlink:href=\"#DejaVuSans-109\"/>\n      <use x=\"478.320312\" xlink:href=\"#DejaVuSans-101\"/>\n     </g>\n    </g>\n   </g>\n   <g id=\"matplotlib.axis_2\">\n    <g id=\"ytick_1\">\n     <g id=\"line2d_5\">\n      <path clip-path=\"url(#p6f574e0aed)\" d=\"M 66.053125 279.18712 \nL 642.053125 279.18712 \n\" style=\"fill:none;stroke:#b0b0b0;stroke-linecap:square;stroke-width:0.8;\"/>\n     </g>\n     <g id=\"line2d_6\">\n      <defs>\n       <path d=\"M 0 0 \nL -3.5 0 \n\" id=\"m57680deb0b\" style=\"stroke:#000000;stroke-width:0.8;\"/>\n      </defs>\n      <g>\n       <use style=\"stroke:#000000;stroke-width:0.8;\" x=\"66.053125\" xlink:href=\"#m57680deb0b\" y=\"279.18712\"/>\n      </g>\n     </g>\n     <g id=\"text_4\">\n      <!-- 20000 -->\n      <defs>\n       <path d=\"M 19.1875 8.296875 \nL 53.609375 8.296875 \nL 53.609375 0 \nL 7.328125 0 \nL 7.328125 8.296875 \nQ 12.9375 14.109375 22.625 23.890625 \nQ 32.328125 33.6875 34.8125 36.53125 \nQ 39.546875 41.84375 41.421875 45.53125 \nQ 43.3125 49.21875 43.3125 52.78125 \nQ 43.3125 58.59375 39.234375 62.25 \nQ 35.15625 65.921875 28.609375 65.921875 \nQ 23.96875 65.921875 18.8125 64.3125 \nQ 13.671875 62.703125 7.8125 59.421875 \nL 7.8125 69.390625 \nQ 13.765625 71.78125 18.9375 73 \nQ 24.125 74.21875 28.421875 74.21875 \nQ 39.75 74.21875 46.484375 68.546875 \nQ 53.21875 62.890625 53.21875 53.421875 \nQ 53.21875 48.921875 51.53125 44.890625 \nQ 49.859375 40.875 45.40625 35.40625 \nQ 44.1875 33.984375 37.640625 27.21875 \nQ 31.109375 20.453125 19.1875 8.296875 \nz\n\" id=\"DejaVuSans-50\"/>\n       <path d=\"M 31.78125 66.40625 \nQ 24.171875 66.40625 20.328125 58.90625 \nQ 16.5 51.421875 16.5 36.375 \nQ 16.5 21.390625 20.328125 13.890625 \nQ 24.171875 6.390625 31.78125 6.390625 \nQ 39.453125 6.390625 43.28125 13.890625 \nQ 47.125 21.390625 47.125 36.375 \nQ 47.125 51.421875 43.28125 58.90625 \nQ 39.453125 66.40625 31.78125 66.40625 \nz\nM 31.78125 74.21875 \nQ 44.046875 74.21875 50.515625 64.515625 \nQ 56.984375 54.828125 56.984375 36.375 \nQ 56.984375 17.96875 50.515625 8.265625 \nQ 44.046875 -1.421875 31.78125 -1.421875 \nQ 19.53125 -1.421875 13.0625 8.265625 \nQ 6.59375 17.96875 6.59375 36.375 \nQ 6.59375 54.828125 13.0625 64.515625 \nQ 19.53125 74.21875 31.78125 74.21875 \nz\n\" id=\"DejaVuSans-48\"/>\n      </defs>\n      <g transform=\"translate(27.240625 282.986338)scale(0.1 -0.1)\">\n       <use xlink:href=\"#DejaVuSans-50\"/>\n       <use x=\"63.623047\" xlink:href=\"#DejaVuSans-48\"/>\n       <use x=\"127.246094\" xlink:href=\"#DejaVuSans-48\"/>\n       <use x=\"190.869141\" xlink:href=\"#DejaVuSans-48\"/>\n       <use x=\"254.492188\" xlink:href=\"#DejaVuSans-48\"/>\n      </g>\n     </g>\n    </g>\n    <g id=\"ytick_2\">\n     <g id=\"line2d_7\">\n      <path clip-path=\"url(#p6f574e0aed)\" d=\"M 66.053125 233.430234 \nL 642.053125 233.430234 \n\" style=\"fill:none;stroke:#b0b0b0;stroke-linecap:square;stroke-width:0.8;\"/>\n     </g>\n     <g id=\"line2d_8\">\n      <g>\n       <use style=\"stroke:#000000;stroke-width:0.8;\" x=\"66.053125\" xlink:href=\"#m57680deb0b\" y=\"233.430234\"/>\n      </g>\n     </g>\n     <g id=\"text_5\">\n      <!-- 40000 -->\n      <defs>\n       <path d=\"M 37.796875 64.3125 \nL 12.890625 25.390625 \nL 37.796875 25.390625 \nz\nM 35.203125 72.90625 \nL 47.609375 72.90625 \nL 47.609375 25.390625 \nL 58.015625 25.390625 \nL 58.015625 17.1875 \nL 47.609375 17.1875 \nL 47.609375 0 \nL 37.796875 0 \nL 37.796875 17.1875 \nL 4.890625 17.1875 \nL 4.890625 26.703125 \nz\n\" id=\"DejaVuSans-52\"/>\n      </defs>\n      <g transform=\"translate(27.240625 237.229453)scale(0.1 -0.1)\">\n       <use xlink:href=\"#DejaVuSans-52\"/>\n       <use x=\"63.623047\" xlink:href=\"#DejaVuSans-48\"/>\n       <use x=\"127.246094\" xlink:href=\"#DejaVuSans-48\"/>\n       <use x=\"190.869141\" xlink:href=\"#DejaVuSans-48\"/>\n       <use x=\"254.492188\" xlink:href=\"#DejaVuSans-48\"/>\n      </g>\n     </g>\n    </g>\n    <g id=\"ytick_3\">\n     <g id=\"line2d_9\">\n      <path clip-path=\"url(#p6f574e0aed)\" d=\"M 66.053125 187.673349 \nL 642.053125 187.673349 \n\" style=\"fill:none;stroke:#b0b0b0;stroke-linecap:square;stroke-width:0.8;\"/>\n     </g>\n     <g id=\"line2d_10\">\n      <g>\n       <use style=\"stroke:#000000;stroke-width:0.8;\" x=\"66.053125\" xlink:href=\"#m57680deb0b\" y=\"187.673349\"/>\n      </g>\n     </g>\n     <g id=\"text_6\">\n      <!-- 60000 -->\n      <defs>\n       <path d=\"M 33.015625 40.375 \nQ 26.375 40.375 22.484375 35.828125 \nQ 18.609375 31.296875 18.609375 23.390625 \nQ 18.609375 15.53125 22.484375 10.953125 \nQ 26.375 6.390625 33.015625 6.390625 \nQ 39.65625 6.390625 43.53125 10.953125 \nQ 47.40625 15.53125 47.40625 23.390625 \nQ 47.40625 31.296875 43.53125 35.828125 \nQ 39.65625 40.375 33.015625 40.375 \nz\nM 52.59375 71.296875 \nL 52.59375 62.3125 \nQ 48.875 64.0625 45.09375 64.984375 \nQ 41.3125 65.921875 37.59375 65.921875 \nQ 27.828125 65.921875 22.671875 59.328125 \nQ 17.53125 52.734375 16.796875 39.40625 \nQ 19.671875 43.65625 24.015625 45.921875 \nQ 28.375 48.1875 33.59375 48.1875 \nQ 44.578125 48.1875 50.953125 41.515625 \nQ 57.328125 34.859375 57.328125 23.390625 \nQ 57.328125 12.15625 50.6875 5.359375 \nQ 44.046875 -1.421875 33.015625 -1.421875 \nQ 20.359375 -1.421875 13.671875 8.265625 \nQ 6.984375 17.96875 6.984375 36.375 \nQ 6.984375 53.65625 15.1875 63.9375 \nQ 23.390625 74.21875 37.203125 74.21875 \nQ 40.921875 74.21875 44.703125 73.484375 \nQ 48.484375 72.75 52.59375 71.296875 \nz\n\" id=\"DejaVuSans-54\"/>\n      </defs>\n      <g transform=\"translate(27.240625 191.472568)scale(0.1 -0.1)\">\n       <use xlink:href=\"#DejaVuSans-54\"/>\n       <use x=\"63.623047\" xlink:href=\"#DejaVuSans-48\"/>\n       <use x=\"127.246094\" xlink:href=\"#DejaVuSans-48\"/>\n       <use x=\"190.869141\" xlink:href=\"#DejaVuSans-48\"/>\n       <use x=\"254.492188\" xlink:href=\"#DejaVuSans-48\"/>\n      </g>\n     </g>\n    </g>\n    <g id=\"ytick_4\">\n     <g id=\"line2d_11\">\n      <path clip-path=\"url(#p6f574e0aed)\" d=\"M 66.053125 141.916464 \nL 642.053125 141.916464 \n\" style=\"fill:none;stroke:#b0b0b0;stroke-linecap:square;stroke-width:0.8;\"/>\n     </g>\n     <g id=\"line2d_12\">\n      <g>\n       <use style=\"stroke:#000000;stroke-width:0.8;\" x=\"66.053125\" xlink:href=\"#m57680deb0b\" y=\"141.916464\"/>\n      </g>\n     </g>\n     <g id=\"text_7\">\n      <!-- 80000 -->\n      <defs>\n       <path d=\"M 31.78125 34.625 \nQ 24.75 34.625 20.71875 30.859375 \nQ 16.703125 27.09375 16.703125 20.515625 \nQ 16.703125 13.921875 20.71875 10.15625 \nQ 24.75 6.390625 31.78125 6.390625 \nQ 38.8125 6.390625 42.859375 10.171875 \nQ 46.921875 13.96875 46.921875 20.515625 \nQ 46.921875 27.09375 42.890625 30.859375 \nQ 38.875 34.625 31.78125 34.625 \nz\nM 21.921875 38.8125 \nQ 15.578125 40.375 12.03125 44.71875 \nQ 8.5 49.078125 8.5 55.328125 \nQ 8.5 64.0625 14.71875 69.140625 \nQ 20.953125 74.21875 31.78125 74.21875 \nQ 42.671875 74.21875 48.875 69.140625 \nQ 55.078125 64.0625 55.078125 55.328125 \nQ 55.078125 49.078125 51.53125 44.71875 \nQ 48 40.375 41.703125 38.8125 \nQ 48.828125 37.15625 52.796875 32.3125 \nQ 56.78125 27.484375 56.78125 20.515625 \nQ 56.78125 9.90625 50.3125 4.234375 \nQ 43.84375 -1.421875 31.78125 -1.421875 \nQ 19.734375 -1.421875 13.25 4.234375 \nQ 6.78125 9.90625 6.78125 20.515625 \nQ 6.78125 27.484375 10.78125 32.3125 \nQ 14.796875 37.15625 21.921875 38.8125 \nz\nM 18.3125 54.390625 \nQ 18.3125 48.734375 21.84375 45.5625 \nQ 25.390625 42.390625 31.78125 42.390625 \nQ 38.140625 42.390625 41.71875 45.5625 \nQ 45.3125 48.734375 45.3125 54.390625 \nQ 45.3125 60.0625 41.71875 63.234375 \nQ 38.140625 66.40625 31.78125 66.40625 \nQ 25.390625 66.40625 21.84375 63.234375 \nQ 18.3125 60.0625 18.3125 54.390625 \nz\n\" id=\"DejaVuSans-56\"/>\n      </defs>\n      <g transform=\"translate(27.240625 145.715683)scale(0.1 -0.1)\">\n       <use xlink:href=\"#DejaVuSans-56\"/>\n       <use x=\"63.623047\" xlink:href=\"#DejaVuSans-48\"/>\n       <use x=\"127.246094\" xlink:href=\"#DejaVuSans-48\"/>\n       <use x=\"190.869141\" xlink:href=\"#DejaVuSans-48\"/>\n       <use x=\"254.492188\" xlink:href=\"#DejaVuSans-48\"/>\n      </g>\n     </g>\n    </g>\n    <g id=\"ytick_5\">\n     <g id=\"line2d_13\">\n      <path clip-path=\"url(#p6f574e0aed)\" d=\"M 66.053125 96.159579 \nL 642.053125 96.159579 \n\" style=\"fill:none;stroke:#b0b0b0;stroke-linecap:square;stroke-width:0.8;\"/>\n     </g>\n     <g id=\"line2d_14\">\n      <g>\n       <use style=\"stroke:#000000;stroke-width:0.8;\" x=\"66.053125\" xlink:href=\"#m57680deb0b\" y=\"96.159579\"/>\n      </g>\n     </g>\n     <g id=\"text_8\">\n      <!-- 100000 -->\n      <defs>\n       <path d=\"M 12.40625 8.296875 \nL 28.515625 8.296875 \nL 28.515625 63.921875 \nL 10.984375 60.40625 \nL 10.984375 69.390625 \nL 28.421875 72.90625 \nL 38.28125 72.90625 \nL 38.28125 8.296875 \nL 54.390625 8.296875 \nL 54.390625 0 \nL 12.40625 0 \nz\n\" id=\"DejaVuSans-49\"/>\n      </defs>\n      <g transform=\"translate(20.878125 99.958798)scale(0.1 -0.1)\">\n       <use xlink:href=\"#DejaVuSans-49\"/>\n       <use x=\"63.623047\" xlink:href=\"#DejaVuSans-48\"/>\n       <use x=\"127.246094\" xlink:href=\"#DejaVuSans-48\"/>\n       <use x=\"190.869141\" xlink:href=\"#DejaVuSans-48\"/>\n       <use x=\"254.492188\" xlink:href=\"#DejaVuSans-48\"/>\n       <use x=\"318.115234\" xlink:href=\"#DejaVuSans-48\"/>\n      </g>\n     </g>\n    </g>\n   </g>\n   <g id=\"line2d_15\">\n    <path clip-path=\"url(#p6f574e0aed)\" d=\"M 188.453125 261.951327 \nL 231.653125 261.951327 \nL 231.653125 186.383398 \nL 188.453125 186.383398 \nL 188.453125 261.951327 \n\" style=\"fill:none;stroke:#1f77b4;stroke-linecap:square;\"/>\n   </g>\n   <g id=\"line2d_16\">\n    <path clip-path=\"url(#p6f574e0aed)\" d=\"M 210.053125 261.951327 \nL 210.053125 299.097521 \n\" style=\"fill:none;stroke:#1f77b4;stroke-linecap:square;\"/>\n   </g>\n   <g id=\"line2d_17\">\n    <path clip-path=\"url(#p6f574e0aed)\" d=\"M 210.053125 186.383398 \nL 210.053125 96.89034 \n\" style=\"fill:none;stroke:#1f77b4;stroke-linecap:square;\"/>\n   </g>\n   <g id=\"line2d_18\">\n    <path clip-path=\"url(#p6f574e0aed)\" d=\"M 199.253125 299.097521 \nL 220.853125 299.097521 \n\" style=\"fill:none;stroke:#000000;stroke-linecap:square;\"/>\n   </g>\n   <g id=\"line2d_19\">\n    <path clip-path=\"url(#p6f574e0aed)\" d=\"M 199.253125 96.89034 \nL 220.853125 96.89034 \n\" style=\"fill:none;stroke:#000000;stroke-linecap:square;\"/>\n   </g>\n   <g id=\"line2d_20\"/>\n   <g id=\"line2d_21\">\n    <path clip-path=\"url(#p6f574e0aed)\" d=\"M 476.453125 222.013082 \nL 519.653125 222.013082 \nL 519.653125 179.090772 \nL 476.453125 179.090772 \nL 476.453125 222.013082 \n\" style=\"fill:none;stroke:#1f77b4;stroke-linecap:square;\"/>\n   </g>\n   <g id=\"line2d_22\">\n    <path clip-path=\"url(#p6f574e0aed)\" d=\"M 498.053125 222.013082 \nL 498.053125 278.556323 \n\" style=\"fill:none;stroke:#1f77b4;stroke-linecap:square;\"/>\n   </g>\n   <g id=\"line2d_23\">\n    <path clip-path=\"url(#p6f574e0aed)\" d=\"M 498.053125 179.090772 \nL 498.053125 122.136072 \n\" style=\"fill:none;stroke:#1f77b4;stroke-linecap:square;\"/>\n   </g>\n   <g id=\"line2d_24\">\n    <path clip-path=\"url(#p6f574e0aed)\" d=\"M 487.253125 278.556323 \nL 508.853125 278.556323 \n\" style=\"fill:none;stroke:#000000;stroke-linecap:square;\"/>\n   </g>\n   <g id=\"line2d_25\">\n    <path clip-path=\"url(#p6f574e0aed)\" d=\"M 487.253125 122.136072 \nL 508.853125 122.136072 \n\" style=\"fill:none;stroke:#000000;stroke-linecap:square;\"/>\n   </g>\n   <g id=\"line2d_26\">\n    <defs>\n     <path d=\"M 0 3 \nC 0.795609 3 1.55874 2.683901 2.12132 2.12132 \nC 2.683901 1.55874 3 0.795609 3 0 \nC 3 -0.795609 2.683901 -1.55874 2.12132 -2.12132 \nC 1.55874 -2.683901 0.795609 -3 0 -3 \nC -0.795609 -3 -1.55874 -2.683901 -2.12132 -2.12132 \nC -2.683901 -1.55874 -3 -0.795609 -3 0 \nC -3 0.795609 -2.683901 1.55874 -2.12132 2.12132 \nC -1.55874 2.683901 -0.795609 3 0 3 \nz\n\" id=\"m3d4c175e3f\" style=\"stroke:#000000;\"/>\n    </defs>\n    <g clip-path=\"url(#p6f574e0aed)\">\n     <use style=\"fill-opacity:0;stroke:#000000;\" x=\"498.053125\" xlink:href=\"#m3d4c175e3f\" y=\"293.562553\"/>\n     <use style=\"fill-opacity:0;stroke:#000000;\" x=\"498.053125\" xlink:href=\"#m3d4c175e3f\" y=\"288.089811\"/>\n     <use style=\"fill-opacity:0;stroke:#000000;\" x=\"498.053125\" xlink:href=\"#m3d4c175e3f\" y=\"89.250127\"/>\n     <use style=\"fill-opacity:0;stroke:#000000;\" x=\"498.053125\" xlink:href=\"#m3d4c175e3f\" y=\"90.462923\"/>\n     <use style=\"fill-opacity:0;stroke:#000000;\" x=\"498.053125\" xlink:href=\"#m3d4c175e3f\" y=\"75.957025\"/>\n     <use style=\"fill-opacity:0;stroke:#000000;\" x=\"498.053125\" xlink:href=\"#m3d4c175e3f\" y=\"108.953639\"/>\n    </g>\n   </g>\n   <g id=\"line2d_27\">\n    <path clip-path=\"url(#p6f574e0aed)\" d=\"M 188.453125 210.381728 \nL 231.653125 210.381728 \n\" style=\"fill:none;stroke:#2ca02c;stroke-linecap:square;\"/>\n   </g>\n   <g id=\"line2d_28\">\n    <path clip-path=\"url(#p6f574e0aed)\" d=\"M 476.453125 203.874164 \nL 519.653125 203.874164 \n\" style=\"fill:none;stroke:#2ca02c;stroke-linecap:square;\"/>\n   </g>\n   <g id=\"patch_3\">\n    <path d=\"M 66.053125 310.254545 \nL 66.053125 64.8 \n\" style=\"fill:none;stroke:#000000;stroke-linecap:square;stroke-linejoin:miter;stroke-width:0.8;\"/>\n   </g>\n   <g id=\"patch_4\">\n    <path d=\"M 642.053125 310.254545 \nL 642.053125 64.8 \n\" style=\"fill:none;stroke:#000000;stroke-linecap:square;stroke-linejoin:miter;stroke-width:0.8;\"/>\n   </g>\n   <g id=\"patch_5\">\n    <path d=\"M 66.053125 310.254545 \nL 642.053125 310.254545 \n\" style=\"fill:none;stroke:#000000;stroke-linecap:square;stroke-linejoin:miter;stroke-width:0.8;\"/>\n   </g>\n   <g id=\"patch_6\">\n    <path d=\"M 66.053125 64.8 \nL 642.053125 64.8 \n\" style=\"fill:none;stroke:#000000;stroke-linecap:square;stroke-linejoin:miter;stroke-width:0.8;\"/>\n   </g>\n   <g id=\"text_9\">\n    <!-- income -->\n    <defs>\n     <path d=\"M 9.421875 54.6875 \nL 18.40625 54.6875 \nL 18.40625 0 \nL 9.421875 0 \nz\nM 9.421875 75.984375 \nL 18.40625 75.984375 \nL 18.40625 64.59375 \nL 9.421875 64.59375 \nz\n\" id=\"DejaVuSans-105\"/>\n     <path d=\"M 48.78125 52.59375 \nL 48.78125 44.1875 \nQ 44.96875 46.296875 41.140625 47.34375 \nQ 37.3125 48.390625 33.40625 48.390625 \nQ 24.65625 48.390625 19.8125 42.84375 \nQ 14.984375 37.3125 14.984375 27.296875 \nQ 14.984375 17.28125 19.8125 11.734375 \nQ 24.65625 6.203125 33.40625 6.203125 \nQ 37.3125 6.203125 41.140625 7.25 \nQ 44.96875 8.296875 48.78125 10.40625 \nL 48.78125 2.09375 \nQ 45.015625 0.34375 40.984375 -0.53125 \nQ 36.96875 -1.421875 32.421875 -1.421875 \nQ 20.0625 -1.421875 12.78125 6.34375 \nQ 5.515625 14.109375 5.515625 27.296875 \nQ 5.515625 40.671875 12.859375 48.328125 \nQ 20.21875 56 33.015625 56 \nQ 37.15625 56 41.109375 55.140625 \nQ 45.0625 54.296875 48.78125 52.59375 \nz\n\" id=\"DejaVuSans-99\"/>\n    </defs>\n    <g transform=\"translate(332.077188 58.8)scale(0.12 -0.12)\">\n     <use xlink:href=\"#DejaVuSans-105\"/>\n     <use x=\"27.783203\" xlink:href=\"#DejaVuSans-110\"/>\n     <use x=\"91.162109\" xlink:href=\"#DejaVuSans-99\"/>\n     <use x=\"146.142578\" xlink:href=\"#DejaVuSans-111\"/>\n     <use x=\"207.324219\" xlink:href=\"#DejaVuSans-109\"/>\n     <use x=\"304.736328\" xlink:href=\"#DejaVuSans-101\"/>\n    </g>\n   </g>\n  </g>\n  <g id=\"axes_2\">\n   <g id=\"patch_7\">\n    <path d=\"M 66.053125 604.8 \nL 642.053125 604.8 \nL 642.053125 359.345455 \nL 66.053125 359.345455 \nz\n\" style=\"fill:#ffffff;\"/>\n   </g>\n   <g id=\"matplotlib.axis_3\">\n    <g id=\"xtick_3\">\n     <g id=\"line2d_29\">\n      <g>\n       <use style=\"stroke:#000000;stroke-width:0.8;\" x=\"76.772037\" xlink:href=\"#m0febad08f1\" y=\"604.8\"/>\n      </g>\n     </g>\n     <g id=\"text_10\">\n      <!-- −3 -->\n      <defs>\n       <path d=\"M 10.59375 35.5 \nL 73.1875 35.5 \nL 73.1875 27.203125 \nL 10.59375 27.203125 \nz\n\" id=\"DejaVuSans-8722\"/>\n       <path d=\"M 40.578125 39.3125 \nQ 47.65625 37.796875 51.625 33 \nQ 55.609375 28.21875 55.609375 21.1875 \nQ 55.609375 10.40625 48.1875 4.484375 \nQ 40.765625 -1.421875 27.09375 -1.421875 \nQ 22.515625 -1.421875 17.65625 -0.515625 \nQ 12.796875 0.390625 7.625 2.203125 \nL 7.625 11.71875 \nQ 11.71875 9.328125 16.59375 8.109375 \nQ 21.484375 6.890625 26.8125 6.890625 \nQ 36.078125 6.890625 40.9375 10.546875 \nQ 45.796875 14.203125 45.796875 21.1875 \nQ 45.796875 27.640625 41.28125 31.265625 \nQ 36.765625 34.90625 28.71875 34.90625 \nL 20.21875 34.90625 \nL 20.21875 43.015625 \nL 29.109375 43.015625 \nQ 36.375 43.015625 40.234375 45.921875 \nQ 44.09375 48.828125 44.09375 54.296875 \nQ 44.09375 59.90625 40.109375 62.90625 \nQ 36.140625 65.921875 28.71875 65.921875 \nQ 24.65625 65.921875 20.015625 65.03125 \nQ 15.375 64.15625 9.8125 62.3125 \nL 9.8125 71.09375 \nQ 15.4375 72.65625 20.34375 73.4375 \nQ 25.25 74.21875 29.59375 74.21875 \nQ 40.828125 74.21875 47.359375 69.109375 \nQ 53.90625 64.015625 53.90625 55.328125 \nQ 53.90625 49.265625 50.4375 45.09375 \nQ 46.96875 40.921875 40.578125 39.3125 \nz\n\" id=\"DejaVuSans-51\"/>\n      </defs>\n      <g transform=\"translate(69.400943 619.398438)scale(0.1 -0.1)\">\n       <use xlink:href=\"#DejaVuSans-8722\"/>\n       <use x=\"83.789062\" xlink:href=\"#DejaVuSans-51\"/>\n      </g>\n     </g>\n    </g>\n    <g id=\"xtick_4\">\n     <g id=\"line2d_30\">\n      <g>\n       <use style=\"stroke:#000000;stroke-width:0.8;\" x=\"169.199066\" xlink:href=\"#m0febad08f1\" y=\"604.8\"/>\n      </g>\n     </g>\n     <g id=\"text_11\">\n      <!-- −2 -->\n      <g transform=\"translate(161.827973 619.398438)scale(0.1 -0.1)\">\n       <use xlink:href=\"#DejaVuSans-8722\"/>\n       <use x=\"83.789062\" xlink:href=\"#DejaVuSans-50\"/>\n      </g>\n     </g>\n    </g>\n    <g id=\"xtick_5\">\n     <g id=\"line2d_31\">\n      <g>\n       <use style=\"stroke:#000000;stroke-width:0.8;\" x=\"261.626096\" xlink:href=\"#m0febad08f1\" y=\"604.8\"/>\n      </g>\n     </g>\n     <g id=\"text_12\">\n      <!-- −1 -->\n      <g transform=\"translate(254.255002 619.398438)scale(0.1 -0.1)\">\n       <use xlink:href=\"#DejaVuSans-8722\"/>\n       <use x=\"83.789062\" xlink:href=\"#DejaVuSans-49\"/>\n      </g>\n     </g>\n    </g>\n    <g id=\"xtick_6\">\n     <g id=\"line2d_32\">\n      <g>\n       <use style=\"stroke:#000000;stroke-width:0.8;\" x=\"354.053125\" xlink:href=\"#m0febad08f1\" y=\"604.8\"/>\n      </g>\n     </g>\n     <g id=\"text_13\">\n      <!-- 0 -->\n      <g transform=\"translate(350.871875 619.398438)scale(0.1 -0.1)\">\n       <use xlink:href=\"#DejaVuSans-48\"/>\n      </g>\n     </g>\n    </g>\n    <g id=\"xtick_7\">\n     <g id=\"line2d_33\">\n      <g>\n       <use style=\"stroke:#000000;stroke-width:0.8;\" x=\"446.480154\" xlink:href=\"#m0febad08f1\" y=\"604.8\"/>\n      </g>\n     </g>\n     <g id=\"text_14\">\n      <!-- 1 -->\n      <g transform=\"translate(443.298904 619.398438)scale(0.1 -0.1)\">\n       <use xlink:href=\"#DejaVuSans-49\"/>\n      </g>\n     </g>\n    </g>\n    <g id=\"xtick_8\">\n     <g id=\"line2d_34\">\n      <g>\n       <use style=\"stroke:#000000;stroke-width:0.8;\" x=\"538.907184\" xlink:href=\"#m0febad08f1\" y=\"604.8\"/>\n      </g>\n     </g>\n     <g id=\"text_15\">\n      <!-- 2 -->\n      <g transform=\"translate(535.725934 619.398438)scale(0.1 -0.1)\">\n       <use xlink:href=\"#DejaVuSans-50\"/>\n      </g>\n     </g>\n    </g>\n    <g id=\"xtick_9\">\n     <g id=\"line2d_35\">\n      <g>\n       <use style=\"stroke:#000000;stroke-width:0.8;\" x=\"631.334213\" xlink:href=\"#m0febad08f1\" y=\"604.8\"/>\n      </g>\n     </g>\n     <g id=\"text_16\">\n      <!-- 3 -->\n      <g transform=\"translate(628.152963 619.398438)scale(0.1 -0.1)\">\n       <use xlink:href=\"#DejaVuSans-51\"/>\n      </g>\n     </g>\n    </g>\n    <g id=\"text_17\">\n     <!-- Theoretical quantiles -->\n     <defs>\n      <path d=\"M 18.3125 70.21875 \nL 18.3125 54.6875 \nL 36.8125 54.6875 \nL 36.8125 47.703125 \nL 18.3125 47.703125 \nL 18.3125 18.015625 \nQ 18.3125 11.328125 20.140625 9.421875 \nQ 21.96875 7.515625 27.59375 7.515625 \nL 36.8125 7.515625 \nL 36.8125 0 \nL 27.59375 0 \nQ 17.1875 0 13.234375 3.875 \nQ 9.28125 7.765625 9.28125 18.015625 \nL 9.28125 47.703125 \nL 2.6875 47.703125 \nL 2.6875 54.6875 \nL 9.28125 54.6875 \nL 9.28125 70.21875 \nz\n\" id=\"DejaVuSans-116\"/>\n      <path id=\"DejaVuSans-32\"/>\n      <path d=\"M 14.796875 27.296875 \nQ 14.796875 17.390625 18.875 11.75 \nQ 22.953125 6.109375 30.078125 6.109375 \nQ 37.203125 6.109375 41.296875 11.75 \nQ 45.40625 17.390625 45.40625 27.296875 \nQ 45.40625 37.203125 41.296875 42.84375 \nQ 37.203125 48.484375 30.078125 48.484375 \nQ 22.953125 48.484375 18.875 42.84375 \nQ 14.796875 37.203125 14.796875 27.296875 \nz\nM 45.40625 8.203125 \nQ 42.578125 3.328125 38.25 0.953125 \nQ 33.9375 -1.421875 27.875 -1.421875 \nQ 17.96875 -1.421875 11.734375 6.484375 \nQ 5.515625 14.40625 5.515625 27.296875 \nQ 5.515625 40.1875 11.734375 48.09375 \nQ 17.96875 56 27.875 56 \nQ 33.9375 56 38.25 53.625 \nQ 42.578125 51.265625 45.40625 46.390625 \nL 45.40625 54.6875 \nL 54.390625 54.6875 \nL 54.390625 -20.796875 \nL 45.40625 -20.796875 \nz\n\" id=\"DejaVuSans-113\"/>\n     </defs>\n     <g transform=\"translate(301.539062 633.076562)scale(0.1 -0.1)\">\n      <use xlink:href=\"#DejaVuSans-84\"/>\n      <use x=\"61.083984\" xlink:href=\"#DejaVuSans-104\"/>\n      <use x=\"124.462891\" xlink:href=\"#DejaVuSans-101\"/>\n      <use x=\"185.986328\" xlink:href=\"#DejaVuSans-111\"/>\n      <use x=\"247.167969\" xlink:href=\"#DejaVuSans-114\"/>\n      <use x=\"286.03125\" xlink:href=\"#DejaVuSans-101\"/>\n      <use x=\"347.554688\" xlink:href=\"#DejaVuSans-116\"/>\n      <use x=\"386.763672\" xlink:href=\"#DejaVuSans-105\"/>\n      <use x=\"414.546875\" xlink:href=\"#DejaVuSans-99\"/>\n      <use x=\"469.527344\" xlink:href=\"#DejaVuSans-97\"/>\n      <use x=\"530.806641\" xlink:href=\"#DejaVuSans-108\"/>\n      <use x=\"558.589844\" xlink:href=\"#DejaVuSans-32\"/>\n      <use x=\"590.376953\" xlink:href=\"#DejaVuSans-113\"/>\n      <use x=\"653.853516\" xlink:href=\"#DejaVuSans-117\"/>\n      <use x=\"717.232422\" xlink:href=\"#DejaVuSans-97\"/>\n      <use x=\"778.511719\" xlink:href=\"#DejaVuSans-110\"/>\n      <use x=\"841.890625\" xlink:href=\"#DejaVuSans-116\"/>\n      <use x=\"881.099609\" xlink:href=\"#DejaVuSans-105\"/>\n      <use x=\"908.882812\" xlink:href=\"#DejaVuSans-108\"/>\n      <use x=\"936.666016\" xlink:href=\"#DejaVuSans-101\"/>\n      <use x=\"998.189453\" xlink:href=\"#DejaVuSans-115\"/>\n     </g>\n    </g>\n   </g>\n   <g id=\"matplotlib.axis_4\">\n    <g id=\"ytick_6\">\n     <g id=\"line2d_36\">\n      <g>\n       <use style=\"stroke:#000000;stroke-width:0.8;\" x=\"66.053125\" xlink:href=\"#m57680deb0b\" y=\"585.937294\"/>\n      </g>\n     </g>\n     <g id=\"text_18\">\n      <!-- 0 -->\n      <g transform=\"translate(52.690625 589.736512)scale(0.1 -0.1)\">\n       <use xlink:href=\"#DejaVuSans-48\"/>\n      </g>\n     </g>\n    </g>\n    <g id=\"ytick_7\">\n     <g id=\"line2d_37\">\n      <g>\n       <use style=\"stroke:#000000;stroke-width:0.8;\" x=\"66.053125\" xlink:href=\"#m57680deb0b\" y=\"546.346364\"/>\n      </g>\n     </g>\n     <g id=\"text_19\">\n      <!-- 20000 -->\n      <g transform=\"translate(27.240625 550.145583)scale(0.1 -0.1)\">\n       <use xlink:href=\"#DejaVuSans-50\"/>\n       <use x=\"63.623047\" xlink:href=\"#DejaVuSans-48\"/>\n       <use x=\"127.246094\" xlink:href=\"#DejaVuSans-48\"/>\n       <use x=\"190.869141\" xlink:href=\"#DejaVuSans-48\"/>\n       <use x=\"254.492188\" xlink:href=\"#DejaVuSans-48\"/>\n      </g>\n     </g>\n    </g>\n    <g id=\"ytick_8\">\n     <g id=\"line2d_38\">\n      <g>\n       <use style=\"stroke:#000000;stroke-width:0.8;\" x=\"66.053125\" xlink:href=\"#m57680deb0b\" y=\"506.755434\"/>\n      </g>\n     </g>\n     <g id=\"text_20\">\n      <!-- 40000 -->\n      <g transform=\"translate(27.240625 510.554653)scale(0.1 -0.1)\">\n       <use xlink:href=\"#DejaVuSans-52\"/>\n       <use x=\"63.623047\" xlink:href=\"#DejaVuSans-48\"/>\n       <use x=\"127.246094\" xlink:href=\"#DejaVuSans-48\"/>\n       <use x=\"190.869141\" xlink:href=\"#DejaVuSans-48\"/>\n       <use x=\"254.492188\" xlink:href=\"#DejaVuSans-48\"/>\n      </g>\n     </g>\n    </g>\n    <g id=\"ytick_9\">\n     <g id=\"line2d_39\">\n      <g>\n       <use style=\"stroke:#000000;stroke-width:0.8;\" x=\"66.053125\" xlink:href=\"#m57680deb0b\" y=\"467.164504\"/>\n      </g>\n     </g>\n     <g id=\"text_21\">\n      <!-- 60000 -->\n      <g transform=\"translate(27.240625 470.963723)scale(0.1 -0.1)\">\n       <use xlink:href=\"#DejaVuSans-54\"/>\n       <use x=\"63.623047\" xlink:href=\"#DejaVuSans-48\"/>\n       <use x=\"127.246094\" xlink:href=\"#DejaVuSans-48\"/>\n       <use x=\"190.869141\" xlink:href=\"#DejaVuSans-48\"/>\n       <use x=\"254.492188\" xlink:href=\"#DejaVuSans-48\"/>\n      </g>\n     </g>\n    </g>\n    <g id=\"ytick_10\">\n     <g id=\"line2d_40\">\n      <g>\n       <use style=\"stroke:#000000;stroke-width:0.8;\" x=\"66.053125\" xlink:href=\"#m57680deb0b\" y=\"427.573574\"/>\n      </g>\n     </g>\n     <g id=\"text_22\">\n      <!-- 80000 -->\n      <g transform=\"translate(27.240625 431.372793)scale(0.1 -0.1)\">\n       <use xlink:href=\"#DejaVuSans-56\"/>\n       <use x=\"63.623047\" xlink:href=\"#DejaVuSans-48\"/>\n       <use x=\"127.246094\" xlink:href=\"#DejaVuSans-48\"/>\n       <use x=\"190.869141\" xlink:href=\"#DejaVuSans-48\"/>\n       <use x=\"254.492188\" xlink:href=\"#DejaVuSans-48\"/>\n      </g>\n     </g>\n    </g>\n    <g id=\"ytick_11\">\n     <g id=\"line2d_41\">\n      <g>\n       <use style=\"stroke:#000000;stroke-width:0.8;\" x=\"66.053125\" xlink:href=\"#m57680deb0b\" y=\"387.982644\"/>\n      </g>\n     </g>\n     <g id=\"text_23\">\n      <!-- 100000 -->\n      <g transform=\"translate(20.878125 391.781863)scale(0.1 -0.1)\">\n       <use xlink:href=\"#DejaVuSans-49\"/>\n       <use x=\"63.623047\" xlink:href=\"#DejaVuSans-48\"/>\n       <use x=\"127.246094\" xlink:href=\"#DejaVuSans-48\"/>\n       <use x=\"190.869141\" xlink:href=\"#DejaVuSans-48\"/>\n       <use x=\"254.492188\" xlink:href=\"#DejaVuSans-48\"/>\n       <use x=\"318.115234\" xlink:href=\"#DejaVuSans-48\"/>\n      </g>\n     </g>\n    </g>\n    <g id=\"text_24\">\n     <!-- Ordered Values -->\n     <defs>\n      <path d=\"M 39.40625 66.21875 \nQ 28.65625 66.21875 22.328125 58.203125 \nQ 16.015625 50.203125 16.015625 36.375 \nQ 16.015625 22.609375 22.328125 14.59375 \nQ 28.65625 6.59375 39.40625 6.59375 \nQ 50.140625 6.59375 56.421875 14.59375 \nQ 62.703125 22.609375 62.703125 36.375 \nQ 62.703125 50.203125 56.421875 58.203125 \nQ 50.140625 66.21875 39.40625 66.21875 \nz\nM 39.40625 74.21875 \nQ 54.734375 74.21875 63.90625 63.9375 \nQ 73.09375 53.65625 73.09375 36.375 \nQ 73.09375 19.140625 63.90625 8.859375 \nQ 54.734375 -1.421875 39.40625 -1.421875 \nQ 24.03125 -1.421875 14.8125 8.828125 \nQ 5.609375 19.09375 5.609375 36.375 \nQ 5.609375 53.65625 14.8125 63.9375 \nQ 24.03125 74.21875 39.40625 74.21875 \nz\n\" id=\"DejaVuSans-79\"/>\n      <path d=\"M 45.40625 46.390625 \nL 45.40625 75.984375 \nL 54.390625 75.984375 \nL 54.390625 0 \nL 45.40625 0 \nL 45.40625 8.203125 \nQ 42.578125 3.328125 38.25 0.953125 \nQ 33.9375 -1.421875 27.875 -1.421875 \nQ 17.96875 -1.421875 11.734375 6.484375 \nQ 5.515625 14.40625 5.515625 27.296875 \nQ 5.515625 40.1875 11.734375 48.09375 \nQ 17.96875 56 27.875 56 \nQ 33.9375 56 38.25 53.625 \nQ 42.578125 51.265625 45.40625 46.390625 \nz\nM 14.796875 27.296875 \nQ 14.796875 17.390625 18.875 11.75 \nQ 22.953125 6.109375 30.078125 6.109375 \nQ 37.203125 6.109375 41.296875 11.75 \nQ 45.40625 17.390625 45.40625 27.296875 \nQ 45.40625 37.203125 41.296875 42.84375 \nQ 37.203125 48.484375 30.078125 48.484375 \nQ 22.953125 48.484375 18.875 42.84375 \nQ 14.796875 37.203125 14.796875 27.296875 \nz\n\" id=\"DejaVuSans-100\"/>\n      <path d=\"M 28.609375 0 \nL 0.78125 72.90625 \nL 11.078125 72.90625 \nL 34.1875 11.53125 \nL 57.328125 72.90625 \nL 67.578125 72.90625 \nL 39.796875 0 \nz\n\" id=\"DejaVuSans-86\"/>\n     </defs>\n     <g transform=\"translate(14.798438 520.346165)rotate(-90)scale(0.1 -0.1)\">\n      <use xlink:href=\"#DejaVuSans-79\"/>\n      <use x=\"78.710938\" xlink:href=\"#DejaVuSans-114\"/>\n      <use x=\"118.074219\" xlink:href=\"#DejaVuSans-100\"/>\n      <use x=\"181.550781\" xlink:href=\"#DejaVuSans-101\"/>\n      <use x=\"243.074219\" xlink:href=\"#DejaVuSans-114\"/>\n      <use x=\"281.9375\" xlink:href=\"#DejaVuSans-101\"/>\n      <use x=\"343.460938\" xlink:href=\"#DejaVuSans-100\"/>\n      <use x=\"406.9375\" xlink:href=\"#DejaVuSans-32\"/>\n      <use x=\"438.724609\" xlink:href=\"#DejaVuSans-86\"/>\n      <use x=\"499.382812\" xlink:href=\"#DejaVuSans-97\"/>\n      <use x=\"560.662109\" xlink:href=\"#DejaVuSans-108\"/>\n      <use x=\"588.445312\" xlink:href=\"#DejaVuSans-117\"/>\n      <use x=\"651.824219\" xlink:href=\"#DejaVuSans-101\"/>\n      <use x=\"713.347656\" xlink:href=\"#DejaVuSans-115\"/>\n     </g>\n    </g>\n   </g>\n   <g id=\"line2d_42\">\n    <defs>\n     <path d=\"M 0 3 \nC 0.795609 3 1.55874 2.683901 2.12132 2.12132 \nC 2.683901 1.55874 3 0.795609 3 0 \nC 3 -0.795609 2.683901 -1.55874 2.12132 -2.12132 \nC 1.55874 -2.683901 0.795609 -3 0 -3 \nC -0.795609 -3 -1.55874 -2.683901 -2.12132 -2.12132 \nC -2.683901 -1.55874 -3 -0.795609 -3 0 \nC -3 0.795609 -2.683901 1.55874 -2.12132 2.12132 \nC -1.55874 2.683901 -0.795609 3 0 3 \nz\n\" id=\"mb1b34f19b2\" style=\"stroke:#0000ff;\"/>\n    </defs>\n    <g clip-path=\"url(#p0ae56030d0)\">\n     <use style=\"fill:#0000ff;stroke:#0000ff;\" x=\"92.234943\" xlink:href=\"#mb1b34f19b2\" y=\"563.573745\"/>\n     <use style=\"fill:#0000ff;stroke:#0000ff;\" x=\"119.630349\" xlink:href=\"#mb1b34f19b2\" y=\"560.941559\"/>\n     <use style=\"fill:#0000ff;stroke:#0000ff;\" x=\"135.142044\" xlink:href=\"#mb1b34f19b2\" y=\"560.794738\"/>\n     <use style=\"fill:#0000ff;stroke:#0000ff;\" x=\"146.195879\" xlink:href=\"#mb1b34f19b2\" y=\"559.965633\"/>\n     <use style=\"fill:#0000ff;stroke:#0000ff;\" x=\"154.892831\" xlink:href=\"#mb1b34f19b2\" y=\"558.993527\"/>\n     <use style=\"fill:#0000ff;stroke:#0000ff;\" x=\"162.11796\" xlink:href=\"#mb1b34f19b2\" y=\"558.78464\"/>\n     <use style=\"fill:#0000ff;stroke:#0000ff;\" x=\"168.331241\" xlink:href=\"#mb1b34f19b2\" y=\"557.850635\"/>\n     <use style=\"fill:#0000ff;stroke:#0000ff;\" x=\"173.803595\" xlink:href=\"#mb1b34f19b2\" y=\"555.915596\"/>\n     <use style=\"fill:#0000ff;stroke:#0000ff;\" x=\"178.708584\" xlink:href=\"#mb1b34f19b2\" y=\"555.749466\"/>\n     <use style=\"fill:#0000ff;stroke:#0000ff;\" x=\"183.164346\" xlink:href=\"#mb1b34f19b2\" y=\"555.169434\"/>\n     <use style=\"fill:#0000ff;stroke:#0000ff;\" x=\"187.255074\" xlink:href=\"#mb1b34f19b2\" y=\"554.526104\"/>\n     <use style=\"fill:#0000ff;stroke:#0000ff;\" x=\"191.042969\" xlink:href=\"#mb1b34f19b2\" y=\"554.049376\"/>\n     <use style=\"fill:#0000ff;stroke:#0000ff;\" x=\"194.575343\" xlink:href=\"#mb1b34f19b2\" y=\"553.101094\"/>\n     <use style=\"fill:#0000ff;stroke:#0000ff;\" x=\"197.889051\" xlink:href=\"#mb1b34f19b2\" y=\"553.074731\"/>\n     <use style=\"fill:#0000ff;stroke:#0000ff;\" x=\"201.013389\" xlink:href=\"#mb1b34f19b2\" y=\"551.960972\"/>\n     <use style=\"fill:#0000ff;stroke:#0000ff;\" x=\"203.972042\" xlink:href=\"#mb1b34f19b2\" y=\"551.545406\"/>\n     <use style=\"fill:#0000ff;stroke:#0000ff;\" x=\"206.784444\" xlink:href=\"#mb1b34f19b2\" y=\"551.305128\"/>\n     <use style=\"fill:#0000ff;stroke:#0000ff;\" x=\"209.466747\" xlink:href=\"#mb1b34f19b2\" y=\"551.105424\"/>\n     <use style=\"fill:#0000ff;stroke:#0000ff;\" x=\"212.032526\" xlink:href=\"#mb1b34f19b2\" y=\"551.014338\"/>\n     <use style=\"fill:#0000ff;stroke:#0000ff;\" x=\"214.493305\" xlink:href=\"#mb1b34f19b2\" y=\"550.927289\"/>\n     <use style=\"fill:#0000ff;stroke:#0000ff;\" x=\"216.858955\" xlink:href=\"#mb1b34f19b2\" y=\"550.710785\"/>\n     <use style=\"fill:#0000ff;stroke:#0000ff;\" x=\"219.137996\" xlink:href=\"#mb1b34f19b2\" y=\"550.056305\"/>\n     <use style=\"fill:#0000ff;stroke:#0000ff;\" x=\"221.337839\" xlink:href=\"#mb1b34f19b2\" y=\"549.883157\"/>\n     <use style=\"fill:#0000ff;stroke:#0000ff;\" x=\"223.46497\" xlink:href=\"#mb1b34f19b2\" y=\"549.574614\"/>\n     <use style=\"fill:#0000ff;stroke:#0000ff;\" x=\"225.525099\" xlink:href=\"#mb1b34f19b2\" y=\"549.333535\"/>\n     <use style=\"fill:#0000ff;stroke:#0000ff;\" x=\"227.523281\" xlink:href=\"#mb1b34f19b2\" y=\"547.45044\"/>\n     <use style=\"fill:#0000ff;stroke:#0000ff;\" x=\"229.464015\" xlink:href=\"#mb1b34f19b2\" y=\"546.068161\"/>\n     <use style=\"fill:#0000ff;stroke:#0000ff;\" x=\"231.351322\" xlink:href=\"#mb1b34f19b2\" y=\"545.80057\"/>\n     <use style=\"fill:#0000ff;stroke:#0000ff;\" x=\"233.18881\" xlink:href=\"#mb1b34f19b2\" y=\"544.909846\"/>\n     <use style=\"fill:#0000ff;stroke:#0000ff;\" x=\"234.979732\" xlink:href=\"#mb1b34f19b2\" y=\"544.41814\"/>\n     <use style=\"fill:#0000ff;stroke:#0000ff;\" x=\"236.727031\" xlink:href=\"#mb1b34f19b2\" y=\"544.179753\"/>\n     <use style=\"fill:#0000ff;stroke:#0000ff;\" x=\"238.433376\" xlink:href=\"#mb1b34f19b2\" y=\"542.450788\"/>\n     <use style=\"fill:#0000ff;stroke:#0000ff;\" x=\"240.1012\" xlink:href=\"#mb1b34f19b2\" y=\"542.24266\"/>\n     <use style=\"fill:#0000ff;stroke:#0000ff;\" x=\"241.732723\" xlink:href=\"#mb1b34f19b2\" y=\"541.924726\"/>\n     <use style=\"fill:#0000ff;stroke:#0000ff;\" x=\"243.329978\" xlink:href=\"#mb1b34f19b2\" y=\"541.817599\"/>\n     <use style=\"fill:#0000ff;stroke:#0000ff;\" x=\"244.894834\" xlink:href=\"#mb1b34f19b2\" y=\"541.697669\"/>\n     <use style=\"fill:#0000ff;stroke:#0000ff;\" x=\"246.429011\" xlink:href=\"#mb1b34f19b2\" y=\"541.691612\"/>\n     <use style=\"fill:#0000ff;stroke:#0000ff;\" x=\"247.934094\" xlink:href=\"#mb1b34f19b2\" y=\"541.513569\"/>\n     <use style=\"fill:#0000ff;stroke:#0000ff;\" x=\"249.411551\" xlink:href=\"#mb1b34f19b2\" y=\"541.474038\"/>\n     <use style=\"fill:#0000ff;stroke:#0000ff;\" x=\"250.862744\" xlink:href=\"#mb1b34f19b2\" y=\"539.540579\"/>\n     <use style=\"fill:#0000ff;stroke:#0000ff;\" x=\"252.288933\" xlink:href=\"#mb1b34f19b2\" y=\"538.675096\"/>\n     <use style=\"fill:#0000ff;stroke:#0000ff;\" x=\"253.691296\" xlink:href=\"#mb1b34f19b2\" y=\"538.537641\"/>\n     <use style=\"fill:#0000ff;stroke:#0000ff;\" x=\"255.070927\" xlink:href=\"#mb1b34f19b2\" y=\"538.407634\"/>\n     <use style=\"fill:#0000ff;stroke:#0000ff;\" x=\"256.42885\" xlink:href=\"#mb1b34f19b2\" y=\"537.724565\"/>\n     <use style=\"fill:#0000ff;stroke:#0000ff;\" x=\"257.766021\" xlink:href=\"#mb1b34f19b2\" y=\"536.705827\"/>\n     <use style=\"fill:#0000ff;stroke:#0000ff;\" x=\"259.083337\" xlink:href=\"#mb1b34f19b2\" y=\"536.569453\"/>\n     <use style=\"fill:#0000ff;stroke:#0000ff;\" x=\"260.381638\" xlink:href=\"#mb1b34f19b2\" y=\"536.381219\"/>\n     <use style=\"fill:#0000ff;stroke:#0000ff;\" x=\"261.661715\" xlink:href=\"#mb1b34f19b2\" y=\"533.900798\"/>\n     <use style=\"fill:#0000ff;stroke:#0000ff;\" x=\"262.924312\" xlink:href=\"#mb1b34f19b2\" y=\"531.733587\"/>\n     <use style=\"fill:#0000ff;stroke:#0000ff;\" x=\"264.170127\" xlink:href=\"#mb1b34f19b2\" y=\"531.569077\"/>\n     <use style=\"fill:#0000ff;stroke:#0000ff;\" x=\"265.399824\" xlink:href=\"#mb1b34f19b2\" y=\"531.297274\"/>\n     <use style=\"fill:#0000ff;stroke:#0000ff;\" x=\"266.614024\" xlink:href=\"#mb1b34f19b2\" y=\"528.573943\"/>\n     <use style=\"fill:#0000ff;stroke:#0000ff;\" x=\"267.813319\" xlink:href=\"#mb1b34f19b2\" y=\"526.412627\"/>\n     <use style=\"fill:#0000ff;stroke:#0000ff;\" x=\"268.998267\" xlink:href=\"#mb1b34f19b2\" y=\"523.049891\"/>\n     <use style=\"fill:#0000ff;stroke:#0000ff;\" x=\"270.169398\" xlink:href=\"#mb1b34f19b2\" y=\"522.5659\"/>\n     <use style=\"fill:#0000ff;stroke:#0000ff;\" x=\"271.327213\" xlink:href=\"#mb1b34f19b2\" y=\"520.184824\"/>\n     <use style=\"fill:#0000ff;stroke:#0000ff;\" x=\"272.47219\" xlink:href=\"#mb1b34f19b2\" y=\"519.359206\"/>\n     <use style=\"fill:#0000ff;stroke:#0000ff;\" x=\"273.604783\" xlink:href=\"#mb1b34f19b2\" y=\"518.622714\"/>\n     <use style=\"fill:#0000ff;stroke:#0000ff;\" x=\"274.725423\" xlink:href=\"#mb1b34f19b2\" y=\"517.773815\"/>\n     <use style=\"fill:#0000ff;stroke:#0000ff;\" x=\"275.83452\" xlink:href=\"#mb1b34f19b2\" y=\"515.694354\"/>\n     <use style=\"fill:#0000ff;stroke:#0000ff;\" x=\"276.932468\" xlink:href=\"#mb1b34f19b2\" y=\"514.645108\"/>\n     <use style=\"fill:#0000ff;stroke:#0000ff;\" x=\"278.019639\" xlink:href=\"#mb1b34f19b2\" y=\"514.471362\"/>\n     <use style=\"fill:#0000ff;stroke:#0000ff;\" x=\"279.09639\" xlink:href=\"#mb1b34f19b2\" y=\"513.653077\"/>\n     <use style=\"fill:#0000ff;stroke:#0000ff;\" x=\"280.163064\" xlink:href=\"#mb1b34f19b2\" y=\"513.242404\"/>\n     <use style=\"fill:#0000ff;stroke:#0000ff;\" x=\"281.219986\" xlink:href=\"#mb1b34f19b2\" y=\"511.838429\"/>\n     <use style=\"fill:#0000ff;stroke:#0000ff;\" x=\"282.267469\" xlink:href=\"#mb1b34f19b2\" y=\"511.752826\"/>\n     <use style=\"fill:#0000ff;stroke:#0000ff;\" x=\"283.305812\" xlink:href=\"#mb1b34f19b2\" y=\"510.948441\"/>\n     <use style=\"fill:#0000ff;stroke:#0000ff;\" x=\"284.335302\" xlink:href=\"#mb1b34f19b2\" y=\"509.133375\"/>\n     <use style=\"fill:#0000ff;stroke:#0000ff;\" x=\"285.356214\" xlink:href=\"#mb1b34f19b2\" y=\"507.950373\"/>\n     <use style=\"fill:#0000ff;stroke:#0000ff;\" x=\"286.368812\" xlink:href=\"#mb1b34f19b2\" y=\"506.846518\"/>\n     <use style=\"fill:#0000ff;stroke:#0000ff;\" x=\"287.373351\" xlink:href=\"#mb1b34f19b2\" y=\"506.187237\"/>\n     <use style=\"fill:#0000ff;stroke:#0000ff;\" x=\"288.370075\" xlink:href=\"#mb1b34f19b2\" y=\"505.465743\"/>\n     <use style=\"fill:#0000ff;stroke:#0000ff;\" x=\"289.359218\" xlink:href=\"#mb1b34f19b2\" y=\"505.261152\"/>\n     <use style=\"fill:#0000ff;stroke:#0000ff;\" x=\"290.341007\" xlink:href=\"#mb1b34f19b2\" y=\"505.098497\"/>\n     <use style=\"fill:#0000ff;stroke:#0000ff;\" x=\"291.315658\" xlink:href=\"#mb1b34f19b2\" y=\"505.014254\"/>\n     <use style=\"fill:#0000ff;stroke:#0000ff;\" x=\"292.283383\" xlink:href=\"#mb1b34f19b2\" y=\"504.496354\"/>\n     <use style=\"fill:#0000ff;stroke:#0000ff;\" x=\"293.244383\" xlink:href=\"#mb1b34f19b2\" y=\"504.049395\"/>\n     <use style=\"fill:#0000ff;stroke:#0000ff;\" x=\"294.198854\" xlink:href=\"#mb1b34f19b2\" y=\"503.464663\"/>\n     <use style=\"fill:#0000ff;stroke:#0000ff;\" x=\"295.146984\" xlink:href=\"#mb1b34f19b2\" y=\"503.301169\"/>\n     <use style=\"fill:#0000ff;stroke:#0000ff;\" x=\"296.088955\" xlink:href=\"#mb1b34f19b2\" y=\"503.118284\"/>\n     <use style=\"fill:#0000ff;stroke:#0000ff;\" x=\"297.024944\" xlink:href=\"#mb1b34f19b2\" y=\"502.47547\"/>\n     <use style=\"fill:#0000ff;stroke:#0000ff;\" x=\"297.955121\" xlink:href=\"#mb1b34f19b2\" y=\"501.918616\"/>\n     <use style=\"fill:#0000ff;stroke:#0000ff;\" x=\"298.87965\" xlink:href=\"#mb1b34f19b2\" y=\"501.8113\"/>\n     <use style=\"fill:#0000ff;stroke:#0000ff;\" x=\"299.798692\" xlink:href=\"#mb1b34f19b2\" y=\"501.623961\"/>\n     <use style=\"fill:#0000ff;stroke:#0000ff;\" x=\"300.7124\" xlink:href=\"#mb1b34f19b2\" y=\"501.403729\"/>\n     <use style=\"fill:#0000ff;stroke:#0000ff;\" x=\"301.620925\" xlink:href=\"#mb1b34f19b2\" y=\"501.290202\"/>\n     <use style=\"fill:#0000ff;stroke:#0000ff;\" x=\"302.524412\" xlink:href=\"#mb1b34f19b2\" y=\"501.282569\"/>\n     <use style=\"fill:#0000ff;stroke:#0000ff;\" x=\"303.423001\" xlink:href=\"#mb1b34f19b2\" y=\"500.893666\"/>\n     <use style=\"fill:#0000ff;stroke:#0000ff;\" x=\"304.31683\" xlink:href=\"#mb1b34f19b2\" y=\"500.885478\"/>\n     <use style=\"fill:#0000ff;stroke:#0000ff;\" x=\"305.206032\" xlink:href=\"#mb1b34f19b2\" y=\"500.344741\"/>\n     <use style=\"fill:#0000ff;stroke:#0000ff;\" x=\"306.090736\" xlink:href=\"#mb1b34f19b2\" y=\"499.773728\"/>\n     <use style=\"fill:#0000ff;stroke:#0000ff;\" x=\"306.971066\" xlink:href=\"#mb1b34f19b2\" y=\"499.546987\"/>\n     <use style=\"fill:#0000ff;stroke:#0000ff;\" x=\"307.847146\" xlink:href=\"#mb1b34f19b2\" y=\"499.40644\"/>\n     <use style=\"fill:#0000ff;stroke:#0000ff;\" x=\"308.719094\" xlink:href=\"#mb1b34f19b2\" y=\"499.259254\"/>\n     <use style=\"fill:#0000ff;stroke:#0000ff;\" x=\"309.587026\" xlink:href=\"#mb1b34f19b2\" y=\"499.239212\"/>\n     <use style=\"fill:#0000ff;stroke:#0000ff;\" x=\"310.451055\" xlink:href=\"#mb1b34f19b2\" y=\"499.002297\"/>\n     <use style=\"fill:#0000ff;stroke:#0000ff;\" x=\"311.31129\" xlink:href=\"#mb1b34f19b2\" y=\"498.555512\"/>\n     <use style=\"fill:#0000ff;stroke:#0000ff;\" x=\"312.167838\" xlink:href=\"#mb1b34f19b2\" y=\"498.350184\"/>\n     <use style=\"fill:#0000ff;stroke:#0000ff;\" x=\"313.020803\" xlink:href=\"#mb1b34f19b2\" y=\"498.138543\"/>\n     <use style=\"fill:#0000ff;stroke:#0000ff;\" x=\"313.870289\" xlink:href=\"#mb1b34f19b2\" y=\"497.711826\"/>\n     <use style=\"fill:#0000ff;stroke:#0000ff;\" x=\"314.716393\" xlink:href=\"#mb1b34f19b2\" y=\"497.043154\"/>\n     <use style=\"fill:#0000ff;stroke:#0000ff;\" x=\"315.559214\" xlink:href=\"#mb1b34f19b2\" y=\"496.876796\"/>\n     <use style=\"fill:#0000ff;stroke:#0000ff;\" x=\"316.398846\" xlink:href=\"#mb1b34f19b2\" y=\"495.556934\"/>\n     <use style=\"fill:#0000ff;stroke:#0000ff;\" x=\"317.235382\" xlink:href=\"#mb1b34f19b2\" y=\"495.289751\"/>\n     <use style=\"fill:#0000ff;stroke:#0000ff;\" x=\"318.068913\" xlink:href=\"#mb1b34f19b2\" y=\"495.108343\"/>\n     <use style=\"fill:#0000ff;stroke:#0000ff;\" x=\"318.899527\" xlink:href=\"#mb1b34f19b2\" y=\"495.024704\"/>\n     <use style=\"fill:#0000ff;stroke:#0000ff;\" x=\"319.727312\" xlink:href=\"#mb1b34f19b2\" y=\"494.851687\"/>\n     <use style=\"fill:#0000ff;stroke:#0000ff;\" x=\"320.552353\" xlink:href=\"#mb1b34f19b2\" y=\"494.371085\"/>\n     <use style=\"fill:#0000ff;stroke:#0000ff;\" x=\"321.374733\" xlink:href=\"#mb1b34f19b2\" y=\"494.04302\"/>\n     <use style=\"fill:#0000ff;stroke:#0000ff;\" x=\"322.194534\" xlink:href=\"#mb1b34f19b2\" y=\"493.820216\"/>\n     <use style=\"fill:#0000ff;stroke:#0000ff;\" x=\"323.011836\" xlink:href=\"#mb1b34f19b2\" y=\"493.546101\"/>\n     <use style=\"fill:#0000ff;stroke:#0000ff;\" x=\"323.826718\" xlink:href=\"#mb1b34f19b2\" y=\"493.142734\"/>\n     <use style=\"fill:#0000ff;stroke:#0000ff;\" x=\"324.639257\" xlink:href=\"#mb1b34f19b2\" y=\"492.124414\"/>\n     <use style=\"fill:#0000ff;stroke:#0000ff;\" x=\"325.44953\" xlink:href=\"#mb1b34f19b2\" y=\"491.963738\"/>\n     <use style=\"fill:#0000ff;stroke:#0000ff;\" x=\"326.25761\" xlink:href=\"#mb1b34f19b2\" y=\"491.863805\"/>\n     <use style=\"fill:#0000ff;stroke:#0000ff;\" x=\"327.06357\" xlink:href=\"#mb1b34f19b2\" y=\"491.840939\"/>\n     <use style=\"fill:#0000ff;stroke:#0000ff;\" x=\"327.867484\" xlink:href=\"#mb1b34f19b2\" y=\"491.787226\"/>\n     <use style=\"fill:#0000ff;stroke:#0000ff;\" x=\"328.669422\" xlink:href=\"#mb1b34f19b2\" y=\"491.721127\"/>\n     <use style=\"fill:#0000ff;stroke:#0000ff;\" x=\"329.469453\" xlink:href=\"#mb1b34f19b2\" y=\"491.153157\"/>\n     <use style=\"fill:#0000ff;stroke:#0000ff;\" x=\"330.267647\" xlink:href=\"#mb1b34f19b2\" y=\"491.05955\"/>\n     <use style=\"fill:#0000ff;stroke:#0000ff;\" x=\"331.06407\" xlink:href=\"#mb1b34f19b2\" y=\"490.92221\"/>\n     <use style=\"fill:#0000ff;stroke:#0000ff;\" x=\"331.85879\" xlink:href=\"#mb1b34f19b2\" y=\"490.916364\"/>\n     <use style=\"fill:#0000ff;stroke:#0000ff;\" x=\"332.651873\" xlink:href=\"#mb1b34f19b2\" y=\"490.679915\"/>\n     <use style=\"fill:#0000ff;stroke:#0000ff;\" x=\"333.443383\" xlink:href=\"#mb1b34f19b2\" y=\"490.623436\"/>\n     <use style=\"fill:#0000ff;stroke:#0000ff;\" x=\"334.233385\" xlink:href=\"#mb1b34f19b2\" y=\"489.89889\"/>\n     <use style=\"fill:#0000ff;stroke:#0000ff;\" x=\"335.021941\" xlink:href=\"#mb1b34f19b2\" y=\"489.677173\"/>\n     <use style=\"fill:#0000ff;stroke:#0000ff;\" x=\"335.809114\" xlink:href=\"#mb1b34f19b2\" y=\"489.495605\"/>\n     <use style=\"fill:#0000ff;stroke:#0000ff;\" x=\"336.594966\" xlink:href=\"#mb1b34f19b2\" y=\"488.94664\"/>\n     <use style=\"fill:#0000ff;stroke:#0000ff;\" x=\"337.379558\" xlink:href=\"#mb1b34f19b2\" y=\"488.930327\"/>\n     <use style=\"fill:#0000ff;stroke:#0000ff;\" x=\"338.162951\" xlink:href=\"#mb1b34f19b2\" y=\"488.785025\"/>\n     <use style=\"fill:#0000ff;stroke:#0000ff;\" x=\"338.945203\" xlink:href=\"#mb1b34f19b2\" y=\"488.782467\"/>\n     <use style=\"fill:#0000ff;stroke:#0000ff;\" x=\"339.726375\" xlink:href=\"#mb1b34f19b2\" y=\"488.533338\"/>\n     <use style=\"fill:#0000ff;stroke:#0000ff;\" x=\"340.506525\" xlink:href=\"#mb1b34f19b2\" y=\"488.442369\"/>\n     <use style=\"fill:#0000ff;stroke:#0000ff;\" x=\"341.285711\" xlink:href=\"#mb1b34f19b2\" y=\"488.022801\"/>\n     <use style=\"fill:#0000ff;stroke:#0000ff;\" x=\"342.06399\" xlink:href=\"#mb1b34f19b2\" y=\"487.274346\"/>\n     <use style=\"fill:#0000ff;stroke:#0000ff;\" x=\"342.841421\" xlink:href=\"#mb1b34f19b2\" y=\"486.917359\"/>\n     <use style=\"fill:#0000ff;stroke:#0000ff;\" x=\"343.618059\" xlink:href=\"#mb1b34f19b2\" y=\"486.812822\"/>\n     <use style=\"fill:#0000ff;stroke:#0000ff;\" x=\"344.39396\" xlink:href=\"#mb1b34f19b2\" y=\"486.740931\"/>\n     <use style=\"fill:#0000ff;stroke:#0000ff;\" x=\"345.169182\" xlink:href=\"#mb1b34f19b2\" y=\"486.146528\"/>\n     <use style=\"fill:#0000ff;stroke:#0000ff;\" x=\"345.943779\" xlink:href=\"#mb1b34f19b2\" y=\"486.085479\"/>\n     <use style=\"fill:#0000ff;stroke:#0000ff;\" x=\"346.717807\" xlink:href=\"#mb1b34f19b2\" y=\"485.6824\"/>\n     <use style=\"fill:#0000ff;stroke:#0000ff;\" x=\"347.491321\" xlink:href=\"#mb1b34f19b2\" y=\"485.529886\"/>\n     <use style=\"fill:#0000ff;stroke:#0000ff;\" x=\"348.264376\" xlink:href=\"#mb1b34f19b2\" y=\"485.523112\"/>\n     <use style=\"fill:#0000ff;stroke:#0000ff;\" x=\"349.037026\" xlink:href=\"#mb1b34f19b2\" y=\"485.437809\"/>\n     <use style=\"fill:#0000ff;stroke:#0000ff;\" x=\"349.809325\" xlink:href=\"#mb1b34f19b2\" y=\"485.174202\"/>\n     <use style=\"fill:#0000ff;stroke:#0000ff;\" x=\"350.581329\" xlink:href=\"#mb1b34f19b2\" y=\"484.857975\"/>\n     <use style=\"fill:#0000ff;stroke:#0000ff;\" x=\"351.35309\" xlink:href=\"#mb1b34f19b2\" y=\"484.791683\"/>\n     <use style=\"fill:#0000ff;stroke:#0000ff;\" x=\"352.124663\" xlink:href=\"#mb1b34f19b2\" y=\"484.77458\"/>\n     <use style=\"fill:#0000ff;stroke:#0000ff;\" x=\"352.896101\" xlink:href=\"#mb1b34f19b2\" y=\"484.674095\"/>\n     <use style=\"fill:#0000ff;stroke:#0000ff;\" x=\"353.667459\" xlink:href=\"#mb1b34f19b2\" y=\"483.942572\"/>\n     <use style=\"fill:#0000ff;stroke:#0000ff;\" x=\"354.438791\" xlink:href=\"#mb1b34f19b2\" y=\"483.799816\"/>\n     <use style=\"fill:#0000ff;stroke:#0000ff;\" x=\"355.210149\" xlink:href=\"#mb1b34f19b2\" y=\"483.69485\"/>\n     <use style=\"fill:#0000ff;stroke:#0000ff;\" x=\"355.981587\" xlink:href=\"#mb1b34f19b2\" y=\"483.693514\"/>\n     <use style=\"fill:#0000ff;stroke:#0000ff;\" x=\"356.75316\" xlink:href=\"#mb1b34f19b2\" y=\"483.441959\"/>\n     <use style=\"fill:#0000ff;stroke:#0000ff;\" x=\"357.524921\" xlink:href=\"#mb1b34f19b2\" y=\"482.82195\"/>\n     <use style=\"fill:#0000ff;stroke:#0000ff;\" x=\"358.296925\" xlink:href=\"#mb1b34f19b2\" y=\"482.739793\"/>\n     <use style=\"fill:#0000ff;stroke:#0000ff;\" x=\"359.069224\" xlink:href=\"#mb1b34f19b2\" y=\"482.699432\"/>\n     <use style=\"fill:#0000ff;stroke:#0000ff;\" x=\"359.841874\" xlink:href=\"#mb1b34f19b2\" y=\"482.667341\"/>\n     <use style=\"fill:#0000ff;stroke:#0000ff;\" x=\"360.614929\" xlink:href=\"#mb1b34f19b2\" y=\"482.539196\"/>\n     <use style=\"fill:#0000ff;stroke:#0000ff;\" x=\"361.388443\" xlink:href=\"#mb1b34f19b2\" y=\"482.046883\"/>\n     <use style=\"fill:#0000ff;stroke:#0000ff;\" x=\"362.162471\" xlink:href=\"#mb1b34f19b2\" y=\"481.997615\"/>\n     <use style=\"fill:#0000ff;stroke:#0000ff;\" x=\"362.937068\" xlink:href=\"#mb1b34f19b2\" y=\"481.972845\"/>\n     <use style=\"fill:#0000ff;stroke:#0000ff;\" x=\"363.71229\" xlink:href=\"#mb1b34f19b2\" y=\"481.182183\"/>\n     <use style=\"fill:#0000ff;stroke:#0000ff;\" x=\"364.488191\" xlink:href=\"#mb1b34f19b2\" y=\"480.953325\"/>\n     <use style=\"fill:#0000ff;stroke:#0000ff;\" x=\"365.264829\" xlink:href=\"#mb1b34f19b2\" y=\"480.864191\"/>\n     <use style=\"fill:#0000ff;stroke:#0000ff;\" x=\"366.04226\" xlink:href=\"#mb1b34f19b2\" y=\"480.181136\"/>\n     <use style=\"fill:#0000ff;stroke:#0000ff;\" x=\"366.820539\" xlink:href=\"#mb1b34f19b2\" y=\"479.917826\"/>\n     <use style=\"fill:#0000ff;stroke:#0000ff;\" x=\"367.599725\" xlink:href=\"#mb1b34f19b2\" y=\"479.893668\"/>\n     <use style=\"fill:#0000ff;stroke:#0000ff;\" x=\"368.379875\" xlink:href=\"#mb1b34f19b2\" y=\"479.354693\"/>\n     <use style=\"fill:#0000ff;stroke:#0000ff;\" x=\"369.161047\" xlink:href=\"#mb1b34f19b2\" y=\"479.322511\"/>\n     <use style=\"fill:#0000ff;stroke:#0000ff;\" x=\"369.943299\" xlink:href=\"#mb1b34f19b2\" y=\"479.062129\"/>\n     <use style=\"fill:#0000ff;stroke:#0000ff;\" x=\"370.726692\" xlink:href=\"#mb1b34f19b2\" y=\"478.604981\"/>\n     <use style=\"fill:#0000ff;stroke:#0000ff;\" x=\"371.511284\" xlink:href=\"#mb1b34f19b2\" y=\"478.423025\"/>\n     <use style=\"fill:#0000ff;stroke:#0000ff;\" x=\"372.297136\" xlink:href=\"#mb1b34f19b2\" y=\"478.172263\"/>\n     <use style=\"fill:#0000ff;stroke:#0000ff;\" x=\"373.084309\" xlink:href=\"#mb1b34f19b2\" y=\"477.959074\"/>\n     <use style=\"fill:#0000ff;stroke:#0000ff;\" x=\"373.872865\" xlink:href=\"#mb1b34f19b2\" y=\"477.807414\"/>\n     <use style=\"fill:#0000ff;stroke:#0000ff;\" x=\"374.662867\" xlink:href=\"#mb1b34f19b2\" y=\"477.598561\"/>\n     <use style=\"fill:#0000ff;stroke:#0000ff;\" x=\"375.454377\" xlink:href=\"#mb1b34f19b2\" y=\"477.55688\"/>\n     <use style=\"fill:#0000ff;stroke:#0000ff;\" x=\"376.24746\" xlink:href=\"#mb1b34f19b2\" y=\"476.334638\"/>\n     <use style=\"fill:#0000ff;stroke:#0000ff;\" x=\"377.04218\" xlink:href=\"#mb1b34f19b2\" y=\"476.235949\"/>\n     <use style=\"fill:#0000ff;stroke:#0000ff;\" x=\"377.838603\" xlink:href=\"#mb1b34f19b2\" y=\"476.10627\"/>\n     <use style=\"fill:#0000ff;stroke:#0000ff;\" x=\"378.636797\" xlink:href=\"#mb1b34f19b2\" y=\"475.282436\"/>\n     <use style=\"fill:#0000ff;stroke:#0000ff;\" x=\"379.436828\" xlink:href=\"#mb1b34f19b2\" y=\"475.108922\"/>\n     <use style=\"fill:#0000ff;stroke:#0000ff;\" x=\"380.238766\" xlink:href=\"#mb1b34f19b2\" y=\"475.034264\"/>\n     <use style=\"fill:#0000ff;stroke:#0000ff;\" x=\"381.04268\" xlink:href=\"#mb1b34f19b2\" y=\"474.755122\"/>\n     <use style=\"fill:#0000ff;stroke:#0000ff;\" x=\"381.84864\" xlink:href=\"#mb1b34f19b2\" y=\"474.475973\"/>\n     <use style=\"fill:#0000ff;stroke:#0000ff;\" x=\"382.65672\" xlink:href=\"#mb1b34f19b2\" y=\"474.455544\"/>\n     <use style=\"fill:#0000ff;stroke:#0000ff;\" x=\"383.466993\" xlink:href=\"#mb1b34f19b2\" y=\"474.176608\"/>\n     <use style=\"fill:#0000ff;stroke:#0000ff;\" x=\"384.279532\" xlink:href=\"#mb1b34f19b2\" y=\"474.092105\"/>\n     <use style=\"fill:#0000ff;stroke:#0000ff;\" x=\"385.094414\" xlink:href=\"#mb1b34f19b2\" y=\"473.748531\"/>\n     <use style=\"fill:#0000ff;stroke:#0000ff;\" x=\"385.911716\" xlink:href=\"#mb1b34f19b2\" y=\"473.576319\"/>\n     <use style=\"fill:#0000ff;stroke:#0000ff;\" x=\"386.731517\" xlink:href=\"#mb1b34f19b2\" y=\"473.57142\"/>\n     <use style=\"fill:#0000ff;stroke:#0000ff;\" x=\"387.553897\" xlink:href=\"#mb1b34f19b2\" y=\"473.074366\"/>\n     <use style=\"fill:#0000ff;stroke:#0000ff;\" x=\"388.378938\" xlink:href=\"#mb1b34f19b2\" y=\"472.704734\"/>\n     <use style=\"fill:#0000ff;stroke:#0000ff;\" x=\"389.206723\" xlink:href=\"#mb1b34f19b2\" y=\"472.618215\"/>\n     <use style=\"fill:#0000ff;stroke:#0000ff;\" x=\"390.037337\" xlink:href=\"#mb1b34f19b2\" y=\"472.533789\"/>\n     <use style=\"fill:#0000ff;stroke:#0000ff;\" x=\"390.870868\" xlink:href=\"#mb1b34f19b2\" y=\"471.396262\"/>\n     <use style=\"fill:#0000ff;stroke:#0000ff;\" x=\"391.707404\" xlink:href=\"#mb1b34f19b2\" y=\"471.372596\"/>\n     <use style=\"fill:#0000ff;stroke:#0000ff;\" x=\"392.547036\" xlink:href=\"#mb1b34f19b2\" y=\"471.32675\"/>\n     <use style=\"fill:#0000ff;stroke:#0000ff;\" x=\"393.389857\" xlink:href=\"#mb1b34f19b2\" y=\"471.053929\"/>\n     <use style=\"fill:#0000ff;stroke:#0000ff;\" x=\"394.235961\" xlink:href=\"#mb1b34f19b2\" y=\"470.969342\"/>\n     <use style=\"fill:#0000ff;stroke:#0000ff;\" x=\"395.085447\" xlink:href=\"#mb1b34f19b2\" y=\"470.650677\"/>\n     <use style=\"fill:#0000ff;stroke:#0000ff;\" x=\"395.938412\" xlink:href=\"#mb1b34f19b2\" y=\"470.23481\"/>\n     <use style=\"fill:#0000ff;stroke:#0000ff;\" x=\"396.79496\" xlink:href=\"#mb1b34f19b2\" y=\"469.968351\"/>\n     <use style=\"fill:#0000ff;stroke:#0000ff;\" x=\"397.655195\" xlink:href=\"#mb1b34f19b2\" y=\"469.869029\"/>\n     <use style=\"fill:#0000ff;stroke:#0000ff;\" x=\"398.519224\" xlink:href=\"#mb1b34f19b2\" y=\"469.771905\"/>\n     <use style=\"fill:#0000ff;stroke:#0000ff;\" x=\"399.387156\" xlink:href=\"#mb1b34f19b2\" y=\"469.615288\"/>\n     <use style=\"fill:#0000ff;stroke:#0000ff;\" x=\"400.259104\" xlink:href=\"#mb1b34f19b2\" y=\"469.493743\"/>\n     <use style=\"fill:#0000ff;stroke:#0000ff;\" x=\"401.135184\" xlink:href=\"#mb1b34f19b2\" y=\"469.41461\"/>\n     <use style=\"fill:#0000ff;stroke:#0000ff;\" x=\"402.015514\" xlink:href=\"#mb1b34f19b2\" y=\"468.763552\"/>\n     <use style=\"fill:#0000ff;stroke:#0000ff;\" x=\"402.900218\" xlink:href=\"#mb1b34f19b2\" y=\"468.489129\"/>\n     <use style=\"fill:#0000ff;stroke:#0000ff;\" x=\"403.78942\" xlink:href=\"#mb1b34f19b2\" y=\"468.453853\"/>\n     <use style=\"fill:#0000ff;stroke:#0000ff;\" x=\"404.683249\" xlink:href=\"#mb1b34f19b2\" y=\"468.190791\"/>\n     <use style=\"fill:#0000ff;stroke:#0000ff;\" x=\"405.581838\" xlink:href=\"#mb1b34f19b2\" y=\"467.337242\"/>\n     <use style=\"fill:#0000ff;stroke:#0000ff;\" x=\"406.485325\" xlink:href=\"#mb1b34f19b2\" y=\"467.216636\"/>\n     <use style=\"fill:#0000ff;stroke:#0000ff;\" x=\"407.39385\" xlink:href=\"#mb1b34f19b2\" y=\"466.982137\"/>\n     <use style=\"fill:#0000ff;stroke:#0000ff;\" x=\"408.307558\" xlink:href=\"#mb1b34f19b2\" y=\"466.422113\"/>\n     <use style=\"fill:#0000ff;stroke:#0000ff;\" x=\"409.2266\" xlink:href=\"#mb1b34f19b2\" y=\"465.793001\"/>\n     <use style=\"fill:#0000ff;stroke:#0000ff;\" x=\"410.151129\" xlink:href=\"#mb1b34f19b2\" y=\"465.689746\"/>\n     <use style=\"fill:#0000ff;stroke:#0000ff;\" x=\"411.081306\" xlink:href=\"#mb1b34f19b2\" y=\"465.674648\"/>\n     <use style=\"fill:#0000ff;stroke:#0000ff;\" x=\"412.017295\" xlink:href=\"#mb1b34f19b2\" y=\"465.377947\"/>\n     <use style=\"fill:#0000ff;stroke:#0000ff;\" x=\"412.959266\" xlink:href=\"#mb1b34f19b2\" y=\"465.350895\"/>\n     <use style=\"fill:#0000ff;stroke:#0000ff;\" x=\"413.907396\" xlink:href=\"#mb1b34f19b2\" y=\"464.91879\"/>\n     <use style=\"fill:#0000ff;stroke:#0000ff;\" x=\"414.861867\" xlink:href=\"#mb1b34f19b2\" y=\"464.465419\"/>\n     <use style=\"fill:#0000ff;stroke:#0000ff;\" x=\"415.822867\" xlink:href=\"#mb1b34f19b2\" y=\"462.90547\"/>\n     <use style=\"fill:#0000ff;stroke:#0000ff;\" x=\"416.790592\" xlink:href=\"#mb1b34f19b2\" y=\"462.738011\"/>\n     <use style=\"fill:#0000ff;stroke:#0000ff;\" x=\"417.765243\" xlink:href=\"#mb1b34f19b2\" y=\"461.452814\"/>\n     <use style=\"fill:#0000ff;stroke:#0000ff;\" x=\"418.747032\" xlink:href=\"#mb1b34f19b2\" y=\"461.450162\"/>\n     <use style=\"fill:#0000ff;stroke:#0000ff;\" x=\"419.736175\" xlink:href=\"#mb1b34f19b2\" y=\"461.210903\"/>\n     <use style=\"fill:#0000ff;stroke:#0000ff;\" x=\"420.732899\" xlink:href=\"#mb1b34f19b2\" y=\"460.687756\"/>\n     <use style=\"fill:#0000ff;stroke:#0000ff;\" x=\"421.737438\" xlink:href=\"#mb1b34f19b2\" y=\"460.666776\"/>\n     <use style=\"fill:#0000ff;stroke:#0000ff;\" x=\"422.750036\" xlink:href=\"#mb1b34f19b2\" y=\"460.652655\"/>\n     <use style=\"fill:#0000ff;stroke:#0000ff;\" x=\"423.770948\" xlink:href=\"#mb1b34f19b2\" y=\"460.383564\"/>\n     <use style=\"fill:#0000ff;stroke:#0000ff;\" x=\"424.800438\" xlink:href=\"#mb1b34f19b2\" y=\"460.199075\"/>\n     <use style=\"fill:#0000ff;stroke:#0000ff;\" x=\"425.838781\" xlink:href=\"#mb1b34f19b2\" y=\"459.73847\"/>\n     <use style=\"fill:#0000ff;stroke:#0000ff;\" x=\"426.886264\" xlink:href=\"#mb1b34f19b2\" y=\"459.027468\"/>\n     <use style=\"fill:#0000ff;stroke:#0000ff;\" x=\"427.943186\" xlink:href=\"#mb1b34f19b2\" y=\"458.662321\"/>\n     <use style=\"fill:#0000ff;stroke:#0000ff;\" x=\"429.00986\" xlink:href=\"#mb1b34f19b2\" y=\"458.461678\"/>\n     <use style=\"fill:#0000ff;stroke:#0000ff;\" x=\"430.086611\" xlink:href=\"#mb1b34f19b2\" y=\"458.406649\"/>\n     <use style=\"fill:#0000ff;stroke:#0000ff;\" x=\"431.173782\" xlink:href=\"#mb1b34f19b2\" y=\"456.698647\"/>\n     <use style=\"fill:#0000ff;stroke:#0000ff;\" x=\"432.27173\" xlink:href=\"#mb1b34f19b2\" y=\"456.281023\"/>\n     <use style=\"fill:#0000ff;stroke:#0000ff;\" x=\"433.380827\" xlink:href=\"#mb1b34f19b2\" y=\"456.097539\"/>\n     <use style=\"fill:#0000ff;stroke:#0000ff;\" x=\"434.501467\" xlink:href=\"#mb1b34f19b2\" y=\"455.795906\"/>\n     <use style=\"fill:#0000ff;stroke:#0000ff;\" x=\"435.63406\" xlink:href=\"#mb1b34f19b2\" y=\"454.886635\"/>\n     <use style=\"fill:#0000ff;stroke:#0000ff;\" x=\"436.779037\" xlink:href=\"#mb1b34f19b2\" y=\"454.635286\"/>\n     <use style=\"fill:#0000ff;stroke:#0000ff;\" x=\"437.936852\" xlink:href=\"#mb1b34f19b2\" y=\"454.062524\"/>\n     <use style=\"fill:#0000ff;stroke:#0000ff;\" x=\"439.107983\" xlink:href=\"#mb1b34f19b2\" y=\"453.84261\"/>\n     <use style=\"fill:#0000ff;stroke:#0000ff;\" x=\"440.292931\" xlink:href=\"#mb1b34f19b2\" y=\"453.725034\"/>\n     <use style=\"fill:#0000ff;stroke:#0000ff;\" x=\"441.492226\" xlink:href=\"#mb1b34f19b2\" y=\"453.313115\"/>\n     <use style=\"fill:#0000ff;stroke:#0000ff;\" x=\"442.706426\" xlink:href=\"#mb1b34f19b2\" y=\"453.194464\"/>\n     <use style=\"fill:#0000ff;stroke:#0000ff;\" x=\"443.936123\" xlink:href=\"#mb1b34f19b2\" y=\"451.464167\"/>\n     <use style=\"fill:#0000ff;stroke:#0000ff;\" x=\"445.181938\" xlink:href=\"#mb1b34f19b2\" y=\"450.64854\"/>\n     <use style=\"fill:#0000ff;stroke:#0000ff;\" x=\"446.444535\" xlink:href=\"#mb1b34f19b2\" y=\"450.049254\"/>\n     <use style=\"fill:#0000ff;stroke:#0000ff;\" x=\"447.724612\" xlink:href=\"#mb1b34f19b2\" y=\"449.081595\"/>\n     <use style=\"fill:#0000ff;stroke:#0000ff;\" x=\"449.022913\" xlink:href=\"#mb1b34f19b2\" y=\"447.968941\"/>\n     <use style=\"fill:#0000ff;stroke:#0000ff;\" x=\"450.340229\" xlink:href=\"#mb1b34f19b2\" y=\"447.21447\"/>\n     <use style=\"fill:#0000ff;stroke:#0000ff;\" x=\"451.6774\" xlink:href=\"#mb1b34f19b2\" y=\"447.058134\"/>\n     <use style=\"fill:#0000ff;stroke:#0000ff;\" x=\"453.035323\" xlink:href=\"#mb1b34f19b2\" y=\"446.196605\"/>\n     <use style=\"fill:#0000ff;stroke:#0000ff;\" x=\"454.414954\" xlink:href=\"#mb1b34f19b2\" y=\"444.875102\"/>\n     <use style=\"fill:#0000ff;stroke:#0000ff;\" x=\"455.817317\" xlink:href=\"#mb1b34f19b2\" y=\"444.662106\"/>\n     <use style=\"fill:#0000ff;stroke:#0000ff;\" x=\"457.243506\" xlink:href=\"#mb1b34f19b2\" y=\"443.827371\"/>\n     <use style=\"fill:#0000ff;stroke:#0000ff;\" x=\"458.694699\" xlink:href=\"#mb1b34f19b2\" y=\"443.632593\"/>\n     <use style=\"fill:#0000ff;stroke:#0000ff;\" x=\"460.172156\" xlink:href=\"#mb1b34f19b2\" y=\"443.10167\"/>\n     <use style=\"fill:#0000ff;stroke:#0000ff;\" x=\"461.677239\" xlink:href=\"#mb1b34f19b2\" y=\"442.405702\"/>\n     <use style=\"fill:#0000ff;stroke:#0000ff;\" x=\"463.211416\" xlink:href=\"#mb1b34f19b2\" y=\"441.354013\"/>\n     <use style=\"fill:#0000ff;stroke:#0000ff;\" x=\"464.776272\" xlink:href=\"#mb1b34f19b2\" y=\"439.512554\"/>\n     <use style=\"fill:#0000ff;stroke:#0000ff;\" x=\"466.373527\" xlink:href=\"#mb1b34f19b2\" y=\"438.076656\"/>\n     <use style=\"fill:#0000ff;stroke:#0000ff;\" x=\"468.00505\" xlink:href=\"#mb1b34f19b2\" y=\"437.916826\"/>\n     <use style=\"fill:#0000ff;stroke:#0000ff;\" x=\"469.672874\" xlink:href=\"#mb1b34f19b2\" y=\"437.857218\"/>\n     <use style=\"fill:#0000ff;stroke:#0000ff;\" x=\"471.379219\" xlink:href=\"#mb1b34f19b2\" y=\"437.672331\"/>\n     <use style=\"fill:#0000ff;stroke:#0000ff;\" x=\"473.126518\" xlink:href=\"#mb1b34f19b2\" y=\"437.533511\"/>\n     <use style=\"fill:#0000ff;stroke:#0000ff;\" x=\"474.91744\" xlink:href=\"#mb1b34f19b2\" y=\"437.472292\"/>\n     <use style=\"fill:#0000ff;stroke:#0000ff;\" x=\"476.754928\" xlink:href=\"#mb1b34f19b2\" y=\"436.61239\"/>\n     <use style=\"fill:#0000ff;stroke:#0000ff;\" x=\"478.642235\" xlink:href=\"#mb1b34f19b2\" y=\"436.373938\"/>\n     <use style=\"fill:#0000ff;stroke:#0000ff;\" x=\"480.582969\" xlink:href=\"#mb1b34f19b2\" y=\"435.376634\"/>\n     <use style=\"fill:#0000ff;stroke:#0000ff;\" x=\"482.581151\" xlink:href=\"#mb1b34f19b2\" y=\"434.3364\"/>\n     <use style=\"fill:#0000ff;stroke:#0000ff;\" x=\"484.64128\" xlink:href=\"#mb1b34f19b2\" y=\"432.928673\"/>\n     <use style=\"fill:#0000ff;stroke:#0000ff;\" x=\"486.768411\" xlink:href=\"#mb1b34f19b2\" y=\"432.85228\"/>\n     <use style=\"fill:#0000ff;stroke:#0000ff;\" x=\"488.968254\" xlink:href=\"#mb1b34f19b2\" y=\"432.348934\"/>\n     <use style=\"fill:#0000ff;stroke:#0000ff;\" x=\"491.247295\" xlink:href=\"#mb1b34f19b2\" y=\"431.174961\"/>\n     <use style=\"fill:#0000ff;stroke:#0000ff;\" x=\"493.612945\" xlink:href=\"#mb1b34f19b2\" y=\"429.931226\"/>\n     <use style=\"fill:#0000ff;stroke:#0000ff;\" x=\"496.073724\" xlink:href=\"#mb1b34f19b2\" y=\"429.638067\"/>\n     <use style=\"fill:#0000ff;stroke:#0000ff;\" x=\"498.639503\" xlink:href=\"#mb1b34f19b2\" y=\"429.426847\"/>\n     <use style=\"fill:#0000ff;stroke:#0000ff;\" x=\"501.321806\" xlink:href=\"#mb1b34f19b2\" y=\"427.420913\"/>\n     <use style=\"fill:#0000ff;stroke:#0000ff;\" x=\"504.134208\" xlink:href=\"#mb1b34f19b2\" y=\"425.664913\"/>\n     <use style=\"fill:#0000ff;stroke:#0000ff;\" x=\"507.092861\" xlink:href=\"#mb1b34f19b2\" y=\"419.147496\"/>\n     <use style=\"fill:#0000ff;stroke:#0000ff;\" x=\"510.217199\" xlink:href=\"#mb1b34f19b2\" y=\"417.726801\"/>\n     <use style=\"fill:#0000ff;stroke:#0000ff;\" x=\"513.530907\" xlink:href=\"#mb1b34f19b2\" y=\"417.369696\"/>\n     <use style=\"fill:#0000ff;stroke:#0000ff;\" x=\"517.063281\" xlink:href=\"#mb1b34f19b2\" y=\"416.573716\"/>\n     <use style=\"fill:#0000ff;stroke:#0000ff;\" x=\"520.851176\" xlink:href=\"#mb1b34f19b2\" y=\"415.96958\"/>\n     <use style=\"fill:#0000ff;stroke:#0000ff;\" x=\"524.941904\" xlink:href=\"#mb1b34f19b2\" y=\"414.369375\"/>\n     <use style=\"fill:#0000ff;stroke:#0000ff;\" x=\"529.397666\" xlink:href=\"#mb1b34f19b2\" y=\"411.738521\"/>\n     <use style=\"fill:#0000ff;stroke:#0000ff;\" x=\"534.302655\" xlink:href=\"#mb1b34f19b2\" y=\"410.458683\"/>\n     <use style=\"fill:#0000ff;stroke:#0000ff;\" x=\"539.775009\" xlink:href=\"#mb1b34f19b2\" y=\"403.189573\"/>\n     <use style=\"fill:#0000ff;stroke:#0000ff;\" x=\"545.98829\" xlink:href=\"#mb1b34f19b2\" y=\"399.052645\"/>\n     <use style=\"fill:#0000ff;stroke:#0000ff;\" x=\"553.213419\" xlink:href=\"#mb1b34f19b2\" y=\"395.802719\"/>\n     <use style=\"fill:#0000ff;stroke:#0000ff;\" x=\"561.910371\" xlink:href=\"#mb1b34f19b2\" y=\"388.614932\"/>\n     <use style=\"fill:#0000ff;stroke:#0000ff;\" x=\"572.964206\" xlink:href=\"#mb1b34f19b2\" y=\"383.053639\"/>\n     <use style=\"fill:#0000ff;stroke:#0000ff;\" x=\"588.475901\" xlink:href=\"#mb1b34f19b2\" y=\"382.004274\"/>\n     <use style=\"fill:#0000ff;stroke:#0000ff;\" x=\"615.871307\" xlink:href=\"#mb1b34f19b2\" y=\"370.502479\"/>\n    </g>\n   </g>\n   <g id=\"line2d_43\">\n    <path clip-path=\"url(#p0ae56030d0)\" d=\"M 92.234943 593.642975 \nL 615.871307 377.626531 \nL 615.871307 377.626531 \n\" style=\"fill:none;stroke:#ff0000;stroke-linecap:square;stroke-width:1.5;\"/>\n   </g>\n   <g id=\"patch_8\">\n    <path d=\"M 66.053125 604.8 \nL 66.053125 359.345455 \n\" style=\"fill:none;stroke:#000000;stroke-linecap:square;stroke-linejoin:miter;stroke-width:0.8;\"/>\n   </g>\n   <g id=\"patch_9\">\n    <path d=\"M 642.053125 604.8 \nL 642.053125 359.345455 \n\" style=\"fill:none;stroke:#000000;stroke-linecap:square;stroke-linejoin:miter;stroke-width:0.8;\"/>\n   </g>\n   <g id=\"patch_10\">\n    <path d=\"M 66.053125 604.8 \nL 642.053125 604.8 \n\" style=\"fill:none;stroke:#000000;stroke-linecap:square;stroke-linejoin:miter;stroke-width:0.8;\"/>\n   </g>\n   <g id=\"patch_11\">\n    <path d=\"M 66.053125 359.345455 \nL 642.053125 359.345455 \n\" style=\"fill:none;stroke:#000000;stroke-linecap:square;stroke-linejoin:miter;stroke-width:0.8;\"/>\n   </g>\n   <g id=\"text_25\">\n    <!-- Probability Plot -->\n    <defs>\n     <path d=\"M 19.671875 64.796875 \nL 19.671875 37.40625 \nL 32.078125 37.40625 \nQ 38.96875 37.40625 42.71875 40.96875 \nQ 46.484375 44.53125 46.484375 51.125 \nQ 46.484375 57.671875 42.71875 61.234375 \nQ 38.96875 64.796875 32.078125 64.796875 \nz\nM 9.8125 72.90625 \nL 32.078125 72.90625 \nQ 44.34375 72.90625 50.609375 67.359375 \nQ 56.890625 61.8125 56.890625 51.125 \nQ 56.890625 40.328125 50.609375 34.8125 \nQ 44.34375 29.296875 32.078125 29.296875 \nL 19.671875 29.296875 \nL 19.671875 0 \nL 9.8125 0 \nz\n\" id=\"DejaVuSans-80\"/>\n     <path d=\"M 48.6875 27.296875 \nQ 48.6875 37.203125 44.609375 42.84375 \nQ 40.53125 48.484375 33.40625 48.484375 \nQ 26.265625 48.484375 22.1875 42.84375 \nQ 18.109375 37.203125 18.109375 27.296875 \nQ 18.109375 17.390625 22.1875 11.75 \nQ 26.265625 6.109375 33.40625 6.109375 \nQ 40.53125 6.109375 44.609375 11.75 \nQ 48.6875 17.390625 48.6875 27.296875 \nz\nM 18.109375 46.390625 \nQ 20.953125 51.265625 25.265625 53.625 \nQ 29.59375 56 35.59375 56 \nQ 45.5625 56 51.78125 48.09375 \nQ 58.015625 40.1875 58.015625 27.296875 \nQ 58.015625 14.40625 51.78125 6.484375 \nQ 45.5625 -1.421875 35.59375 -1.421875 \nQ 29.59375 -1.421875 25.265625 0.953125 \nQ 20.953125 3.328125 18.109375 8.203125 \nL 18.109375 0 \nL 9.078125 0 \nL 9.078125 75.984375 \nL 18.109375 75.984375 \nz\n\" id=\"DejaVuSans-98\"/>\n     <path d=\"M 32.171875 -5.078125 \nQ 28.375 -14.84375 24.75 -17.8125 \nQ 21.140625 -20.796875 15.09375 -20.796875 \nL 7.90625 -20.796875 \nL 7.90625 -13.28125 \nL 13.1875 -13.28125 \nQ 16.890625 -13.28125 18.9375 -11.515625 \nQ 21 -9.765625 23.484375 -3.21875 \nL 25.09375 0.875 \nL 2.984375 54.6875 \nL 12.5 54.6875 \nL 29.59375 11.921875 \nL 46.6875 54.6875 \nL 56.203125 54.6875 \nz\n\" id=\"DejaVuSans-121\"/>\n    </defs>\n    <g transform=\"translate(309.123438 353.345455)scale(0.12 -0.12)\">\n     <use xlink:href=\"#DejaVuSans-80\"/>\n     <use x=\"58.552734\" xlink:href=\"#DejaVuSans-114\"/>\n     <use x=\"97.416016\" xlink:href=\"#DejaVuSans-111\"/>\n     <use x=\"158.597656\" xlink:href=\"#DejaVuSans-98\"/>\n     <use x=\"222.074219\" xlink:href=\"#DejaVuSans-97\"/>\n     <use x=\"283.353516\" xlink:href=\"#DejaVuSans-98\"/>\n     <use x=\"346.830078\" xlink:href=\"#DejaVuSans-105\"/>\n     <use x=\"374.613281\" xlink:href=\"#DejaVuSans-108\"/>\n     <use x=\"402.396484\" xlink:href=\"#DejaVuSans-105\"/>\n     <use x=\"430.179688\" xlink:href=\"#DejaVuSans-116\"/>\n     <use x=\"469.388672\" xlink:href=\"#DejaVuSans-121\"/>\n     <use x=\"528.568359\" xlink:href=\"#DejaVuSans-32\"/>\n     <use x=\"560.355469\" xlink:href=\"#DejaVuSans-80\"/>\n     <use x=\"620.658203\" xlink:href=\"#DejaVuSans-108\"/>\n     <use x=\"648.441406\" xlink:href=\"#DejaVuSans-111\"/>\n     <use x=\"709.623047\" xlink:href=\"#DejaVuSans-116\"/>\n    </g>\n   </g>\n  </g>\n  <g id=\"text_26\">\n   <!-- Boxplot grouped by own_home -->\n   <defs>\n    <path d=\"M 19.671875 34.8125 \nL 19.671875 8.109375 \nL 35.5 8.109375 \nQ 43.453125 8.109375 47.28125 11.40625 \nQ 51.125 14.703125 51.125 21.484375 \nQ 51.125 28.328125 47.28125 31.5625 \nQ 43.453125 34.8125 35.5 34.8125 \nz\nM 19.671875 64.796875 \nL 19.671875 42.828125 \nL 34.28125 42.828125 \nQ 41.5 42.828125 45.03125 45.53125 \nQ 48.578125 48.25 48.578125 53.8125 \nQ 48.578125 59.328125 45.03125 62.0625 \nQ 41.5 64.796875 34.28125 64.796875 \nz\nM 9.8125 72.90625 \nL 35.015625 72.90625 \nQ 46.296875 72.90625 52.390625 68.21875 \nQ 58.5 63.53125 58.5 54.890625 \nQ 58.5 48.1875 55.375 44.234375 \nQ 52.25 40.28125 46.1875 39.3125 \nQ 53.46875 37.75 57.5 32.78125 \nQ 61.53125 27.828125 61.53125 20.40625 \nQ 61.53125 10.640625 54.890625 5.3125 \nQ 48.25 0 35.984375 0 \nL 9.8125 0 \nz\n\" id=\"DejaVuSans-66\"/>\n    <path d=\"M 54.890625 54.6875 \nL 35.109375 28.078125 \nL 55.90625 0 \nL 45.3125 0 \nL 29.390625 21.484375 \nL 13.484375 0 \nL 2.875 0 \nL 24.125 28.609375 \nL 4.6875 54.6875 \nL 15.28125 54.6875 \nL 29.78125 35.203125 \nL 44.28125 54.6875 \nz\n\" id=\"DejaVuSans-120\"/>\n    <path d=\"M 18.109375 8.203125 \nL 18.109375 -20.796875 \nL 9.078125 -20.796875 \nL 9.078125 54.6875 \nL 18.109375 54.6875 \nL 18.109375 46.390625 \nQ 20.953125 51.265625 25.265625 53.625 \nQ 29.59375 56 35.59375 56 \nQ 45.5625 56 51.78125 48.09375 \nQ 58.015625 40.1875 58.015625 27.296875 \nQ 58.015625 14.40625 51.78125 6.484375 \nQ 45.5625 -1.421875 35.59375 -1.421875 \nQ 29.59375 -1.421875 25.265625 0.953125 \nQ 20.953125 3.328125 18.109375 8.203125 \nz\nM 48.6875 27.296875 \nQ 48.6875 37.203125 44.609375 42.84375 \nQ 40.53125 48.484375 33.40625 48.484375 \nQ 26.265625 48.484375 22.1875 42.84375 \nQ 18.109375 37.203125 18.109375 27.296875 \nQ 18.109375 17.390625 22.1875 11.75 \nQ 26.265625 6.109375 33.40625 6.109375 \nQ 40.53125 6.109375 44.609375 11.75 \nQ 48.6875 17.390625 48.6875 27.296875 \nz\n\" id=\"DejaVuSans-112\"/>\n    <path d=\"M 45.40625 27.984375 \nQ 45.40625 37.75 41.375 43.109375 \nQ 37.359375 48.484375 30.078125 48.484375 \nQ 22.859375 48.484375 18.828125 43.109375 \nQ 14.796875 37.75 14.796875 27.984375 \nQ 14.796875 18.265625 18.828125 12.890625 \nQ 22.859375 7.515625 30.078125 7.515625 \nQ 37.359375 7.515625 41.375 12.890625 \nQ 45.40625 18.265625 45.40625 27.984375 \nz\nM 54.390625 6.78125 \nQ 54.390625 -7.171875 48.1875 -13.984375 \nQ 42 -20.796875 29.203125 -20.796875 \nQ 24.46875 -20.796875 20.265625 -20.09375 \nQ 16.0625 -19.390625 12.109375 -17.921875 \nL 12.109375 -9.1875 \nQ 16.0625 -11.328125 19.921875 -12.34375 \nQ 23.78125 -13.375 27.78125 -13.375 \nQ 36.625 -13.375 41.015625 -8.765625 \nQ 45.40625 -4.15625 45.40625 5.171875 \nL 45.40625 9.625 \nQ 42.625 4.78125 38.28125 2.390625 \nQ 33.9375 0 27.875 0 \nQ 17.828125 0 11.671875 7.65625 \nQ 5.515625 15.328125 5.515625 27.984375 \nQ 5.515625 40.671875 11.671875 48.328125 \nQ 17.828125 56 27.875 56 \nQ 33.9375 56 38.28125 53.609375 \nQ 42.625 51.21875 45.40625 46.390625 \nL 45.40625 54.6875 \nL 54.390625 54.6875 \nz\n\" id=\"DejaVuSans-103\"/>\n   </defs>\n   <g transform=\"translate(261.00625 16.318125)scale(0.12 -0.12)\">\n    <use xlink:href=\"#DejaVuSans-66\"/>\n    <use x=\"68.603516\" xlink:href=\"#DejaVuSans-111\"/>\n    <use x=\"126.660156\" xlink:href=\"#DejaVuSans-120\"/>\n    <use x=\"185.839844\" xlink:href=\"#DejaVuSans-112\"/>\n    <use x=\"249.316406\" xlink:href=\"#DejaVuSans-108\"/>\n    <use x=\"277.099609\" xlink:href=\"#DejaVuSans-111\"/>\n    <use x=\"338.28125\" xlink:href=\"#DejaVuSans-116\"/>\n    <use x=\"377.490234\" xlink:href=\"#DejaVuSans-32\"/>\n    <use x=\"409.277344\" xlink:href=\"#DejaVuSans-103\"/>\n    <use x=\"472.753906\" xlink:href=\"#DejaVuSans-114\"/>\n    <use x=\"511.617188\" xlink:href=\"#DejaVuSans-111\"/>\n    <use x=\"572.798828\" xlink:href=\"#DejaVuSans-117\"/>\n    <use x=\"636.177734\" xlink:href=\"#DejaVuSans-112\"/>\n    <use x=\"699.654297\" xlink:href=\"#DejaVuSans-101\"/>\n    <use x=\"761.177734\" xlink:href=\"#DejaVuSans-100\"/>\n    <use x=\"824.654297\" xlink:href=\"#DejaVuSans-32\"/>\n    <use x=\"856.441406\" xlink:href=\"#DejaVuSans-98\"/>\n    <use x=\"919.917969\" xlink:href=\"#DejaVuSans-121\"/>\n    <use x=\"979.097656\" xlink:href=\"#DejaVuSans-32\"/>\n    <use x=\"1010.884766\" xlink:href=\"#DejaVuSans-111\"/>\n    <use x=\"1072.066406\" xlink:href=\"#DejaVuSans-119\"/>\n    <use x=\"1153.853516\" xlink:href=\"#DejaVuSans-110\"/>\n    <use x=\"1217.232422\" xlink:href=\"#DejaVuSans-95\"/>\n    <use x=\"1267.232422\" xlink:href=\"#DejaVuSans-104\"/>\n    <use x=\"1330.611328\" xlink:href=\"#DejaVuSans-111\"/>\n    <use x=\"1391.792969\" xlink:href=\"#DejaVuSans-109\"/>\n    <use x=\"1489.205078\" xlink:href=\"#DejaVuSans-101\"/>\n   </g>\n  </g>\n </g>\n <defs>\n  <clipPath id=\"p6f574e0aed\">\n   <rect height=\"245.454545\" width=\"576\" x=\"66.053125\" y=\"64.8\"/>\n  </clipPath>\n  <clipPath id=\"p0ae56030d0\">\n   <rect height=\"245.454545\" width=\"576\" x=\"66.053125\" y=\"359.345455\"/>\n  </clipPath>\n </defs>\n</svg>\n"
          },
          "metadata": {
            "needs_background": "light"
          }
        }
      ]
    },
    {
      "cell_type": "code",
      "metadata": {
        "id": "kZ3UZJwih79J",
        "colab": {
          "base_uri": "https://localhost:8080/"
        },
        "outputId": "c7caae36-c770-4200-8c38-766db2519d98"
      },
      "source": [
        "# first check the means and std\n",
        "income_dont_own_home.mean(), income_dont_own_home.std()"
      ],
      "execution_count": 30,
      "outputs": [
        {
          "output_type": "execute_result",
          "data": {
            "text/plain": [
              "(46892.35166199144, 20335.071080860198)"
            ]
          },
          "metadata": {},
          "execution_count": 30
        }
      ]
    },
    {
      "cell_type": "code",
      "metadata": {
        "id": "xS4bEUk8h-gy",
        "colab": {
          "base_uri": "https://localhost:8080/"
        },
        "outputId": "e7fe2600-cc94-4e1c-d1bc-ee4689ed75d2"
      },
      "source": [
        "income_own_home.mean(), income_own_home.std()"
      ],
      "execution_count": 31,
      "outputs": [
        {
          "output_type": "execute_result",
          "data": {
            "text/plain": [
              "(55412.13190716664, 16917.48247661933)"
            ]
          },
          "metadata": {},
          "execution_count": 31
        }
      ]
    },
    {
      "cell_type": "markdown",
      "metadata": {
        "id": "mw5nBgxkkWq-"
      },
      "source": [
        "# T-test\n",
        "# Null Hypotheis\n",
        "There is no difference in income by home ownership"
      ]
    },
    {
      "cell_type": "code",
      "metadata": {
        "id": "3cQemVbcqhWb",
        "colab": {
          "base_uri": "https://localhost:8080/"
        },
        "outputId": "6bd06498-1f94-4e92-fc27-32928320afff"
      },
      "source": [
        "stats.ttest_ind(income_dont_own_home, income_own_home,\n",
        "                equal_var=False)"
      ],
      "execution_count": 32,
      "outputs": [
        {
          "output_type": "execute_result",
          "data": {
            "text/plain": [
              "Ttest_indResult(statistic=-3.960321465078199, pvalue=9.372809221211885e-05)"
            ]
          },
          "metadata": {},
          "execution_count": 32
        }
      ]
    },
    {
      "cell_type": "markdown",
      "metadata": {
        "id": "bFbBGeitj_Od"
      },
      "source": [
        "## Result of T-test\n",
        "Very small p-value. Succeed to reject the Null (i.e reject There is no difference in income by home ownership)\n"
      ]
    },
    {
      "cell_type": "markdown",
      "metadata": {
        "id": "Fh515wDIlXZ8"
      },
      "source": [
        "Additionally, it would be valuable to look at the 95% confidence interval of the difference in mean income between home\n",
        "owners and non-home owners.\n",
        "\n",
        "Use the stats.t.interval(alpha, df, loc, scale), where\n",
        "\n",
        "# **scale =Geometric Means of the Standard Errors of both groups**  \n",
        "\n",
        "\n",
        "\n",
        "```\n",
        " stats.t.interval(alpha=0.95,\n",
        "                 df=dof,\n",
        "                 loc=income_dont_own_home.mean()\\\n",
        "                     - income_own_home.mean(),\n",
        "                 scale=geometric_mean_sem)\n",
        "\n",
        "# alpha = interval width (e.g., 0.95),\n",
        "# df =degrees of freedom (i.e., group a sample count plus group b sample\n",
        "# count minus 2)\n",
        "# loc =(Mean_groupA - Mean_groupB,\n",
        "# scale =geometric mean of STD for each group:\n",
        "\n",
        "```\n",
        "\n"
      ]
    },
    {
      "cell_type": "code",
      "metadata": {
        "id": "yDuWXtwJny6X"
      },
      "source": [
        "from scipy.stats.mstats import gmean ,sem"
      ],
      "execution_count": 33,
      "outputs": []
    },
    {
      "cell_type": "code",
      "metadata": {
        "colab": {
          "base_uri": "https://localhost:8080/"
        },
        "id": "p2RGdVvhsnj2",
        "outputId": "fcac5c2c-a122-4b59-b7ba-0169d2388a67"
      },
      "source": [
        "data1=income_dont_own_home.values\n",
        "data2=income_own_home.values\n",
        "\n",
        "geometric_mean_of_standard_error = gmean(a=[sem(data1) , sem(data2)])\n",
        "                                         \n",
        "dof =income_dont_own_home.shape[0] + income_own_home.shape[0] - 2\n",
        "stats.t.interval(alpha=0.95,\n",
        "                 df=dof,\n",
        "                 loc=income_dont_own_home.mean()\\\n",
        "                     - income_own_home.mean(),\n",
        "                 scale=geometric_mean_of_standard_error)\n",
        "                                         \n",
        "                                         "
      ],
      "execution_count": 34,
      "outputs": [
        {
          "output_type": "execute_result",
          "data": {
            "text/plain": [
              "(-11509.732015501866, -5529.828474848533)"
            ]
          },
          "metadata": {},
          "execution_count": 34
        }
      ]
    },
    {
      "cell_type": "markdown",
      "metadata": {
        "id": "U-SznKt0uvGY"
      },
      "source": [
        "We see that the 95% confidence interval for the difference is −11525 to −5514. If these are representative data of\n",
        "a larger population, we can have 95% confidence that the group difference would be between those values on repeated\n",
        "sampling.\n",
        "\n",
        "\n",
        "What about the difference within the Travelers segment? In Fig. 5.9, we saw that **household income** appeared to have a\n",
        "wider distribution among members of the **Travelers segment** who own homes than those who do not. Does that also reflect a\n",
        "difference in the mean income for the two groups?"
      ]
    },
    {
      "cell_type": "code",
      "metadata": {
        "id": "h2-e4BNnwJKB"
      },
      "source": [
        "def ttest(a, b):\n",
        "  # This function displays statistics on two groups, runs a t-test,\n",
        "  # and finds the 95% confidence interval of the mean difference\n",
        "  # between groups\n",
        "  \n",
        "  # Get means and standard deviation of each group\n",
        "  mean_a = a.mean() \n",
        "  mean_b = b.mean()\n",
        "  \n",
        "  std_a = a.std()\n",
        "  std_b = b.std()\n",
        "  \n",
        "  print('Group a - mean: {0}  standard deviation: {1}'\n",
        "        .format(mean_a, std_a))\n",
        "  print('Group b - mean: {0}  standard deviation: {1}\\n'\n",
        "        .format(mean_b, std_b))\n",
        "  \n",
        "  # Run a Welch's t-test between the groups\n",
        "  ttest_out = stats.ttest_ind(a, b, equal_var=False)\n",
        "  print(\"Welch's t-test statistic: {0}\\np-value: {1}\\n\"\n",
        "        .format(ttest_out.statistic, ttest_out.pvalue))\n",
        "  \n",
        "  # Find the 95% confidence interval using scipy.statst.interval\n",
        "  # function. The difference in means is the location of the\n",
        "  # distribution (loc parameter). The geometric mean of the\n",
        "  # standard error of each group is the scale\n",
        "  dof =a.shape[0] + b.shape[0] - 2\n",
        "  \n",
        "  data1=a.values\n",
        "  data2=b.values\n",
        "\n",
        "  geometric_mean_of_standard_error = gmean(a=[sem(data1) , sem(data2)])\n",
        "\n",
        "  print('95% confidence interval of the mean difference between a and'\n",
        "        ' b:\\n{0}'\n",
        "        .format(stats.t.interval(alpha=0.95, df=dof,\n",
        "                                 loc=mean_a - mean_b,\n",
        "                                 scale=geometric_mean_of_standard_error)))\n",
        "  "
      ],
      "execution_count": 35,
      "outputs": []
    },
    {
      "cell_type": "code",
      "metadata": {
        "colab": {
          "base_uri": "https://localhost:8080/"
        },
        "id": "1kLW_mEmyIjn",
        "outputId": "e73a9de5-31f0-4823-f0ad-4beec632bc52"
      },
      "source": [
        "ttest(income_dont_own_home, income_own_home)"
      ],
      "execution_count": 36,
      "outputs": [
        {
          "output_type": "stream",
          "name": "stdout",
          "text": [
            "Group a - mean: 46892.35166199144  standard deviation: 20335.071080860198\n",
            "Group b - mean: 55412.13190716664  standard deviation: 16917.48247661933\n",
            "\n",
            "Welch's t-test statistic: -3.960321465078199\n",
            "p-value: 9.372809221211885e-05\n",
            "\n",
            "95% confidence interval of the mean difference between a and b:\n",
            "(-11509.732015501866, -5529.828474848533)\n"
          ]
        }
      ]
    },
    {
      "cell_type": "markdown",
      "metadata": {
        "id": "gEHCN7XqzHkQ"
      },
      "source": [
        "Returning to our question: within the Travelers segment, is there a difference in income between those who and do not\n",
        "own homes?"
      ]
    },
    {
      "cell_type": "code",
      "metadata": {
        "id": "CdtdSlB2rYlQ",
        "colab": {
          "base_uri": "https://localhost:8080/"
        },
        "outputId": "18be1a04-8c22-4ebb-d6c7-b538b4638e2c"
      },
      "source": [
        "traveler_subset = seg_df.loc[seg_df.Segment == 'travelers']\n",
        "ttest(traveler_subset.income[~traveler_subset.own_home],\n",
        "      traveler_subset.income[traveler_subset.own_home])"
      ],
      "execution_count": 37,
      "outputs": [
        {
          "output_type": "stream",
          "name": "stdout",
          "text": [
            "Group a - mean: 62923.233941015686  standard deviation: 22233.49397700984\n",
            "Group b - mean: 62449.90773236649  standard deviation: 19580.36093716457\n",
            "\n",
            "Welch's t-test statistic: 0.09365502472389607\n",
            "p-value: 0.925781815932494\n",
            "\n",
            "95% confidence interval of the mean difference between a and b:\n",
            "(-6280.380499513879, 7227.032916812271)\n"
          ]
        }
      ]
    },
    {
      "cell_type": "markdown",
      "metadata": {
        "id": "gs5yCaIvzNRP"
      },
      "source": [
        "**The Null = There is no difference in mean income for Travellers who Own House & those who dont**\n",
        "\n",
        "P-value is not significant (higher than 0.05),therefore we fail to reject the null .\n",
        "\n",
        "Therfore we conclude that there is no difference in mean income for Travellers who Own House & those who dont\n",
        "\n"
      ]
    },
    {
      "cell_type": "markdown",
      "metadata": {
        "id": "sZhsAb4v0-eL"
      },
      "source": [
        "How can we locate where the difference lies? A t-test across all segments will not work because there are four segments\n",
        "and a t-test only compares two groups. We could test income within each segment, one at a time, but this is not a good idea\n",
        "because multiple tests increase the likelihood of finding a spurious difference (a “Type I error”). To track down the difference,\n",
        "we need a more robust procedure that handles multiple groups; we turn to that next."
      ]
    },
    {
      "cell_type": "markdown",
      "metadata": {
        "id": "CrcoLJpXmDlg"
      },
      "source": [
        "An analysis of variance (ANOVA) compares the means of multiple groups. \n",
        "\n",
        "Technically, it does this by comparing the degree\n",
        "to which groups differ as measured by variance in their means (from one another), relative to the variance of observations\n",
        "around each mean (within each group).\n",
        "\n",
        "\n",
        "We can think of it as\n",
        "testing for difference among multiple means, assuming that the groups have similar variance.\n",
        "\n",
        "\n",
        "\n",
        "```\n",
        "# F= variance between groups/ Within groups\n",
        "The larger F means more likely that the groups have different \n",
        "means (Reject Ho as it will have small p)\n",
        "\n",
        "```\n",
        "\n",
        "\n",
        "An ANOVA can handle single factors (known as one-way ANOVA), two factors (two-way), and higher orders including\n",
        "interactions among factors. \n",
        "\n",
        "**1 .Now which factors are related to differences in mean income in the segment data?**\n",
        "\n",
        "**2 .Specifically, is income related to home ownership, or to segment membership, or both?**\n",
        "```\n",
        "Scipy stats has a one-way ANOVA method, f_oneway()\n",
        "```"
      ]
    },
    {
      "cell_type": "markdown",
      "metadata": {
        "id": "LvCZAztw00hX"
      },
      "source": [
        "## 6.5 Testing Multiple Group Means: Analysis of Variance (ANOVA)"
      ]
    },
    {
      "cell_type": "code",
      "metadata": {
        "id": "RuMi49Ux02sL",
        "colab": {
          "base_uri": "https://localhost:8080/"
        },
        "outputId": "f634c3f1-ab65-47c1-db99-495e07a1ef5f"
      },
      "source": [
        "stats.f_oneway(income_dont_own_home, income_own_home)"
      ],
      "execution_count": 38,
      "outputs": [
        {
          "output_type": "execute_result",
          "data": {
            "text/plain": [
              "F_onewayResult(statistic=15.048326580627753, pvalue=0.000129010355414249)"
            ]
          },
          "metadata": {},
          "execution_count": 38
        }
      ]
    },
    {
      "cell_type": "markdown",
      "metadata": {
        "id": "4o63S5SqoEsJ"
      },
      "source": [
        "Small p-value , so we succeed to reject the Null that the Mean of these groups is same....i.e There is SIGNIFICANT variation in the income between 1- Those who own homes and 2-Those who do not own homes\n",
        "\n",
        "### More detailed ANOVA test using "
      ]
    },
    {
      "cell_type": "code",
      "metadata": {
        "id": "oypbeHhS9_5w"
      },
      "source": [
        "import statsmodels.formula.api as smf\n",
        "from statsmodels.stats import anova as sms_anova"
      ],
      "execution_count": 39,
      "outputs": []
    },
    {
      "cell_type": "code",
      "metadata": {
        "id": "mhbdh4jusO_a"
      },
      "source": [
        "#Step-1 sms.ols will Create a Model from a formula and dataframe. It will return a Model instance which we can fit to ANOVA\n",
        "income_home_lm = smf.ols('income ~ own_home', data=seg_df).fit()"
      ],
      "execution_count": 40,
      "outputs": []
    },
    {
      "cell_type": "code",
      "metadata": {
        "id": "h86TukPv4TtU",
        "colab": {
          "base_uri": "https://localhost:8080/",
          "height": 111
        },
        "outputId": "33bba28d-8604-4d65-b29e-1b1b41b9c2cd"
      },
      "source": [
        "#Step-2 fitting\n",
        "sms_anova.anova_lm(income_home_lm)"
      ],
      "execution_count": 41,
      "outputs": [
        {
          "output_type": "execute_result",
          "data": {
            "text/html": [
              "<div>\n",
              "<style scoped>\n",
              "    .dataframe tbody tr th:only-of-type {\n",
              "        vertical-align: middle;\n",
              "    }\n",
              "\n",
              "    .dataframe tbody tr th {\n",
              "        vertical-align: top;\n",
              "    }\n",
              "\n",
              "    .dataframe thead th {\n",
              "        text-align: right;\n",
              "    }\n",
              "</style>\n",
              "<table border=\"1\" class=\"dataframe\">\n",
              "  <thead>\n",
              "    <tr style=\"text-align: right;\">\n",
              "      <th></th>\n",
              "      <th>df</th>\n",
              "      <th>sum_sq</th>\n",
              "      <th>mean_sq</th>\n",
              "      <th>F</th>\n",
              "      <th>PR(&gt;F)</th>\n",
              "    </tr>\n",
              "  </thead>\n",
              "  <tbody>\n",
              "    <tr>\n",
              "      <th>own_home</th>\n",
              "      <td>1.0</td>\n",
              "      <td>5.374074e+09</td>\n",
              "      <td>5.374074e+09</td>\n",
              "      <td>15.048327</td>\n",
              "      <td>0.000129</td>\n",
              "    </tr>\n",
              "    <tr>\n",
              "      <th>Residual</th>\n",
              "      <td>298.0</td>\n",
              "      <td>1.064221e+11</td>\n",
              "      <td>3.571210e+08</td>\n",
              "      <td>NaN</td>\n",
              "      <td>NaN</td>\n",
              "    </tr>\n",
              "  </tbody>\n",
              "</table>\n",
              "</div>"
            ],
            "text/plain": [
              "             df        sum_sq       mean_sq          F    PR(>F)\n",
              "own_home    1.0  5.374074e+09  5.374074e+09  15.048327  0.000129\n",
              "Residual  298.0  1.064221e+11  3.571210e+08        NaN       NaN"
            ]
          },
          "metadata": {},
          "execution_count": 41
        }
      ]
    },
    {
      "cell_type": "markdown",
      "metadata": {
        "id": "irPlxn2vtF4t"
      },
      "source": [
        "**What about income by segment? We model that and save the ols object:**"
      ]
    },
    {
      "cell_type": "code",
      "metadata": {
        "id": "nfuernlp6ju2",
        "colab": {
          "base_uri": "https://localhost:8080/",
          "height": 111
        },
        "outputId": "9c4dc4b2-ef6c-4494-a716-50f5c9e78755"
      },
      "source": [
        "income_segment_lm = smf.ols('income ~ Segment', data=seg_df).fit()\n",
        "sms_anova.anova_lm(income_segment_lm)"
      ],
      "execution_count": 42,
      "outputs": [
        {
          "output_type": "execute_result",
          "data": {
            "text/html": [
              "<div>\n",
              "<style scoped>\n",
              "    .dataframe tbody tr th:only-of-type {\n",
              "        vertical-align: middle;\n",
              "    }\n",
              "\n",
              "    .dataframe tbody tr th {\n",
              "        vertical-align: top;\n",
              "    }\n",
              "\n",
              "    .dataframe thead th {\n",
              "        text-align: right;\n",
              "    }\n",
              "</style>\n",
              "<table border=\"1\" class=\"dataframe\">\n",
              "  <thead>\n",
              "    <tr style=\"text-align: right;\">\n",
              "      <th></th>\n",
              "      <th>df</th>\n",
              "      <th>sum_sq</th>\n",
              "      <th>mean_sq</th>\n",
              "      <th>F</th>\n",
              "      <th>PR(&gt;F)</th>\n",
              "    </tr>\n",
              "  </thead>\n",
              "  <tbody>\n",
              "    <tr>\n",
              "      <th>Segment</th>\n",
              "      <td>3.0</td>\n",
              "      <td>6.008669e+10</td>\n",
              "      <td>2.002890e+10</td>\n",
              "      <td>114.651236</td>\n",
              "      <td>2.794439e-49</td>\n",
              "    </tr>\n",
              "    <tr>\n",
              "      <th>Residual</th>\n",
              "      <td>296.0</td>\n",
              "      <td>5.170946e+10</td>\n",
              "      <td>1.746941e+08</td>\n",
              "      <td>NaN</td>\n",
              "      <td>NaN</td>\n",
              "    </tr>\n",
              "  </tbody>\n",
              "</table>\n",
              "</div>"
            ],
            "text/plain": [
              "             df        sum_sq       mean_sq           F  \\\n",
              "Segment     3.0  6.008669e+10  2.002890e+10  114.651236   \n",
              "Residual  296.0  5.170946e+10  1.746941e+08         NaN   \n",
              "\n",
              "                PR(>F)  \n",
              "Segment   2.794439e-49  \n",
              "Residual           NaN  "
            ]
          },
          "metadata": {},
          "execution_count": 42
        }
      ]
    },
    {
      "cell_type": "markdown",
      "metadata": {
        "id": "nIY__K8ytUA0"
      },
      "source": [
        "Small p-value , so we succeed to reject the Null that the Mean of these groups is same....i.e There is SIGNIFICANT variation in the income between segments"
      ]
    },
    {
      "cell_type": "markdown",
      "metadata": {
        "id": "G77ou4rVtpMA"
      },
      "source": [
        "## **Adding Main Effect +  and Interaction Effect * in ANOVA Model**\n",
        "### If income varies by both home ownership and segment, does that mean that a more complete model should include both?\n",
        "We can add both factors into the ANOVA model to test this:"
      ]
    },
    {
      "cell_type": "code",
      "metadata": {
        "id": "Jk0W1r1D8n1j",
        "colab": {
          "base_uri": "https://localhost:8080/",
          "height": 142
        },
        "outputId": "1db15292-21ae-46bc-89d8-613454e479ff"
      },
      "source": [
        "income_home_segment_lm = smf.ols('income ~ Segment + own_home',\n",
        "                                 data=seg_df).fit()\n",
        "sms_anova.anova_lm(income_home_segment_lm)"
      ],
      "execution_count": 43,
      "outputs": [
        {
          "output_type": "execute_result",
          "data": {
            "text/html": [
              "<div>\n",
              "<style scoped>\n",
              "    .dataframe tbody tr th:only-of-type {\n",
              "        vertical-align: middle;\n",
              "    }\n",
              "\n",
              "    .dataframe tbody tr th {\n",
              "        vertical-align: top;\n",
              "    }\n",
              "\n",
              "    .dataframe thead th {\n",
              "        text-align: right;\n",
              "    }\n",
              "</style>\n",
              "<table border=\"1\" class=\"dataframe\">\n",
              "  <thead>\n",
              "    <tr style=\"text-align: right;\">\n",
              "      <th></th>\n",
              "      <th>df</th>\n",
              "      <th>sum_sq</th>\n",
              "      <th>mean_sq</th>\n",
              "      <th>F</th>\n",
              "      <th>PR(&gt;F)</th>\n",
              "    </tr>\n",
              "  </thead>\n",
              "  <tbody>\n",
              "    <tr>\n",
              "      <th>Segment</th>\n",
              "      <td>3.0</td>\n",
              "      <td>6.008669e+10</td>\n",
              "      <td>2.002890e+10</td>\n",
              "      <td>114.352374</td>\n",
              "      <td>3.858516e-49</td>\n",
              "    </tr>\n",
              "    <tr>\n",
              "      <th>own_home</th>\n",
              "      <td>1.0</td>\n",
              "      <td>4.000708e+07</td>\n",
              "      <td>4.000708e+07</td>\n",
              "      <td>0.228415</td>\n",
              "      <td>6.330554e-01</td>\n",
              "    </tr>\n",
              "    <tr>\n",
              "      <th>Residual</th>\n",
              "      <td>295.0</td>\n",
              "      <td>5.166945e+10</td>\n",
              "      <td>1.751507e+08</td>\n",
              "      <td>NaN</td>\n",
              "      <td>NaN</td>\n",
              "    </tr>\n",
              "  </tbody>\n",
              "</table>\n",
              "</div>"
            ],
            "text/plain": [
              "             df        sum_sq       mean_sq           F  \\\n",
              "Segment     3.0  6.008669e+10  2.002890e+10  114.352374   \n",
              "own_home    1.0  4.000708e+07  4.000708e+07    0.228415   \n",
              "Residual  295.0  5.166945e+10  1.751507e+08         NaN   \n",
              "\n",
              "                PR(>F)  \n",
              "Segment   3.858516e-49  \n",
              "own_home  6.330554e-01  \n",
              "Residual           NaN  "
            ]
          },
          "metadata": {},
          "execution_count": 43
        }
      ]
    },
    {
      "cell_type": "markdown",
      "metadata": {
        "id": "RqPNlb46u3Vp"
      },
      "source": [
        "The results indicate that when we try to explain income differences in income by both Segment and own_home, segment\n",
        "is a significant predictor (p <<.01) but home ownership is not a significant predictor. Yet the previous results said that it\n",
        "was significant. What’s the difference? What is happening is that segment and home ownership are not independent, and the\n",
        "effect is captured sufficiently by segment membership alone. Home ownership accounts for little more over and above what\n",
        "can be explained by Segment.\n",
        "\n",
        "Could it be that home ownership is related to income in some segments but not in others? \n",
        "\n",
        "## **This would be represented in our model by an interaction effect**.\n",
        "\n",
        " In a model formula, “+” indicates that variables should be modeled for main effects only.\n",
        "We can instead write “:” for an interaction or “∗” for both main effect and interaction. We test main effects and interaction\n",
        "of home ownership and segment:"
      ]
    },
    {
      "cell_type": "code",
      "metadata": {
        "id": "dJ2lCkhK6z7G",
        "colab": {
          "base_uri": "https://localhost:8080/",
          "height": 173
        },
        "outputId": "3697a5cc-e324-44fa-e704-cc1cbcbec2d4"
      },
      "source": [
        "income_home_segment_lm = smf.ols('income ~ Segment * own_home',\n",
        "                                 data=seg_df).fit()\n",
        "sms_anova.anova_lm(income_home_segment_lm)"
      ],
      "execution_count": 44,
      "outputs": [
        {
          "output_type": "execute_result",
          "data": {
            "text/html": [
              "<div>\n",
              "<style scoped>\n",
              "    .dataframe tbody tr th:only-of-type {\n",
              "        vertical-align: middle;\n",
              "    }\n",
              "\n",
              "    .dataframe tbody tr th {\n",
              "        vertical-align: top;\n",
              "    }\n",
              "\n",
              "    .dataframe thead th {\n",
              "        text-align: right;\n",
              "    }\n",
              "</style>\n",
              "<table border=\"1\" class=\"dataframe\">\n",
              "  <thead>\n",
              "    <tr style=\"text-align: right;\">\n",
              "      <th></th>\n",
              "      <th>df</th>\n",
              "      <th>sum_sq</th>\n",
              "      <th>mean_sq</th>\n",
              "      <th>F</th>\n",
              "      <th>PR(&gt;F)</th>\n",
              "    </tr>\n",
              "  </thead>\n",
              "  <tbody>\n",
              "    <tr>\n",
              "      <th>Segment</th>\n",
              "      <td>3.0</td>\n",
              "      <td>6.008669e+10</td>\n",
              "      <td>2.002890e+10</td>\n",
              "      <td>113.502010</td>\n",
              "      <td>9.839888e-49</td>\n",
              "    </tr>\n",
              "    <tr>\n",
              "      <th>own_home</th>\n",
              "      <td>1.0</td>\n",
              "      <td>4.000708e+07</td>\n",
              "      <td>4.000708e+07</td>\n",
              "      <td>0.226717</td>\n",
              "      <td>6.343252e-01</td>\n",
              "    </tr>\n",
              "    <tr>\n",
              "      <th>Segment:own_home</th>\n",
              "      <td>3.0</td>\n",
              "      <td>1.422781e+08</td>\n",
              "      <td>4.742603e+07</td>\n",
              "      <td>0.268759</td>\n",
              "      <td>8.479014e-01</td>\n",
              "    </tr>\n",
              "    <tr>\n",
              "      <th>Residual</th>\n",
              "      <td>292.0</td>\n",
              "      <td>5.152717e+10</td>\n",
              "      <td>1.764629e+08</td>\n",
              "      <td>NaN</td>\n",
              "      <td>NaN</td>\n",
              "    </tr>\n",
              "  </tbody>\n",
              "</table>\n",
              "</div>"
            ],
            "text/plain": [
              "                     df        sum_sq       mean_sq           F  \\\n",
              "Segment             3.0  6.008669e+10  2.002890e+10  113.502010   \n",
              "own_home            1.0  4.000708e+07  4.000708e+07    0.226717   \n",
              "Segment:own_home    3.0  1.422781e+08  4.742603e+07    0.268759   \n",
              "Residual          292.0  5.152717e+10  1.764629e+08         NaN   \n",
              "\n",
              "                        PR(>F)  \n",
              "Segment           9.839888e-49  \n",
              "own_home          6.343252e-01  \n",
              "Segment:own_home  8.479014e-01  \n",
              "Residual                   NaN  "
            ]
          },
          "metadata": {},
          "execution_count": 44
        }
      ]
    },
    {
      "cell_type": "markdown",
      "metadata": {
        "id": "25zNknaXveDu"
      },
      "source": [
        "Again, segment is a significant predictor, while home ownership and the interaction of segment with home ownership are not\n",
        "significant. In other words, segment membership is again the best predictor on its own."
      ]
    },
    {
      "cell_type": "code",
      "metadata": {
        "id": "bS47ePWxwLby"
      },
      "source": [
        ""
      ],
      "execution_count": 44,
      "outputs": []
    },
    {
      "cell_type": "markdown",
      "metadata": {
        "id": "P5XZtJSwwMDK"
      },
      "source": [
        "create_phone_number([1, 2, 3, 4, 5, 6, 7, 8, 9, 0]) # => returns \"(123) 456-7890\""
      ]
    },
    {
      "cell_type": "code",
      "metadata": {
        "colab": {
          "base_uri": "https://localhost:8080/",
          "height": 38
        },
        "id": "MasKZUKNwO2u",
        "outputId": "bc24d52e-1b55-4ada-cfcb-a1c091baa95d"
      },
      "source": [
        "j=''\n",
        "for i in [1, 2, 3, 4, 5, 6, 7, 8, 9, 0]:\n",
        "  j=j+ str(i)\n",
        "j"
      ],
      "execution_count": 45,
      "outputs": [
        {
          "output_type": "execute_result",
          "data": {
            "application/vnd.google.colaboratory.intrinsic+json": {
              "type": "string"
            },
            "text/plain": [
              "'1234567890'"
            ]
          },
          "metadata": {},
          "execution_count": 45
        }
      ]
    },
    {
      "cell_type": "code",
      "metadata": {
        "colab": {
          "base_uri": "https://localhost:8080/",
          "height": 38
        },
        "id": "2n1u67klwlZl",
        "outputId": "e6b01840-1b68-4d8a-89c9-d4a7d9f109fb"
      },
      "source": [
        "j.replace(j[0],('('+j[0]) ) + j.replace(j[3],(')'+j[3]) )"
      ],
      "execution_count": 46,
      "outputs": [
        {
          "output_type": "execute_result",
          "data": {
            "application/vnd.google.colaboratory.intrinsic+json": {
              "type": "string"
            },
            "text/plain": [
              "'(1234567890123)4567890'"
            ]
          },
          "metadata": {},
          "execution_count": 46
        }
      ]
    },
    {
      "cell_type": "markdown",
      "metadata": {
        "id": "0XohpCL6v0GH"
      },
      "source": [
        "## Model Comparison in ANOVA*\n",
        "\n",
        "Another capability of the anova_lm() command is to compare two or more models, using the syntax \n",
        "\n",
        "```\n",
        "anova_lm(model1,model2, ...)\n",
        "```\n",
        "Note: The models should be nested if comparing.\n",
        "\n",
        "e.g 'income ~ Segment' can be compared with  'income ~ Segment + own_home'\n",
        " \n",
        " But not as:\n",
        " \n",
        " e.g 'income ~ Segment' cant be compared with  'income ~ subscr + own_home'\n",
        "\n",
        "To compare non nested models we need to study Akaike information criterion (AIC) and Bayesian information criterion (BIC).\n"
      ]
    },
    {
      "cell_type": "code",
      "metadata": {
        "id": "ZsqvDCDX7KA_",
        "colab": {
          "base_uri": "https://localhost:8080/",
          "height": 111
        },
        "outputId": "be0e6419-dda3-41ad-f9f6-120ef7e7785d"
      },
      "source": [
        "sms_anova.anova_lm(smf.ols('income ~ Segment', data=seg_df).fit(),\n",
        "                   smf.ols('income ~ Segment + own_home', data=seg_df).fit(),\n",
        "                   typ=1)"
      ],
      "execution_count": 47,
      "outputs": [
        {
          "output_type": "execute_result",
          "data": {
            "text/html": [
              "<div>\n",
              "<style scoped>\n",
              "    .dataframe tbody tr th:only-of-type {\n",
              "        vertical-align: middle;\n",
              "    }\n",
              "\n",
              "    .dataframe tbody tr th {\n",
              "        vertical-align: top;\n",
              "    }\n",
              "\n",
              "    .dataframe thead th {\n",
              "        text-align: right;\n",
              "    }\n",
              "</style>\n",
              "<table border=\"1\" class=\"dataframe\">\n",
              "  <thead>\n",
              "    <tr style=\"text-align: right;\">\n",
              "      <th></th>\n",
              "      <th>df_resid</th>\n",
              "      <th>ssr</th>\n",
              "      <th>df_diff</th>\n",
              "      <th>ss_diff</th>\n",
              "      <th>F</th>\n",
              "      <th>Pr(&gt;F)</th>\n",
              "    </tr>\n",
              "  </thead>\n",
              "  <tbody>\n",
              "    <tr>\n",
              "      <th>0</th>\n",
              "      <td>296.0</td>\n",
              "      <td>5.170946e+10</td>\n",
              "      <td>0.0</td>\n",
              "      <td>NaN</td>\n",
              "      <td>NaN</td>\n",
              "      <td>NaN</td>\n",
              "    </tr>\n",
              "    <tr>\n",
              "      <th>1</th>\n",
              "      <td>295.0</td>\n",
              "      <td>5.166945e+10</td>\n",
              "      <td>1.0</td>\n",
              "      <td>4.000708e+07</td>\n",
              "      <td>0.228415</td>\n",
              "      <td>0.633055</td>\n",
              "    </tr>\n",
              "  </tbody>\n",
              "</table>\n",
              "</div>"
            ],
            "text/plain": [
              "   df_resid           ssr  df_diff       ss_diff         F    Pr(>F)\n",
              "0     296.0  5.170946e+10      0.0           NaN       NaN       NaN\n",
              "1     295.0  5.166945e+10      1.0  4.000708e+07  0.228415  0.633055"
            ]
          },
          "metadata": {},
          "execution_count": 47
        }
      ]
    },
    {
      "cell_type": "code",
      "metadata": {
        "id": "-zgoDbuKYGX4",
        "colab": {
          "base_uri": "https://localhost:8080/",
          "height": 486
        },
        "outputId": "f1a0b5aa-8238-4300-ced6-9d553d78dba0"
      },
      "source": [
        "income_segment_lm = smf.ols('income ~ Segment', data=seg_df).fit()\n",
        "income_segment_lm.summary()"
      ],
      "execution_count": 48,
      "outputs": [
        {
          "output_type": "execute_result",
          "data": {
            "text/html": [
              "<table class=\"simpletable\">\n",
              "<caption>OLS Regression Results</caption>\n",
              "<tr>\n",
              "  <th>Dep. Variable:</th>         <td>income</td>      <th>  R-squared:         </th> <td>   0.537</td>\n",
              "</tr>\n",
              "<tr>\n",
              "  <th>Model:</th>                   <td>OLS</td>       <th>  Adj. R-squared:    </th> <td>   0.533</td>\n",
              "</tr>\n",
              "<tr>\n",
              "  <th>Method:</th>             <td>Least Squares</td>  <th>  F-statistic:       </th> <td>   114.7</td>\n",
              "</tr>\n",
              "<tr>\n",
              "  <th>Date:</th>             <td>Mon, 27 Sep 2021</td> <th>  Prob (F-statistic):</th> <td>2.79e-49</td>\n",
              "</tr>\n",
              "<tr>\n",
              "  <th>Time:</th>                 <td>08:13:22</td>     <th>  Log-Likelihood:    </th> <td> -3270.5</td>\n",
              "</tr>\n",
              "<tr>\n",
              "  <th>No. Observations:</th>      <td>   300</td>      <th>  AIC:               </th> <td>   6549.</td>\n",
              "</tr>\n",
              "<tr>\n",
              "  <th>Df Residuals:</th>          <td>   296</td>      <th>  BIC:               </th> <td>   6564.</td>\n",
              "</tr>\n",
              "<tr>\n",
              "  <th>Df Model:</th>              <td>     3</td>      <th>                     </th>     <td> </td>   \n",
              "</tr>\n",
              "<tr>\n",
              "  <th>Covariance Type:</th>      <td>nonrobust</td>    <th>                     </th>     <td> </td>   \n",
              "</tr>\n",
              "</table>\n",
              "<table class=\"simpletable\">\n",
              "<tr>\n",
              "            <td></td>               <th>coef</th>     <th>std err</th>      <th>t</th>      <th>P>|t|</th>  <th>[0.025</th>    <th>0.975]</th>  \n",
              "</tr>\n",
              "<tr>\n",
              "  <th>Intercept</th>             <td> 5.176e+04</td> <td> 1579.756</td> <td>   32.767</td> <td> 0.000</td> <td> 4.87e+04</td> <td> 5.49e+04</td>\n",
              "</tr>\n",
              "<tr>\n",
              "  <th>Segment[T.suburb_mix]</th> <td> 3788.7303</td> <td> 2059.750</td> <td>    1.839</td> <td> 0.067</td> <td> -264.880</td> <td> 7842.341</td>\n",
              "</tr>\n",
              "<tr>\n",
              "  <th>Segment[T.travelers]</th>  <td> 1.085e+04</td> <td> 2163.170</td> <td>    5.014</td> <td> 0.000</td> <td> 6588.960</td> <td> 1.51e+04</td>\n",
              "</tr>\n",
              "<tr>\n",
              "  <th>Segment[T.urban_hip]</th>  <td> -3.15e+04</td> <td> 2447.348</td> <td>  -12.869</td> <td> 0.000</td> <td>-3.63e+04</td> <td>-2.67e+04</td>\n",
              "</tr>\n",
              "</table>\n",
              "<table class=\"simpletable\">\n",
              "<tr>\n",
              "  <th>Omnibus:</th>       <td>14.628</td> <th>  Durbin-Watson:     </th> <td>   2.048</td>\n",
              "</tr>\n",
              "<tr>\n",
              "  <th>Prob(Omnibus):</th> <td> 0.001</td> <th>  Jarque-Bera (JB):  </th> <td>  35.432</td>\n",
              "</tr>\n",
              "<tr>\n",
              "  <th>Skew:</th>          <td> 0.089</td> <th>  Prob(JB):          </th> <td>2.02e-08</td>\n",
              "</tr>\n",
              "<tr>\n",
              "  <th>Kurtosis:</th>      <td> 4.674</td> <th>  Cond. No.          </th> <td>    5.02</td>\n",
              "</tr>\n",
              "</table><br/><br/>Warnings:<br/>[1] Standard Errors assume that the covariance matrix of the errors is correctly specified."
            ],
            "text/plain": [
              "<class 'statsmodels.iolib.summary.Summary'>\n",
              "\"\"\"\n",
              "                            OLS Regression Results                            \n",
              "==============================================================================\n",
              "Dep. Variable:                 income   R-squared:                       0.537\n",
              "Model:                            OLS   Adj. R-squared:                  0.533\n",
              "Method:                 Least Squares   F-statistic:                     114.7\n",
              "Date:                Mon, 27 Sep 2021   Prob (F-statistic):           2.79e-49\n",
              "Time:                        08:13:22   Log-Likelihood:                -3270.5\n",
              "No. Observations:                 300   AIC:                             6549.\n",
              "Df Residuals:                     296   BIC:                             6564.\n",
              "Df Model:                           3                                         \n",
              "Covariance Type:            nonrobust                                         \n",
              "=========================================================================================\n",
              "                            coef    std err          t      P>|t|      [0.025      0.975]\n",
              "-----------------------------------------------------------------------------------------\n",
              "Intercept              5.176e+04   1579.756     32.767      0.000    4.87e+04    5.49e+04\n",
              "Segment[T.suburb_mix]  3788.7303   2059.750      1.839      0.067    -264.880    7842.341\n",
              "Segment[T.travelers]   1.085e+04   2163.170      5.014      0.000    6588.960    1.51e+04\n",
              "Segment[T.urban_hip]   -3.15e+04   2447.348    -12.869      0.000   -3.63e+04   -2.67e+04\n",
              "==============================================================================\n",
              "Omnibus:                       14.628   Durbin-Watson:                   2.048\n",
              "Prob(Omnibus):                  0.001   Jarque-Bera (JB):               35.432\n",
              "Skew:                           0.089   Prob(JB):                     2.02e-08\n",
              "Kurtosis:                       4.674   Cond. No.                         5.02\n",
              "==============================================================================\n",
              "\n",
              "Warnings:\n",
              "[1] Standard Errors assume that the covariance matrix of the errors is correctly specified.\n",
              "\"\"\""
            ]
          },
          "metadata": {},
          "execution_count": 48
        }
      ]
    },
    {
      "cell_type": "code",
      "metadata": {
        "id": "cc9WmQv4E7nZ",
        "colab": {
          "base_uri": "https://localhost:8080/"
        },
        "outputId": "6b59869d-6ce9-4e6a-a27c-35af030c3020"
      },
      "source": [
        "income_segment_lm.params"
      ],
      "execution_count": 49,
      "outputs": [
        {
          "output_type": "execute_result",
          "data": {
            "text/plain": [
              "Intercept                51763.552666\n",
              "Segment[T.suburb_mix]     3788.730259\n",
              "Segment[T.travelers]     10846.102661\n",
              "Segment[T.urban_hip]    -31495.815349\n",
              "dtype: float64"
            ]
          },
          "metadata": {},
          "execution_count": 49
        }
      ]
    },
    {
      "cell_type": "code",
      "metadata": {
        "id": "vB6p73BEb-tu",
        "colab": {
          "base_uri": "https://localhost:8080/",
          "height": 173
        },
        "outputId": "87f8fdbd-0cf8-468f-90df-63dfaa93eccd"
      },
      "source": [
        "income_segment_lm.conf_int()"
      ],
      "execution_count": 50,
      "outputs": [
        {
          "output_type": "execute_result",
          "data": {
            "text/html": [
              "<div>\n",
              "<style scoped>\n",
              "    .dataframe tbody tr th:only-of-type {\n",
              "        vertical-align: middle;\n",
              "    }\n",
              "\n",
              "    .dataframe tbody tr th {\n",
              "        vertical-align: top;\n",
              "    }\n",
              "\n",
              "    .dataframe thead th {\n",
              "        text-align: right;\n",
              "    }\n",
              "</style>\n",
              "<table border=\"1\" class=\"dataframe\">\n",
              "  <thead>\n",
              "    <tr style=\"text-align: right;\">\n",
              "      <th></th>\n",
              "      <th>0</th>\n",
              "      <th>1</th>\n",
              "    </tr>\n",
              "  </thead>\n",
              "  <tbody>\n",
              "    <tr>\n",
              "      <th>Intercept</th>\n",
              "      <td>48654.575215</td>\n",
              "      <td>54872.530118</td>\n",
              "    </tr>\n",
              "    <tr>\n",
              "      <th>Segment[T.suburb_mix]</th>\n",
              "      <td>-264.880397</td>\n",
              "      <td>7842.340915</td>\n",
              "    </tr>\n",
              "    <tr>\n",
              "      <th>Segment[T.travelers]</th>\n",
              "      <td>6588.959959</td>\n",
              "      <td>15103.245364</td>\n",
              "    </tr>\n",
              "    <tr>\n",
              "      <th>Segment[T.urban_hip]</th>\n",
              "      <td>-36312.222507</td>\n",
              "      <td>-26679.408192</td>\n",
              "    </tr>\n",
              "  </tbody>\n",
              "</table>\n",
              "</div>"
            ],
            "text/plain": [
              "                                  0             1\n",
              "Intercept              48654.575215  54872.530118\n",
              "Segment[T.suburb_mix]   -264.880397   7842.340915\n",
              "Segment[T.travelers]    6588.959959  15103.245364\n",
              "Segment[T.urban_hip]  -36312.222507 -26679.408192"
            ]
          },
          "metadata": {},
          "execution_count": 50
        }
      ]
    },
    {
      "cell_type": "markdown",
      "metadata": {
        "id": "BwNquoQ0UVbU"
      },
      "source": [
        "This may be difficult for decision makers or clients to understand, so we find it preferable to remove the intercept by adding\n",
        "“-1” to the model formula:"
      ]
    },
    {
      "cell_type": "code",
      "metadata": {
        "id": "-8G49tDacRTv",
        "colab": {
          "base_uri": "https://localhost:8080/",
          "height": 486
        },
        "outputId": "eced5ac6-2cf0-4c69-80db-389667b96351"
      },
      "source": [
        "income_segment_lm_adjusted = smf.ols('income ~ -1 + Segment',\n",
        "                                     data=seg_df).fit()\n",
        "income_segment_lm_adjusted.summary()"
      ],
      "execution_count": 51,
      "outputs": [
        {
          "output_type": "execute_result",
          "data": {
            "text/html": [
              "<table class=\"simpletable\">\n",
              "<caption>OLS Regression Results</caption>\n",
              "<tr>\n",
              "  <th>Dep. Variable:</th>         <td>income</td>      <th>  R-squared:         </th> <td>   0.537</td>\n",
              "</tr>\n",
              "<tr>\n",
              "  <th>Model:</th>                   <td>OLS</td>       <th>  Adj. R-squared:    </th> <td>   0.533</td>\n",
              "</tr>\n",
              "<tr>\n",
              "  <th>Method:</th>             <td>Least Squares</td>  <th>  F-statistic:       </th> <td>   114.7</td>\n",
              "</tr>\n",
              "<tr>\n",
              "  <th>Date:</th>             <td>Mon, 27 Sep 2021</td> <th>  Prob (F-statistic):</th> <td>2.79e-49</td>\n",
              "</tr>\n",
              "<tr>\n",
              "  <th>Time:</th>                 <td>08:14:04</td>     <th>  Log-Likelihood:    </th> <td> -3270.5</td>\n",
              "</tr>\n",
              "<tr>\n",
              "  <th>No. Observations:</th>      <td>   300</td>      <th>  AIC:               </th> <td>   6549.</td>\n",
              "</tr>\n",
              "<tr>\n",
              "  <th>Df Residuals:</th>          <td>   296</td>      <th>  BIC:               </th> <td>   6564.</td>\n",
              "</tr>\n",
              "<tr>\n",
              "  <th>Df Model:</th>              <td>     3</td>      <th>                     </th>     <td> </td>   \n",
              "</tr>\n",
              "<tr>\n",
              "  <th>Covariance Type:</th>      <td>nonrobust</td>    <th>                     </th>     <td> </td>   \n",
              "</tr>\n",
              "</table>\n",
              "<table class=\"simpletable\">\n",
              "<tr>\n",
              "           <td></td>              <th>coef</th>     <th>std err</th>      <th>t</th>      <th>P>|t|</th>  <th>[0.025</th>    <th>0.975]</th>  \n",
              "</tr>\n",
              "<tr>\n",
              "  <th>Segment[moving_up]</th>  <td> 5.176e+04</td> <td> 1579.756</td> <td>   32.767</td> <td> 0.000</td> <td> 4.87e+04</td> <td> 5.49e+04</td>\n",
              "</tr>\n",
              "<tr>\n",
              "  <th>Segment[suburb_mix]</th> <td> 5.555e+04</td> <td> 1321.719</td> <td>   42.030</td> <td> 0.000</td> <td>  5.3e+04</td> <td> 5.82e+04</td>\n",
              "</tr>\n",
              "<tr>\n",
              "  <th>Segment[travelers]</th>  <td> 6.261e+04</td> <td> 1477.727</td> <td>   42.369</td> <td> 0.000</td> <td> 5.97e+04</td> <td> 6.55e+04</td>\n",
              "</tr>\n",
              "<tr>\n",
              "  <th>Segment[urban_hip]</th>  <td> 2.027e+04</td> <td> 1869.193</td> <td>   10.843</td> <td> 0.000</td> <td> 1.66e+04</td> <td> 2.39e+04</td>\n",
              "</tr>\n",
              "</table>\n",
              "<table class=\"simpletable\">\n",
              "<tr>\n",
              "  <th>Omnibus:</th>       <td>14.628</td> <th>  Durbin-Watson:     </th> <td>   2.048</td>\n",
              "</tr>\n",
              "<tr>\n",
              "  <th>Prob(Omnibus):</th> <td> 0.001</td> <th>  Jarque-Bera (JB):  </th> <td>  35.432</td>\n",
              "</tr>\n",
              "<tr>\n",
              "  <th>Skew:</th>          <td> 0.089</td> <th>  Prob(JB):          </th> <td>2.02e-08</td>\n",
              "</tr>\n",
              "<tr>\n",
              "  <th>Kurtosis:</th>      <td> 4.674</td> <th>  Cond. No.          </th> <td>    1.41</td>\n",
              "</tr>\n",
              "</table><br/><br/>Warnings:<br/>[1] Standard Errors assume that the covariance matrix of the errors is correctly specified."
            ],
            "text/plain": [
              "<class 'statsmodels.iolib.summary.Summary'>\n",
              "\"\"\"\n",
              "                            OLS Regression Results                            \n",
              "==============================================================================\n",
              "Dep. Variable:                 income   R-squared:                       0.537\n",
              "Model:                            OLS   Adj. R-squared:                  0.533\n",
              "Method:                 Least Squares   F-statistic:                     114.7\n",
              "Date:                Mon, 27 Sep 2021   Prob (F-statistic):           2.79e-49\n",
              "Time:                        08:14:04   Log-Likelihood:                -3270.5\n",
              "No. Observations:                 300   AIC:                             6549.\n",
              "Df Residuals:                     296   BIC:                             6564.\n",
              "Df Model:                           3                                         \n",
              "Covariance Type:            nonrobust                                         \n",
              "=======================================================================================\n",
              "                          coef    std err          t      P>|t|      [0.025      0.975]\n",
              "---------------------------------------------------------------------------------------\n",
              "Segment[moving_up]   5.176e+04   1579.756     32.767      0.000    4.87e+04    5.49e+04\n",
              "Segment[suburb_mix]  5.555e+04   1321.719     42.030      0.000     5.3e+04    5.82e+04\n",
              "Segment[travelers]   6.261e+04   1477.727     42.369      0.000    5.97e+04    6.55e+04\n",
              "Segment[urban_hip]   2.027e+04   1869.193     10.843      0.000    1.66e+04    2.39e+04\n",
              "==============================================================================\n",
              "Omnibus:                       14.628   Durbin-Watson:                   2.048\n",
              "Prob(Omnibus):                  0.001   Jarque-Bera (JB):               35.432\n",
              "Skew:                           0.089   Prob(JB):                     2.02e-08\n",
              "Kurtosis:                       4.674   Cond. No.                         1.41\n",
              "==============================================================================\n",
              "\n",
              "Warnings:\n",
              "[1] Standard Errors assume that the covariance matrix of the errors is correctly specified.\n",
              "\"\"\""
            ]
          },
          "metadata": {},
          "execution_count": 51
        }
      ]
    },
    {
      "cell_type": "code",
      "metadata": {
        "id": "gvx_cmvDoJlX",
        "colab": {
          "base_uri": "https://localhost:8080/"
        },
        "outputId": "beb122df-b047-4bb8-9fa7-407de95c20f0"
      },
      "source": [
        "means = income_segment_lm_adjusted.params\n",
        "means"
      ],
      "execution_count": 52,
      "outputs": [
        {
          "output_type": "execute_result",
          "data": {
            "text/plain": [
              "Segment[moving_up]     51763.552666\n",
              "Segment[suburb_mix]    55552.282925\n",
              "Segment[travelers]     62609.655328\n",
              "Segment[urban_hip]     20267.737317\n",
              "dtype: float64"
            ]
          },
          "metadata": {},
          "execution_count": 52
        }
      ]
    },
    {
      "cell_type": "code",
      "metadata": {
        "id": "c23KjRAmj7a4",
        "colab": {
          "base_uri": "https://localhost:8080/",
          "height": 173
        },
        "outputId": "f5c6ee62-23a3-4b1a-8d18-2a05b7434f3b"
      },
      "source": [
        "ci = income_segment_lm_adjusted.conf_int()\n",
        "ci"
      ],
      "execution_count": 53,
      "outputs": [
        {
          "output_type": "execute_result",
          "data": {
            "text/html": [
              "<div>\n",
              "<style scoped>\n",
              "    .dataframe tbody tr th:only-of-type {\n",
              "        vertical-align: middle;\n",
              "    }\n",
              "\n",
              "    .dataframe tbody tr th {\n",
              "        vertical-align: top;\n",
              "    }\n",
              "\n",
              "    .dataframe thead th {\n",
              "        text-align: right;\n",
              "    }\n",
              "</style>\n",
              "<table border=\"1\" class=\"dataframe\">\n",
              "  <thead>\n",
              "    <tr style=\"text-align: right;\">\n",
              "      <th></th>\n",
              "      <th>0</th>\n",
              "      <th>1</th>\n",
              "    </tr>\n",
              "  </thead>\n",
              "  <tbody>\n",
              "    <tr>\n",
              "      <th>Segment[moving_up]</th>\n",
              "      <td>48654.575215</td>\n",
              "      <td>54872.530118</td>\n",
              "    </tr>\n",
              "    <tr>\n",
              "      <th>Segment[suburb_mix]</th>\n",
              "      <td>52951.125768</td>\n",
              "      <td>58153.440082</td>\n",
              "    </tr>\n",
              "    <tr>\n",
              "      <th>Segment[travelers]</th>\n",
              "      <td>59701.473216</td>\n",
              "      <td>65517.837440</td>\n",
              "    </tr>\n",
              "    <tr>\n",
              "      <th>Segment[urban_hip]</th>\n",
              "      <td>16589.145587</td>\n",
              "      <td>23946.329046</td>\n",
              "    </tr>\n",
              "  </tbody>\n",
              "</table>\n",
              "</div>"
            ],
            "text/plain": [
              "                                0             1\n",
              "Segment[moving_up]   48654.575215  54872.530118\n",
              "Segment[suburb_mix]  52951.125768  58153.440082\n",
              "Segment[travelers]   59701.473216  65517.837440\n",
              "Segment[urban_hip]   16589.145587  23946.329046"
            ]
          },
          "metadata": {},
          "execution_count": 53
        }
      ]
    },
    {
      "cell_type": "markdown",
      "metadata": {
        "id": "8uqL-Z9RUr7N"
      },
      "source": [
        "Plotting above confient interval"
      ]
    },
    {
      "cell_type": "code",
      "metadata": {
        "id": "OSrQf1W8pCPE",
        "colab": {
          "base_uri": "https://localhost:8080/",
          "height": 369
        },
        "outputId": "ce31e5ee-b0ea-443f-8aaf-ef7ff42d5e6c"
      },
      "source": [
        "means.plot(kind='barh', xerr=ci[1]-means, color='0.7')"
      ],
      "execution_count": 173,
      "outputs": [
        {
          "output_type": "execute_result",
          "data": {
            "text/plain": [
              "<matplotlib.axes._subplots.AxesSubplot at 0x7fcc4e63f790>"
            ]
          },
          "metadata": {},
          "execution_count": 173
        },
        {
          "output_type": "display_data",
          "data": {
            "text/plain": [
              "<Figure size 432x288 with 1 Axes>"
            ],
            "image/svg+xml": "<?xml version=\"1.0\" encoding=\"utf-8\" standalone=\"no\"?>\n<!DOCTYPE svg PUBLIC \"-//W3C//DTD SVG 1.1//EN\"\n  \"http://www.w3.org/Graphics/SVG/1.1/DTD/svg11.dtd\">\n<!-- Created with matplotlib (https://matplotlib.org/) -->\n<svg height=\"248.518125pt\" version=\"1.1\" viewBox=\"0 0 467.134375 248.518125\" width=\"467.134375pt\" xmlns=\"http://www.w3.org/2000/svg\" xmlns:xlink=\"http://www.w3.org/1999/xlink\">\n <defs>\n  <style type=\"text/css\">\n*{stroke-linecap:butt;stroke-linejoin:round;}\n  </style>\n </defs>\n <g id=\"figure_1\">\n  <g id=\"patch_1\">\n   <path d=\"M 0 248.518125 \nL 467.134375 248.518125 \nL 467.134375 0 \nL 0 0 \nz\n\" style=\"fill:none;\"/>\n  </g>\n  <g id=\"axes_1\">\n   <g id=\"patch_2\">\n    <path d=\"M 125.134375 224.64 \nL 459.934375 224.64 \nL 459.934375 7.2 \nL 125.134375 7.2 \nz\n\" style=\"fill:#ffffff;\"/>\n   </g>\n   <g id=\"patch_3\">\n    <path clip-path=\"url(#p905ac18211)\" d=\"M 125.134375 211.05 \nL 377.053229 211.05 \nL 377.053229 183.87 \nL 125.134375 183.87 \nz\n\" style=\"fill:#b2b2b2;\"/>\n   </g>\n   <g id=\"patch_4\">\n    <path clip-path=\"url(#p905ac18211)\" d=\"M 125.134375 156.69 \nL 395.491928 156.69 \nL 395.491928 129.51 \nL 125.134375 129.51 \nz\n\" style=\"fill:#b2b2b2;\"/>\n   </g>\n   <g id=\"patch_5\">\n    <path clip-path=\"url(#p905ac18211)\" d=\"M 125.134375 102.33 \nL 429.838202 102.33 \nL 429.838202 75.15 \nL 125.134375 75.15 \nz\n\" style=\"fill:#b2b2b2;\"/>\n   </g>\n   <g id=\"patch_6\">\n    <path clip-path=\"url(#p905ac18211)\" d=\"M 125.134375 47.97 \nL 223.771831 47.97 \nL 223.771831 20.79 \nL 125.134375 20.79 \nz\n\" style=\"fill:#b2b2b2;\"/>\n   </g>\n   <g id=\"matplotlib.axis_1\">\n    <g id=\"xtick_1\">\n     <g id=\"line2d_1\">\n      <defs>\n       <path d=\"M 0 0 \nL 0 3.5 \n\" id=\"mc1467a7dc3\" style=\"stroke:#000000;stroke-width:0.8;\"/>\n      </defs>\n      <g>\n       <use style=\"stroke:#000000;stroke-width:0.8;\" x=\"125.134375\" xlink:href=\"#mc1467a7dc3\" y=\"224.64\"/>\n      </g>\n     </g>\n     <g id=\"text_1\">\n      <!-- 0 -->\n      <defs>\n       <path d=\"M 31.78125 66.40625 \nQ 24.171875 66.40625 20.328125 58.90625 \nQ 16.5 51.421875 16.5 36.375 \nQ 16.5 21.390625 20.328125 13.890625 \nQ 24.171875 6.390625 31.78125 6.390625 \nQ 39.453125 6.390625 43.28125 13.890625 \nQ 47.125 21.390625 47.125 36.375 \nQ 47.125 51.421875 43.28125 58.90625 \nQ 39.453125 66.40625 31.78125 66.40625 \nz\nM 31.78125 74.21875 \nQ 44.046875 74.21875 50.515625 64.515625 \nQ 56.984375 54.828125 56.984375 36.375 \nQ 56.984375 17.96875 50.515625 8.265625 \nQ 44.046875 -1.421875 31.78125 -1.421875 \nQ 19.53125 -1.421875 13.0625 8.265625 \nQ 6.59375 17.96875 6.59375 36.375 \nQ 6.59375 54.828125 13.0625 64.515625 \nQ 19.53125 74.21875 31.78125 74.21875 \nz\n\" id=\"DejaVuSans-48\"/>\n      </defs>\n      <g transform=\"translate(121.953125 239.238437)scale(0.1 -0.1)\">\n       <use xlink:href=\"#DejaVuSans-48\"/>\n      </g>\n     </g>\n    </g>\n    <g id=\"xtick_2\">\n     <g id=\"line2d_2\">\n      <g>\n       <use style=\"stroke:#000000;stroke-width:0.8;\" x=\"173.801601\" xlink:href=\"#mc1467a7dc3\" y=\"224.64\"/>\n      </g>\n     </g>\n     <g id=\"text_2\">\n      <!-- 10000 -->\n      <defs>\n       <path d=\"M 12.40625 8.296875 \nL 28.515625 8.296875 \nL 28.515625 63.921875 \nL 10.984375 60.40625 \nL 10.984375 69.390625 \nL 28.421875 72.90625 \nL 38.28125 72.90625 \nL 38.28125 8.296875 \nL 54.390625 8.296875 \nL 54.390625 0 \nL 12.40625 0 \nz\n\" id=\"DejaVuSans-49\"/>\n      </defs>\n      <g transform=\"translate(157.895351 239.238437)scale(0.1 -0.1)\">\n       <use xlink:href=\"#DejaVuSans-49\"/>\n       <use x=\"63.623047\" xlink:href=\"#DejaVuSans-48\"/>\n       <use x=\"127.246094\" xlink:href=\"#DejaVuSans-48\"/>\n       <use x=\"190.869141\" xlink:href=\"#DejaVuSans-48\"/>\n       <use x=\"254.492188\" xlink:href=\"#DejaVuSans-48\"/>\n      </g>\n     </g>\n    </g>\n    <g id=\"xtick_3\">\n     <g id=\"line2d_3\">\n      <g>\n       <use style=\"stroke:#000000;stroke-width:0.8;\" x=\"222.468828\" xlink:href=\"#mc1467a7dc3\" y=\"224.64\"/>\n      </g>\n     </g>\n     <g id=\"text_3\">\n      <!-- 20000 -->\n      <defs>\n       <path d=\"M 19.1875 8.296875 \nL 53.609375 8.296875 \nL 53.609375 0 \nL 7.328125 0 \nL 7.328125 8.296875 \nQ 12.9375 14.109375 22.625 23.890625 \nQ 32.328125 33.6875 34.8125 36.53125 \nQ 39.546875 41.84375 41.421875 45.53125 \nQ 43.3125 49.21875 43.3125 52.78125 \nQ 43.3125 58.59375 39.234375 62.25 \nQ 35.15625 65.921875 28.609375 65.921875 \nQ 23.96875 65.921875 18.8125 64.3125 \nQ 13.671875 62.703125 7.8125 59.421875 \nL 7.8125 69.390625 \nQ 13.765625 71.78125 18.9375 73 \nQ 24.125 74.21875 28.421875 74.21875 \nQ 39.75 74.21875 46.484375 68.546875 \nQ 53.21875 62.890625 53.21875 53.421875 \nQ 53.21875 48.921875 51.53125 44.890625 \nQ 49.859375 40.875 45.40625 35.40625 \nQ 44.1875 33.984375 37.640625 27.21875 \nQ 31.109375 20.453125 19.1875 8.296875 \nz\n\" id=\"DejaVuSans-50\"/>\n      </defs>\n      <g transform=\"translate(206.562578 239.238437)scale(0.1 -0.1)\">\n       <use xlink:href=\"#DejaVuSans-50\"/>\n       <use x=\"63.623047\" xlink:href=\"#DejaVuSans-48\"/>\n       <use x=\"127.246094\" xlink:href=\"#DejaVuSans-48\"/>\n       <use x=\"190.869141\" xlink:href=\"#DejaVuSans-48\"/>\n       <use x=\"254.492188\" xlink:href=\"#DejaVuSans-48\"/>\n      </g>\n     </g>\n    </g>\n    <g id=\"xtick_4\">\n     <g id=\"line2d_4\">\n      <g>\n       <use style=\"stroke:#000000;stroke-width:0.8;\" x=\"271.136054\" xlink:href=\"#mc1467a7dc3\" y=\"224.64\"/>\n      </g>\n     </g>\n     <g id=\"text_4\">\n      <!-- 30000 -->\n      <defs>\n       <path d=\"M 40.578125 39.3125 \nQ 47.65625 37.796875 51.625 33 \nQ 55.609375 28.21875 55.609375 21.1875 \nQ 55.609375 10.40625 48.1875 4.484375 \nQ 40.765625 -1.421875 27.09375 -1.421875 \nQ 22.515625 -1.421875 17.65625 -0.515625 \nQ 12.796875 0.390625 7.625 2.203125 \nL 7.625 11.71875 \nQ 11.71875 9.328125 16.59375 8.109375 \nQ 21.484375 6.890625 26.8125 6.890625 \nQ 36.078125 6.890625 40.9375 10.546875 \nQ 45.796875 14.203125 45.796875 21.1875 \nQ 45.796875 27.640625 41.28125 31.265625 \nQ 36.765625 34.90625 28.71875 34.90625 \nL 20.21875 34.90625 \nL 20.21875 43.015625 \nL 29.109375 43.015625 \nQ 36.375 43.015625 40.234375 45.921875 \nQ 44.09375 48.828125 44.09375 54.296875 \nQ 44.09375 59.90625 40.109375 62.90625 \nQ 36.140625 65.921875 28.71875 65.921875 \nQ 24.65625 65.921875 20.015625 65.03125 \nQ 15.375 64.15625 9.8125 62.3125 \nL 9.8125 71.09375 \nQ 15.4375 72.65625 20.34375 73.4375 \nQ 25.25 74.21875 29.59375 74.21875 \nQ 40.828125 74.21875 47.359375 69.109375 \nQ 53.90625 64.015625 53.90625 55.328125 \nQ 53.90625 49.265625 50.4375 45.09375 \nQ 46.96875 40.921875 40.578125 39.3125 \nz\n\" id=\"DejaVuSans-51\"/>\n      </defs>\n      <g transform=\"translate(255.229804 239.238437)scale(0.1 -0.1)\">\n       <use xlink:href=\"#DejaVuSans-51\"/>\n       <use x=\"63.623047\" xlink:href=\"#DejaVuSans-48\"/>\n       <use x=\"127.246094\" xlink:href=\"#DejaVuSans-48\"/>\n       <use x=\"190.869141\" xlink:href=\"#DejaVuSans-48\"/>\n       <use x=\"254.492188\" xlink:href=\"#DejaVuSans-48\"/>\n      </g>\n     </g>\n    </g>\n    <g id=\"xtick_5\">\n     <g id=\"line2d_5\">\n      <g>\n       <use style=\"stroke:#000000;stroke-width:0.8;\" x=\"319.803281\" xlink:href=\"#mc1467a7dc3\" y=\"224.64\"/>\n      </g>\n     </g>\n     <g id=\"text_5\">\n      <!-- 40000 -->\n      <defs>\n       <path d=\"M 37.796875 64.3125 \nL 12.890625 25.390625 \nL 37.796875 25.390625 \nz\nM 35.203125 72.90625 \nL 47.609375 72.90625 \nL 47.609375 25.390625 \nL 58.015625 25.390625 \nL 58.015625 17.1875 \nL 47.609375 17.1875 \nL 47.609375 0 \nL 37.796875 0 \nL 37.796875 17.1875 \nL 4.890625 17.1875 \nL 4.890625 26.703125 \nz\n\" id=\"DejaVuSans-52\"/>\n      </defs>\n      <g transform=\"translate(303.897031 239.238437)scale(0.1 -0.1)\">\n       <use xlink:href=\"#DejaVuSans-52\"/>\n       <use x=\"63.623047\" xlink:href=\"#DejaVuSans-48\"/>\n       <use x=\"127.246094\" xlink:href=\"#DejaVuSans-48\"/>\n       <use x=\"190.869141\" xlink:href=\"#DejaVuSans-48\"/>\n       <use x=\"254.492188\" xlink:href=\"#DejaVuSans-48\"/>\n      </g>\n     </g>\n    </g>\n    <g id=\"xtick_6\">\n     <g id=\"line2d_6\">\n      <g>\n       <use style=\"stroke:#000000;stroke-width:0.8;\" x=\"368.470507\" xlink:href=\"#mc1467a7dc3\" y=\"224.64\"/>\n      </g>\n     </g>\n     <g id=\"text_6\">\n      <!-- 50000 -->\n      <defs>\n       <path d=\"M 10.796875 72.90625 \nL 49.515625 72.90625 \nL 49.515625 64.59375 \nL 19.828125 64.59375 \nL 19.828125 46.734375 \nQ 21.96875 47.46875 24.109375 47.828125 \nQ 26.265625 48.1875 28.421875 48.1875 \nQ 40.625 48.1875 47.75 41.5 \nQ 54.890625 34.8125 54.890625 23.390625 \nQ 54.890625 11.625 47.5625 5.09375 \nQ 40.234375 -1.421875 26.90625 -1.421875 \nQ 22.3125 -1.421875 17.546875 -0.640625 \nQ 12.796875 0.140625 7.71875 1.703125 \nL 7.71875 11.625 \nQ 12.109375 9.234375 16.796875 8.0625 \nQ 21.484375 6.890625 26.703125 6.890625 \nQ 35.15625 6.890625 40.078125 11.328125 \nQ 45.015625 15.765625 45.015625 23.390625 \nQ 45.015625 31 40.078125 35.4375 \nQ 35.15625 39.890625 26.703125 39.890625 \nQ 22.75 39.890625 18.8125 39.015625 \nQ 14.890625 38.140625 10.796875 36.28125 \nz\n\" id=\"DejaVuSans-53\"/>\n      </defs>\n      <g transform=\"translate(352.564257 239.238437)scale(0.1 -0.1)\">\n       <use xlink:href=\"#DejaVuSans-53\"/>\n       <use x=\"63.623047\" xlink:href=\"#DejaVuSans-48\"/>\n       <use x=\"127.246094\" xlink:href=\"#DejaVuSans-48\"/>\n       <use x=\"190.869141\" xlink:href=\"#DejaVuSans-48\"/>\n       <use x=\"254.492188\" xlink:href=\"#DejaVuSans-48\"/>\n      </g>\n     </g>\n    </g>\n    <g id=\"xtick_7\">\n     <g id=\"line2d_7\">\n      <g>\n       <use style=\"stroke:#000000;stroke-width:0.8;\" x=\"417.137733\" xlink:href=\"#mc1467a7dc3\" y=\"224.64\"/>\n      </g>\n     </g>\n     <g id=\"text_7\">\n      <!-- 60000 -->\n      <defs>\n       <path d=\"M 33.015625 40.375 \nQ 26.375 40.375 22.484375 35.828125 \nQ 18.609375 31.296875 18.609375 23.390625 \nQ 18.609375 15.53125 22.484375 10.953125 \nQ 26.375 6.390625 33.015625 6.390625 \nQ 39.65625 6.390625 43.53125 10.953125 \nQ 47.40625 15.53125 47.40625 23.390625 \nQ 47.40625 31.296875 43.53125 35.828125 \nQ 39.65625 40.375 33.015625 40.375 \nz\nM 52.59375 71.296875 \nL 52.59375 62.3125 \nQ 48.875 64.0625 45.09375 64.984375 \nQ 41.3125 65.921875 37.59375 65.921875 \nQ 27.828125 65.921875 22.671875 59.328125 \nQ 17.53125 52.734375 16.796875 39.40625 \nQ 19.671875 43.65625 24.015625 45.921875 \nQ 28.375 48.1875 33.59375 48.1875 \nQ 44.578125 48.1875 50.953125 41.515625 \nQ 57.328125 34.859375 57.328125 23.390625 \nQ 57.328125 12.15625 50.6875 5.359375 \nQ 44.046875 -1.421875 33.015625 -1.421875 \nQ 20.359375 -1.421875 13.671875 8.265625 \nQ 6.984375 17.96875 6.984375 36.375 \nQ 6.984375 53.65625 15.1875 63.9375 \nQ 23.390625 74.21875 37.203125 74.21875 \nQ 40.921875 74.21875 44.703125 73.484375 \nQ 48.484375 72.75 52.59375 71.296875 \nz\n\" id=\"DejaVuSans-54\"/>\n      </defs>\n      <g transform=\"translate(401.231483 239.238437)scale(0.1 -0.1)\">\n       <use xlink:href=\"#DejaVuSans-54\"/>\n       <use x=\"63.623047\" xlink:href=\"#DejaVuSans-48\"/>\n       <use x=\"127.246094\" xlink:href=\"#DejaVuSans-48\"/>\n       <use x=\"190.869141\" xlink:href=\"#DejaVuSans-48\"/>\n       <use x=\"254.492188\" xlink:href=\"#DejaVuSans-48\"/>\n      </g>\n     </g>\n    </g>\n   </g>\n   <g id=\"matplotlib.axis_2\">\n    <g id=\"ytick_1\">\n     <g id=\"line2d_8\">\n      <defs>\n       <path d=\"M 0 0 \nL -3.5 0 \n\" id=\"mf79cd4de7c\" style=\"stroke:#000000;stroke-width:0.8;\"/>\n      </defs>\n      <g>\n       <use style=\"stroke:#000000;stroke-width:0.8;\" x=\"125.134375\" xlink:href=\"#mf79cd4de7c\" y=\"197.46\"/>\n      </g>\n     </g>\n     <g id=\"text_8\">\n      <!-- Segment[moving_up] -->\n      <defs>\n       <path d=\"M 53.515625 70.515625 \nL 53.515625 60.890625 \nQ 47.90625 63.578125 42.921875 64.890625 \nQ 37.9375 66.21875 33.296875 66.21875 \nQ 25.25 66.21875 20.875 63.09375 \nQ 16.5 59.96875 16.5 54.203125 \nQ 16.5 49.359375 19.40625 46.890625 \nQ 22.3125 44.4375 30.421875 42.921875 \nL 36.375 41.703125 \nQ 47.40625 39.59375 52.65625 34.296875 \nQ 57.90625 29 57.90625 20.125 \nQ 57.90625 9.515625 50.796875 4.046875 \nQ 43.703125 -1.421875 29.984375 -1.421875 \nQ 24.8125 -1.421875 18.96875 -0.25 \nQ 13.140625 0.921875 6.890625 3.21875 \nL 6.890625 13.375 \nQ 12.890625 10.015625 18.65625 8.296875 \nQ 24.421875 6.59375 29.984375 6.59375 \nQ 38.421875 6.59375 43.015625 9.90625 \nQ 47.609375 13.234375 47.609375 19.390625 \nQ 47.609375 24.75 44.3125 27.78125 \nQ 41.015625 30.8125 33.5 32.328125 \nL 27.484375 33.5 \nQ 16.453125 35.6875 11.515625 40.375 \nQ 6.59375 45.0625 6.59375 53.421875 \nQ 6.59375 63.09375 13.40625 68.65625 \nQ 20.21875 74.21875 32.171875 74.21875 \nQ 37.3125 74.21875 42.625 73.28125 \nQ 47.953125 72.359375 53.515625 70.515625 \nz\n\" id=\"DejaVuSans-83\"/>\n       <path d=\"M 56.203125 29.59375 \nL 56.203125 25.203125 \nL 14.890625 25.203125 \nQ 15.484375 15.921875 20.484375 11.0625 \nQ 25.484375 6.203125 34.421875 6.203125 \nQ 39.59375 6.203125 44.453125 7.46875 \nQ 49.3125 8.734375 54.109375 11.28125 \nL 54.109375 2.78125 \nQ 49.265625 0.734375 44.1875 -0.34375 \nQ 39.109375 -1.421875 33.890625 -1.421875 \nQ 20.796875 -1.421875 13.15625 6.1875 \nQ 5.515625 13.8125 5.515625 26.8125 \nQ 5.515625 40.234375 12.765625 48.109375 \nQ 20.015625 56 32.328125 56 \nQ 43.359375 56 49.78125 48.890625 \nQ 56.203125 41.796875 56.203125 29.59375 \nz\nM 47.21875 32.234375 \nQ 47.125 39.59375 43.09375 43.984375 \nQ 39.0625 48.390625 32.421875 48.390625 \nQ 24.90625 48.390625 20.390625 44.140625 \nQ 15.875 39.890625 15.1875 32.171875 \nz\n\" id=\"DejaVuSans-101\"/>\n       <path d=\"M 45.40625 27.984375 \nQ 45.40625 37.75 41.375 43.109375 \nQ 37.359375 48.484375 30.078125 48.484375 \nQ 22.859375 48.484375 18.828125 43.109375 \nQ 14.796875 37.75 14.796875 27.984375 \nQ 14.796875 18.265625 18.828125 12.890625 \nQ 22.859375 7.515625 30.078125 7.515625 \nQ 37.359375 7.515625 41.375 12.890625 \nQ 45.40625 18.265625 45.40625 27.984375 \nz\nM 54.390625 6.78125 \nQ 54.390625 -7.171875 48.1875 -13.984375 \nQ 42 -20.796875 29.203125 -20.796875 \nQ 24.46875 -20.796875 20.265625 -20.09375 \nQ 16.0625 -19.390625 12.109375 -17.921875 \nL 12.109375 -9.1875 \nQ 16.0625 -11.328125 19.921875 -12.34375 \nQ 23.78125 -13.375 27.78125 -13.375 \nQ 36.625 -13.375 41.015625 -8.765625 \nQ 45.40625 -4.15625 45.40625 5.171875 \nL 45.40625 9.625 \nQ 42.625 4.78125 38.28125 2.390625 \nQ 33.9375 0 27.875 0 \nQ 17.828125 0 11.671875 7.65625 \nQ 5.515625 15.328125 5.515625 27.984375 \nQ 5.515625 40.671875 11.671875 48.328125 \nQ 17.828125 56 27.875 56 \nQ 33.9375 56 38.28125 53.609375 \nQ 42.625 51.21875 45.40625 46.390625 \nL 45.40625 54.6875 \nL 54.390625 54.6875 \nz\n\" id=\"DejaVuSans-103\"/>\n       <path d=\"M 52 44.1875 \nQ 55.375 50.25 60.0625 53.125 \nQ 64.75 56 71.09375 56 \nQ 79.640625 56 84.28125 50.015625 \nQ 88.921875 44.046875 88.921875 33.015625 \nL 88.921875 0 \nL 79.890625 0 \nL 79.890625 32.71875 \nQ 79.890625 40.578125 77.09375 44.375 \nQ 74.3125 48.1875 68.609375 48.1875 \nQ 61.625 48.1875 57.5625 43.546875 \nQ 53.515625 38.921875 53.515625 30.90625 \nL 53.515625 0 \nL 44.484375 0 \nL 44.484375 32.71875 \nQ 44.484375 40.625 41.703125 44.40625 \nQ 38.921875 48.1875 33.109375 48.1875 \nQ 26.21875 48.1875 22.15625 43.53125 \nQ 18.109375 38.875 18.109375 30.90625 \nL 18.109375 0 \nL 9.078125 0 \nL 9.078125 54.6875 \nL 18.109375 54.6875 \nL 18.109375 46.1875 \nQ 21.1875 51.21875 25.484375 53.609375 \nQ 29.78125 56 35.6875 56 \nQ 41.65625 56 45.828125 52.96875 \nQ 50 49.953125 52 44.1875 \nz\n\" id=\"DejaVuSans-109\"/>\n       <path d=\"M 54.890625 33.015625 \nL 54.890625 0 \nL 45.90625 0 \nL 45.90625 32.71875 \nQ 45.90625 40.484375 42.875 44.328125 \nQ 39.84375 48.1875 33.796875 48.1875 \nQ 26.515625 48.1875 22.3125 43.546875 \nQ 18.109375 38.921875 18.109375 30.90625 \nL 18.109375 0 \nL 9.078125 0 \nL 9.078125 54.6875 \nL 18.109375 54.6875 \nL 18.109375 46.1875 \nQ 21.34375 51.125 25.703125 53.5625 \nQ 30.078125 56 35.796875 56 \nQ 45.21875 56 50.046875 50.171875 \nQ 54.890625 44.34375 54.890625 33.015625 \nz\n\" id=\"DejaVuSans-110\"/>\n       <path d=\"M 18.3125 70.21875 \nL 18.3125 54.6875 \nL 36.8125 54.6875 \nL 36.8125 47.703125 \nL 18.3125 47.703125 \nL 18.3125 18.015625 \nQ 18.3125 11.328125 20.140625 9.421875 \nQ 21.96875 7.515625 27.59375 7.515625 \nL 36.8125 7.515625 \nL 36.8125 0 \nL 27.59375 0 \nQ 17.1875 0 13.234375 3.875 \nQ 9.28125 7.765625 9.28125 18.015625 \nL 9.28125 47.703125 \nL 2.6875 47.703125 \nL 2.6875 54.6875 \nL 9.28125 54.6875 \nL 9.28125 70.21875 \nz\n\" id=\"DejaVuSans-116\"/>\n       <path d=\"M 8.59375 75.984375 \nL 29.296875 75.984375 \nL 29.296875 69 \nL 17.578125 69 \nL 17.578125 -6.203125 \nL 29.296875 -6.203125 \nL 29.296875 -13.1875 \nL 8.59375 -13.1875 \nz\n\" id=\"DejaVuSans-91\"/>\n       <path d=\"M 30.609375 48.390625 \nQ 23.390625 48.390625 19.1875 42.75 \nQ 14.984375 37.109375 14.984375 27.296875 \nQ 14.984375 17.484375 19.15625 11.84375 \nQ 23.34375 6.203125 30.609375 6.203125 \nQ 37.796875 6.203125 41.984375 11.859375 \nQ 46.1875 17.53125 46.1875 27.296875 \nQ 46.1875 37.015625 41.984375 42.703125 \nQ 37.796875 48.390625 30.609375 48.390625 \nz\nM 30.609375 56 \nQ 42.328125 56 49.015625 48.375 \nQ 55.71875 40.765625 55.71875 27.296875 \nQ 55.71875 13.875 49.015625 6.21875 \nQ 42.328125 -1.421875 30.609375 -1.421875 \nQ 18.84375 -1.421875 12.171875 6.21875 \nQ 5.515625 13.875 5.515625 27.296875 \nQ 5.515625 40.765625 12.171875 48.375 \nQ 18.84375 56 30.609375 56 \nz\n\" id=\"DejaVuSans-111\"/>\n       <path d=\"M 2.984375 54.6875 \nL 12.5 54.6875 \nL 29.59375 8.796875 \nL 46.6875 54.6875 \nL 56.203125 54.6875 \nL 35.6875 0 \nL 23.484375 0 \nz\n\" id=\"DejaVuSans-118\"/>\n       <path d=\"M 9.421875 54.6875 \nL 18.40625 54.6875 \nL 18.40625 0 \nL 9.421875 0 \nz\nM 9.421875 75.984375 \nL 18.40625 75.984375 \nL 18.40625 64.59375 \nL 9.421875 64.59375 \nz\n\" id=\"DejaVuSans-105\"/>\n       <path d=\"M 50.984375 -16.609375 \nL 50.984375 -23.578125 \nL -0.984375 -23.578125 \nL -0.984375 -16.609375 \nz\n\" id=\"DejaVuSans-95\"/>\n       <path d=\"M 8.5 21.578125 \nL 8.5 54.6875 \nL 17.484375 54.6875 \nL 17.484375 21.921875 \nQ 17.484375 14.15625 20.5 10.265625 \nQ 23.53125 6.390625 29.59375 6.390625 \nQ 36.859375 6.390625 41.078125 11.03125 \nQ 45.3125 15.671875 45.3125 23.6875 \nL 45.3125 54.6875 \nL 54.296875 54.6875 \nL 54.296875 0 \nL 45.3125 0 \nL 45.3125 8.40625 \nQ 42.046875 3.421875 37.71875 1 \nQ 33.40625 -1.421875 27.6875 -1.421875 \nQ 18.265625 -1.421875 13.375 4.4375 \nQ 8.5 10.296875 8.5 21.578125 \nz\nM 31.109375 56 \nz\n\" id=\"DejaVuSans-117\"/>\n       <path d=\"M 18.109375 8.203125 \nL 18.109375 -20.796875 \nL 9.078125 -20.796875 \nL 9.078125 54.6875 \nL 18.109375 54.6875 \nL 18.109375 46.390625 \nQ 20.953125 51.265625 25.265625 53.625 \nQ 29.59375 56 35.59375 56 \nQ 45.5625 56 51.78125 48.09375 \nQ 58.015625 40.1875 58.015625 27.296875 \nQ 58.015625 14.40625 51.78125 6.484375 \nQ 45.5625 -1.421875 35.59375 -1.421875 \nQ 29.59375 -1.421875 25.265625 0.953125 \nQ 20.953125 3.328125 18.109375 8.203125 \nz\nM 48.6875 27.296875 \nQ 48.6875 37.203125 44.609375 42.84375 \nQ 40.53125 48.484375 33.40625 48.484375 \nQ 26.265625 48.484375 22.1875 42.84375 \nQ 18.109375 37.203125 18.109375 27.296875 \nQ 18.109375 17.390625 22.1875 11.75 \nQ 26.265625 6.109375 33.40625 6.109375 \nQ 40.53125 6.109375 44.609375 11.75 \nQ 48.6875 17.390625 48.6875 27.296875 \nz\n\" id=\"DejaVuSans-112\"/>\n       <path d=\"M 30.421875 75.984375 \nL 30.421875 -13.1875 \nL 9.71875 -13.1875 \nL 9.71875 -6.203125 \nL 21.390625 -6.203125 \nL 21.390625 69 \nL 9.71875 69 \nL 9.71875 75.984375 \nz\n\" id=\"DejaVuSans-93\"/>\n      </defs>\n      <g transform=\"translate(10.401562 201.259219)scale(0.1 -0.1)\">\n       <use xlink:href=\"#DejaVuSans-83\"/>\n       <use x=\"63.476562\" xlink:href=\"#DejaVuSans-101\"/>\n       <use x=\"125\" xlink:href=\"#DejaVuSans-103\"/>\n       <use x=\"188.476562\" xlink:href=\"#DejaVuSans-109\"/>\n       <use x=\"285.888672\" xlink:href=\"#DejaVuSans-101\"/>\n       <use x=\"347.412109\" xlink:href=\"#DejaVuSans-110\"/>\n       <use x=\"410.791016\" xlink:href=\"#DejaVuSans-116\"/>\n       <use x=\"450\" xlink:href=\"#DejaVuSans-91\"/>\n       <use x=\"489.013672\" xlink:href=\"#DejaVuSans-109\"/>\n       <use x=\"586.425781\" xlink:href=\"#DejaVuSans-111\"/>\n       <use x=\"647.607422\" xlink:href=\"#DejaVuSans-118\"/>\n       <use x=\"706.787109\" xlink:href=\"#DejaVuSans-105\"/>\n       <use x=\"734.570312\" xlink:href=\"#DejaVuSans-110\"/>\n       <use x=\"797.949219\" xlink:href=\"#DejaVuSans-103\"/>\n       <use x=\"861.425781\" xlink:href=\"#DejaVuSans-95\"/>\n       <use x=\"911.425781\" xlink:href=\"#DejaVuSans-117\"/>\n       <use x=\"974.804688\" xlink:href=\"#DejaVuSans-112\"/>\n       <use x=\"1038.28125\" xlink:href=\"#DejaVuSans-93\"/>\n      </g>\n     </g>\n    </g>\n    <g id=\"ytick_2\">\n     <g id=\"line2d_9\">\n      <g>\n       <use style=\"stroke:#000000;stroke-width:0.8;\" x=\"125.134375\" xlink:href=\"#mf79cd4de7c\" y=\"143.1\"/>\n      </g>\n     </g>\n     <g id=\"text_9\">\n      <!-- Segment[suburb_mix] -->\n      <defs>\n       <path d=\"M 44.28125 53.078125 \nL 44.28125 44.578125 \nQ 40.484375 46.53125 36.375 47.5 \nQ 32.28125 48.484375 27.875 48.484375 \nQ 21.1875 48.484375 17.84375 46.4375 \nQ 14.5 44.390625 14.5 40.28125 \nQ 14.5 37.15625 16.890625 35.375 \nQ 19.28125 33.59375 26.515625 31.984375 \nL 29.59375 31.296875 \nQ 39.15625 29.25 43.1875 25.515625 \nQ 47.21875 21.78125 47.21875 15.09375 \nQ 47.21875 7.46875 41.1875 3.015625 \nQ 35.15625 -1.421875 24.609375 -1.421875 \nQ 20.21875 -1.421875 15.453125 -0.5625 \nQ 10.6875 0.296875 5.421875 2 \nL 5.421875 11.28125 \nQ 10.40625 8.6875 15.234375 7.390625 \nQ 20.0625 6.109375 24.8125 6.109375 \nQ 31.15625 6.109375 34.5625 8.28125 \nQ 37.984375 10.453125 37.984375 14.40625 \nQ 37.984375 18.0625 35.515625 20.015625 \nQ 33.0625 21.96875 24.703125 23.78125 \nL 21.578125 24.515625 \nQ 13.234375 26.265625 9.515625 29.90625 \nQ 5.8125 33.546875 5.8125 39.890625 \nQ 5.8125 47.609375 11.28125 51.796875 \nQ 16.75 56 26.8125 56 \nQ 31.78125 56 36.171875 55.265625 \nQ 40.578125 54.546875 44.28125 53.078125 \nz\n\" id=\"DejaVuSans-115\"/>\n       <path d=\"M 48.6875 27.296875 \nQ 48.6875 37.203125 44.609375 42.84375 \nQ 40.53125 48.484375 33.40625 48.484375 \nQ 26.265625 48.484375 22.1875 42.84375 \nQ 18.109375 37.203125 18.109375 27.296875 \nQ 18.109375 17.390625 22.1875 11.75 \nQ 26.265625 6.109375 33.40625 6.109375 \nQ 40.53125 6.109375 44.609375 11.75 \nQ 48.6875 17.390625 48.6875 27.296875 \nz\nM 18.109375 46.390625 \nQ 20.953125 51.265625 25.265625 53.625 \nQ 29.59375 56 35.59375 56 \nQ 45.5625 56 51.78125 48.09375 \nQ 58.015625 40.1875 58.015625 27.296875 \nQ 58.015625 14.40625 51.78125 6.484375 \nQ 45.5625 -1.421875 35.59375 -1.421875 \nQ 29.59375 -1.421875 25.265625 0.953125 \nQ 20.953125 3.328125 18.109375 8.203125 \nL 18.109375 0 \nL 9.078125 0 \nL 9.078125 75.984375 \nL 18.109375 75.984375 \nz\n\" id=\"DejaVuSans-98\"/>\n       <path d=\"M 41.109375 46.296875 \nQ 39.59375 47.171875 37.8125 47.578125 \nQ 36.03125 48 33.890625 48 \nQ 26.265625 48 22.1875 43.046875 \nQ 18.109375 38.09375 18.109375 28.8125 \nL 18.109375 0 \nL 9.078125 0 \nL 9.078125 54.6875 \nL 18.109375 54.6875 \nL 18.109375 46.1875 \nQ 20.953125 51.171875 25.484375 53.578125 \nQ 30.03125 56 36.53125 56 \nQ 37.453125 56 38.578125 55.875 \nQ 39.703125 55.765625 41.0625 55.515625 \nz\n\" id=\"DejaVuSans-114\"/>\n       <path d=\"M 54.890625 54.6875 \nL 35.109375 28.078125 \nL 55.90625 0 \nL 45.3125 0 \nL 29.390625 21.484375 \nL 13.484375 0 \nL 2.875 0 \nL 24.125 28.609375 \nL 4.6875 54.6875 \nL 15.28125 54.6875 \nL 29.78125 35.203125 \nL 44.28125 54.6875 \nz\n\" id=\"DejaVuSans-120\"/>\n      </defs>\n      <g transform=\"translate(7.2 146.899219)scale(0.1 -0.1)\">\n       <use xlink:href=\"#DejaVuSans-83\"/>\n       <use x=\"63.476562\" xlink:href=\"#DejaVuSans-101\"/>\n       <use x=\"125\" xlink:href=\"#DejaVuSans-103\"/>\n       <use x=\"188.476562\" xlink:href=\"#DejaVuSans-109\"/>\n       <use x=\"285.888672\" xlink:href=\"#DejaVuSans-101\"/>\n       <use x=\"347.412109\" xlink:href=\"#DejaVuSans-110\"/>\n       <use x=\"410.791016\" xlink:href=\"#DejaVuSans-116\"/>\n       <use x=\"450\" xlink:href=\"#DejaVuSans-91\"/>\n       <use x=\"489.013672\" xlink:href=\"#DejaVuSans-115\"/>\n       <use x=\"541.113281\" xlink:href=\"#DejaVuSans-117\"/>\n       <use x=\"604.492188\" xlink:href=\"#DejaVuSans-98\"/>\n       <use x=\"667.96875\" xlink:href=\"#DejaVuSans-117\"/>\n       <use x=\"731.347656\" xlink:href=\"#DejaVuSans-114\"/>\n       <use x=\"772.460938\" xlink:href=\"#DejaVuSans-98\"/>\n       <use x=\"835.9375\" xlink:href=\"#DejaVuSans-95\"/>\n       <use x=\"885.9375\" xlink:href=\"#DejaVuSans-109\"/>\n       <use x=\"983.349609\" xlink:href=\"#DejaVuSans-105\"/>\n       <use x=\"1011.132812\" xlink:href=\"#DejaVuSans-120\"/>\n       <use x=\"1070.3125\" xlink:href=\"#DejaVuSans-93\"/>\n      </g>\n     </g>\n    </g>\n    <g id=\"ytick_3\">\n     <g id=\"line2d_10\">\n      <g>\n       <use style=\"stroke:#000000;stroke-width:0.8;\" x=\"125.134375\" xlink:href=\"#mf79cd4de7c\" y=\"88.74\"/>\n      </g>\n     </g>\n     <g id=\"text_10\">\n      <!-- Segment[travelers] -->\n      <defs>\n       <path d=\"M 34.28125 27.484375 \nQ 23.390625 27.484375 19.1875 25 \nQ 14.984375 22.515625 14.984375 16.5 \nQ 14.984375 11.71875 18.140625 8.90625 \nQ 21.296875 6.109375 26.703125 6.109375 \nQ 34.1875 6.109375 38.703125 11.40625 \nQ 43.21875 16.703125 43.21875 25.484375 \nL 43.21875 27.484375 \nz\nM 52.203125 31.203125 \nL 52.203125 0 \nL 43.21875 0 \nL 43.21875 8.296875 \nQ 40.140625 3.328125 35.546875 0.953125 \nQ 30.953125 -1.421875 24.3125 -1.421875 \nQ 15.921875 -1.421875 10.953125 3.296875 \nQ 6 8.015625 6 15.921875 \nQ 6 25.140625 12.171875 29.828125 \nQ 18.359375 34.515625 30.609375 34.515625 \nL 43.21875 34.515625 \nL 43.21875 35.40625 \nQ 43.21875 41.609375 39.140625 45 \nQ 35.0625 48.390625 27.6875 48.390625 \nQ 23 48.390625 18.546875 47.265625 \nQ 14.109375 46.140625 10.015625 43.890625 \nL 10.015625 52.203125 \nQ 14.9375 54.109375 19.578125 55.046875 \nQ 24.21875 56 28.609375 56 \nQ 40.484375 56 46.34375 49.84375 \nQ 52.203125 43.703125 52.203125 31.203125 \nz\n\" id=\"DejaVuSans-97\"/>\n       <path d=\"M 9.421875 75.984375 \nL 18.40625 75.984375 \nL 18.40625 0 \nL 9.421875 0 \nz\n\" id=\"DejaVuSans-108\"/>\n      </defs>\n      <g transform=\"translate(20.846875 92.539219)scale(0.1 -0.1)\">\n       <use xlink:href=\"#DejaVuSans-83\"/>\n       <use x=\"63.476562\" xlink:href=\"#DejaVuSans-101\"/>\n       <use x=\"125\" xlink:href=\"#DejaVuSans-103\"/>\n       <use x=\"188.476562\" xlink:href=\"#DejaVuSans-109\"/>\n       <use x=\"285.888672\" xlink:href=\"#DejaVuSans-101\"/>\n       <use x=\"347.412109\" xlink:href=\"#DejaVuSans-110\"/>\n       <use x=\"410.791016\" xlink:href=\"#DejaVuSans-116\"/>\n       <use x=\"450\" xlink:href=\"#DejaVuSans-91\"/>\n       <use x=\"489.013672\" xlink:href=\"#DejaVuSans-116\"/>\n       <use x=\"528.222656\" xlink:href=\"#DejaVuSans-114\"/>\n       <use x=\"569.335938\" xlink:href=\"#DejaVuSans-97\"/>\n       <use x=\"630.615234\" xlink:href=\"#DejaVuSans-118\"/>\n       <use x=\"689.794922\" xlink:href=\"#DejaVuSans-101\"/>\n       <use x=\"751.318359\" xlink:href=\"#DejaVuSans-108\"/>\n       <use x=\"779.101562\" xlink:href=\"#DejaVuSans-101\"/>\n       <use x=\"840.625\" xlink:href=\"#DejaVuSans-114\"/>\n       <use x=\"881.738281\" xlink:href=\"#DejaVuSans-115\"/>\n       <use x=\"933.837891\" xlink:href=\"#DejaVuSans-93\"/>\n      </g>\n     </g>\n    </g>\n    <g id=\"ytick_4\">\n     <g id=\"line2d_11\">\n      <g>\n       <use style=\"stroke:#000000;stroke-width:0.8;\" x=\"125.134375\" xlink:href=\"#mf79cd4de7c\" y=\"34.38\"/>\n      </g>\n     </g>\n     <g id=\"text_11\">\n      <!-- Segment[urban_hip] -->\n      <defs>\n       <path d=\"M 54.890625 33.015625 \nL 54.890625 0 \nL 45.90625 0 \nL 45.90625 32.71875 \nQ 45.90625 40.484375 42.875 44.328125 \nQ 39.84375 48.1875 33.796875 48.1875 \nQ 26.515625 48.1875 22.3125 43.546875 \nQ 18.109375 38.921875 18.109375 30.90625 \nL 18.109375 0 \nL 9.078125 0 \nL 9.078125 75.984375 \nL 18.109375 75.984375 \nL 18.109375 46.1875 \nQ 21.34375 51.125 25.703125 53.5625 \nQ 30.078125 56 35.796875 56 \nQ 45.21875 56 50.046875 50.171875 \nQ 54.890625 44.34375 54.890625 33.015625 \nz\n\" id=\"DejaVuSans-104\"/>\n      </defs>\n      <g transform=\"translate(15.603125 38.179219)scale(0.1 -0.1)\">\n       <use xlink:href=\"#DejaVuSans-83\"/>\n       <use x=\"63.476562\" xlink:href=\"#DejaVuSans-101\"/>\n       <use x=\"125\" xlink:href=\"#DejaVuSans-103\"/>\n       <use x=\"188.476562\" xlink:href=\"#DejaVuSans-109\"/>\n       <use x=\"285.888672\" xlink:href=\"#DejaVuSans-101\"/>\n       <use x=\"347.412109\" xlink:href=\"#DejaVuSans-110\"/>\n       <use x=\"410.791016\" xlink:href=\"#DejaVuSans-116\"/>\n       <use x=\"450\" xlink:href=\"#DejaVuSans-91\"/>\n       <use x=\"489.013672\" xlink:href=\"#DejaVuSans-117\"/>\n       <use x=\"552.392578\" xlink:href=\"#DejaVuSans-114\"/>\n       <use x=\"593.505859\" xlink:href=\"#DejaVuSans-98\"/>\n       <use x=\"656.982422\" xlink:href=\"#DejaVuSans-97\"/>\n       <use x=\"718.261719\" xlink:href=\"#DejaVuSans-110\"/>\n       <use x=\"781.640625\" xlink:href=\"#DejaVuSans-95\"/>\n       <use x=\"831.640625\" xlink:href=\"#DejaVuSans-104\"/>\n       <use x=\"895.019531\" xlink:href=\"#DejaVuSans-105\"/>\n       <use x=\"922.802734\" xlink:href=\"#DejaVuSans-112\"/>\n       <use x=\"986.279297\" xlink:href=\"#DejaVuSans-93\"/>\n      </g>\n     </g>\n    </g>\n   </g>\n   <g id=\"LineCollection_1\">\n    <path clip-path=\"url(#p905ac18211)\" d=\"M 361.922698 197.46 \nL 392.18376 197.46 \n\" style=\"fill:none;stroke:#000000;stroke-width:1.5;\"/>\n    <path clip-path=\"url(#p905ac18211)\" d=\"M 382.832818 143.1 \nL 408.151039 143.1 \n\" style=\"fill:none;stroke:#000000;stroke-width:1.5;\"/>\n    <path clip-path=\"url(#p905ac18211)\" d=\"M 415.684886 88.74 \nL 443.991518 88.74 \n\" style=\"fill:none;stroke:#000000;stroke-width:1.5;\"/>\n    <path clip-path=\"url(#p905ac18211)\" d=\"M 205.869145 34.38 \nL 241.674517 34.38 \n\" style=\"fill:none;stroke:#000000;stroke-width:1.5;\"/>\n   </g>\n   <g id=\"patch_7\">\n    <path d=\"M 125.134375 224.64 \nL 125.134375 7.2 \n\" style=\"fill:none;stroke:#000000;stroke-linecap:square;stroke-linejoin:miter;stroke-width:0.8;\"/>\n   </g>\n   <g id=\"patch_8\">\n    <path d=\"M 459.934375 224.64 \nL 459.934375 7.2 \n\" style=\"fill:none;stroke:#000000;stroke-linecap:square;stroke-linejoin:miter;stroke-width:0.8;\"/>\n   </g>\n   <g id=\"patch_9\">\n    <path d=\"M 125.134375 224.64 \nL 459.934375 224.64 \n\" style=\"fill:none;stroke:#000000;stroke-linecap:square;stroke-linejoin:miter;stroke-width:0.8;\"/>\n   </g>\n   <g id=\"patch_10\">\n    <path d=\"M 125.134375 7.2 \nL 459.934375 7.2 \n\" style=\"fill:none;stroke:#000000;stroke-linecap:square;stroke-linejoin:miter;stroke-width:0.8;\"/>\n   </g>\n  </g>\n </g>\n <defs>\n  <clipPath id=\"p905ac18211\">\n   <rect height=\"217.44\" width=\"334.8\" x=\"125.134375\" y=\"7.2\"/>\n  </clipPath>\n </defs>\n</svg>\n"
          },
          "metadata": {
            "needs_background": "light"
          }
        }
      ]
    },
    {
      "cell_type": "code",
      "metadata": {
        "colab": {
          "base_uri": "https://localhost:8080/",
          "height": 173
        },
        "id": "7s8zGQ8IVAWp",
        "outputId": "7b43be19-33b1-41a6-d7b4-b18d71ebb653"
      },
      "source": [
        "ci"
      ],
      "execution_count": 55,
      "outputs": [
        {
          "output_type": "execute_result",
          "data": {
            "text/html": [
              "<div>\n",
              "<style scoped>\n",
              "    .dataframe tbody tr th:only-of-type {\n",
              "        vertical-align: middle;\n",
              "    }\n",
              "\n",
              "    .dataframe tbody tr th {\n",
              "        vertical-align: top;\n",
              "    }\n",
              "\n",
              "    .dataframe thead th {\n",
              "        text-align: right;\n",
              "    }\n",
              "</style>\n",
              "<table border=\"1\" class=\"dataframe\">\n",
              "  <thead>\n",
              "    <tr style=\"text-align: right;\">\n",
              "      <th></th>\n",
              "      <th>0</th>\n",
              "      <th>1</th>\n",
              "    </tr>\n",
              "  </thead>\n",
              "  <tbody>\n",
              "    <tr>\n",
              "      <th>Segment[moving_up]</th>\n",
              "      <td>48654.575215</td>\n",
              "      <td>54872.530118</td>\n",
              "    </tr>\n",
              "    <tr>\n",
              "      <th>Segment[suburb_mix]</th>\n",
              "      <td>52951.125768</td>\n",
              "      <td>58153.440082</td>\n",
              "    </tr>\n",
              "    <tr>\n",
              "      <th>Segment[travelers]</th>\n",
              "      <td>59701.473216</td>\n",
              "      <td>65517.837440</td>\n",
              "    </tr>\n",
              "    <tr>\n",
              "      <th>Segment[urban_hip]</th>\n",
              "      <td>16589.145587</td>\n",
              "      <td>23946.329046</td>\n",
              "    </tr>\n",
              "  </tbody>\n",
              "</table>\n",
              "</div>"
            ],
            "text/plain": [
              "                                0             1\n",
              "Segment[moving_up]   48654.575215  54872.530118\n",
              "Segment[suburb_mix]  52951.125768  58153.440082\n",
              "Segment[travelers]   59701.473216  65517.837440\n",
              "Segment[urban_hip]   16589.145587  23946.329046"
            ]
          },
          "metadata": {},
          "execution_count": 55
        }
      ]
    },
    {
      "cell_type": "code",
      "metadata": {
        "colab": {
          "base_uri": "https://localhost:8080/"
        },
        "id": "VxuIbOlfVnFk",
        "outputId": "d7cc20e1-a125-42d8-bf4a-25793b34b841"
      },
      "source": [
        "ci[1]-ci[0]"
      ],
      "execution_count": 59,
      "outputs": [
        {
          "output_type": "execute_result",
          "data": {
            "text/plain": [
              "Segment[moving_up]     6217.954903\n",
              "Segment[suburb_mix]    5202.314314\n",
              "Segment[travelers]     5816.364224\n",
              "Segment[urban_hip]     7357.183459\n",
              "dtype: float64"
            ]
          },
          "metadata": {},
          "execution_count": 59
        }
      ]
    },
    {
      "cell_type": "code",
      "metadata": {
        "id": "k-ZNei_WmfAQ",
        "colab": {
          "base_uri": "https://localhost:8080/",
          "height": 388
        },
        "outputId": "54067b0e-3441-495e-8ebd-b4162f4b283c"
      },
      "source": [
        "import matplotlib.pyplot as plt\n",
        "plt.figure(figsize=(8,4))\n",
        "plt.barh(y=range(4), left=ci[0], width=ci[1]-ci[0],\n",
        "         height=0.2, color='0.4')\n",
        "plt.xlabel('income ($)')\n",
        "plt.yticks(range(len(means)), ci.index)\n",
        "plt.plot(means, range(4), 'ro')\n",
        "plt.xlim((0, 68000))"
      ],
      "execution_count": 58,
      "outputs": [
        {
          "output_type": "execute_result",
          "data": {
            "text/plain": [
              "(0.0, 68000.0)"
            ]
          },
          "metadata": {},
          "execution_count": 58
        },
        {
          "output_type": "display_data",
          "data": {
            "text/plain": [
              "<Figure size 576x288 with 1 Axes>"
            ],
            "image/svg+xml": "<?xml version=\"1.0\" encoding=\"utf-8\" standalone=\"no\"?>\n<!DOCTYPE svg PUBLIC \"-//W3C//DTD SVG 1.1//EN\"\n  \"http://www.w3.org/Graphics/SVG/1.1/DTD/svg11.dtd\">\n<!-- Created with matplotlib (https://matplotlib.org/) -->\n<svg height=\"262.19625pt\" version=\"1.1\" viewBox=\"0 0 578.734375 262.19625\" width=\"578.734375pt\" xmlns=\"http://www.w3.org/2000/svg\" xmlns:xlink=\"http://www.w3.org/1999/xlink\">\n <defs>\n  <style type=\"text/css\">\n*{stroke-linecap:butt;stroke-linejoin:round;}\n  </style>\n </defs>\n <g id=\"figure_1\">\n  <g id=\"patch_1\">\n   <path d=\"M 0 262.19625 \nL 578.734375 262.19625 \nL 578.734375 0 \nL 0 0 \nz\n\" style=\"fill:none;\"/>\n  </g>\n  <g id=\"axes_1\">\n   <g id=\"patch_2\">\n    <path d=\"M 125.134375 224.64 \nL 571.534375 224.64 \nL 571.534375 7.2 \nL 125.134375 7.2 \nz\n\" style=\"fill:#ffffff;\"/>\n   </g>\n   <g id=\"patch_3\">\n    <path clip-path=\"url(#p0c6b18c7a9)\" d=\"M 444.537351 214.756364 \nL 485.356396 214.756364 \nL 485.356396 202.401818 \nL 444.537351 202.401818 \nz\n\" style=\"fill:#666666;\"/>\n   </g>\n   <g id=\"patch_4\">\n    <path clip-path=\"url(#p0c6b18c7a9)\" d=\"M 472.742942 152.983636 \nL 506.894605 152.983636 \nL 506.894605 140.629091 \nL 472.742942 140.629091 \nz\n\" style=\"fill:#666666;\"/>\n   </g>\n   <g id=\"patch_5\">\n    <path clip-path=\"url(#p0c6b18c7a9)\" d=\"M 517.056987 91.210909 \nL 555.239708 91.210909 \nL 555.239708 78.856364 \nL 517.056987 78.856364 \nz\n\" style=\"fill:#666666;\"/>\n   </g>\n   <g id=\"patch_6\">\n    <path clip-path=\"url(#p0c6b18c7a9)\" d=\"M 234.037237 29.438182 \nL 282.334982 29.438182 \nL 282.334982 17.083636 \nL 234.037237 17.083636 \nz\n\" style=\"fill:#666666;\"/>\n   </g>\n   <g id=\"matplotlib.axis_1\">\n    <g id=\"xtick_1\">\n     <g id=\"line2d_1\">\n      <defs>\n       <path d=\"M 0 0 \nL 0 3.5 \n\" id=\"m0006c35ba4\" style=\"stroke:#000000;stroke-width:0.8;\"/>\n      </defs>\n      <g>\n       <use style=\"stroke:#000000;stroke-width:0.8;\" x=\"125.134375\" xlink:href=\"#m0006c35ba4\" y=\"224.64\"/>\n      </g>\n     </g>\n     <g id=\"text_1\">\n      <!-- 0 -->\n      <defs>\n       <path d=\"M 31.78125 66.40625 \nQ 24.171875 66.40625 20.328125 58.90625 \nQ 16.5 51.421875 16.5 36.375 \nQ 16.5 21.390625 20.328125 13.890625 \nQ 24.171875 6.390625 31.78125 6.390625 \nQ 39.453125 6.390625 43.28125 13.890625 \nQ 47.125 21.390625 47.125 36.375 \nQ 47.125 51.421875 43.28125 58.90625 \nQ 39.453125 66.40625 31.78125 66.40625 \nz\nM 31.78125 74.21875 \nQ 44.046875 74.21875 50.515625 64.515625 \nQ 56.984375 54.828125 56.984375 36.375 \nQ 56.984375 17.96875 50.515625 8.265625 \nQ 44.046875 -1.421875 31.78125 -1.421875 \nQ 19.53125 -1.421875 13.0625 8.265625 \nQ 6.59375 17.96875 6.59375 36.375 \nQ 6.59375 54.828125 13.0625 64.515625 \nQ 19.53125 74.21875 31.78125 74.21875 \nz\n\" id=\"DejaVuSans-48\"/>\n      </defs>\n      <g transform=\"translate(121.953125 239.238437)scale(0.1 -0.1)\">\n       <use xlink:href=\"#DejaVuSans-48\"/>\n      </g>\n     </g>\n    </g>\n    <g id=\"xtick_2\">\n     <g id=\"line2d_2\">\n      <g>\n       <use style=\"stroke:#000000;stroke-width:0.8;\" x=\"190.781434\" xlink:href=\"#m0006c35ba4\" y=\"224.64\"/>\n      </g>\n     </g>\n     <g id=\"text_2\">\n      <!-- 10000 -->\n      <defs>\n       <path d=\"M 12.40625 8.296875 \nL 28.515625 8.296875 \nL 28.515625 63.921875 \nL 10.984375 60.40625 \nL 10.984375 69.390625 \nL 28.421875 72.90625 \nL 38.28125 72.90625 \nL 38.28125 8.296875 \nL 54.390625 8.296875 \nL 54.390625 0 \nL 12.40625 0 \nz\n\" id=\"DejaVuSans-49\"/>\n      </defs>\n      <g transform=\"translate(174.875184 239.238437)scale(0.1 -0.1)\">\n       <use xlink:href=\"#DejaVuSans-49\"/>\n       <use x=\"63.623047\" xlink:href=\"#DejaVuSans-48\"/>\n       <use x=\"127.246094\" xlink:href=\"#DejaVuSans-48\"/>\n       <use x=\"190.869141\" xlink:href=\"#DejaVuSans-48\"/>\n       <use x=\"254.492188\" xlink:href=\"#DejaVuSans-48\"/>\n      </g>\n     </g>\n    </g>\n    <g id=\"xtick_3\">\n     <g id=\"line2d_3\">\n      <g>\n       <use style=\"stroke:#000000;stroke-width:0.8;\" x=\"256.428493\" xlink:href=\"#m0006c35ba4\" y=\"224.64\"/>\n      </g>\n     </g>\n     <g id=\"text_3\">\n      <!-- 20000 -->\n      <defs>\n       <path d=\"M 19.1875 8.296875 \nL 53.609375 8.296875 \nL 53.609375 0 \nL 7.328125 0 \nL 7.328125 8.296875 \nQ 12.9375 14.109375 22.625 23.890625 \nQ 32.328125 33.6875 34.8125 36.53125 \nQ 39.546875 41.84375 41.421875 45.53125 \nQ 43.3125 49.21875 43.3125 52.78125 \nQ 43.3125 58.59375 39.234375 62.25 \nQ 35.15625 65.921875 28.609375 65.921875 \nQ 23.96875 65.921875 18.8125 64.3125 \nQ 13.671875 62.703125 7.8125 59.421875 \nL 7.8125 69.390625 \nQ 13.765625 71.78125 18.9375 73 \nQ 24.125 74.21875 28.421875 74.21875 \nQ 39.75 74.21875 46.484375 68.546875 \nQ 53.21875 62.890625 53.21875 53.421875 \nQ 53.21875 48.921875 51.53125 44.890625 \nQ 49.859375 40.875 45.40625 35.40625 \nQ 44.1875 33.984375 37.640625 27.21875 \nQ 31.109375 20.453125 19.1875 8.296875 \nz\n\" id=\"DejaVuSans-50\"/>\n      </defs>\n      <g transform=\"translate(240.522243 239.238437)scale(0.1 -0.1)\">\n       <use xlink:href=\"#DejaVuSans-50\"/>\n       <use x=\"63.623047\" xlink:href=\"#DejaVuSans-48\"/>\n       <use x=\"127.246094\" xlink:href=\"#DejaVuSans-48\"/>\n       <use x=\"190.869141\" xlink:href=\"#DejaVuSans-48\"/>\n       <use x=\"254.492188\" xlink:href=\"#DejaVuSans-48\"/>\n      </g>\n     </g>\n    </g>\n    <g id=\"xtick_4\">\n     <g id=\"line2d_4\">\n      <g>\n       <use style=\"stroke:#000000;stroke-width:0.8;\" x=\"322.075551\" xlink:href=\"#m0006c35ba4\" y=\"224.64\"/>\n      </g>\n     </g>\n     <g id=\"text_4\">\n      <!-- 30000 -->\n      <defs>\n       <path d=\"M 40.578125 39.3125 \nQ 47.65625 37.796875 51.625 33 \nQ 55.609375 28.21875 55.609375 21.1875 \nQ 55.609375 10.40625 48.1875 4.484375 \nQ 40.765625 -1.421875 27.09375 -1.421875 \nQ 22.515625 -1.421875 17.65625 -0.515625 \nQ 12.796875 0.390625 7.625 2.203125 \nL 7.625 11.71875 \nQ 11.71875 9.328125 16.59375 8.109375 \nQ 21.484375 6.890625 26.8125 6.890625 \nQ 36.078125 6.890625 40.9375 10.546875 \nQ 45.796875 14.203125 45.796875 21.1875 \nQ 45.796875 27.640625 41.28125 31.265625 \nQ 36.765625 34.90625 28.71875 34.90625 \nL 20.21875 34.90625 \nL 20.21875 43.015625 \nL 29.109375 43.015625 \nQ 36.375 43.015625 40.234375 45.921875 \nQ 44.09375 48.828125 44.09375 54.296875 \nQ 44.09375 59.90625 40.109375 62.90625 \nQ 36.140625 65.921875 28.71875 65.921875 \nQ 24.65625 65.921875 20.015625 65.03125 \nQ 15.375 64.15625 9.8125 62.3125 \nL 9.8125 71.09375 \nQ 15.4375 72.65625 20.34375 73.4375 \nQ 25.25 74.21875 29.59375 74.21875 \nQ 40.828125 74.21875 47.359375 69.109375 \nQ 53.90625 64.015625 53.90625 55.328125 \nQ 53.90625 49.265625 50.4375 45.09375 \nQ 46.96875 40.921875 40.578125 39.3125 \nz\n\" id=\"DejaVuSans-51\"/>\n      </defs>\n      <g transform=\"translate(306.169301 239.238437)scale(0.1 -0.1)\">\n       <use xlink:href=\"#DejaVuSans-51\"/>\n       <use x=\"63.623047\" xlink:href=\"#DejaVuSans-48\"/>\n       <use x=\"127.246094\" xlink:href=\"#DejaVuSans-48\"/>\n       <use x=\"190.869141\" xlink:href=\"#DejaVuSans-48\"/>\n       <use x=\"254.492188\" xlink:href=\"#DejaVuSans-48\"/>\n      </g>\n     </g>\n    </g>\n    <g id=\"xtick_5\">\n     <g id=\"line2d_5\">\n      <g>\n       <use style=\"stroke:#000000;stroke-width:0.8;\" x=\"387.72261\" xlink:href=\"#m0006c35ba4\" y=\"224.64\"/>\n      </g>\n     </g>\n     <g id=\"text_5\">\n      <!-- 40000 -->\n      <defs>\n       <path d=\"M 37.796875 64.3125 \nL 12.890625 25.390625 \nL 37.796875 25.390625 \nz\nM 35.203125 72.90625 \nL 47.609375 72.90625 \nL 47.609375 25.390625 \nL 58.015625 25.390625 \nL 58.015625 17.1875 \nL 47.609375 17.1875 \nL 47.609375 0 \nL 37.796875 0 \nL 37.796875 17.1875 \nL 4.890625 17.1875 \nL 4.890625 26.703125 \nz\n\" id=\"DejaVuSans-52\"/>\n      </defs>\n      <g transform=\"translate(371.81636 239.238437)scale(0.1 -0.1)\">\n       <use xlink:href=\"#DejaVuSans-52\"/>\n       <use x=\"63.623047\" xlink:href=\"#DejaVuSans-48\"/>\n       <use x=\"127.246094\" xlink:href=\"#DejaVuSans-48\"/>\n       <use x=\"190.869141\" xlink:href=\"#DejaVuSans-48\"/>\n       <use x=\"254.492188\" xlink:href=\"#DejaVuSans-48\"/>\n      </g>\n     </g>\n    </g>\n    <g id=\"xtick_6\">\n     <g id=\"line2d_6\">\n      <g>\n       <use style=\"stroke:#000000;stroke-width:0.8;\" x=\"453.369669\" xlink:href=\"#m0006c35ba4\" y=\"224.64\"/>\n      </g>\n     </g>\n     <g id=\"text_6\">\n      <!-- 50000 -->\n      <defs>\n       <path d=\"M 10.796875 72.90625 \nL 49.515625 72.90625 \nL 49.515625 64.59375 \nL 19.828125 64.59375 \nL 19.828125 46.734375 \nQ 21.96875 47.46875 24.109375 47.828125 \nQ 26.265625 48.1875 28.421875 48.1875 \nQ 40.625 48.1875 47.75 41.5 \nQ 54.890625 34.8125 54.890625 23.390625 \nQ 54.890625 11.625 47.5625 5.09375 \nQ 40.234375 -1.421875 26.90625 -1.421875 \nQ 22.3125 -1.421875 17.546875 -0.640625 \nQ 12.796875 0.140625 7.71875 1.703125 \nL 7.71875 11.625 \nQ 12.109375 9.234375 16.796875 8.0625 \nQ 21.484375 6.890625 26.703125 6.890625 \nQ 35.15625 6.890625 40.078125 11.328125 \nQ 45.015625 15.765625 45.015625 23.390625 \nQ 45.015625 31 40.078125 35.4375 \nQ 35.15625 39.890625 26.703125 39.890625 \nQ 22.75 39.890625 18.8125 39.015625 \nQ 14.890625 38.140625 10.796875 36.28125 \nz\n\" id=\"DejaVuSans-53\"/>\n      </defs>\n      <g transform=\"translate(437.463419 239.238437)scale(0.1 -0.1)\">\n       <use xlink:href=\"#DejaVuSans-53\"/>\n       <use x=\"63.623047\" xlink:href=\"#DejaVuSans-48\"/>\n       <use x=\"127.246094\" xlink:href=\"#DejaVuSans-48\"/>\n       <use x=\"190.869141\" xlink:href=\"#DejaVuSans-48\"/>\n       <use x=\"254.492188\" xlink:href=\"#DejaVuSans-48\"/>\n      </g>\n     </g>\n    </g>\n    <g id=\"xtick_7\">\n     <g id=\"line2d_7\">\n      <g>\n       <use style=\"stroke:#000000;stroke-width:0.8;\" x=\"519.016728\" xlink:href=\"#m0006c35ba4\" y=\"224.64\"/>\n      </g>\n     </g>\n     <g id=\"text_7\">\n      <!-- 60000 -->\n      <defs>\n       <path d=\"M 33.015625 40.375 \nQ 26.375 40.375 22.484375 35.828125 \nQ 18.609375 31.296875 18.609375 23.390625 \nQ 18.609375 15.53125 22.484375 10.953125 \nQ 26.375 6.390625 33.015625 6.390625 \nQ 39.65625 6.390625 43.53125 10.953125 \nQ 47.40625 15.53125 47.40625 23.390625 \nQ 47.40625 31.296875 43.53125 35.828125 \nQ 39.65625 40.375 33.015625 40.375 \nz\nM 52.59375 71.296875 \nL 52.59375 62.3125 \nQ 48.875 64.0625 45.09375 64.984375 \nQ 41.3125 65.921875 37.59375 65.921875 \nQ 27.828125 65.921875 22.671875 59.328125 \nQ 17.53125 52.734375 16.796875 39.40625 \nQ 19.671875 43.65625 24.015625 45.921875 \nQ 28.375 48.1875 33.59375 48.1875 \nQ 44.578125 48.1875 50.953125 41.515625 \nQ 57.328125 34.859375 57.328125 23.390625 \nQ 57.328125 12.15625 50.6875 5.359375 \nQ 44.046875 -1.421875 33.015625 -1.421875 \nQ 20.359375 -1.421875 13.671875 8.265625 \nQ 6.984375 17.96875 6.984375 36.375 \nQ 6.984375 53.65625 15.1875 63.9375 \nQ 23.390625 74.21875 37.203125 74.21875 \nQ 40.921875 74.21875 44.703125 73.484375 \nQ 48.484375 72.75 52.59375 71.296875 \nz\n\" id=\"DejaVuSans-54\"/>\n      </defs>\n      <g transform=\"translate(503.110478 239.238437)scale(0.1 -0.1)\">\n       <use xlink:href=\"#DejaVuSans-54\"/>\n       <use x=\"63.623047\" xlink:href=\"#DejaVuSans-48\"/>\n       <use x=\"127.246094\" xlink:href=\"#DejaVuSans-48\"/>\n       <use x=\"190.869141\" xlink:href=\"#DejaVuSans-48\"/>\n       <use x=\"254.492188\" xlink:href=\"#DejaVuSans-48\"/>\n      </g>\n     </g>\n    </g>\n    <g id=\"text_8\">\n     <!-- income ($) -->\n     <defs>\n      <path d=\"M 9.421875 54.6875 \nL 18.40625 54.6875 \nL 18.40625 0 \nL 9.421875 0 \nz\nM 9.421875 75.984375 \nL 18.40625 75.984375 \nL 18.40625 64.59375 \nL 9.421875 64.59375 \nz\n\" id=\"DejaVuSans-105\"/>\n      <path d=\"M 54.890625 33.015625 \nL 54.890625 0 \nL 45.90625 0 \nL 45.90625 32.71875 \nQ 45.90625 40.484375 42.875 44.328125 \nQ 39.84375 48.1875 33.796875 48.1875 \nQ 26.515625 48.1875 22.3125 43.546875 \nQ 18.109375 38.921875 18.109375 30.90625 \nL 18.109375 0 \nL 9.078125 0 \nL 9.078125 54.6875 \nL 18.109375 54.6875 \nL 18.109375 46.1875 \nQ 21.34375 51.125 25.703125 53.5625 \nQ 30.078125 56 35.796875 56 \nQ 45.21875 56 50.046875 50.171875 \nQ 54.890625 44.34375 54.890625 33.015625 \nz\n\" id=\"DejaVuSans-110\"/>\n      <path d=\"M 48.78125 52.59375 \nL 48.78125 44.1875 \nQ 44.96875 46.296875 41.140625 47.34375 \nQ 37.3125 48.390625 33.40625 48.390625 \nQ 24.65625 48.390625 19.8125 42.84375 \nQ 14.984375 37.3125 14.984375 27.296875 \nQ 14.984375 17.28125 19.8125 11.734375 \nQ 24.65625 6.203125 33.40625 6.203125 \nQ 37.3125 6.203125 41.140625 7.25 \nQ 44.96875 8.296875 48.78125 10.40625 \nL 48.78125 2.09375 \nQ 45.015625 0.34375 40.984375 -0.53125 \nQ 36.96875 -1.421875 32.421875 -1.421875 \nQ 20.0625 -1.421875 12.78125 6.34375 \nQ 5.515625 14.109375 5.515625 27.296875 \nQ 5.515625 40.671875 12.859375 48.328125 \nQ 20.21875 56 33.015625 56 \nQ 37.15625 56 41.109375 55.140625 \nQ 45.0625 54.296875 48.78125 52.59375 \nz\n\" id=\"DejaVuSans-99\"/>\n      <path d=\"M 30.609375 48.390625 \nQ 23.390625 48.390625 19.1875 42.75 \nQ 14.984375 37.109375 14.984375 27.296875 \nQ 14.984375 17.484375 19.15625 11.84375 \nQ 23.34375 6.203125 30.609375 6.203125 \nQ 37.796875 6.203125 41.984375 11.859375 \nQ 46.1875 17.53125 46.1875 27.296875 \nQ 46.1875 37.015625 41.984375 42.703125 \nQ 37.796875 48.390625 30.609375 48.390625 \nz\nM 30.609375 56 \nQ 42.328125 56 49.015625 48.375 \nQ 55.71875 40.765625 55.71875 27.296875 \nQ 55.71875 13.875 49.015625 6.21875 \nQ 42.328125 -1.421875 30.609375 -1.421875 \nQ 18.84375 -1.421875 12.171875 6.21875 \nQ 5.515625 13.875 5.515625 27.296875 \nQ 5.515625 40.765625 12.171875 48.375 \nQ 18.84375 56 30.609375 56 \nz\n\" id=\"DejaVuSans-111\"/>\n      <path d=\"M 52 44.1875 \nQ 55.375 50.25 60.0625 53.125 \nQ 64.75 56 71.09375 56 \nQ 79.640625 56 84.28125 50.015625 \nQ 88.921875 44.046875 88.921875 33.015625 \nL 88.921875 0 \nL 79.890625 0 \nL 79.890625 32.71875 \nQ 79.890625 40.578125 77.09375 44.375 \nQ 74.3125 48.1875 68.609375 48.1875 \nQ 61.625 48.1875 57.5625 43.546875 \nQ 53.515625 38.921875 53.515625 30.90625 \nL 53.515625 0 \nL 44.484375 0 \nL 44.484375 32.71875 \nQ 44.484375 40.625 41.703125 44.40625 \nQ 38.921875 48.1875 33.109375 48.1875 \nQ 26.21875 48.1875 22.15625 43.53125 \nQ 18.109375 38.875 18.109375 30.90625 \nL 18.109375 0 \nL 9.078125 0 \nL 9.078125 54.6875 \nL 18.109375 54.6875 \nL 18.109375 46.1875 \nQ 21.1875 51.21875 25.484375 53.609375 \nQ 29.78125 56 35.6875 56 \nQ 41.65625 56 45.828125 52.96875 \nQ 50 49.953125 52 44.1875 \nz\n\" id=\"DejaVuSans-109\"/>\n      <path d=\"M 56.203125 29.59375 \nL 56.203125 25.203125 \nL 14.890625 25.203125 \nQ 15.484375 15.921875 20.484375 11.0625 \nQ 25.484375 6.203125 34.421875 6.203125 \nQ 39.59375 6.203125 44.453125 7.46875 \nQ 49.3125 8.734375 54.109375 11.28125 \nL 54.109375 2.78125 \nQ 49.265625 0.734375 44.1875 -0.34375 \nQ 39.109375 -1.421875 33.890625 -1.421875 \nQ 20.796875 -1.421875 13.15625 6.1875 \nQ 5.515625 13.8125 5.515625 26.8125 \nQ 5.515625 40.234375 12.765625 48.109375 \nQ 20.015625 56 32.328125 56 \nQ 43.359375 56 49.78125 48.890625 \nQ 56.203125 41.796875 56.203125 29.59375 \nz\nM 47.21875 32.234375 \nQ 47.125 39.59375 43.09375 43.984375 \nQ 39.0625 48.390625 32.421875 48.390625 \nQ 24.90625 48.390625 20.390625 44.140625 \nQ 15.875 39.890625 15.1875 32.171875 \nz\n\" id=\"DejaVuSans-101\"/>\n      <path id=\"DejaVuSans-32\"/>\n      <path d=\"M 31 75.875 \nQ 24.46875 64.65625 21.28125 53.65625 \nQ 18.109375 42.671875 18.109375 31.390625 \nQ 18.109375 20.125 21.3125 9.0625 \nQ 24.515625 -2 31 -13.1875 \nL 23.1875 -13.1875 \nQ 15.875 -1.703125 12.234375 9.375 \nQ 8.59375 20.453125 8.59375 31.390625 \nQ 8.59375 42.28125 12.203125 53.3125 \nQ 15.828125 64.359375 23.1875 75.875 \nz\n\" id=\"DejaVuSans-40\"/>\n      <path d=\"M 33.796875 -14.703125 \nL 28.90625 -14.703125 \nL 28.859375 0 \nQ 23.734375 0.09375 18.609375 1.1875 \nQ 13.484375 2.296875 8.296875 4.5 \nL 8.296875 13.28125 \nQ 13.28125 10.15625 18.375 8.5625 \nQ 23.484375 6.984375 28.90625 6.9375 \nL 28.90625 29.203125 \nQ 18.109375 30.953125 13.203125 35.15625 \nQ 8.296875 39.359375 8.296875 46.6875 \nQ 8.296875 54.640625 13.625 59.21875 \nQ 18.953125 63.8125 28.90625 64.5 \nL 28.90625 75.984375 \nL 33.796875 75.984375 \nL 33.796875 64.65625 \nQ 38.328125 64.453125 42.578125 63.6875 \nQ 46.828125 62.9375 50.875 61.625 \nL 50.875 53.078125 \nQ 46.828125 55.125 42.546875 56.25 \nQ 38.28125 57.375 33.796875 57.5625 \nL 33.796875 36.71875 \nQ 44.875 35.015625 50.09375 30.609375 \nQ 55.328125 26.21875 55.328125 18.609375 \nQ 55.328125 10.359375 49.78125 5.59375 \nQ 44.234375 0.828125 33.796875 0.09375 \nz\nM 28.90625 37.59375 \nL 28.90625 57.625 \nQ 23.25 56.984375 20.265625 54.390625 \nQ 17.28125 51.8125 17.28125 47.515625 \nQ 17.28125 43.3125 20.03125 40.96875 \nQ 22.796875 38.625 28.90625 37.59375 \nz\nM 33.796875 28.21875 \nL 33.796875 7.078125 \nQ 39.984375 7.90625 43.140625 10.59375 \nQ 46.296875 13.28125 46.296875 17.671875 \nQ 46.296875 21.96875 43.28125 24.5 \nQ 40.28125 27.046875 33.796875 28.21875 \nz\n\" id=\"DejaVuSans-36\"/>\n      <path d=\"M 8.015625 75.875 \nL 15.828125 75.875 \nQ 23.140625 64.359375 26.78125 53.3125 \nQ 30.421875 42.28125 30.421875 31.390625 \nQ 30.421875 20.453125 26.78125 9.375 \nQ 23.140625 -1.703125 15.828125 -13.1875 \nL 8.015625 -13.1875 \nQ 14.5 -2 17.703125 9.0625 \nQ 20.90625 20.125 20.90625 31.390625 \nQ 20.90625 42.671875 17.703125 53.65625 \nQ 14.5 64.65625 8.015625 75.875 \nz\n\" id=\"DejaVuSans-41\"/>\n     </defs>\n     <g transform=\"translate(321.349219 252.916562)scale(0.1 -0.1)\">\n      <use xlink:href=\"#DejaVuSans-105\"/>\n      <use x=\"27.783203\" xlink:href=\"#DejaVuSans-110\"/>\n      <use x=\"91.162109\" xlink:href=\"#DejaVuSans-99\"/>\n      <use x=\"146.142578\" xlink:href=\"#DejaVuSans-111\"/>\n      <use x=\"207.324219\" xlink:href=\"#DejaVuSans-109\"/>\n      <use x=\"304.736328\" xlink:href=\"#DejaVuSans-101\"/>\n      <use x=\"366.259766\" xlink:href=\"#DejaVuSans-32\"/>\n      <use x=\"398.046875\" xlink:href=\"#DejaVuSans-40\"/>\n      <use x=\"437.060547\" xlink:href=\"#DejaVuSans-36\"/>\n      <use x=\"500.683594\" xlink:href=\"#DejaVuSans-41\"/>\n     </g>\n    </g>\n   </g>\n   <g id=\"matplotlib.axis_2\">\n    <g id=\"ytick_1\">\n     <g id=\"line2d_8\">\n      <defs>\n       <path d=\"M 0 0 \nL -3.5 0 \n\" id=\"m520088c90e\" style=\"stroke:#000000;stroke-width:0.8;\"/>\n      </defs>\n      <g>\n       <use style=\"stroke:#000000;stroke-width:0.8;\" x=\"125.134375\" xlink:href=\"#m520088c90e\" y=\"208.579091\"/>\n      </g>\n     </g>\n     <g id=\"text_9\">\n      <!-- Segment[moving_up] -->\n      <defs>\n       <path d=\"M 53.515625 70.515625 \nL 53.515625 60.890625 \nQ 47.90625 63.578125 42.921875 64.890625 \nQ 37.9375 66.21875 33.296875 66.21875 \nQ 25.25 66.21875 20.875 63.09375 \nQ 16.5 59.96875 16.5 54.203125 \nQ 16.5 49.359375 19.40625 46.890625 \nQ 22.3125 44.4375 30.421875 42.921875 \nL 36.375 41.703125 \nQ 47.40625 39.59375 52.65625 34.296875 \nQ 57.90625 29 57.90625 20.125 \nQ 57.90625 9.515625 50.796875 4.046875 \nQ 43.703125 -1.421875 29.984375 -1.421875 \nQ 24.8125 -1.421875 18.96875 -0.25 \nQ 13.140625 0.921875 6.890625 3.21875 \nL 6.890625 13.375 \nQ 12.890625 10.015625 18.65625 8.296875 \nQ 24.421875 6.59375 29.984375 6.59375 \nQ 38.421875 6.59375 43.015625 9.90625 \nQ 47.609375 13.234375 47.609375 19.390625 \nQ 47.609375 24.75 44.3125 27.78125 \nQ 41.015625 30.8125 33.5 32.328125 \nL 27.484375 33.5 \nQ 16.453125 35.6875 11.515625 40.375 \nQ 6.59375 45.0625 6.59375 53.421875 \nQ 6.59375 63.09375 13.40625 68.65625 \nQ 20.21875 74.21875 32.171875 74.21875 \nQ 37.3125 74.21875 42.625 73.28125 \nQ 47.953125 72.359375 53.515625 70.515625 \nz\n\" id=\"DejaVuSans-83\"/>\n       <path d=\"M 45.40625 27.984375 \nQ 45.40625 37.75 41.375 43.109375 \nQ 37.359375 48.484375 30.078125 48.484375 \nQ 22.859375 48.484375 18.828125 43.109375 \nQ 14.796875 37.75 14.796875 27.984375 \nQ 14.796875 18.265625 18.828125 12.890625 \nQ 22.859375 7.515625 30.078125 7.515625 \nQ 37.359375 7.515625 41.375 12.890625 \nQ 45.40625 18.265625 45.40625 27.984375 \nz\nM 54.390625 6.78125 \nQ 54.390625 -7.171875 48.1875 -13.984375 \nQ 42 -20.796875 29.203125 -20.796875 \nQ 24.46875 -20.796875 20.265625 -20.09375 \nQ 16.0625 -19.390625 12.109375 -17.921875 \nL 12.109375 -9.1875 \nQ 16.0625 -11.328125 19.921875 -12.34375 \nQ 23.78125 -13.375 27.78125 -13.375 \nQ 36.625 -13.375 41.015625 -8.765625 \nQ 45.40625 -4.15625 45.40625 5.171875 \nL 45.40625 9.625 \nQ 42.625 4.78125 38.28125 2.390625 \nQ 33.9375 0 27.875 0 \nQ 17.828125 0 11.671875 7.65625 \nQ 5.515625 15.328125 5.515625 27.984375 \nQ 5.515625 40.671875 11.671875 48.328125 \nQ 17.828125 56 27.875 56 \nQ 33.9375 56 38.28125 53.609375 \nQ 42.625 51.21875 45.40625 46.390625 \nL 45.40625 54.6875 \nL 54.390625 54.6875 \nz\n\" id=\"DejaVuSans-103\"/>\n       <path d=\"M 18.3125 70.21875 \nL 18.3125 54.6875 \nL 36.8125 54.6875 \nL 36.8125 47.703125 \nL 18.3125 47.703125 \nL 18.3125 18.015625 \nQ 18.3125 11.328125 20.140625 9.421875 \nQ 21.96875 7.515625 27.59375 7.515625 \nL 36.8125 7.515625 \nL 36.8125 0 \nL 27.59375 0 \nQ 17.1875 0 13.234375 3.875 \nQ 9.28125 7.765625 9.28125 18.015625 \nL 9.28125 47.703125 \nL 2.6875 47.703125 \nL 2.6875 54.6875 \nL 9.28125 54.6875 \nL 9.28125 70.21875 \nz\n\" id=\"DejaVuSans-116\"/>\n       <path d=\"M 8.59375 75.984375 \nL 29.296875 75.984375 \nL 29.296875 69 \nL 17.578125 69 \nL 17.578125 -6.203125 \nL 29.296875 -6.203125 \nL 29.296875 -13.1875 \nL 8.59375 -13.1875 \nz\n\" id=\"DejaVuSans-91\"/>\n       <path d=\"M 2.984375 54.6875 \nL 12.5 54.6875 \nL 29.59375 8.796875 \nL 46.6875 54.6875 \nL 56.203125 54.6875 \nL 35.6875 0 \nL 23.484375 0 \nz\n\" id=\"DejaVuSans-118\"/>\n       <path d=\"M 50.984375 -16.609375 \nL 50.984375 -23.578125 \nL -0.984375 -23.578125 \nL -0.984375 -16.609375 \nz\n\" id=\"DejaVuSans-95\"/>\n       <path d=\"M 8.5 21.578125 \nL 8.5 54.6875 \nL 17.484375 54.6875 \nL 17.484375 21.921875 \nQ 17.484375 14.15625 20.5 10.265625 \nQ 23.53125 6.390625 29.59375 6.390625 \nQ 36.859375 6.390625 41.078125 11.03125 \nQ 45.3125 15.671875 45.3125 23.6875 \nL 45.3125 54.6875 \nL 54.296875 54.6875 \nL 54.296875 0 \nL 45.3125 0 \nL 45.3125 8.40625 \nQ 42.046875 3.421875 37.71875 1 \nQ 33.40625 -1.421875 27.6875 -1.421875 \nQ 18.265625 -1.421875 13.375 4.4375 \nQ 8.5 10.296875 8.5 21.578125 \nz\nM 31.109375 56 \nz\n\" id=\"DejaVuSans-117\"/>\n       <path d=\"M 18.109375 8.203125 \nL 18.109375 -20.796875 \nL 9.078125 -20.796875 \nL 9.078125 54.6875 \nL 18.109375 54.6875 \nL 18.109375 46.390625 \nQ 20.953125 51.265625 25.265625 53.625 \nQ 29.59375 56 35.59375 56 \nQ 45.5625 56 51.78125 48.09375 \nQ 58.015625 40.1875 58.015625 27.296875 \nQ 58.015625 14.40625 51.78125 6.484375 \nQ 45.5625 -1.421875 35.59375 -1.421875 \nQ 29.59375 -1.421875 25.265625 0.953125 \nQ 20.953125 3.328125 18.109375 8.203125 \nz\nM 48.6875 27.296875 \nQ 48.6875 37.203125 44.609375 42.84375 \nQ 40.53125 48.484375 33.40625 48.484375 \nQ 26.265625 48.484375 22.1875 42.84375 \nQ 18.109375 37.203125 18.109375 27.296875 \nQ 18.109375 17.390625 22.1875 11.75 \nQ 26.265625 6.109375 33.40625 6.109375 \nQ 40.53125 6.109375 44.609375 11.75 \nQ 48.6875 17.390625 48.6875 27.296875 \nz\n\" id=\"DejaVuSans-112\"/>\n       <path d=\"M 30.421875 75.984375 \nL 30.421875 -13.1875 \nL 9.71875 -13.1875 \nL 9.71875 -6.203125 \nL 21.390625 -6.203125 \nL 21.390625 69 \nL 9.71875 69 \nL 9.71875 75.984375 \nz\n\" id=\"DejaVuSans-93\"/>\n      </defs>\n      <g transform=\"translate(10.401562 212.37831)scale(0.1 -0.1)\">\n       <use xlink:href=\"#DejaVuSans-83\"/>\n       <use x=\"63.476562\" xlink:href=\"#DejaVuSans-101\"/>\n       <use x=\"125\" xlink:href=\"#DejaVuSans-103\"/>\n       <use x=\"188.476562\" xlink:href=\"#DejaVuSans-109\"/>\n       <use x=\"285.888672\" xlink:href=\"#DejaVuSans-101\"/>\n       <use x=\"347.412109\" xlink:href=\"#DejaVuSans-110\"/>\n       <use x=\"410.791016\" xlink:href=\"#DejaVuSans-116\"/>\n       <use x=\"450\" xlink:href=\"#DejaVuSans-91\"/>\n       <use x=\"489.013672\" xlink:href=\"#DejaVuSans-109\"/>\n       <use x=\"586.425781\" xlink:href=\"#DejaVuSans-111\"/>\n       <use x=\"647.607422\" xlink:href=\"#DejaVuSans-118\"/>\n       <use x=\"706.787109\" xlink:href=\"#DejaVuSans-105\"/>\n       <use x=\"734.570312\" xlink:href=\"#DejaVuSans-110\"/>\n       <use x=\"797.949219\" xlink:href=\"#DejaVuSans-103\"/>\n       <use x=\"861.425781\" xlink:href=\"#DejaVuSans-95\"/>\n       <use x=\"911.425781\" xlink:href=\"#DejaVuSans-117\"/>\n       <use x=\"974.804688\" xlink:href=\"#DejaVuSans-112\"/>\n       <use x=\"1038.28125\" xlink:href=\"#DejaVuSans-93\"/>\n      </g>\n     </g>\n    </g>\n    <g id=\"ytick_2\">\n     <g id=\"line2d_9\">\n      <g>\n       <use style=\"stroke:#000000;stroke-width:0.8;\" x=\"125.134375\" xlink:href=\"#m520088c90e\" y=\"146.806364\"/>\n      </g>\n     </g>\n     <g id=\"text_10\">\n      <!-- Segment[suburb_mix] -->\n      <defs>\n       <path d=\"M 44.28125 53.078125 \nL 44.28125 44.578125 \nQ 40.484375 46.53125 36.375 47.5 \nQ 32.28125 48.484375 27.875 48.484375 \nQ 21.1875 48.484375 17.84375 46.4375 \nQ 14.5 44.390625 14.5 40.28125 \nQ 14.5 37.15625 16.890625 35.375 \nQ 19.28125 33.59375 26.515625 31.984375 \nL 29.59375 31.296875 \nQ 39.15625 29.25 43.1875 25.515625 \nQ 47.21875 21.78125 47.21875 15.09375 \nQ 47.21875 7.46875 41.1875 3.015625 \nQ 35.15625 -1.421875 24.609375 -1.421875 \nQ 20.21875 -1.421875 15.453125 -0.5625 \nQ 10.6875 0.296875 5.421875 2 \nL 5.421875 11.28125 \nQ 10.40625 8.6875 15.234375 7.390625 \nQ 20.0625 6.109375 24.8125 6.109375 \nQ 31.15625 6.109375 34.5625 8.28125 \nQ 37.984375 10.453125 37.984375 14.40625 \nQ 37.984375 18.0625 35.515625 20.015625 \nQ 33.0625 21.96875 24.703125 23.78125 \nL 21.578125 24.515625 \nQ 13.234375 26.265625 9.515625 29.90625 \nQ 5.8125 33.546875 5.8125 39.890625 \nQ 5.8125 47.609375 11.28125 51.796875 \nQ 16.75 56 26.8125 56 \nQ 31.78125 56 36.171875 55.265625 \nQ 40.578125 54.546875 44.28125 53.078125 \nz\n\" id=\"DejaVuSans-115\"/>\n       <path d=\"M 48.6875 27.296875 \nQ 48.6875 37.203125 44.609375 42.84375 \nQ 40.53125 48.484375 33.40625 48.484375 \nQ 26.265625 48.484375 22.1875 42.84375 \nQ 18.109375 37.203125 18.109375 27.296875 \nQ 18.109375 17.390625 22.1875 11.75 \nQ 26.265625 6.109375 33.40625 6.109375 \nQ 40.53125 6.109375 44.609375 11.75 \nQ 48.6875 17.390625 48.6875 27.296875 \nz\nM 18.109375 46.390625 \nQ 20.953125 51.265625 25.265625 53.625 \nQ 29.59375 56 35.59375 56 \nQ 45.5625 56 51.78125 48.09375 \nQ 58.015625 40.1875 58.015625 27.296875 \nQ 58.015625 14.40625 51.78125 6.484375 \nQ 45.5625 -1.421875 35.59375 -1.421875 \nQ 29.59375 -1.421875 25.265625 0.953125 \nQ 20.953125 3.328125 18.109375 8.203125 \nL 18.109375 0 \nL 9.078125 0 \nL 9.078125 75.984375 \nL 18.109375 75.984375 \nz\n\" id=\"DejaVuSans-98\"/>\n       <path d=\"M 41.109375 46.296875 \nQ 39.59375 47.171875 37.8125 47.578125 \nQ 36.03125 48 33.890625 48 \nQ 26.265625 48 22.1875 43.046875 \nQ 18.109375 38.09375 18.109375 28.8125 \nL 18.109375 0 \nL 9.078125 0 \nL 9.078125 54.6875 \nL 18.109375 54.6875 \nL 18.109375 46.1875 \nQ 20.953125 51.171875 25.484375 53.578125 \nQ 30.03125 56 36.53125 56 \nQ 37.453125 56 38.578125 55.875 \nQ 39.703125 55.765625 41.0625 55.515625 \nz\n\" id=\"DejaVuSans-114\"/>\n       <path d=\"M 54.890625 54.6875 \nL 35.109375 28.078125 \nL 55.90625 0 \nL 45.3125 0 \nL 29.390625 21.484375 \nL 13.484375 0 \nL 2.875 0 \nL 24.125 28.609375 \nL 4.6875 54.6875 \nL 15.28125 54.6875 \nL 29.78125 35.203125 \nL 44.28125 54.6875 \nz\n\" id=\"DejaVuSans-120\"/>\n      </defs>\n      <g transform=\"translate(7.2 150.605582)scale(0.1 -0.1)\">\n       <use xlink:href=\"#DejaVuSans-83\"/>\n       <use x=\"63.476562\" xlink:href=\"#DejaVuSans-101\"/>\n       <use x=\"125\" xlink:href=\"#DejaVuSans-103\"/>\n       <use x=\"188.476562\" xlink:href=\"#DejaVuSans-109\"/>\n       <use x=\"285.888672\" xlink:href=\"#DejaVuSans-101\"/>\n       <use x=\"347.412109\" xlink:href=\"#DejaVuSans-110\"/>\n       <use x=\"410.791016\" xlink:href=\"#DejaVuSans-116\"/>\n       <use x=\"450\" xlink:href=\"#DejaVuSans-91\"/>\n       <use x=\"489.013672\" xlink:href=\"#DejaVuSans-115\"/>\n       <use x=\"541.113281\" xlink:href=\"#DejaVuSans-117\"/>\n       <use x=\"604.492188\" xlink:href=\"#DejaVuSans-98\"/>\n       <use x=\"667.96875\" xlink:href=\"#DejaVuSans-117\"/>\n       <use x=\"731.347656\" xlink:href=\"#DejaVuSans-114\"/>\n       <use x=\"772.460938\" xlink:href=\"#DejaVuSans-98\"/>\n       <use x=\"835.9375\" xlink:href=\"#DejaVuSans-95\"/>\n       <use x=\"885.9375\" xlink:href=\"#DejaVuSans-109\"/>\n       <use x=\"983.349609\" xlink:href=\"#DejaVuSans-105\"/>\n       <use x=\"1011.132812\" xlink:href=\"#DejaVuSans-120\"/>\n       <use x=\"1070.3125\" xlink:href=\"#DejaVuSans-93\"/>\n      </g>\n     </g>\n    </g>\n    <g id=\"ytick_3\">\n     <g id=\"line2d_10\">\n      <g>\n       <use style=\"stroke:#000000;stroke-width:0.8;\" x=\"125.134375\" xlink:href=\"#m520088c90e\" y=\"85.033636\"/>\n      </g>\n     </g>\n     <g id=\"text_11\">\n      <!-- Segment[travelers] -->\n      <defs>\n       <path d=\"M 34.28125 27.484375 \nQ 23.390625 27.484375 19.1875 25 \nQ 14.984375 22.515625 14.984375 16.5 \nQ 14.984375 11.71875 18.140625 8.90625 \nQ 21.296875 6.109375 26.703125 6.109375 \nQ 34.1875 6.109375 38.703125 11.40625 \nQ 43.21875 16.703125 43.21875 25.484375 \nL 43.21875 27.484375 \nz\nM 52.203125 31.203125 \nL 52.203125 0 \nL 43.21875 0 \nL 43.21875 8.296875 \nQ 40.140625 3.328125 35.546875 0.953125 \nQ 30.953125 -1.421875 24.3125 -1.421875 \nQ 15.921875 -1.421875 10.953125 3.296875 \nQ 6 8.015625 6 15.921875 \nQ 6 25.140625 12.171875 29.828125 \nQ 18.359375 34.515625 30.609375 34.515625 \nL 43.21875 34.515625 \nL 43.21875 35.40625 \nQ 43.21875 41.609375 39.140625 45 \nQ 35.0625 48.390625 27.6875 48.390625 \nQ 23 48.390625 18.546875 47.265625 \nQ 14.109375 46.140625 10.015625 43.890625 \nL 10.015625 52.203125 \nQ 14.9375 54.109375 19.578125 55.046875 \nQ 24.21875 56 28.609375 56 \nQ 40.484375 56 46.34375 49.84375 \nQ 52.203125 43.703125 52.203125 31.203125 \nz\n\" id=\"DejaVuSans-97\"/>\n       <path d=\"M 9.421875 75.984375 \nL 18.40625 75.984375 \nL 18.40625 0 \nL 9.421875 0 \nz\n\" id=\"DejaVuSans-108\"/>\n      </defs>\n      <g transform=\"translate(20.846875 88.832855)scale(0.1 -0.1)\">\n       <use xlink:href=\"#DejaVuSans-83\"/>\n       <use x=\"63.476562\" xlink:href=\"#DejaVuSans-101\"/>\n       <use x=\"125\" xlink:href=\"#DejaVuSans-103\"/>\n       <use x=\"188.476562\" xlink:href=\"#DejaVuSans-109\"/>\n       <use x=\"285.888672\" xlink:href=\"#DejaVuSans-101\"/>\n       <use x=\"347.412109\" xlink:href=\"#DejaVuSans-110\"/>\n       <use x=\"410.791016\" xlink:href=\"#DejaVuSans-116\"/>\n       <use x=\"450\" xlink:href=\"#DejaVuSans-91\"/>\n       <use x=\"489.013672\" xlink:href=\"#DejaVuSans-116\"/>\n       <use x=\"528.222656\" xlink:href=\"#DejaVuSans-114\"/>\n       <use x=\"569.335938\" xlink:href=\"#DejaVuSans-97\"/>\n       <use x=\"630.615234\" xlink:href=\"#DejaVuSans-118\"/>\n       <use x=\"689.794922\" xlink:href=\"#DejaVuSans-101\"/>\n       <use x=\"751.318359\" xlink:href=\"#DejaVuSans-108\"/>\n       <use x=\"779.101562\" xlink:href=\"#DejaVuSans-101\"/>\n       <use x=\"840.625\" xlink:href=\"#DejaVuSans-114\"/>\n       <use x=\"881.738281\" xlink:href=\"#DejaVuSans-115\"/>\n       <use x=\"933.837891\" xlink:href=\"#DejaVuSans-93\"/>\n      </g>\n     </g>\n    </g>\n    <g id=\"ytick_4\">\n     <g id=\"line2d_11\">\n      <g>\n       <use style=\"stroke:#000000;stroke-width:0.8;\" x=\"125.134375\" xlink:href=\"#m520088c90e\" y=\"23.260909\"/>\n      </g>\n     </g>\n     <g id=\"text_12\">\n      <!-- Segment[urban_hip] -->\n      <defs>\n       <path d=\"M 54.890625 33.015625 \nL 54.890625 0 \nL 45.90625 0 \nL 45.90625 32.71875 \nQ 45.90625 40.484375 42.875 44.328125 \nQ 39.84375 48.1875 33.796875 48.1875 \nQ 26.515625 48.1875 22.3125 43.546875 \nQ 18.109375 38.921875 18.109375 30.90625 \nL 18.109375 0 \nL 9.078125 0 \nL 9.078125 75.984375 \nL 18.109375 75.984375 \nL 18.109375 46.1875 \nQ 21.34375 51.125 25.703125 53.5625 \nQ 30.078125 56 35.796875 56 \nQ 45.21875 56 50.046875 50.171875 \nQ 54.890625 44.34375 54.890625 33.015625 \nz\n\" id=\"DejaVuSans-104\"/>\n      </defs>\n      <g transform=\"translate(15.603125 27.060128)scale(0.1 -0.1)\">\n       <use xlink:href=\"#DejaVuSans-83\"/>\n       <use x=\"63.476562\" xlink:href=\"#DejaVuSans-101\"/>\n       <use x=\"125\" xlink:href=\"#DejaVuSans-103\"/>\n       <use x=\"188.476562\" xlink:href=\"#DejaVuSans-109\"/>\n       <use x=\"285.888672\" xlink:href=\"#DejaVuSans-101\"/>\n       <use x=\"347.412109\" xlink:href=\"#DejaVuSans-110\"/>\n       <use x=\"410.791016\" xlink:href=\"#DejaVuSans-116\"/>\n       <use x=\"450\" xlink:href=\"#DejaVuSans-91\"/>\n       <use x=\"489.013672\" xlink:href=\"#DejaVuSans-117\"/>\n       <use x=\"552.392578\" xlink:href=\"#DejaVuSans-114\"/>\n       <use x=\"593.505859\" xlink:href=\"#DejaVuSans-98\"/>\n       <use x=\"656.982422\" xlink:href=\"#DejaVuSans-97\"/>\n       <use x=\"718.261719\" xlink:href=\"#DejaVuSans-110\"/>\n       <use x=\"781.640625\" xlink:href=\"#DejaVuSans-95\"/>\n       <use x=\"831.640625\" xlink:href=\"#DejaVuSans-104\"/>\n       <use x=\"895.019531\" xlink:href=\"#DejaVuSans-105\"/>\n       <use x=\"922.802734\" xlink:href=\"#DejaVuSans-112\"/>\n       <use x=\"986.279297\" xlink:href=\"#DejaVuSans-93\"/>\n      </g>\n     </g>\n    </g>\n   </g>\n   <g id=\"line2d_12\">\n    <defs>\n     <path d=\"M 0 3 \nC 0.795609 3 1.55874 2.683901 2.12132 2.12132 \nC 2.683901 1.55874 3 0.795609 3 0 \nC 3 -0.795609 2.683901 -1.55874 2.12132 -2.12132 \nC 1.55874 -2.683901 0.795609 -3 0 -3 \nC -0.795609 -3 -1.55874 -2.683901 -2.12132 -2.12132 \nC -2.683901 -1.55874 -3 -0.795609 -3 0 \nC -3 0.795609 -2.683901 1.55874 -2.12132 2.12132 \nC -1.55874 2.683901 -0.795609 3 0 3 \nz\n\" id=\"m3a92522701\" style=\"stroke:#ff0000;\"/>\n    </defs>\n    <g clip-path=\"url(#p0c6b18c7a9)\">\n     <use style=\"fill:#ff0000;stroke:#ff0000;\" x=\"464.946874\" xlink:href=\"#m3a92522701\" y=\"208.579091\"/>\n     <use style=\"fill:#ff0000;stroke:#ff0000;\" x=\"489.818773\" xlink:href=\"#m3a92522701\" y=\"146.806364\"/>\n     <use style=\"fill:#ff0000;stroke:#ff0000;\" x=\"536.148348\" xlink:href=\"#m3a92522701\" y=\"85.033636\"/>\n     <use style=\"fill:#ff0000;stroke:#ff0000;\" x=\"258.186109\" xlink:href=\"#m3a92522701\" y=\"23.260909\"/>\n    </g>\n   </g>\n   <g id=\"patch_7\">\n    <path d=\"M 125.134375 224.64 \nL 125.134375 7.2 \n\" style=\"fill:none;stroke:#000000;stroke-linecap:square;stroke-linejoin:miter;stroke-width:0.8;\"/>\n   </g>\n   <g id=\"patch_8\">\n    <path d=\"M 571.534375 224.64 \nL 571.534375 7.2 \n\" style=\"fill:none;stroke:#000000;stroke-linecap:square;stroke-linejoin:miter;stroke-width:0.8;\"/>\n   </g>\n   <g id=\"patch_9\">\n    <path d=\"M 125.134375 224.64 \nL 571.534375 224.64 \n\" style=\"fill:none;stroke:#000000;stroke-linecap:square;stroke-linejoin:miter;stroke-width:0.8;\"/>\n   </g>\n   <g id=\"patch_10\">\n    <path d=\"M 125.134375 7.2 \nL 571.534375 7.2 \n\" style=\"fill:none;stroke:#000000;stroke-linecap:square;stroke-linejoin:miter;stroke-width:0.8;\"/>\n   </g>\n  </g>\n </g>\n <defs>\n  <clipPath id=\"p0c6b18c7a9\">\n   <rect height=\"217.44\" width=\"446.4\" x=\"125.134375\" y=\"7.2\"/>\n  </clipPath>\n </defs>\n</svg>\n"
          },
          "metadata": {
            "needs_background": "light"
          }
        }
      ]
    },
    {
      "cell_type": "code",
      "metadata": {
        "id": "kDFeLt1W04po"
      },
      "source": [
        "def plot_confidence_intervals(centers, conf_ints, zero_line=False):\n",
        "  '''Plot centers and confidence intervals'''\n",
        "  plt.figure(figsize=(8,4))\n",
        "  sort_index = np.argsort(centers.values)\n",
        "  centers = centers[sort_index]\n",
        "  conf_ints = conf_ints.iloc[sort_index]\n",
        "  plt.barh(y=range(len(centers)), left=conf_ints[0],\n",
        "           width=conf_ints[1]-conf_ints[0],\n",
        "           height=0.2, color='0.4')\n",
        "  plt.yticks(range(len(centers)), conf_ints.index)\n",
        "  plt.plot(centers, range(len(centers)), 'ro')\n",
        "  if zero_line:\n",
        "    plt.plot([0,0],[-.5, len(centers) - 0.5], 'gray',\n",
        "             linestyle='dashed')\n",
        "    plt.xlim((-.05, 1.1 * conf_ints.iloc[:,1].max()))\n",
        "  plt.ylim((-.5, len(centers) - 0.5))"
      ],
      "execution_count": 60,
      "outputs": []
    },
    {
      "cell_type": "code",
      "metadata": {
        "id": "jrKWRQoH3Tj3",
        "colab": {
          "base_uri": "https://localhost:8080/",
          "height": 388
        },
        "outputId": "d1613443-bb27-438a-90fd-60e9eda6c0d7"
      },
      "source": [
        "plot_confidence_intervals(means, ci, zero_line=True)\n",
        "plt.xlabel('income')"
      ],
      "execution_count": 176,
      "outputs": [
        {
          "output_type": "execute_result",
          "data": {
            "text/plain": [
              "Text(0.5, 0, 'income')"
            ]
          },
          "metadata": {},
          "execution_count": 176
        },
        {
          "output_type": "display_data",
          "data": {
            "text/plain": [
              "<Figure size 576x288 with 1 Axes>"
            ],
            "image/svg+xml": "<?xml version=\"1.0\" encoding=\"utf-8\" standalone=\"no\"?>\n<!DOCTYPE svg PUBLIC \"-//W3C//DTD SVG 1.1//EN\"\n  \"http://www.w3.org/Graphics/SVG/1.1/DTD/svg11.dtd\">\n<!-- Created with matplotlib (https://matplotlib.org/) -->\n<svg height=\"262.19625pt\" version=\"1.1\" viewBox=\"0 0 581.821378 262.19625\" width=\"581.821378pt\" xmlns=\"http://www.w3.org/2000/svg\" xmlns:xlink=\"http://www.w3.org/1999/xlink\">\n <defs>\n  <style type=\"text/css\">\n*{stroke-linecap:butt;stroke-linejoin:round;}\n  </style>\n </defs>\n <g id=\"figure_1\">\n  <g id=\"patch_1\">\n   <path d=\"M 0 262.19625 \nL 581.821378 262.19625 \nL 581.821378 0 \nL 0 0 \nz\n\" style=\"fill:none;\"/>\n  </g>\n  <g id=\"axes_1\">\n   <g id=\"patch_2\">\n    <path d=\"M 125.134375 224.64 \nL 571.534375 224.64 \nL 571.534375 7.2 \nL 125.134375 7.2 \nz\n\" style=\"fill:#ffffff;\"/>\n   </g>\n   <g id=\"patch_3\">\n    <path clip-path=\"url(#p08be597dc6)\" d=\"M 227.887958 202.896 \nL 273.458399 202.896 \nL 273.458399 192.024 \nL 227.887958 192.024 \nz\n\" style=\"fill:#666666;\"/>\n   </g>\n   <g id=\"patch_4\">\n    <path clip-path=\"url(#p08be597dc6)\" d=\"M 426.501432 148.536 \nL 465.015484 148.536 \nL 465.015484 137.664 \nL 426.501432 137.664 \nz\n\" style=\"fill:#666666;\"/>\n   </g>\n   <g id=\"patch_5\">\n    <path clip-path=\"url(#p08be597dc6)\" d=\"M 453.114293 94.176 \nL 485.337461 94.176 \nL 485.337461 83.304 \nL 453.114293 83.304 \nz\n\" style=\"fill:#666666;\"/>\n   </g>\n   <g id=\"patch_6\">\n    <path clip-path=\"url(#p08be597dc6)\" d=\"M 494.925988 39.816 \nL 530.952585 39.816 \nL 530.952585 28.944 \nL 494.925988 28.944 \nz\n\" style=\"fill:#666666;\"/>\n   </g>\n   <g id=\"matplotlib.axis_1\">\n    <g id=\"xtick_1\">\n     <g id=\"line2d_1\">\n      <defs>\n       <path d=\"M 0 0 \nL 0 3.5 \n\" id=\"m44c01becb5\" style=\"stroke:#000000;stroke-width:0.8;\"/>\n      </defs>\n      <g>\n       <use style=\"stroke:#000000;stroke-width:0.8;\" x=\"125.134685\" xlink:href=\"#m44c01becb5\" y=\"224.64\"/>\n      </g>\n     </g>\n     <g id=\"text_1\">\n      <!-- 0 -->\n      <defs>\n       <path d=\"M 31.78125 66.40625 \nQ 24.171875 66.40625 20.328125 58.90625 \nQ 16.5 51.421875 16.5 36.375 \nQ 16.5 21.390625 20.328125 13.890625 \nQ 24.171875 6.390625 31.78125 6.390625 \nQ 39.453125 6.390625 43.28125 13.890625 \nQ 47.125 21.390625 47.125 36.375 \nQ 47.125 51.421875 43.28125 58.90625 \nQ 39.453125 66.40625 31.78125 66.40625 \nz\nM 31.78125 74.21875 \nQ 44.046875 74.21875 50.515625 64.515625 \nQ 56.984375 54.828125 56.984375 36.375 \nQ 56.984375 17.96875 50.515625 8.265625 \nQ 44.046875 -1.421875 31.78125 -1.421875 \nQ 19.53125 -1.421875 13.0625 8.265625 \nQ 6.59375 17.96875 6.59375 36.375 \nQ 6.59375 54.828125 13.0625 64.515625 \nQ 19.53125 74.21875 31.78125 74.21875 \nz\n\" id=\"DejaVuSans-48\"/>\n      </defs>\n      <g transform=\"translate(121.953435 239.238437)scale(0.1 -0.1)\">\n       <use xlink:href=\"#DejaVuSans-48\"/>\n      </g>\n     </g>\n    </g>\n    <g id=\"xtick_2\">\n     <g id=\"line2d_2\">\n      <g>\n       <use style=\"stroke:#000000;stroke-width:0.8;\" x=\"187.074748\" xlink:href=\"#m44c01becb5\" y=\"224.64\"/>\n      </g>\n     </g>\n     <g id=\"text_2\">\n      <!-- 10000 -->\n      <defs>\n       <path d=\"M 12.40625 8.296875 \nL 28.515625 8.296875 \nL 28.515625 63.921875 \nL 10.984375 60.40625 \nL 10.984375 69.390625 \nL 28.421875 72.90625 \nL 38.28125 72.90625 \nL 38.28125 8.296875 \nL 54.390625 8.296875 \nL 54.390625 0 \nL 12.40625 0 \nz\n\" id=\"DejaVuSans-49\"/>\n      </defs>\n      <g transform=\"translate(171.168498 239.238437)scale(0.1 -0.1)\">\n       <use xlink:href=\"#DejaVuSans-49\"/>\n       <use x=\"63.623047\" xlink:href=\"#DejaVuSans-48\"/>\n       <use x=\"127.246094\" xlink:href=\"#DejaVuSans-48\"/>\n       <use x=\"190.869141\" xlink:href=\"#DejaVuSans-48\"/>\n       <use x=\"254.492188\" xlink:href=\"#DejaVuSans-48\"/>\n      </g>\n     </g>\n    </g>\n    <g id=\"xtick_3\">\n     <g id=\"line2d_3\">\n      <g>\n       <use style=\"stroke:#000000;stroke-width:0.8;\" x=\"249.014811\" xlink:href=\"#m44c01becb5\" y=\"224.64\"/>\n      </g>\n     </g>\n     <g id=\"text_3\">\n      <!-- 20000 -->\n      <defs>\n       <path d=\"M 19.1875 8.296875 \nL 53.609375 8.296875 \nL 53.609375 0 \nL 7.328125 0 \nL 7.328125 8.296875 \nQ 12.9375 14.109375 22.625 23.890625 \nQ 32.328125 33.6875 34.8125 36.53125 \nQ 39.546875 41.84375 41.421875 45.53125 \nQ 43.3125 49.21875 43.3125 52.78125 \nQ 43.3125 58.59375 39.234375 62.25 \nQ 35.15625 65.921875 28.609375 65.921875 \nQ 23.96875 65.921875 18.8125 64.3125 \nQ 13.671875 62.703125 7.8125 59.421875 \nL 7.8125 69.390625 \nQ 13.765625 71.78125 18.9375 73 \nQ 24.125 74.21875 28.421875 74.21875 \nQ 39.75 74.21875 46.484375 68.546875 \nQ 53.21875 62.890625 53.21875 53.421875 \nQ 53.21875 48.921875 51.53125 44.890625 \nQ 49.859375 40.875 45.40625 35.40625 \nQ 44.1875 33.984375 37.640625 27.21875 \nQ 31.109375 20.453125 19.1875 8.296875 \nz\n\" id=\"DejaVuSans-50\"/>\n      </defs>\n      <g transform=\"translate(233.108561 239.238437)scale(0.1 -0.1)\">\n       <use xlink:href=\"#DejaVuSans-50\"/>\n       <use x=\"63.623047\" xlink:href=\"#DejaVuSans-48\"/>\n       <use x=\"127.246094\" xlink:href=\"#DejaVuSans-48\"/>\n       <use x=\"190.869141\" xlink:href=\"#DejaVuSans-48\"/>\n       <use x=\"254.492188\" xlink:href=\"#DejaVuSans-48\"/>\n      </g>\n     </g>\n    </g>\n    <g id=\"xtick_4\">\n     <g id=\"line2d_4\">\n      <g>\n       <use style=\"stroke:#000000;stroke-width:0.8;\" x=\"310.954875\" xlink:href=\"#m44c01becb5\" y=\"224.64\"/>\n      </g>\n     </g>\n     <g id=\"text_4\">\n      <!-- 30000 -->\n      <defs>\n       <path d=\"M 40.578125 39.3125 \nQ 47.65625 37.796875 51.625 33 \nQ 55.609375 28.21875 55.609375 21.1875 \nQ 55.609375 10.40625 48.1875 4.484375 \nQ 40.765625 -1.421875 27.09375 -1.421875 \nQ 22.515625 -1.421875 17.65625 -0.515625 \nQ 12.796875 0.390625 7.625 2.203125 \nL 7.625 11.71875 \nQ 11.71875 9.328125 16.59375 8.109375 \nQ 21.484375 6.890625 26.8125 6.890625 \nQ 36.078125 6.890625 40.9375 10.546875 \nQ 45.796875 14.203125 45.796875 21.1875 \nQ 45.796875 27.640625 41.28125 31.265625 \nQ 36.765625 34.90625 28.71875 34.90625 \nL 20.21875 34.90625 \nL 20.21875 43.015625 \nL 29.109375 43.015625 \nQ 36.375 43.015625 40.234375 45.921875 \nQ 44.09375 48.828125 44.09375 54.296875 \nQ 44.09375 59.90625 40.109375 62.90625 \nQ 36.140625 65.921875 28.71875 65.921875 \nQ 24.65625 65.921875 20.015625 65.03125 \nQ 15.375 64.15625 9.8125 62.3125 \nL 9.8125 71.09375 \nQ 15.4375 72.65625 20.34375 73.4375 \nQ 25.25 74.21875 29.59375 74.21875 \nQ 40.828125 74.21875 47.359375 69.109375 \nQ 53.90625 64.015625 53.90625 55.328125 \nQ 53.90625 49.265625 50.4375 45.09375 \nQ 46.96875 40.921875 40.578125 39.3125 \nz\n\" id=\"DejaVuSans-51\"/>\n      </defs>\n      <g transform=\"translate(295.048625 239.238437)scale(0.1 -0.1)\">\n       <use xlink:href=\"#DejaVuSans-51\"/>\n       <use x=\"63.623047\" xlink:href=\"#DejaVuSans-48\"/>\n       <use x=\"127.246094\" xlink:href=\"#DejaVuSans-48\"/>\n       <use x=\"190.869141\" xlink:href=\"#DejaVuSans-48\"/>\n       <use x=\"254.492188\" xlink:href=\"#DejaVuSans-48\"/>\n      </g>\n     </g>\n    </g>\n    <g id=\"xtick_5\">\n     <g id=\"line2d_5\">\n      <g>\n       <use style=\"stroke:#000000;stroke-width:0.8;\" x=\"372.894938\" xlink:href=\"#m44c01becb5\" y=\"224.64\"/>\n      </g>\n     </g>\n     <g id=\"text_5\">\n      <!-- 40000 -->\n      <defs>\n       <path d=\"M 37.796875 64.3125 \nL 12.890625 25.390625 \nL 37.796875 25.390625 \nz\nM 35.203125 72.90625 \nL 47.609375 72.90625 \nL 47.609375 25.390625 \nL 58.015625 25.390625 \nL 58.015625 17.1875 \nL 47.609375 17.1875 \nL 47.609375 0 \nL 37.796875 0 \nL 37.796875 17.1875 \nL 4.890625 17.1875 \nL 4.890625 26.703125 \nz\n\" id=\"DejaVuSans-52\"/>\n      </defs>\n      <g transform=\"translate(356.988688 239.238437)scale(0.1 -0.1)\">\n       <use xlink:href=\"#DejaVuSans-52\"/>\n       <use x=\"63.623047\" xlink:href=\"#DejaVuSans-48\"/>\n       <use x=\"127.246094\" xlink:href=\"#DejaVuSans-48\"/>\n       <use x=\"190.869141\" xlink:href=\"#DejaVuSans-48\"/>\n       <use x=\"254.492188\" xlink:href=\"#DejaVuSans-48\"/>\n      </g>\n     </g>\n    </g>\n    <g id=\"xtick_6\">\n     <g id=\"line2d_6\">\n      <g>\n       <use style=\"stroke:#000000;stroke-width:0.8;\" x=\"434.835002\" xlink:href=\"#m44c01becb5\" y=\"224.64\"/>\n      </g>\n     </g>\n     <g id=\"text_6\">\n      <!-- 50000 -->\n      <defs>\n       <path d=\"M 10.796875 72.90625 \nL 49.515625 72.90625 \nL 49.515625 64.59375 \nL 19.828125 64.59375 \nL 19.828125 46.734375 \nQ 21.96875 47.46875 24.109375 47.828125 \nQ 26.265625 48.1875 28.421875 48.1875 \nQ 40.625 48.1875 47.75 41.5 \nQ 54.890625 34.8125 54.890625 23.390625 \nQ 54.890625 11.625 47.5625 5.09375 \nQ 40.234375 -1.421875 26.90625 -1.421875 \nQ 22.3125 -1.421875 17.546875 -0.640625 \nQ 12.796875 0.140625 7.71875 1.703125 \nL 7.71875 11.625 \nQ 12.109375 9.234375 16.796875 8.0625 \nQ 21.484375 6.890625 26.703125 6.890625 \nQ 35.15625 6.890625 40.078125 11.328125 \nQ 45.015625 15.765625 45.015625 23.390625 \nQ 45.015625 31 40.078125 35.4375 \nQ 35.15625 39.890625 26.703125 39.890625 \nQ 22.75 39.890625 18.8125 39.015625 \nQ 14.890625 38.140625 10.796875 36.28125 \nz\n\" id=\"DejaVuSans-53\"/>\n      </defs>\n      <g transform=\"translate(418.928752 239.238437)scale(0.1 -0.1)\">\n       <use xlink:href=\"#DejaVuSans-53\"/>\n       <use x=\"63.623047\" xlink:href=\"#DejaVuSans-48\"/>\n       <use x=\"127.246094\" xlink:href=\"#DejaVuSans-48\"/>\n       <use x=\"190.869141\" xlink:href=\"#DejaVuSans-48\"/>\n       <use x=\"254.492188\" xlink:href=\"#DejaVuSans-48\"/>\n      </g>\n     </g>\n    </g>\n    <g id=\"xtick_7\">\n     <g id=\"line2d_7\">\n      <g>\n       <use style=\"stroke:#000000;stroke-width:0.8;\" x=\"496.775065\" xlink:href=\"#m44c01becb5\" y=\"224.64\"/>\n      </g>\n     </g>\n     <g id=\"text_7\">\n      <!-- 60000 -->\n      <defs>\n       <path d=\"M 33.015625 40.375 \nQ 26.375 40.375 22.484375 35.828125 \nQ 18.609375 31.296875 18.609375 23.390625 \nQ 18.609375 15.53125 22.484375 10.953125 \nQ 26.375 6.390625 33.015625 6.390625 \nQ 39.65625 6.390625 43.53125 10.953125 \nQ 47.40625 15.53125 47.40625 23.390625 \nQ 47.40625 31.296875 43.53125 35.828125 \nQ 39.65625 40.375 33.015625 40.375 \nz\nM 52.59375 71.296875 \nL 52.59375 62.3125 \nQ 48.875 64.0625 45.09375 64.984375 \nQ 41.3125 65.921875 37.59375 65.921875 \nQ 27.828125 65.921875 22.671875 59.328125 \nQ 17.53125 52.734375 16.796875 39.40625 \nQ 19.671875 43.65625 24.015625 45.921875 \nQ 28.375 48.1875 33.59375 48.1875 \nQ 44.578125 48.1875 50.953125 41.515625 \nQ 57.328125 34.859375 57.328125 23.390625 \nQ 57.328125 12.15625 50.6875 5.359375 \nQ 44.046875 -1.421875 33.015625 -1.421875 \nQ 20.359375 -1.421875 13.671875 8.265625 \nQ 6.984375 17.96875 6.984375 36.375 \nQ 6.984375 53.65625 15.1875 63.9375 \nQ 23.390625 74.21875 37.203125 74.21875 \nQ 40.921875 74.21875 44.703125 73.484375 \nQ 48.484375 72.75 52.59375 71.296875 \nz\n\" id=\"DejaVuSans-54\"/>\n      </defs>\n      <g transform=\"translate(480.868815 239.238437)scale(0.1 -0.1)\">\n       <use xlink:href=\"#DejaVuSans-54\"/>\n       <use x=\"63.623047\" xlink:href=\"#DejaVuSans-48\"/>\n       <use x=\"127.246094\" xlink:href=\"#DejaVuSans-48\"/>\n       <use x=\"190.869141\" xlink:href=\"#DejaVuSans-48\"/>\n       <use x=\"254.492188\" xlink:href=\"#DejaVuSans-48\"/>\n      </g>\n     </g>\n    </g>\n    <g id=\"xtick_8\">\n     <g id=\"line2d_8\">\n      <g>\n       <use style=\"stroke:#000000;stroke-width:0.8;\" x=\"558.715128\" xlink:href=\"#m44c01becb5\" y=\"224.64\"/>\n      </g>\n     </g>\n     <g id=\"text_8\">\n      <!-- 70000 -->\n      <defs>\n       <path d=\"M 8.203125 72.90625 \nL 55.078125 72.90625 \nL 55.078125 68.703125 \nL 28.609375 0 \nL 18.3125 0 \nL 43.21875 64.59375 \nL 8.203125 64.59375 \nz\n\" id=\"DejaVuSans-55\"/>\n      </defs>\n      <g transform=\"translate(542.808878 239.238437)scale(0.1 -0.1)\">\n       <use xlink:href=\"#DejaVuSans-55\"/>\n       <use x=\"63.623047\" xlink:href=\"#DejaVuSans-48\"/>\n       <use x=\"127.246094\" xlink:href=\"#DejaVuSans-48\"/>\n       <use x=\"190.869141\" xlink:href=\"#DejaVuSans-48\"/>\n       <use x=\"254.492188\" xlink:href=\"#DejaVuSans-48\"/>\n      </g>\n     </g>\n    </g>\n    <g id=\"text_9\">\n     <!-- income -->\n     <defs>\n      <path d=\"M 9.421875 54.6875 \nL 18.40625 54.6875 \nL 18.40625 0 \nL 9.421875 0 \nz\nM 9.421875 75.984375 \nL 18.40625 75.984375 \nL 18.40625 64.59375 \nL 9.421875 64.59375 \nz\n\" id=\"DejaVuSans-105\"/>\n      <path d=\"M 54.890625 33.015625 \nL 54.890625 0 \nL 45.90625 0 \nL 45.90625 32.71875 \nQ 45.90625 40.484375 42.875 44.328125 \nQ 39.84375 48.1875 33.796875 48.1875 \nQ 26.515625 48.1875 22.3125 43.546875 \nQ 18.109375 38.921875 18.109375 30.90625 \nL 18.109375 0 \nL 9.078125 0 \nL 9.078125 54.6875 \nL 18.109375 54.6875 \nL 18.109375 46.1875 \nQ 21.34375 51.125 25.703125 53.5625 \nQ 30.078125 56 35.796875 56 \nQ 45.21875 56 50.046875 50.171875 \nQ 54.890625 44.34375 54.890625 33.015625 \nz\n\" id=\"DejaVuSans-110\"/>\n      <path d=\"M 48.78125 52.59375 \nL 48.78125 44.1875 \nQ 44.96875 46.296875 41.140625 47.34375 \nQ 37.3125 48.390625 33.40625 48.390625 \nQ 24.65625 48.390625 19.8125 42.84375 \nQ 14.984375 37.3125 14.984375 27.296875 \nQ 14.984375 17.28125 19.8125 11.734375 \nQ 24.65625 6.203125 33.40625 6.203125 \nQ 37.3125 6.203125 41.140625 7.25 \nQ 44.96875 8.296875 48.78125 10.40625 \nL 48.78125 2.09375 \nQ 45.015625 0.34375 40.984375 -0.53125 \nQ 36.96875 -1.421875 32.421875 -1.421875 \nQ 20.0625 -1.421875 12.78125 6.34375 \nQ 5.515625 14.109375 5.515625 27.296875 \nQ 5.515625 40.671875 12.859375 48.328125 \nQ 20.21875 56 33.015625 56 \nQ 37.15625 56 41.109375 55.140625 \nQ 45.0625 54.296875 48.78125 52.59375 \nz\n\" id=\"DejaVuSans-99\"/>\n      <path d=\"M 30.609375 48.390625 \nQ 23.390625 48.390625 19.1875 42.75 \nQ 14.984375 37.109375 14.984375 27.296875 \nQ 14.984375 17.484375 19.15625 11.84375 \nQ 23.34375 6.203125 30.609375 6.203125 \nQ 37.796875 6.203125 41.984375 11.859375 \nQ 46.1875 17.53125 46.1875 27.296875 \nQ 46.1875 37.015625 41.984375 42.703125 \nQ 37.796875 48.390625 30.609375 48.390625 \nz\nM 30.609375 56 \nQ 42.328125 56 49.015625 48.375 \nQ 55.71875 40.765625 55.71875 27.296875 \nQ 55.71875 13.875 49.015625 6.21875 \nQ 42.328125 -1.421875 30.609375 -1.421875 \nQ 18.84375 -1.421875 12.171875 6.21875 \nQ 5.515625 13.875 5.515625 27.296875 \nQ 5.515625 40.765625 12.171875 48.375 \nQ 18.84375 56 30.609375 56 \nz\n\" id=\"DejaVuSans-111\"/>\n      <path d=\"M 52 44.1875 \nQ 55.375 50.25 60.0625 53.125 \nQ 64.75 56 71.09375 56 \nQ 79.640625 56 84.28125 50.015625 \nQ 88.921875 44.046875 88.921875 33.015625 \nL 88.921875 0 \nL 79.890625 0 \nL 79.890625 32.71875 \nQ 79.890625 40.578125 77.09375 44.375 \nQ 74.3125 48.1875 68.609375 48.1875 \nQ 61.625 48.1875 57.5625 43.546875 \nQ 53.515625 38.921875 53.515625 30.90625 \nL 53.515625 0 \nL 44.484375 0 \nL 44.484375 32.71875 \nQ 44.484375 40.625 41.703125 44.40625 \nQ 38.921875 48.1875 33.109375 48.1875 \nQ 26.21875 48.1875 22.15625 43.53125 \nQ 18.109375 38.875 18.109375 30.90625 \nL 18.109375 0 \nL 9.078125 0 \nL 9.078125 54.6875 \nL 18.109375 54.6875 \nL 18.109375 46.1875 \nQ 21.1875 51.21875 25.484375 53.609375 \nQ 29.78125 56 35.6875 56 \nQ 41.65625 56 45.828125 52.96875 \nQ 50 49.953125 52 44.1875 \nz\n\" id=\"DejaVuSans-109\"/>\n      <path d=\"M 56.203125 29.59375 \nL 56.203125 25.203125 \nL 14.890625 25.203125 \nQ 15.484375 15.921875 20.484375 11.0625 \nQ 25.484375 6.203125 34.421875 6.203125 \nQ 39.59375 6.203125 44.453125 7.46875 \nQ 49.3125 8.734375 54.109375 11.28125 \nL 54.109375 2.78125 \nQ 49.265625 0.734375 44.1875 -0.34375 \nQ 39.109375 -1.421875 33.890625 -1.421875 \nQ 20.796875 -1.421875 13.15625 6.1875 \nQ 5.515625 13.8125 5.515625 26.8125 \nQ 5.515625 40.234375 12.765625 48.109375 \nQ 20.015625 56 32.328125 56 \nQ 43.359375 56 49.78125 48.890625 \nQ 56.203125 41.796875 56.203125 29.59375 \nz\nM 47.21875 32.234375 \nQ 47.125 39.59375 43.09375 43.984375 \nQ 39.0625 48.390625 32.421875 48.390625 \nQ 24.90625 48.390625 20.390625 44.140625 \nQ 15.875 39.890625 15.1875 32.171875 \nz\n\" id=\"DejaVuSans-101\"/>\n     </defs>\n     <g transform=\"translate(330.021094 252.916562)scale(0.1 -0.1)\">\n      <use xlink:href=\"#DejaVuSans-105\"/>\n      <use x=\"27.783203\" xlink:href=\"#DejaVuSans-110\"/>\n      <use x=\"91.162109\" xlink:href=\"#DejaVuSans-99\"/>\n      <use x=\"146.142578\" xlink:href=\"#DejaVuSans-111\"/>\n      <use x=\"207.324219\" xlink:href=\"#DejaVuSans-109\"/>\n      <use x=\"304.736328\" xlink:href=\"#DejaVuSans-101\"/>\n     </g>\n    </g>\n   </g>\n   <g id=\"matplotlib.axis_2\">\n    <g id=\"ytick_1\">\n     <g id=\"line2d_9\">\n      <defs>\n       <path d=\"M 0 0 \nL -3.5 0 \n\" id=\"m66464c1f1c\" style=\"stroke:#000000;stroke-width:0.8;\"/>\n      </defs>\n      <g>\n       <use style=\"stroke:#000000;stroke-width:0.8;\" x=\"125.134375\" xlink:href=\"#m66464c1f1c\" y=\"197.46\"/>\n      </g>\n     </g>\n     <g id=\"text_10\">\n      <!-- Segment[urban_hip] -->\n      <defs>\n       <path d=\"M 53.515625 70.515625 \nL 53.515625 60.890625 \nQ 47.90625 63.578125 42.921875 64.890625 \nQ 37.9375 66.21875 33.296875 66.21875 \nQ 25.25 66.21875 20.875 63.09375 \nQ 16.5 59.96875 16.5 54.203125 \nQ 16.5 49.359375 19.40625 46.890625 \nQ 22.3125 44.4375 30.421875 42.921875 \nL 36.375 41.703125 \nQ 47.40625 39.59375 52.65625 34.296875 \nQ 57.90625 29 57.90625 20.125 \nQ 57.90625 9.515625 50.796875 4.046875 \nQ 43.703125 -1.421875 29.984375 -1.421875 \nQ 24.8125 -1.421875 18.96875 -0.25 \nQ 13.140625 0.921875 6.890625 3.21875 \nL 6.890625 13.375 \nQ 12.890625 10.015625 18.65625 8.296875 \nQ 24.421875 6.59375 29.984375 6.59375 \nQ 38.421875 6.59375 43.015625 9.90625 \nQ 47.609375 13.234375 47.609375 19.390625 \nQ 47.609375 24.75 44.3125 27.78125 \nQ 41.015625 30.8125 33.5 32.328125 \nL 27.484375 33.5 \nQ 16.453125 35.6875 11.515625 40.375 \nQ 6.59375 45.0625 6.59375 53.421875 \nQ 6.59375 63.09375 13.40625 68.65625 \nQ 20.21875 74.21875 32.171875 74.21875 \nQ 37.3125 74.21875 42.625 73.28125 \nQ 47.953125 72.359375 53.515625 70.515625 \nz\n\" id=\"DejaVuSans-83\"/>\n       <path d=\"M 45.40625 27.984375 \nQ 45.40625 37.75 41.375 43.109375 \nQ 37.359375 48.484375 30.078125 48.484375 \nQ 22.859375 48.484375 18.828125 43.109375 \nQ 14.796875 37.75 14.796875 27.984375 \nQ 14.796875 18.265625 18.828125 12.890625 \nQ 22.859375 7.515625 30.078125 7.515625 \nQ 37.359375 7.515625 41.375 12.890625 \nQ 45.40625 18.265625 45.40625 27.984375 \nz\nM 54.390625 6.78125 \nQ 54.390625 -7.171875 48.1875 -13.984375 \nQ 42 -20.796875 29.203125 -20.796875 \nQ 24.46875 -20.796875 20.265625 -20.09375 \nQ 16.0625 -19.390625 12.109375 -17.921875 \nL 12.109375 -9.1875 \nQ 16.0625 -11.328125 19.921875 -12.34375 \nQ 23.78125 -13.375 27.78125 -13.375 \nQ 36.625 -13.375 41.015625 -8.765625 \nQ 45.40625 -4.15625 45.40625 5.171875 \nL 45.40625 9.625 \nQ 42.625 4.78125 38.28125 2.390625 \nQ 33.9375 0 27.875 0 \nQ 17.828125 0 11.671875 7.65625 \nQ 5.515625 15.328125 5.515625 27.984375 \nQ 5.515625 40.671875 11.671875 48.328125 \nQ 17.828125 56 27.875 56 \nQ 33.9375 56 38.28125 53.609375 \nQ 42.625 51.21875 45.40625 46.390625 \nL 45.40625 54.6875 \nL 54.390625 54.6875 \nz\n\" id=\"DejaVuSans-103\"/>\n       <path d=\"M 18.3125 70.21875 \nL 18.3125 54.6875 \nL 36.8125 54.6875 \nL 36.8125 47.703125 \nL 18.3125 47.703125 \nL 18.3125 18.015625 \nQ 18.3125 11.328125 20.140625 9.421875 \nQ 21.96875 7.515625 27.59375 7.515625 \nL 36.8125 7.515625 \nL 36.8125 0 \nL 27.59375 0 \nQ 17.1875 0 13.234375 3.875 \nQ 9.28125 7.765625 9.28125 18.015625 \nL 9.28125 47.703125 \nL 2.6875 47.703125 \nL 2.6875 54.6875 \nL 9.28125 54.6875 \nL 9.28125 70.21875 \nz\n\" id=\"DejaVuSans-116\"/>\n       <path d=\"M 8.59375 75.984375 \nL 29.296875 75.984375 \nL 29.296875 69 \nL 17.578125 69 \nL 17.578125 -6.203125 \nL 29.296875 -6.203125 \nL 29.296875 -13.1875 \nL 8.59375 -13.1875 \nz\n\" id=\"DejaVuSans-91\"/>\n       <path d=\"M 8.5 21.578125 \nL 8.5 54.6875 \nL 17.484375 54.6875 \nL 17.484375 21.921875 \nQ 17.484375 14.15625 20.5 10.265625 \nQ 23.53125 6.390625 29.59375 6.390625 \nQ 36.859375 6.390625 41.078125 11.03125 \nQ 45.3125 15.671875 45.3125 23.6875 \nL 45.3125 54.6875 \nL 54.296875 54.6875 \nL 54.296875 0 \nL 45.3125 0 \nL 45.3125 8.40625 \nQ 42.046875 3.421875 37.71875 1 \nQ 33.40625 -1.421875 27.6875 -1.421875 \nQ 18.265625 -1.421875 13.375 4.4375 \nQ 8.5 10.296875 8.5 21.578125 \nz\nM 31.109375 56 \nz\n\" id=\"DejaVuSans-117\"/>\n       <path d=\"M 41.109375 46.296875 \nQ 39.59375 47.171875 37.8125 47.578125 \nQ 36.03125 48 33.890625 48 \nQ 26.265625 48 22.1875 43.046875 \nQ 18.109375 38.09375 18.109375 28.8125 \nL 18.109375 0 \nL 9.078125 0 \nL 9.078125 54.6875 \nL 18.109375 54.6875 \nL 18.109375 46.1875 \nQ 20.953125 51.171875 25.484375 53.578125 \nQ 30.03125 56 36.53125 56 \nQ 37.453125 56 38.578125 55.875 \nQ 39.703125 55.765625 41.0625 55.515625 \nz\n\" id=\"DejaVuSans-114\"/>\n       <path d=\"M 48.6875 27.296875 \nQ 48.6875 37.203125 44.609375 42.84375 \nQ 40.53125 48.484375 33.40625 48.484375 \nQ 26.265625 48.484375 22.1875 42.84375 \nQ 18.109375 37.203125 18.109375 27.296875 \nQ 18.109375 17.390625 22.1875 11.75 \nQ 26.265625 6.109375 33.40625 6.109375 \nQ 40.53125 6.109375 44.609375 11.75 \nQ 48.6875 17.390625 48.6875 27.296875 \nz\nM 18.109375 46.390625 \nQ 20.953125 51.265625 25.265625 53.625 \nQ 29.59375 56 35.59375 56 \nQ 45.5625 56 51.78125 48.09375 \nQ 58.015625 40.1875 58.015625 27.296875 \nQ 58.015625 14.40625 51.78125 6.484375 \nQ 45.5625 -1.421875 35.59375 -1.421875 \nQ 29.59375 -1.421875 25.265625 0.953125 \nQ 20.953125 3.328125 18.109375 8.203125 \nL 18.109375 0 \nL 9.078125 0 \nL 9.078125 75.984375 \nL 18.109375 75.984375 \nz\n\" id=\"DejaVuSans-98\"/>\n       <path d=\"M 34.28125 27.484375 \nQ 23.390625 27.484375 19.1875 25 \nQ 14.984375 22.515625 14.984375 16.5 \nQ 14.984375 11.71875 18.140625 8.90625 \nQ 21.296875 6.109375 26.703125 6.109375 \nQ 34.1875 6.109375 38.703125 11.40625 \nQ 43.21875 16.703125 43.21875 25.484375 \nL 43.21875 27.484375 \nz\nM 52.203125 31.203125 \nL 52.203125 0 \nL 43.21875 0 \nL 43.21875 8.296875 \nQ 40.140625 3.328125 35.546875 0.953125 \nQ 30.953125 -1.421875 24.3125 -1.421875 \nQ 15.921875 -1.421875 10.953125 3.296875 \nQ 6 8.015625 6 15.921875 \nQ 6 25.140625 12.171875 29.828125 \nQ 18.359375 34.515625 30.609375 34.515625 \nL 43.21875 34.515625 \nL 43.21875 35.40625 \nQ 43.21875 41.609375 39.140625 45 \nQ 35.0625 48.390625 27.6875 48.390625 \nQ 23 48.390625 18.546875 47.265625 \nQ 14.109375 46.140625 10.015625 43.890625 \nL 10.015625 52.203125 \nQ 14.9375 54.109375 19.578125 55.046875 \nQ 24.21875 56 28.609375 56 \nQ 40.484375 56 46.34375 49.84375 \nQ 52.203125 43.703125 52.203125 31.203125 \nz\n\" id=\"DejaVuSans-97\"/>\n       <path d=\"M 50.984375 -16.609375 \nL 50.984375 -23.578125 \nL -0.984375 -23.578125 \nL -0.984375 -16.609375 \nz\n\" id=\"DejaVuSans-95\"/>\n       <path d=\"M 54.890625 33.015625 \nL 54.890625 0 \nL 45.90625 0 \nL 45.90625 32.71875 \nQ 45.90625 40.484375 42.875 44.328125 \nQ 39.84375 48.1875 33.796875 48.1875 \nQ 26.515625 48.1875 22.3125 43.546875 \nQ 18.109375 38.921875 18.109375 30.90625 \nL 18.109375 0 \nL 9.078125 0 \nL 9.078125 75.984375 \nL 18.109375 75.984375 \nL 18.109375 46.1875 \nQ 21.34375 51.125 25.703125 53.5625 \nQ 30.078125 56 35.796875 56 \nQ 45.21875 56 50.046875 50.171875 \nQ 54.890625 44.34375 54.890625 33.015625 \nz\n\" id=\"DejaVuSans-104\"/>\n       <path d=\"M 18.109375 8.203125 \nL 18.109375 -20.796875 \nL 9.078125 -20.796875 \nL 9.078125 54.6875 \nL 18.109375 54.6875 \nL 18.109375 46.390625 \nQ 20.953125 51.265625 25.265625 53.625 \nQ 29.59375 56 35.59375 56 \nQ 45.5625 56 51.78125 48.09375 \nQ 58.015625 40.1875 58.015625 27.296875 \nQ 58.015625 14.40625 51.78125 6.484375 \nQ 45.5625 -1.421875 35.59375 -1.421875 \nQ 29.59375 -1.421875 25.265625 0.953125 \nQ 20.953125 3.328125 18.109375 8.203125 \nz\nM 48.6875 27.296875 \nQ 48.6875 37.203125 44.609375 42.84375 \nQ 40.53125 48.484375 33.40625 48.484375 \nQ 26.265625 48.484375 22.1875 42.84375 \nQ 18.109375 37.203125 18.109375 27.296875 \nQ 18.109375 17.390625 22.1875 11.75 \nQ 26.265625 6.109375 33.40625 6.109375 \nQ 40.53125 6.109375 44.609375 11.75 \nQ 48.6875 17.390625 48.6875 27.296875 \nz\n\" id=\"DejaVuSans-112\"/>\n       <path d=\"M 30.421875 75.984375 \nL 30.421875 -13.1875 \nL 9.71875 -13.1875 \nL 9.71875 -6.203125 \nL 21.390625 -6.203125 \nL 21.390625 69 \nL 9.71875 69 \nL 9.71875 75.984375 \nz\n\" id=\"DejaVuSans-93\"/>\n      </defs>\n      <g transform=\"translate(15.603125 201.259219)scale(0.1 -0.1)\">\n       <use xlink:href=\"#DejaVuSans-83\"/>\n       <use x=\"63.476562\" xlink:href=\"#DejaVuSans-101\"/>\n       <use x=\"125\" xlink:href=\"#DejaVuSans-103\"/>\n       <use x=\"188.476562\" xlink:href=\"#DejaVuSans-109\"/>\n       <use x=\"285.888672\" xlink:href=\"#DejaVuSans-101\"/>\n       <use x=\"347.412109\" xlink:href=\"#DejaVuSans-110\"/>\n       <use x=\"410.791016\" xlink:href=\"#DejaVuSans-116\"/>\n       <use x=\"450\" xlink:href=\"#DejaVuSans-91\"/>\n       <use x=\"489.013672\" xlink:href=\"#DejaVuSans-117\"/>\n       <use x=\"552.392578\" xlink:href=\"#DejaVuSans-114\"/>\n       <use x=\"593.505859\" xlink:href=\"#DejaVuSans-98\"/>\n       <use x=\"656.982422\" xlink:href=\"#DejaVuSans-97\"/>\n       <use x=\"718.261719\" xlink:href=\"#DejaVuSans-110\"/>\n       <use x=\"781.640625\" xlink:href=\"#DejaVuSans-95\"/>\n       <use x=\"831.640625\" xlink:href=\"#DejaVuSans-104\"/>\n       <use x=\"895.019531\" xlink:href=\"#DejaVuSans-105\"/>\n       <use x=\"922.802734\" xlink:href=\"#DejaVuSans-112\"/>\n       <use x=\"986.279297\" xlink:href=\"#DejaVuSans-93\"/>\n      </g>\n     </g>\n    </g>\n    <g id=\"ytick_2\">\n     <g id=\"line2d_10\">\n      <g>\n       <use style=\"stroke:#000000;stroke-width:0.8;\" x=\"125.134375\" xlink:href=\"#m66464c1f1c\" y=\"143.1\"/>\n      </g>\n     </g>\n     <g id=\"text_11\">\n      <!-- Segment[moving_up] -->\n      <defs>\n       <path d=\"M 2.984375 54.6875 \nL 12.5 54.6875 \nL 29.59375 8.796875 \nL 46.6875 54.6875 \nL 56.203125 54.6875 \nL 35.6875 0 \nL 23.484375 0 \nz\n\" id=\"DejaVuSans-118\"/>\n      </defs>\n      <g transform=\"translate(10.401562 146.899219)scale(0.1 -0.1)\">\n       <use xlink:href=\"#DejaVuSans-83\"/>\n       <use x=\"63.476562\" xlink:href=\"#DejaVuSans-101\"/>\n       <use x=\"125\" xlink:href=\"#DejaVuSans-103\"/>\n       <use x=\"188.476562\" xlink:href=\"#DejaVuSans-109\"/>\n       <use x=\"285.888672\" xlink:href=\"#DejaVuSans-101\"/>\n       <use x=\"347.412109\" xlink:href=\"#DejaVuSans-110\"/>\n       <use x=\"410.791016\" xlink:href=\"#DejaVuSans-116\"/>\n       <use x=\"450\" xlink:href=\"#DejaVuSans-91\"/>\n       <use x=\"489.013672\" xlink:href=\"#DejaVuSans-109\"/>\n       <use x=\"586.425781\" xlink:href=\"#DejaVuSans-111\"/>\n       <use x=\"647.607422\" xlink:href=\"#DejaVuSans-118\"/>\n       <use x=\"706.787109\" xlink:href=\"#DejaVuSans-105\"/>\n       <use x=\"734.570312\" xlink:href=\"#DejaVuSans-110\"/>\n       <use x=\"797.949219\" xlink:href=\"#DejaVuSans-103\"/>\n       <use x=\"861.425781\" xlink:href=\"#DejaVuSans-95\"/>\n       <use x=\"911.425781\" xlink:href=\"#DejaVuSans-117\"/>\n       <use x=\"974.804688\" xlink:href=\"#DejaVuSans-112\"/>\n       <use x=\"1038.28125\" xlink:href=\"#DejaVuSans-93\"/>\n      </g>\n     </g>\n    </g>\n    <g id=\"ytick_3\">\n     <g id=\"line2d_11\">\n      <g>\n       <use style=\"stroke:#000000;stroke-width:0.8;\" x=\"125.134375\" xlink:href=\"#m66464c1f1c\" y=\"88.74\"/>\n      </g>\n     </g>\n     <g id=\"text_12\">\n      <!-- Segment[suburb_mix] -->\n      <defs>\n       <path d=\"M 44.28125 53.078125 \nL 44.28125 44.578125 \nQ 40.484375 46.53125 36.375 47.5 \nQ 32.28125 48.484375 27.875 48.484375 \nQ 21.1875 48.484375 17.84375 46.4375 \nQ 14.5 44.390625 14.5 40.28125 \nQ 14.5 37.15625 16.890625 35.375 \nQ 19.28125 33.59375 26.515625 31.984375 \nL 29.59375 31.296875 \nQ 39.15625 29.25 43.1875 25.515625 \nQ 47.21875 21.78125 47.21875 15.09375 \nQ 47.21875 7.46875 41.1875 3.015625 \nQ 35.15625 -1.421875 24.609375 -1.421875 \nQ 20.21875 -1.421875 15.453125 -0.5625 \nQ 10.6875 0.296875 5.421875 2 \nL 5.421875 11.28125 \nQ 10.40625 8.6875 15.234375 7.390625 \nQ 20.0625 6.109375 24.8125 6.109375 \nQ 31.15625 6.109375 34.5625 8.28125 \nQ 37.984375 10.453125 37.984375 14.40625 \nQ 37.984375 18.0625 35.515625 20.015625 \nQ 33.0625 21.96875 24.703125 23.78125 \nL 21.578125 24.515625 \nQ 13.234375 26.265625 9.515625 29.90625 \nQ 5.8125 33.546875 5.8125 39.890625 \nQ 5.8125 47.609375 11.28125 51.796875 \nQ 16.75 56 26.8125 56 \nQ 31.78125 56 36.171875 55.265625 \nQ 40.578125 54.546875 44.28125 53.078125 \nz\n\" id=\"DejaVuSans-115\"/>\n       <path d=\"M 54.890625 54.6875 \nL 35.109375 28.078125 \nL 55.90625 0 \nL 45.3125 0 \nL 29.390625 21.484375 \nL 13.484375 0 \nL 2.875 0 \nL 24.125 28.609375 \nL 4.6875 54.6875 \nL 15.28125 54.6875 \nL 29.78125 35.203125 \nL 44.28125 54.6875 \nz\n\" id=\"DejaVuSans-120\"/>\n      </defs>\n      <g transform=\"translate(7.2 92.539219)scale(0.1 -0.1)\">\n       <use xlink:href=\"#DejaVuSans-83\"/>\n       <use x=\"63.476562\" xlink:href=\"#DejaVuSans-101\"/>\n       <use x=\"125\" xlink:href=\"#DejaVuSans-103\"/>\n       <use x=\"188.476562\" xlink:href=\"#DejaVuSans-109\"/>\n       <use x=\"285.888672\" xlink:href=\"#DejaVuSans-101\"/>\n       <use x=\"347.412109\" xlink:href=\"#DejaVuSans-110\"/>\n       <use x=\"410.791016\" xlink:href=\"#DejaVuSans-116\"/>\n       <use x=\"450\" xlink:href=\"#DejaVuSans-91\"/>\n       <use x=\"489.013672\" xlink:href=\"#DejaVuSans-115\"/>\n       <use x=\"541.113281\" xlink:href=\"#DejaVuSans-117\"/>\n       <use x=\"604.492188\" xlink:href=\"#DejaVuSans-98\"/>\n       <use x=\"667.96875\" xlink:href=\"#DejaVuSans-117\"/>\n       <use x=\"731.347656\" xlink:href=\"#DejaVuSans-114\"/>\n       <use x=\"772.460938\" xlink:href=\"#DejaVuSans-98\"/>\n       <use x=\"835.9375\" xlink:href=\"#DejaVuSans-95\"/>\n       <use x=\"885.9375\" xlink:href=\"#DejaVuSans-109\"/>\n       <use x=\"983.349609\" xlink:href=\"#DejaVuSans-105\"/>\n       <use x=\"1011.132812\" xlink:href=\"#DejaVuSans-120\"/>\n       <use x=\"1070.3125\" xlink:href=\"#DejaVuSans-93\"/>\n      </g>\n     </g>\n    </g>\n    <g id=\"ytick_4\">\n     <g id=\"line2d_12\">\n      <g>\n       <use style=\"stroke:#000000;stroke-width:0.8;\" x=\"125.134375\" xlink:href=\"#m66464c1f1c\" y=\"34.38\"/>\n      </g>\n     </g>\n     <g id=\"text_13\">\n      <!-- Segment[travelers] -->\n      <defs>\n       <path d=\"M 9.421875 75.984375 \nL 18.40625 75.984375 \nL 18.40625 0 \nL 9.421875 0 \nz\n\" id=\"DejaVuSans-108\"/>\n      </defs>\n      <g transform=\"translate(20.846875 38.179219)scale(0.1 -0.1)\">\n       <use xlink:href=\"#DejaVuSans-83\"/>\n       <use x=\"63.476562\" xlink:href=\"#DejaVuSans-101\"/>\n       <use x=\"125\" xlink:href=\"#DejaVuSans-103\"/>\n       <use x=\"188.476562\" xlink:href=\"#DejaVuSans-109\"/>\n       <use x=\"285.888672\" xlink:href=\"#DejaVuSans-101\"/>\n       <use x=\"347.412109\" xlink:href=\"#DejaVuSans-110\"/>\n       <use x=\"410.791016\" xlink:href=\"#DejaVuSans-116\"/>\n       <use x=\"450\" xlink:href=\"#DejaVuSans-91\"/>\n       <use x=\"489.013672\" xlink:href=\"#DejaVuSans-116\"/>\n       <use x=\"528.222656\" xlink:href=\"#DejaVuSans-114\"/>\n       <use x=\"569.335938\" xlink:href=\"#DejaVuSans-97\"/>\n       <use x=\"630.615234\" xlink:href=\"#DejaVuSans-118\"/>\n       <use x=\"689.794922\" xlink:href=\"#DejaVuSans-101\"/>\n       <use x=\"751.318359\" xlink:href=\"#DejaVuSans-108\"/>\n       <use x=\"779.101562\" xlink:href=\"#DejaVuSans-101\"/>\n       <use x=\"840.625\" xlink:href=\"#DejaVuSans-114\"/>\n       <use x=\"881.738281\" xlink:href=\"#DejaVuSans-115\"/>\n       <use x=\"933.837891\" xlink:href=\"#DejaVuSans-93\"/>\n      </g>\n     </g>\n    </g>\n   </g>\n   <g id=\"line2d_13\">\n    <defs>\n     <path d=\"M 0 3 \nC 0.795609 3 1.55874 2.683901 2.12132 2.12132 \nC 2.683901 1.55874 3 0.795609 3 0 \nC 3 -0.795609 2.683901 -1.55874 2.12132 -2.12132 \nC 1.55874 -2.683901 0.795609 -3 0 -3 \nC -0.795609 -3 -1.55874 -2.683901 -2.12132 -2.12132 \nC -2.683901 -1.55874 -3 -0.795609 -3 0 \nC -3 0.795609 -2.683901 1.55874 -2.12132 2.12132 \nC -1.55874 2.683901 -0.795609 3 0 3 \nz\n\" id=\"mce160fc314\" style=\"stroke:#ff0000;\"/>\n    </defs>\n    <g clip-path=\"url(#p08be597dc6)\">\n     <use style=\"fill:#ff0000;stroke:#ff0000;\" x=\"250.673178\" xlink:href=\"#mce160fc314\" y=\"197.46\"/>\n     <use style=\"fill:#ff0000;stroke:#ff0000;\" x=\"445.758458\" xlink:href=\"#mce160fc314\" y=\"143.1\"/>\n     <use style=\"fill:#ff0000;stroke:#ff0000;\" x=\"469.225877\" xlink:href=\"#mce160fc314\" y=\"88.74\"/>\n     <use style=\"fill:#ff0000;stroke:#ff0000;\" x=\"512.939287\" xlink:href=\"#mce160fc314\" y=\"34.38\"/>\n    </g>\n   </g>\n   <g id=\"line2d_14\">\n    <path clip-path=\"url(#p08be597dc6)\" d=\"M 125.134685 224.64 \nL 125.134685 7.2 \n\" style=\"fill:none;stroke:#808080;stroke-dasharray:5.55,2.4;stroke-dashoffset:0;stroke-width:1.5;\"/>\n   </g>\n   <g id=\"patch_7\">\n    <path d=\"M 125.134375 224.64 \nL 125.134375 7.2 \n\" style=\"fill:none;stroke:#000000;stroke-linecap:square;stroke-linejoin:miter;stroke-width:0.8;\"/>\n   </g>\n   <g id=\"patch_8\">\n    <path d=\"M 571.534375 224.64 \nL 571.534375 7.2 \n\" style=\"fill:none;stroke:#000000;stroke-linecap:square;stroke-linejoin:miter;stroke-width:0.8;\"/>\n   </g>\n   <g id=\"patch_9\">\n    <path d=\"M 125.134375 224.64 \nL 571.534375 224.64 \n\" style=\"fill:none;stroke:#000000;stroke-linecap:square;stroke-linejoin:miter;stroke-width:0.8;\"/>\n   </g>\n   <g id=\"patch_10\">\n    <path d=\"M 125.134375 7.2 \nL 571.534375 7.2 \n\" style=\"fill:none;stroke:#000000;stroke-linecap:square;stroke-linejoin:miter;stroke-width:0.8;\"/>\n   </g>\n  </g>\n </g>\n <defs>\n  <clipPath id=\"p08be597dc6\">\n   <rect height=\"217.44\" width=\"446.4\" x=\"125.134375\" y=\"7.2\"/>\n  </clipPath>\n </defs>\n</svg>\n"
          },
          "metadata": {
            "needs_background": "light"
          }
        }
      ]
    },
    {
      "cell_type": "code",
      "metadata": {
        "id": "PCaN3ez-_pD0"
      },
      "source": [
        ""
      ],
      "execution_count": null,
      "outputs": []
    }
  ]
}